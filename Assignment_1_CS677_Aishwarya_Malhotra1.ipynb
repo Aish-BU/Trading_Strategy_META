{
 "cells": [
  {
   "attachments": {
    "49cb3ed9-80c8-4e92-b0d9-4d153a587bbb.png": {
     "image/png": "[encoded data removed]"
    }
   },
   "cell_type": "markdown",
   "id": "e2bd6d7c-7788-4688-8b57-81bf53992656",
   "metadata": {},
   "source": [
    "![image.png](attachment:49cb3ed9-80c8-4e92-b0d9-4d153a587bbb.png) \n",
    "<div style=\"text-align: center\"> <h1>Assignment - 1</div>\n"
   ]
  },
  {
   "cell_type": "markdown",
   "id": "45b2b05f-e184-4cf8-9228-0a82b9af911f",
   "metadata": {},
   "source": [
    "<div style=\"text-align: center\"> <h3>AD654 A3 Marketing Analytics (Spring 2024)</div>\n"
   ]
  },
  {
   "cell_type": "markdown",
   "id": "397014ec-8a7d-4567-86de-c5dab2853bbf",
   "metadata": {},
   "source": [
    "<div style=\"text-align: center\"> <h4>Submitted by: Aishwarya Malhotra (U17161095)</div>\n"
   ]
  },
  {
   "cell_type": "markdown",
   "id": "229e6d13-400a-4c3e-b9d2-effac1da9639",
   "metadata": {},
   "source": [
    "#### Solution - 1: Exploratory Data Analysis"
   ]
  },
  {
   "cell_type": "markdown",
   "id": "04c07f98-f3c9-4034-b63d-a7f19c87d23e",
   "metadata": {},
   "source": [
    "##### Solution - 1 a]"
   ]
  },
  {
   "cell_type": "code",
   "execution_count": 5,
   "id": "c657d326-b08e-468b-a30e-43a54017a522",
   "metadata": {},
   "outputs": [
    {
     "name": "stdout",
     "output_type": "stream",
     "text": [
      "Requirement already satisfied: pandas_datareader in c:\\users\\asusw\\anaconda3\\lib\\site-packages (0.10.0)\n",
      "Requirement already satisfied: lxml in c:\\users\\asusw\\anaconda3\\lib\\site-packages (from pandas_datareader) (4.9.3)\n",
      "Requirement already satisfied: pandas>=0.23 in c:\\users\\asusw\\anaconda3\\lib\\site-packages (from pandas_datareader) (2.0.3)\n",
      "Requirement already satisfied: requests>=2.19.0 in c:\\users\\asusw\\anaconda3\\lib\\site-packages (from pandas_datareader) (2.31.0)\n",
      "Requirement already satisfied: python-dateutil>=2.8.2 in c:\\users\\asusw\\anaconda3\\lib\\site-packages (from pandas>=0.23->pandas_datareader) (2.8.2)\n",
      "Requirement already satisfied: pytz>=2020.1 in c:\\users\\asusw\\anaconda3\\lib\\site-packages (from pandas>=0.23->pandas_datareader) (2023.3.post1)\n",
      "Requirement already satisfied: tzdata>=2022.1 in c:\\users\\asusw\\anaconda3\\lib\\site-packages (from pandas>=0.23->pandas_datareader) (2023.3)\n",
      "Requirement already satisfied: numpy>=1.21.0 in c:\\users\\asusw\\anaconda3\\lib\\site-packages (from pandas>=0.23->pandas_datareader) (1.24.3)\n",
      "Requirement already satisfied: charset-normalizer<4,>=2 in c:\\users\\asusw\\anaconda3\\lib\\site-packages (from requests>=2.19.0->pandas_datareader) (2.0.4)\n",
      "Requirement already satisfied: idna<4,>=2.5 in c:\\users\\asusw\\anaconda3\\lib\\site-packages (from requests>=2.19.0->pandas_datareader) (3.4)\n",
      "Requirement already satisfied: urllib3<3,>=1.21.1 in c:\\users\\asusw\\anaconda3\\lib\\site-packages (from requests>=2.19.0->pandas_datareader) (1.26.16)\n",
      "Requirement already satisfied: certifi>=2017.4.17 in c:\\users\\asusw\\anaconda3\\lib\\site-packages (from requests>=2.19.0->pandas_datareader) (2023.7.22)\n",
      "Requirement already satisfied: six>=1.5 in c:\\users\\asusw\\anaconda3\\lib\\site-packages (from python-dateutil>=2.8.2->pandas>=0.23->pandas_datareader) (1.16.0)\n",
      "Collecting yfinance\n",
      "  Obtaining dependency information for yfinance from https://files.pythonhosted.org/packages/39/29/89572cb0c65b07a1c4e5cd53eb0a0f947f2ece53fef6ed7da90cfab7d2a9/yfinance-0.2.43-py2.py3-none-any.whl.metadata\n",
      "  Downloading yfinance-0.2.43-py2.py3-none-any.whl.metadata (11 kB)\n",
      "Requirement already satisfied: pandas>=1.3.0 in c:\\users\\asusw\\anaconda3\\lib\\site-packages (from yfinance) (2.0.3)\n",
      "Requirement already satisfied: numpy>=1.16.5 in c:\\users\\asusw\\anaconda3\\lib\\site-packages (from yfinance) (1.24.3)\n",
      "Requirement already satisfied: requests>=2.31 in c:\\users\\asusw\\anaconda3\\lib\\site-packages (from yfinance) (2.31.0)\n",
      "Collecting multitasking>=0.0.7 (from yfinance)\n",
      "  Obtaining dependency information for multitasking>=0.0.7 from https://files.pythonhosted.org/packages/3e/8a/bb3160e76e844db9e69a413f055818969c8acade64e1a9ac5ce9dfdcf6c1/multitasking-0.0.11-py3-none-any.whl.metadata\n",
      "  Downloading multitasking-0.0.11-py3-none-any.whl.metadata (5.5 kB)\n",
      "Requirement already satisfied: lxml>=4.9.1 in c:\\users\\asusw\\anaconda3\\lib\\site-packages (from yfinance) (4.9.3)\n",
      "Requirement already satisfied: platformdirs>=2.0.0 in c:\\users\\asusw\\anaconda3\\lib\\site-packages (from yfinance) (3.10.0)\n",
      "Requirement already satisfied: pytz>=2022.5 in c:\\users\\asusw\\anaconda3\\lib\\site-packages (from yfinance) (2023.3.post1)\n",
      "Collecting frozendict>=2.3.4 (from yfinance)\n",
      "  Obtaining dependency information for frozendict>=2.3.4 from https://files.pythonhosted.org/packages/6a/71/3656c00606e75e81f11721e6a1c973c3e03da8c7d8b665d20f78245384c6/frozendict-2.4.4-py311-none-any.whl.metadata\n",
      "  Downloading frozendict-2.4.4-py311-none-any.whl.metadata (23 kB)\n",
      "Collecting peewee>=3.16.2 (from yfinance)\n",
      "  Downloading peewee-3.17.6.tar.gz (3.0 MB)\n",
      "     ---------------------------------------- 0.0/3.0 MB ? eta -:--:--\n",
      "     -- ------------------------------------- 0.2/3.0 MB 4.5 MB/s eta 0:00:01\n",
      "     --------- ------------------------------ 0.7/3.0 MB 6.6 MB/s eta 0:00:01\n",
      "     -------------------- ------------------- 1.5/3.0 MB 10.6 MB/s eta 0:00:01\n",
      "     ------------------------------------ --- 2.7/3.0 MB 13.1 MB/s eta 0:00:01\n",
      "     ---------------------------------------- 3.0/3.0 MB 13.5 MB/s eta 0:00:00\n",
      "  Installing build dependencies: started\n",
      "  Installing build dependencies: finished with status 'done'\n",
      "  Getting requirements to build wheel: started\n",
      "  Getting requirements to build wheel: finished with status 'done'\n",
      "  Preparing metadata (pyproject.toml): started\n",
      "  Preparing metadata (pyproject.toml): finished with status 'done'\n",
      "Requirement already satisfied: beautifulsoup4>=4.11.1 in c:\\users\\asusw\\anaconda3\\lib\\site-packages (from yfinance) (4.12.2)\n",
      "Collecting html5lib>=1.1 (from yfinance)\n",
      "  Obtaining dependency information for html5lib>=1.1 from https://files.pythonhosted.org/packages/6c/dd/a834df6482147d48e225a49515aabc28974ad5a4ca3215c18a882565b028/html5lib-1.1-py2.py3-none-any.whl.metadata\n",
      "  Downloading html5lib-1.1-py2.py3-none-any.whl.metadata (16 kB)\n",
      "Requirement already satisfied: soupsieve>1.2 in c:\\users\\asusw\\anaconda3\\lib\\site-packages (from beautifulsoup4>=4.11.1->yfinance) (2.4)\n",
      "Requirement already satisfied: six>=1.9 in c:\\users\\asusw\\anaconda3\\lib\\site-packages (from html5lib>=1.1->yfinance) (1.16.0)\n",
      "Requirement already satisfied: webencodings in c:\\users\\asusw\\anaconda3\\lib\\site-packages (from html5lib>=1.1->yfinance) (0.5.1)\n",
      "Requirement already satisfied: python-dateutil>=2.8.2 in c:\\users\\asusw\\anaconda3\\lib\\site-packages (from pandas>=1.3.0->yfinance) (2.8.2)\n",
      "Requirement already satisfied: tzdata>=2022.1 in c:\\users\\asusw\\anaconda3\\lib\\site-packages (from pandas>=1.3.0->yfinance) (2023.3)\n",
      "Requirement already satisfied: charset-normalizer<4,>=2 in c:\\users\\asusw\\anaconda3\\lib\\site-packages (from requests>=2.31->yfinance) (2.0.4)\n",
      "Requirement already satisfied: idna<4,>=2.5 in c:\\users\\asusw\\anaconda3\\lib\\site-packages (from requests>=2.31->yfinance) (3.4)\n",
      "Requirement already satisfied: urllib3<3,>=1.21.1 in c:\\users\\asusw\\anaconda3\\lib\\site-packages (from requests>=2.31->yfinance) (1.26.16)\n",
      "Requirement already satisfied: certifi>=2017.4.17 in c:\\users\\asusw\\anaconda3\\lib\\site-packages (from requests>=2.31->yfinance) (2023.7.22)\n",
      "Downloading yfinance-0.2.43-py2.py3-none-any.whl (84 kB)\n",
      "   ---------------------------------------- 0.0/84.6 kB ? eta -:--:--\n",
      "   ---------------------------------------- 84.6/84.6 kB 5.0 MB/s eta 0:00:00\n",
      "Downloading frozendict-2.4.4-py311-none-any.whl (16 kB)\n",
      "Downloading html5lib-1.1-py2.py3-none-any.whl (112 kB)\n",
      "   ---------------------------------------- 0.0/112.2 kB ? eta -:--:--\n",
      "   ---------------------------------------- 112.2/112.2 kB ? eta 0:00:00\n",
      "Downloading multitasking-0.0.11-py3-none-any.whl (8.5 kB)\n",
      "Building wheels for collected packages: peewee\n",
      "  Building wheel for peewee (pyproject.toml): started\n",
      "  Building wheel for peewee (pyproject.toml): finished with status 'done'\n",
      "  Created wheel for peewee: filename=peewee-3.17.6-py3-none-any.whl size=138939 sha256=669cd6dc5036eb1ad1021828294dee3f782b3129c7b054cdeadbd062fa5a9634\n",
      "  Stored in directory: c:\\users\\asusw\\appdata\\local\\pip\\cache\\wheels\\1c\\09\\7e\\9f659fde248ecdc1722a142c1d744271aad3914a0afc191058\n",
      "Successfully built peewee\n",
      "Installing collected packages: peewee, multitasking, html5lib, frozendict, yfinance\n",
      "Successfully installed frozendict-2.4.4 html5lib-1.1 multitasking-0.0.11 peewee-3.17.6 yfinance-0.2.43\n"
     ]
    },
    {
     "name": "stderr",
     "output_type": "stream",
     "text": [
      "[*********************100%***********************]  1 of 1 completed\n"
     ]
    },
    {
     "name": "stdout",
     "output_type": "stream",
     "text": [
      "Read 1258 lines of data for ticker: META\n",
      "Wrote 1258 lines to file: C:\\Users\\asusw\\Desktop\\BU MET\\BU SEM 3\\DSwP\\Assignments DSwP\\META.csv\n"
     ]
    }
   ],
   "source": [
    "!pip install pandas_datareader\n",
    "from pandas_datareader import data as web\n",
    "import os\n",
    "import pandas as pd\n",
    "!pip install yfinance\n",
    "import yfinance as yf\n",
    "\n",
    "def get_stock(ticker, start_date, end_date, s_window, l_window):\n",
    "    try:\n",
    "        # yf.pdr_override()  # Uncomment if necessary\n",
    "        df = yf.download(ticker, start=start_date, end=end_date)\n",
    "        # Alternatively: df = web.get_data_yahoo(ticker, start=start_date, end=end_date)\n",
    "        df['Return'] = df['Adj Close'].pct_change()\n",
    "        df['Return'].fillna(0, inplace=True)\n",
    "        df['Date'] = df.index\n",
    "        df['Date'] = pd.to_datetime(df['Date'])\n",
    "        df['Month'] = df['Date'].dt.month\n",
    "        df['Year'] = df['Date'].dt.year\n",
    "        df['Day'] = df['Date'].dt.day\n",
    "        for col in ['Open', 'High', 'Low', 'Close', 'Adj Close']:\n",
    "            df[col] = df[col].round(2)\n",
    "        df['Weekday'] = df['Date'].dt.day_name()\n",
    "        df['Week_Number'] = df['Date'].dt.strftime('%U')\n",
    "        df['Year_Week'] = df['Date'].dt.strftime('%Y-%U')\n",
    "        df['Short_MA'] = df['Adj Close'].rolling(window=s_window, min_periods=1).mean()\n",
    "        df['Long_MA'] = df['Adj Close'].rolling(window=l_window, min_periods=1).mean()        \n",
    "        col_list = ['Date', 'Year', 'Month', 'Day', 'Weekday', \n",
    "                    'Week_Number', 'Year_Week', 'Open', \n",
    "                    'High', 'Low', 'Close', 'Volume', 'Adj Close',\n",
    "                    'Return', 'Short_MA', 'Long_MA']\n",
    "        num_lines = len(df)\n",
    "        df = df[col_list]\n",
    "        print('Read', num_lines, 'lines of data for ticker:', ticker)\n",
    "        return df\n",
    "    except Exception as error:\n",
    "        print(error)\n",
    "        return None\n",
    "\n",
    "try:\n",
    "    ticker = \"META\"\n",
    "    start_date = '2019-01-01'\n",
    "    end_date = '2023-12-31'\n",
    "    input_dir = os.getcwd()\n",
    "    output_file = os.path.join(input_dir, f'{ticker}.csv')\n",
    "    df = get_stock(ticker, start_date, end_date, s_window=14, l_window=50)\n",
    "    if df is not None:\n",
    "        df.to_csv(output_file, index=False)\n",
    "        print(f'Wrote {len(df)} lines to file: {output_file}')\n",
    "except Exception as e:\n",
    "    print(e)\n",
    "    print('Failed to get Yahoo stock data for ticker:', ticker)\n"
   ]
  },
  {
   "cell_type": "code",
   "execution_count": 9,
   "id": "258a304f",
   "metadata": {},
   "outputs": [
    {
     "name": "stdout",
     "output_type": "stream",
     "text": [
      "opened file for ticker:  META\n"
     ]
    }
   ],
   "source": [
    "import os\n",
    "\n",
    "ticker='META'\n",
    "input_dir = r'C:\\Users\\asusw\\Desktop\\BU MET\\BU SEM 3\\DSwP\\Assignments DSwP'\n",
    "ticker_file = os.path.join(input_dir, ticker + '.csv')\n",
    "\n",
    "try:   \n",
    "    with open(ticker_file) as f:\n",
    "        lines = f.read().splitlines()\n",
    "    print('opened file for ticker: ', ticker)\n",
    "    \"\"\"    your code for assignment 1 goes here\n",
    "    \"\"\"\n",
    "    \n",
    "except Exception as e:\n",
    "    print(e)\n",
    "    print('failed to read stock data for ticker: ', ticker)\n"
   ]
  },
  {
   "cell_type": "markdown",
   "id": "6b2b335a-a5e9-45d6-ad4e-d9254d34277e",
   "metadata": {},
   "source": [
    "> **💡Interpretation of Code💡-**\n",
    ">\n",
    "> Calling the 'str()' function would display the structure of the dataset, including information about the variables (columns) and observations (rows). \n",
    ">\n",
    "> It provides a concise summary of the structure of the  object. \n",
    ">\n",
    "> It displays  the data type and first few values of each variable.\n",
    ">\n",
    "> From the provided output of 'str(cv)' we can see that dataframe contains 784225 observations and 22 varaibles."
   ]
  },
  {
   "cell_type": "markdown",
   "id": "cdc70144-886e-49fb-b773-1e47af159d2a",
   "metadata": {},
   "source": [
    "#### Solution - 2 a]"
   ]
  },
  {
   "cell_type": "markdown",
   "id": "bf31270f-ce59-434a-a96f-931f39d9954e",
   "metadata": {},
   "source": [
    "#### Solution - 2 b]"
   ]
  },
  {
   "cell_type": "markdown",
   "id": "edec4049-3f02-4a07-a8f5-a747591378a8",
   "metadata": {},
   "source": [
    "> **💡Interpretation of Results💡-**\n",
    ">\n",
    "> After filtering the dataframe for Ward = 13, resulting dataset contains 8234 observations and 22 variables.\n",
    "> The three interesting facts about Ward 13 in Chicago are -\n",
    ">\n",
    "> Ward 13, also known as the 'Near West Side', is home to the historic University of Illinois at Chicago (UIC) campus, which plays a significant role in shaping the cultural and educational landscape  of the area.\n",
    ">\n",
    "> Ward 13 is known for its diverse population and vibrant neighborhoods, including the bustling Greek Town, Little Italy, and the developing West Loop area, which has seen rapid growth in recent years with the emergence of trendy restaurants, art galleries, and tech startups.\n",
    ">\n",
    "> Ward 13 is also home to important cultural landmarks such as the United Center, where the Chicago Bulls and Chicago Blasckhawks play, and the historic Maxwell Street Market, known for its rich history as a vibrant marketplace for food, music, and commerce.\n"
   ]
  },
  {
   "cell_type": "markdown",
   "id": "f252d882-827e-46d2-a0a7-d15bf90202ed",
   "metadata": {},
   "source": [
    "#### Solution - 4 a]"
   ]
  },
  {
   "cell_type": "markdown",
   "id": "c96eab80-ca48-40c3-b9de-fe48e7edcee0",
   "metadata": {},
   "source": [
    "> **💡Interpretation of Results💡-**\n",
    ">\n",
    "> Yes, there are NA values in my data df2. I checked this by \"View(df2)\" function in the RStudio. From the output that was delivered we can see that, there are 61822 NAs in the dataframe."
   ]
  },
  {
   "cell_type": "markdown",
   "id": "6c0fa18f-dc87-4e89-b004-9c85616be92e",
   "metadata": {},
   "source": [
    "#### Solution - 4 b]"
   ]
  },
  {
   "cell_type": "markdown",
   "id": "01903a54-d00d-4dd2-8d8d-db7e2d8da2c9",
   "metadata": {},
   "source": [
    "> **💡Interpretation of Results💡-**\n",
    ">\n",
    "> 65.86106% of data is complete case. A complete case in a data frame refers to a row that contains no missing values across all its variables. In other words, a complete case is a row where every variable has a non-missing (non-NA) value."
   ]
  },
  {
   "cell_type": "markdown",
   "id": "554fc1f9-8add-485f-aa6f-7558adf586dd",
   "metadata": {},
   "source": [
    "#### Solution - 4 c]"
   ]
  },
  {
   "cell_type": "markdown",
   "id": "7cf74a49-4510-4ae0-adeb-8b839b89860d",
   "metadata": {},
   "source": [
    "#### Solution - 4 d]"
   ]
  },
  {
   "cell_type": "markdown",
   "id": "710db636-5223-4531-874c-cc1be2def67b",
   "metadata": {},
   "source": [
    "> **💡Interpretation of Results💡-**\n",
    ">\n",
    "> The total number of NA values in my dataset are 61946 "
   ]
  },
  {
   "cell_type": "markdown",
   "id": "b36be1c2-94c2-43ef-8a9b-e247c904ab54",
   "metadata": {},
   "source": [
    "#### Solution - 4 e]"
   ]
  },
  {
   "cell_type": "markdown",
   "id": "98f8731c-3663-4f54-8ecf-55c0d6618f2f",
   "metadata": {},
   "source": [
    "> **💡Interpretation of Results💡-**\n",
    ">\n",
    "> 64.37% percentage of rows in the dataframe are complete cases"
   ]
  },
  {
   "cell_type": "markdown",
   "id": "1e07da4e-299b-41bd-ac00-9752ad823204",
   "metadata": {},
   "source": [
    "#### Solution - 4 f]"
   ]
  },
  {
   "cell_type": "markdown",
   "id": "de72ba09-f6e1-4025-ba08-42e59864fdb2",
   "metadata": {},
   "source": [
    "Ward represent different sections of Chicago, which suggests that it is categorical rather than numeric. Each ward is a distinct category or group, and there is no inherent order or numerical relationship between the wards."
   ]
  },
  {
   "cell_type": "markdown",
   "id": "35c9e225-12ce-46c7-8f5d-5a4ea1a9e07d",
   "metadata": {},
   "source": [
    "#### Solution - 6 b]"
   ]
  },
  {
   "cell_type": "markdown",
   "id": "62be199d-9463-4a7a-b7cf-0ccab51eb07d",
   "metadata": {},
   "source": [
    "> **💡Interpretation of Results💡-**\n",
    "> \n",
    "> Correlation of 0.1589375 suggests a weak positive correlation between \"imposed fine\" & \"admin costs\". This means that there is some tendency for them to increase together, but the relationship is not strong. Other factos may have a more significant influence on admin costs than imposed fines alone."
   ]
  },
  {
   "cell_type": "markdown",
   "id": "3d2fa25d-b67a-46ad-b335-ed6a5a415773",
   "metadata": {},
   "source": [
    "#### Solution - 6 c]"
   ]
  },
  {
   "cell_type": "markdown",
   "id": "b1e7d2f3-3492-4437-b21b-b33671b0403a",
   "metadata": {},
   "source": [
    "> **💡Interpretation of Graphs💡-**\n",
    ">\n",
    "> In 'Default' CASE.DISTRIBUTION most city delays fall within the range of approximately 0 to 500. This suggests that for cases with a 'Default' disposition, the time between the violation data and the hearing date tends to be relatively short, with most cases being resolved or addressed within this timeframe. \n",
    ">\n",
    "> 'Liable' CASE.DISTRIBUTION is bell-shaped with the peak occuring around a city delay of approximately 600. This indicates that for cases where the disposition is 'Liable', there is a broader range of city delays, with a signifuicant number of cases having longer delays before the hearing date compared to other dispositions.\n",
    ">\n",
    "> 'Non-Suit' CASE.DISTRIBUTION exhibit unusual pattern. Most frequencies are extreme negative values, which could imply an outlier. \n",
    ">\n",
    "> 'Not Liable' CASE.DISTRIBUTION, frequencies are concentrated between 0 and about 400 with a peak around 200. This indicates that for cases with a 'Not Liable' disposition, the city delays are generally shorter compared to 'Liable' cases, with a peak occurring around a delay of 200. This suggests that these cases tend to be resolved or adderessed relatively quickly."
   ]
  },
  {
   "cell_type": "markdown",
   "id": "76e32804-9f64-48c3-9951-f67a4e153c52",
   "metadata": {},
   "source": [
    "#### Solution - 12"
   ]
  },
  {
   "cell_type": "markdown",
   "id": "01bee805-8ed0-411f-8d41-877651f6b4c3",
   "metadata": {},
   "source": [
    "> **💡Interpretation of Code💡-**\n",
    ">\n",
    "> In the enviornment of R programming language, the code aims to filter the dataset `df5_filtered` to retain only rows with the top 5 most common Violation Descriptionss.\n",
    ">\n",
    "> We first pull up the library `dplyr` & `forcats`. Then we count the occurance of each Violation Description in the dataset and identify  the top 5 most common description using `count`, `arrange`, `head` and `pull` functions.\n",
    ">\n",
    "> Next, we filter the dataset `df5_filtered` to keep only rows with top 5 Violation Descriptions using `filter` functionn from `dplyr`. After filtering, we attempt to convert the `VIOLATION.DESCRIPTION` coloumn into a factor with explicit NA using `forcats::fct_explicit_na`. Howerver, still a warning messege is generated indicating that the it still contains NA values."
   ]
  },
  {
   "cell_type": "markdown",
   "id": "1f28ad4c-c15b-43b2-ac16-3ca00e499f23",
   "metadata": {},
   "source": [
    "#### Solution - 14 a]"
   ]
  },
  {
   "cell_type": "markdown",
   "id": "70c0ee41-9209-4f2e-a2a1-14103deecf1f",
   "metadata": {},
   "source": [
    "> **💡Interpretation of Code & Graph💡-**\n",
    ">\n",
    "> Using `leaflet`, `dplyr` and `ggplot2` this graph was generated.\n",
    ">\n",
    "> We calculate the mean imposed fine for wach if the top 5 violaiton descriptions (`shortened_description`) from the `df` dataset. Thisis achieved by grouping the data by `shortened_desccription` and summarizing the mean imposed fine for rach group using `summarise()` function.\n",
    ">\n",
    "> The resulting barplot visually represents the mean imposed fine for each of the top five violation descriptions. It helps in understanding the variations in fines imposed for different types of violations.\n",
    ">\n",
    "> We noticed that in the graph 'Inspection Arrangement' & 'Work Descrition' have higher fines ccompared to others. This could be because of multiple reasons such as:-\n",
    ">\n",
    "> 1. They tend to have more severe infractions or violations of regulations compared to other type of violations.\n",
    ">\n",
    "> 2. They occur more frequently or are more commonly reported, leading to increased scrutiny and enforcement by regulatory athorities.\n",
    ">\n",
    "> NOTE - The warning message \"Removed 1 rows containing missing values (position_stack)\" indicates that during the creation of the barplot, one row was removed due to missing values. This typically occurs when there are NA (missing) values present in the dataset used for plotting. As a result the ggplot2 removed this row from the plot to avoid errors or inconsistencies in the visualization."
   ]
  },
  {
   "cell_type": "markdown",
   "id": "c5931ca0-191f-43d6-83a9-c19aa4aa2e8b",
   "metadata": {},
   "source": [
    "#### Solution - 16"
   ]
  }
 ],
 "metadata": {
  "kernelspec": {
   "display_name": "Python 3 (ipykernel)",
   "language": "python",
   "name": "python3"
  },
  "language_info": {
   "codemirror_mode": {
    "name": "ipython",
    "version": 3
   },
   "file_extension": ".py",
   "mimetype": "text/x-python",
   "name": "python",
   "nbconvert_exporter": "python",
   "pygments_lexer": "ipython3",
   "version": "3.11.5"
  }
 },
 "nbformat": 4,
 "nbformat_minor": 5
}
