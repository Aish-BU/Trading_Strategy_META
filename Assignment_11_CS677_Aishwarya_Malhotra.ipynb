{
  "cells": [
    {
      "cell_type": "markdown",
      "id": "7a4b8d75",
      "metadata": {
        "id": "7a4b8d75"
      },
      "source": [
        "<div style=\"text-align: center\"> <h1> Assignment - 9"
      ]
    },
    {
      "cell_type": "markdown",
      "id": "45b2b05f-e184-4cf8-9228-0a82b9af911f",
      "metadata": {
        "id": "45b2b05f-e184-4cf8-9228-0a82b9af911f"
      },
      "source": [
        "<div style=\"text-align: center\"> <h3>CS677 A1 Data Science with Python (Fall 2024)"
      ]
    },
    {
      "cell_type": "markdown",
      "id": "397014ec-8a7d-4567-86de-c5dab2853bbf",
      "metadata": {
        "id": "397014ec-8a7d-4567-86de-c5dab2853bbf"
      },
      "source": [
        "<div style=\"text-align: center\"> <h4>Submitted by: Aishwarya Malhotra (U17161095)</div>"
      ]
    },
    {
      "cell_type": "markdown",
      "id": "229e6d13-400a-4c3e-b9d2-effac1da9639",
      "metadata": {
        "id": "229e6d13-400a-4c3e-b9d2-effac1da9639"
      },
      "source": [
        "### **Part - 1 NB, Trees & RF**"
      ]
    },
    {
      "cell_type": "code",
      "execution_count": 46,
      "id": "RIpVExjMn869",
      "metadata": {
        "id": "RIpVExjMn869"
      },
      "outputs": [],
      "source": [
        "import pandas as pd\n",
        "from sklearn.model_selection import train_test_split\n",
        "from sklearn.naive_bayes import GaussianNB\n",
        "from sklearn.metrics import accuracy_score, confusion_matrix"
      ]
    },
    {
      "cell_type": "markdown",
      "metadata": {
        "id": "Xnz5JsH6NABI"
      },
      "source": [
        "##### **Solution - 1.1**"
      ],
      "id": "Xnz5JsH6NABI"
    },
    {
      "cell_type": "code",
      "source": [
        "import pandas as pd\n",
        "\n",
        "#Load the dataset\n",
        "data = pd.read_csv(\"cardiotocography_data_set.csv\")\n",
        "data = data.iloc[1:]\n",
        "print(data.head())\n",
        "\n",
        "# Combine labels into two classes: Normal (1) and Abnormal (0)\n",
        "data['NSP'] = data['NSP'].map({1: 1, 2: 0, 3: 0})\n",
        "data.head()\n",
        "\n",
        "# Now you can use data_clean\n",
        "data_clean = data.dropna(subset=[\"MSTV\", \"Width\", \"Mode\", \"Variance\"])"
      ],
      "metadata": {
        "colab": {
          "base_uri": "https://localhost:8080/"
        },
        "id": "Oq-Djfy8H5Kp",
        "outputId": "daab8b06-f968-4ab6-85e6-f8f2e75913f4"
      },
      "id": "Oq-Djfy8H5Kp",
      "execution_count": 7,
      "outputs": [
        {
          "output_type": "stream",
          "name": "stdout",
          "text": [
            "       FileName        Date      SegFile      b       e    LBE     LB   AC  \\\n",
            "1  Variab10.txt  01-12-1996  CTG0001.txt  240.0   357.0  120.0  120.0  0.0   \n",
            "2    Fmcs_1.txt  03-05-1996  CTG0002.txt    5.0   632.0  132.0  132.0  4.0   \n",
            "3    Fmcs_1.txt  03-05-1996  CTG0003.txt  177.0   779.0  133.0  133.0  2.0   \n",
            "4    Fmcs_1.txt  03-05-1996  CTG0004.txt  411.0  1192.0  134.0  134.0  2.0   \n",
            "5    Fmcs_1.txt  03-05-1996  CTG0005.txt  533.0  1147.0  132.0  132.0  4.0   \n",
            "\n",
            "    FM   UC  ...    C    D    E   AD   DE   LD   FS  SUSP  CLASS  NSP  \n",
            "1  0.0  0.0  ...  0.0  0.0  0.0  0.0  0.0  0.0  1.0   0.0    9.0  2.0  \n",
            "2  0.0  4.0  ...  0.0  0.0  0.0  1.0  0.0  0.0  0.0   0.0    6.0  1.0  \n",
            "3  0.0  5.0  ...  0.0  0.0  0.0  1.0  0.0  0.0  0.0   0.0    6.0  1.0  \n",
            "4  0.0  6.0  ...  0.0  0.0  0.0  1.0  0.0  0.0  0.0   0.0    6.0  1.0  \n",
            "5  0.0  5.0  ...  0.0  0.0  0.0  0.0  0.0  0.0  0.0   0.0    2.0  1.0  \n",
            "\n",
            "[5 rows x 40 columns]\n"
          ]
        }
      ]
    },
    {
      "cell_type": "code",
      "source": [
        "# Group 3\n",
        "features = [\"MSTV\", \"Width\", \"Mode\", \"Variance\"]\n",
        "target = data_clean[\"NSP\"]\n",
        "\n",
        "# Extract features from the CLEANED data\n",
        "X = data_clean[features]\n",
        "y = target\n",
        "\n",
        "# Split data into 50/50 train-test sets\n",
        "X_train, X_test, y_train, y_test = train_test_split(X, y, test_size=0.5, random_state=42)"
      ],
      "metadata": {
        "id": "_mLAtguqJNsA"
      },
      "id": "_mLAtguqJNsA",
      "execution_count": 8,
      "outputs": []
    },
    {
      "cell_type": "markdown",
      "metadata": {
        "id": "oTyskTDLNFnC"
      },
      "source": [
        "##### **Solution - 2**"
      ],
      "id": "oTyskTDLNFnC"
    },
    {
      "cell_type": "code",
      "source": [
        "gnb = GaussianNB()\n",
        "gnb.fit(X_train, y_train)\n",
        "y_pred = gnb.predict(X_test)\n",
        "\n",
        "accuracy_nb = accuracy_score(y_test, y_pred)\n",
        "print(f\"Accuracy: {accuracy:.2f}\")\n",
        "\n",
        "conf_matrix_nb = confusion_matrix(y_test, y_pred)\n",
        "print(\"Confusion Matrix:\")\n",
        "print(conf_matrix)"
      ],
      "metadata": {
        "colab": {
          "base_uri": "https://localhost:8080/"
        },
        "id": "6PWd9FB6NHpO",
        "outputId": "a6860e9e-aed5-479c-f5ac-b8d791a8ce21"
      },
      "id": "6PWd9FB6NHpO",
      "execution_count": 12,
      "outputs": [
        {
          "output_type": "stream",
          "name": "stdout",
          "text": [
            "Accuracy: 0.75\n",
            "Confusion Matrix:\n",
            "[[ 39 195]\n",
            " [ 69 760]]\n"
          ]
        }
      ]
    },
    {
      "cell_type": "markdown",
      "metadata": {
        "id": "C4nm-4goU4w0"
      },
      "source": [
        "##### **Solution - 3**"
      ],
      "id": "C4nm-4goU4w0"
    },
    {
      "cell_type": "code",
      "source": [
        "from sklearn.linear_model import LogisticRegression\n",
        "from sklearn.metrics import accuracy_score, confusion_matrix\n",
        "from sklearn.model_selection import train_test_split\n",
        "\n",
        "# Initialize and train Logistic Regression model\n",
        "log_reg = LogisticRegression(max_iter=1000, random_state=42)\n",
        "log_reg.fit(X_train, y_train)\n",
        "\n",
        "# Predict on test data\n",
        "y_pred_lr = log_reg.predict(X_test)\n",
        "\n",
        "# Compute accuracy\n",
        "accuracy_lr = accuracy_score(y_test, y_pred_lr)\n",
        "print(f\"Logistic Regression Accuracy: {accuracy_lr:.2f}\")\n",
        "\n",
        "# Compute confusion matrix\n",
        "conf_matrix_lr = confusion_matrix(y_test, y_pred_lr)\n",
        "print(\"Logistic Regression Confusion Matrix:\")\n",
        "print(conf_matrix_lr)\n"
      ],
      "metadata": {
        "colab": {
          "base_uri": "https://localhost:8080/"
        },
        "id": "6-I5awFSNAzS",
        "outputId": "740bf681-e96d-48f3-f134-cd35d5a06ad8"
      },
      "id": "6-I5awFSNAzS",
      "execution_count": 9,
      "outputs": [
        {
          "output_type": "stream",
          "name": "stdout",
          "text": [
            "Logistic Regression Accuracy: 0.80\n",
            "Logistic Regression Confusion Matrix:\n",
            "[[ 34 200]\n",
            " [ 14 815]]\n"
          ]
        }
      ]
    },
    {
      "cell_type": "markdown",
      "metadata": {
        "id": "KvXniS0TtpNt"
      },
      "source": [
        "##### **Solution - 4**"
      ],
      "id": "KvXniS0TtpNt"
    },
    {
      "cell_type": "code",
      "source": [
        "from sklearn.tree import DecisionTreeClassifier\n",
        "\n",
        "# Initialize and train Decision Tree model\n",
        "dtree = DecisionTreeClassifier(random_state=42)\n",
        "dtree.fit(X_train, y_train)\n",
        "\n",
        "# Predict on test data\n",
        "y_pred_dt = dtree.predict(X_test)\n",
        "\n",
        "# Compute accuracy\n",
        "accuracy_dt = accuracy_score(y_test, y_pred_dt)\n",
        "print(f\"Decision Tree Accuracy: {accuracy_dt:.2f}\")\n",
        "\n",
        "# Compute confusion matrix\n",
        "conf_matrix_dt = confusion_matrix(y_test, y_pred_dt)\n",
        "print(\"Decision Tree Confusion Matrix:\")\n",
        "print(conf_matrix_dt)"
      ],
      "metadata": {
        "colab": {
          "base_uri": "https://localhost:8080/"
        },
        "id": "fm8NZjJIDLci",
        "outputId": "8ee65f6d-000e-4641-a5a8-c0f1cd2382b7"
      },
      "id": "fm8NZjJIDLci",
      "execution_count": 11,
      "outputs": [
        {
          "output_type": "stream",
          "name": "stdout",
          "text": [
            "Decision Tree Accuracy: 0.87\n",
            "Decision Tree Confusion Matrix:\n",
            "[[180  54]\n",
            " [ 79 750]]\n"
          ]
        }
      ]
    },
    {
      "cell_type": "markdown",
      "metadata": {
        "id": "8mQ2pqbct7yf"
      },
      "source": [
        "##### **Solution - 5**"
      ],
      "id": "8mQ2pqbct7yf"
    },
    {
      "cell_type": "code",
      "source": [
        "from sklearn.ensemble import RandomForestClassifier\n",
        "import numpy as np\n",
        "import matplotlib.pyplot as plt\n",
        "\n",
        "# Hyperparameters\n",
        "n_values = range(1, 11)  # N: Number of trees\n",
        "d_values = range(1, 6)   # d: Max depth of trees\n",
        "\n",
        "# Track error rates for each combination of N and d\n",
        "error_rates = []\n",
        "\n",
        "# Loop through all combinations of N and d\n",
        "for n in n_values:\n",
        "    for d in d_values:\n",
        "        # Initialize Random Forest with given N and d\n",
        "        rf = RandomForestClassifier(n_estimators=n, max_depth=d, criterion='entropy', random_state=42)\n",
        "        rf.fit(X_train, y_train)\n",
        "\n",
        "        # Predict on test data\n",
        "        y_pred_rf = rf.predict(X_test)\n",
        "\n",
        "        # Compute error rate\n",
        "        error_rate = 1 - accuracy_score(y_test, y_pred_rf)\n",
        "        error_rates.append((n, d, error_rate))\n",
        "\n",
        "# Convert to structured array for easier analysis\n",
        "error_rates = np.array(error_rates, dtype=[('N', int), ('d', int), ('error', float)])\n",
        "\n",
        "# Find the best N and d (lowest error rate)\n",
        "best_combination = error_rates[np.argmin(error_rates['error'])]\n",
        "best_n, best_d = best_combination['N'], best_combination['d']\n",
        "\n",
        "# Train Random Forest with best N and d\n",
        "rf_best = RandomForestClassifier(n_estimators=best_n, max_depth=best_d, criterion='entropy', random_state=42)\n",
        "rf_best.fit(X_train, y_train)\n",
        "y_pred_best = rf_best.predict(X_test)\n",
        "\n",
        "# Compute accuracy for the best combination\n",
        "accuracy_rf_best = accuracy_score(y_test, y_pred_best)\n",
        "print(f\"Random Forest Best Accuracy (N={best_n}, d={best_d}): {accuracy_rf_best:.2f}\")\n",
        "\n",
        "# Compute confusion matrix for the best combination\n",
        "conf_matrix_rf_best = confusion_matrix(y_test, y_pred_best)\n",
        "print(\"Random Forest Best Confusion Matrix:\")\n",
        "print(conf_matrix_rf_best)\n",
        "\n",
        "# Plot error rates\n",
        "error_matrix = np.zeros((len(n_values), len(d_values)))\n",
        "for (n, d, error) in error_rates:\n",
        "    error_matrix[n - 1, d - 1] = error\n",
        "\n",
        "plt.figure(figsize=(10, 6))\n",
        "for d_index, d in enumerate(d_values):\n",
        "    plt.plot(n_values, error_matrix[:, d_index], label=f\"d={d}\")\n",
        "\n",
        "plt.title(\"Random Forest Error Rates for Different N and d\")\n",
        "plt.xlabel(\"N (Number of Trees)\")\n",
        "plt.ylabel(\"Error Rate\")\n",
        "plt.legend(title=\"d (Max Depth)\")\n",
        "plt.grid()\n",
        "plt.show()\n"
      ],
      "metadata": {
        "colab": {
          "base_uri": "https://localhost:8080/",
          "height": 597
        },
        "id": "wc1QBSq9NtH4",
        "outputId": "9f38dbad-ade5-4c9c-beb6-17f847985f2f"
      },
      "id": "wc1QBSq9NtH4",
      "execution_count": 13,
      "outputs": [
        {
          "output_type": "stream",
          "name": "stdout",
          "text": [
            "Random Forest Best Accuracy (N=3, d=5): 0.90\n",
            "Random Forest Best Confusion Matrix:\n",
            "[[168  66]\n",
            " [ 42 787]]\n"
          ]
        },
        {
          "output_type": "display_data",
          "data": {
            "text/plain": [
              "<Figure size 1000x600 with 1 Axes>"
            ],
            "image/png": "[encoded data removed]"
          },
          "metadata": {}
        }
      ]
    },
    {
      "cell_type": "markdown",
      "metadata": {
        "id": "1unuUYHavxd1"
      },
      "source": [
        "##### **Solution - 6**"
      ],
      "id": "1unuUYHavxd1"
    },
    {
      "cell_type": "code",
      "source": [
        "from sklearn.svm import SVC\n",
        "\n",
        "# Initialize and train SVM models with different kernels\n",
        "kernels = ['linear', 'poly', 'rbf']  # Linear, Polynomial (degree=2), Gaussian (RBF)\n",
        "results_svm = {}\n",
        "\n",
        "for kernel in kernels:\n",
        "    if kernel == 'poly':\n",
        "        model = SVC(kernel=kernel, degree=2, random_state=42)\n",
        "    else:\n",
        "        model = SVC(kernel=kernel, random_state=42)\n",
        "\n",
        "    model.fit(X_train, y_train)\n",
        "    y_pred_svm = model.predict(X_test)\n",
        "\n",
        "    # Compute accuracy and confusion matrix\n",
        "    accuracy_svm = accuracy_score(y_test, y_pred_svm)\n",
        "    conf_matrix_svm = confusion_matrix(y_test, y_pred_svm)\n",
        "\n",
        "    # Store results\n",
        "    results_svm[kernel] = {\n",
        "        'accuracy': accuracy_svm,\n",
        "        'confusion_matrix': conf_matrix_svm\n",
        "    }\n",
        "\n",
        "    print(f\"SVM ({kernel.capitalize()}) Accuracy: {accuracy_svm:.2f}\")\n",
        "    print(f\"SVM ({kernel.capitalize()}) Confusion Matrix:\\n{conf_matrix_svm}\\n\")"
      ],
      "metadata": {
        "id": "k7C62xDWDQeH",
        "colab": {
          "base_uri": "https://localhost:8080/"
        },
        "outputId": "d79e010c-fc46-4c18-89e0-a247499e6f7a"
      },
      "id": "k7C62xDWDQeH",
      "execution_count": 14,
      "outputs": [
        {
          "output_type": "stream",
          "name": "stdout",
          "text": [
            "SVM (Linear) Accuracy: 0.79\n",
            "SVM (Linear) Confusion Matrix:\n",
            "[[ 15 219]\n",
            " [  5 824]]\n",
            "\n",
            "SVM (Poly) Accuracy: 0.79\n",
            "SVM (Poly) Confusion Matrix:\n",
            "[[ 15 219]\n",
            " [  6 823]]\n",
            "\n",
            "SVM (Rbf) Accuracy: 0.80\n",
            "SVM (Rbf) Confusion Matrix:\n",
            "[[ 34 200]\n",
            " [ 11 818]]\n",
            "\n"
          ]
        }
      ]
    },
    {
      "cell_type": "markdown",
      "metadata": {
        "id": "j2yHgjogv2x4"
      },
      "source": [
        "##### **Solution - 7**"
      ],
      "id": "j2yHgjogv2x4"
    },
    {
      "cell_type": "code",
      "source": [
        "import pandas as pd\n",
        "\n",
        "# Define a function to calculate metrics from the confusion matrix\n",
        "def calculate_metrics(conf_matrix):\n",
        "    TP = np.diag(conf_matrix)  # True positives are diagonal elements\n",
        "    FP = conf_matrix.sum(axis=0) - TP  # False positives are column sums minus TP\n",
        "    FN = conf_matrix.sum(axis=1) - TP  # False negatives are row sums minus TP\n",
        "    TN = conf_matrix.sum() - (FP + FN + TP)  # Total minus FP, FN, and TP\n",
        "    accuracy = TP.sum() / conf_matrix.sum()  # Overall accuracy\n",
        "    TPR = TP / (TP + FN)  # True positive rate\n",
        "    TNR = TN / (TN + FP)  # True negative rate\n",
        "\n",
        "    return TP, FP, TN, FN, accuracy, TPR.mean(), TNR.mean()\n",
        "\n",
        "# Collect results for each model\n",
        "models = [\n",
        "    (\"Naive Bayesian\", conf_matrix_nb, accuracy_nb),\n",
        "    (\"Logistic Regression\", conf_matrix_lr, accuracy_lr),\n",
        "    (\"Decision Tree\", conf_matrix_dt, accuracy_dt),\n",
        "    (\"Random Forest (Best)\", conf_matrix_rf_best, accuracy_rf_best)\n",
        "]\n",
        "\n",
        "# Add SVM results\n",
        "for kernel, result in results_svm.items():\n",
        "    models.append((f\"SVM ({kernel.capitalize()})\", result['confusion_matrix'], result['accuracy']))\n",
        "\n",
        "# Create a summary table\n",
        "summary = []\n",
        "for name, conf_matrix, accuracy in models:\n",
        "    TP, FP, TN, FN, acc, TPR, TNR = calculate_metrics(conf_matrix)\n",
        "    summary.append([name, TP.sum(), FP.sum(), TN.sum(), FN.sum(), acc, TPR, TNR])\n",
        "\n",
        "# Convert to DataFrame for better visualization\n",
        "columns = [\"Model\", \"TP\", \"FP\", \"TN\", \"FN\", \"Accuracy\", \"TPR\", \"TNR\"]\n",
        "summary_df = pd.DataFrame(summary, columns=columns)\n",
        "\n",
        "# Print summary table\n",
        "display(summary_df)\n"
      ],
      "metadata": {
        "colab": {
          "base_uri": "https://localhost:8080/",
          "height": 269
        },
        "id": "NL37XrgfTzLy",
        "outputId": "f1f8cd58-15a8-4537-8025-408dcc8cb735"
      },
      "id": "NL37XrgfTzLy",
      "execution_count": 16,
      "outputs": [
        {
          "output_type": "display_data",
          "data": {
            "text/plain": [
              "                  Model   TP   FP   TN   FN  Accuracy       TPR       TNR\n",
              "0        Naive Bayesian  799  264  799  264  0.751646  0.541717  0.541717\n",
              "1   Logistic Regression  849  214  849  214  0.798683  0.564206  0.564206\n",
              "2         Decision Tree  930  133  930  133  0.874882  0.836968  0.836968\n",
              "3  Random Forest (Best)  955  108  955  108  0.898401  0.833643  0.833643\n",
              "4          SVM (Linear)  839  224  839  224  0.789276  0.529036  0.529036\n",
              "5            SVM (Poly)  838  225  838  225  0.788335  0.528432  0.528432\n",
              "6             SVM (Rbf)  852  211  852  211  0.801505  0.566015  0.566015"
            ],
            "text/html": [
              "\n",
              "  <div id=\"df-dee4439e-1687-4c1a-a13d-9b0eab60d109\" class=\"colab-df-container\">\n",
              "    <div>\n",
              "<style scoped>\n",
              "    .dataframe tbody tr th:only-of-type {\n",
              "        vertical-align: middle;\n",
              "    }\n",
              "\n",
              "    .dataframe tbody tr th {\n",
              "        vertical-align: top;\n",
              "    }\n",
              "\n",
              "    .dataframe thead th {\n",
              "        text-align: right;\n",
              "    }\n",
              "</style>\n",
              "<table border=\"1\" class=\"dataframe\">\n",
              "  <thead>\n",
              "    <tr style=\"text-align: right;\">\n",
              "      <th></th>\n",
              "      <th>Model</th>\n",
              "      <th>TP</th>\n",
              "      <th>FP</th>\n",
              "      <th>TN</th>\n",
              "      <th>FN</th>\n",
              "      <th>Accuracy</th>\n",
              "      <th>TPR</th>\n",
              "      <th>TNR</th>\n",
              "    </tr>\n",
              "  </thead>\n",
              "  <tbody>\n",
              "    <tr>\n",
              "      <th>0</th>\n",
              "      <td>Naive Bayesian</td>\n",
              "      <td>799</td>\n",
              "      <td>264</td>\n",
              "      <td>799</td>\n",
              "      <td>264</td>\n",
              "      <td>0.751646</td>\n",
              "      <td>0.541717</td>\n",
              "      <td>0.541717</td>\n",
              "    </tr>\n",
              "    <tr>\n",
              "      <th>1</th>\n",
              "      <td>Logistic Regression</td>\n",
              "      <td>849</td>\n",
              "      <td>214</td>\n",
              "      <td>849</td>\n",
              "      <td>214</td>\n",
              "      <td>0.798683</td>\n",
              "      <td>0.564206</td>\n",
              "      <td>0.564206</td>\n",
              "    </tr>\n",
              "    <tr>\n",
              "      <th>2</th>\n",
              "      <td>Decision Tree</td>\n",
              "      <td>930</td>\n",
              "      <td>133</td>\n",
              "      <td>930</td>\n",
              "      <td>133</td>\n",
              "      <td>0.874882</td>\n",
              "      <td>0.836968</td>\n",
              "      <td>0.836968</td>\n",
              "    </tr>\n",
              "    <tr>\n",
              "      <th>3</th>\n",
              "      <td>Random Forest (Best)</td>\n",
              "      <td>955</td>\n",
              "      <td>108</td>\n",
              "      <td>955</td>\n",
              "      <td>108</td>\n",
              "      <td>0.898401</td>\n",
              "      <td>0.833643</td>\n",
              "      <td>0.833643</td>\n",
              "    </tr>\n",
              "    <tr>\n",
              "      <th>4</th>\n",
              "      <td>SVM (Linear)</td>\n",
              "      <td>839</td>\n",
              "      <td>224</td>\n",
              "      <td>839</td>\n",
              "      <td>224</td>\n",
              "      <td>0.789276</td>\n",
              "      <td>0.529036</td>\n",
              "      <td>0.529036</td>\n",
              "    </tr>\n",
              "    <tr>\n",
              "      <th>5</th>\n",
              "      <td>SVM (Poly)</td>\n",
              "      <td>838</td>\n",
              "      <td>225</td>\n",
              "      <td>838</td>\n",
              "      <td>225</td>\n",
              "      <td>0.788335</td>\n",
              "      <td>0.528432</td>\n",
              "      <td>0.528432</td>\n",
              "    </tr>\n",
              "    <tr>\n",
              "      <th>6</th>\n",
              "      <td>SVM (Rbf)</td>\n",
              "      <td>852</td>\n",
              "      <td>211</td>\n",
              "      <td>852</td>\n",
              "      <td>211</td>\n",
              "      <td>0.801505</td>\n",
              "      <td>0.566015</td>\n",
              "      <td>0.566015</td>\n",
              "    </tr>\n",
              "  </tbody>\n",
              "</table>\n",
              "</div>\n",
              "    <div class=\"colab-df-buttons\">\n",
              "      \n",
              "  <div class=\"colab-df-container\">\n",
              "    <button class=\"colab-df-convert\" onclick=\"convertToInteractive('df-dee4439e-1687-4c1a-a13d-9b0eab60d109')\"\n",
              "            title=\"Convert this dataframe to an interactive table.\"\n",
              "            style=\"display:none;\">\n",
              "      \n",
              "  <svg xmlns=\"http://www.w3.org/2000/svg\" height=\"24px\" viewBox=\"0 -960 960 960\">\n",
              "    <path d=\"M120-120v-720h720v720H120Zm60-500h600v-160H180v160Zm220 220h160v-160H400v160Zm0 220h160v-160H400v160ZM180-400h160v-160H180v160Zm440 0h160v-160H620v160ZM180-180h160v-160H180v160Zm440 0h160v-160H620v160Z\"/>\n",
              "  </svg>\n",
              "    </button>\n",
              "    \n",
              "  <style>\n",
              "    .colab-df-container {\n",
              "      display:flex;\n",
              "      gap: 12px;\n",
              "    }\n",
              "\n",
              "    .colab-df-convert {\n",
              "      background-color: #E8F0FE;\n",
              "      border: none;\n",
              "      border-radius: 50%;\n",
              "      cursor: pointer;\n",
              "      display: none;\n",
              "      fill: #1967D2;\n",
              "      height: 32px;\n",
              "      padding: 0 0 0 0;\n",
              "      width: 32px;\n",
              "    }\n",
              "\n",
              "    .colab-df-convert:hover {\n",
              "      background-color: #E2EBFA;\n",
              "      box-shadow: 0px 1px 2px rgba(60, 64, 67, 0.3), 0px 1px 3px 1px rgba(60, 64, 67, 0.15);\n",
              "      fill: #174EA6;\n",
              "    }\n",
              "\n",
              "    .colab-df-buttons div {\n",
              "      margin-bottom: 4px;\n",
              "    }\n",
              "\n",
              "    [theme=dark] .colab-df-convert {\n",
              "      background-color: #3B4455;\n",
              "      fill: #D2E3FC;\n",
              "    }\n",
              "\n",
              "    [theme=dark] .colab-df-convert:hover {\n",
              "      background-color: #434B5C;\n",
              "      box-shadow: 0px 1px 3px 1px rgba(0, 0, 0, 0.15);\n",
              "      filter: drop-shadow(0px 1px 2px rgba(0, 0, 0, 0.3));\n",
              "      fill: #FFFFFF;\n",
              "    }\n",
              "  </style>\n",
              "\n",
              "    <script>\n",
              "      const buttonEl =\n",
              "        document.querySelector('#df-dee4439e-1687-4c1a-a13d-9b0eab60d109 button.colab-df-convert');\n",
              "      buttonEl.style.display =\n",
              "        google.colab.kernel.accessAllowed ? 'block' : 'none';\n",
              "\n",
              "      async function convertToInteractive(key) {\n",
              "        const element = document.querySelector('#df-dee4439e-1687-4c1a-a13d-9b0eab60d109');\n",
              "        const dataTable =\n",
              "          await google.colab.kernel.invokeFunction('convertToInteractive',\n",
              "                                                    [key], {});\n",
              "        if (!dataTable) return;\n",
              "\n",
              "        const docLinkHtml = 'Like what you see? Visit the ' +\n",
              "          '<a target=\"_blank\" href=https://colab.research.google.com/notebooks/data_table.ipynb>data table notebook</a>'\n",
              "          + ' to learn more about interactive tables.';\n",
              "        element.innerHTML = '';\n",
              "        dataTable['output_type'] = 'display_data';\n",
              "        await google.colab.output.renderOutput(dataTable, element);\n",
              "        const docLink = document.createElement('div');\n",
              "        docLink.innerHTML = docLinkHtml;\n",
              "        element.appendChild(docLink);\n",
              "      }\n",
              "    </script>\n",
              "  </div>\n",
              "  \n",
              "    </div>\n",
              "  </div>\n",
              "  "
            ]
          },
          "metadata": {}
        }
      ]
    },
    {
      "cell_type": "markdown",
      "metadata": {
        "id": "0pksHV6pv64I"
      },
      "source": [
        "##### **Solution - 8**"
      ],
      "id": "0pksHV6pv64I"
    },
    {
      "cell_type": "code",
      "source": [
        "importances = rf_best.feature_importances_\n",
        "feature_importance_df = pd.DataFrame({\n",
        "    'Feature': X.columns,\n",
        "    'Importance': importances\n",
        "}).sort_values(by='Importance', ascending=False)\n",
        "\n",
        "print(feature_importance_df)\n"
      ],
      "metadata": {
        "id": "D4BpsuRsDZIk",
        "colab": {
          "base_uri": "https://localhost:8080/"
        },
        "outputId": "1a730386-300f-493a-b167-7f889a9cb69a"
      },
      "id": "D4BpsuRsDZIk",
      "execution_count": 17,
      "outputs": [
        {
          "output_type": "stream",
          "name": "stdout",
          "text": [
            "    Feature  Importance\n",
            "0      MSTV    0.427081\n",
            "2      Mode    0.324896\n",
            "3  Variance    0.127528\n",
            "1     Width    0.120495\n"
          ]
        }
      ]
    },
    {
      "cell_type": "code",
      "source": [
        "coef = log_reg.coef_[0]\n",
        "feature_coef_df = pd.DataFrame({\n",
        "    'Feature': X.columns,\n",
        "    'Coefficient': coef\n",
        "}).sort_values(by='Coefficient', ascending=False)\n",
        "\n",
        "print(feature_coef_df)\n"
      ],
      "metadata": {
        "colab": {
          "base_uri": "https://localhost:8080/"
        },
        "id": "nKoy9GMEPJWC",
        "outputId": "1fd9d840-9b6d-4c10-df1b-960c54c13380"
      },
      "id": "nKoy9GMEPJWC",
      "execution_count": 18,
      "outputs": [
        {
          "output_type": "stream",
          "name": "stdout",
          "text": [
            "    Feature  Coefficient\n",
            "0      MSTV     1.417438\n",
            "2      Mode     0.023264\n",
            "1     Width     0.010926\n",
            "3  Variance    -0.040304\n"
          ]
        }
      ]
    },
    {
      "cell_type": "code",
      "source": [
        "pip install shap"
      ],
      "metadata": {
        "colab": {
          "base_uri": "https://localhost:8080/"
        },
        "id": "QxdIcStWPSpd",
        "outputId": "a1066ba5-4767-47a2-e13b-7b3ec6d598f1"
      },
      "id": "QxdIcStWPSpd",
      "execution_count": 43,
      "outputs": [
        {
          "output_type": "stream",
          "name": "stdout",
          "text": [
            "Requirement already satisfied: shap in /usr/local/lib/python3.10/dist-packages (0.46.0)\n",
            "Requirement already satisfied: numpy in /usr/local/lib/python3.10/dist-packages (from shap) (1.26.4)\n",
            "Requirement already satisfied: scipy in /usr/local/lib/python3.10/dist-packages (from shap) (1.13.1)\n",
            "Requirement already satisfied: scikit-learn in /usr/local/lib/python3.10/dist-packages (from shap) (1.5.2)\n",
            "Requirement already satisfied: pandas in /usr/local/lib/python3.10/dist-packages (from shap) (2.2.2)\n",
            "Requirement already satisfied: tqdm>=4.27.0 in /usr/local/lib/python3.10/dist-packages (from shap) (4.66.6)\n",
            "Requirement already satisfied: packaging>20.9 in /usr/local/lib/python3.10/dist-packages (from shap) (24.2)\n",
            "Requirement already satisfied: slicer==0.0.8 in /usr/local/lib/python3.10/dist-packages (from shap) (0.0.8)\n",
            "Requirement already satisfied: numba in /usr/local/lib/python3.10/dist-packages (from shap) (0.60.0)\n",
            "Requirement already satisfied: cloudpickle in /usr/local/lib/python3.10/dist-packages (from shap) (3.1.0)\n",
            "Requirement already satisfied: llvmlite<0.44,>=0.43.0dev0 in /usr/local/lib/python3.10/dist-packages (from numba->shap) (0.43.0)\n",
            "Requirement already satisfied: python-dateutil>=2.8.2 in /usr/local/lib/python3.10/dist-packages (from pandas->shap) (2.8.2)\n",
            "Requirement already satisfied: pytz>=2020.1 in /usr/local/lib/python3.10/dist-packages (from pandas->shap) (2024.2)\n",
            "Requirement already satisfied: tzdata>=2022.7 in /usr/local/lib/python3.10/dist-packages (from pandas->shap) (2024.2)\n",
            "Requirement already satisfied: joblib>=1.2.0 in /usr/local/lib/python3.10/dist-packages (from scikit-learn->shap) (1.4.2)\n",
            "Requirement already satisfied: threadpoolctl>=3.1.0 in /usr/local/lib/python3.10/dist-packages (from scikit-learn->shap) (3.5.0)\n",
            "Requirement already satisfied: six>=1.5 in /usr/local/lib/python3.10/dist-packages (from python-dateutil>=2.8.2->pandas->shap) (1.16.0)\n"
          ]
        }
      ]
    },
    {
      "cell_type": "markdown",
      "id": "roF_hfyb-Um_",
      "metadata": {
        "id": "roF_hfyb-Um_"
      },
      "source": [
        "### **Part 2 - SVM**"
      ]
    },
    {
      "cell_type": "code",
      "execution_count": 22,
      "id": "e2fa130f",
      "metadata": {
        "id": "e2fa130f"
      },
      "outputs": [],
      "source": [
        "df = pd.read_excel(\"META_weekly_return_detailed.xlsx\")"
      ]
    },
    {
      "cell_type": "code",
      "execution_count": 23,
      "id": "667f3aac",
      "metadata": {
        "colab": {
          "base_uri": "https://localhost:8080/",
          "height": 617
        },
        "id": "667f3aac",
        "outputId": "0f8b544d-048a-44e8-ec77-906f1df04c46"
      },
      "outputs": [
        {
          "output_type": "execute_result",
          "data": {
            "text/plain": [
              "            Open        High         Low       Close   Adj Close    Volume  \\\n",
              "0     358.989990  360.000000  351.820007  353.959992  352.897461  14980500   \n",
              "1     359.700012  361.899994  357.809998  358.320007  357.244385  11798800   \n",
              "2     356.070007  359.000000  355.309998  357.829987  356.755859  13207900   \n",
              "3     354.989990  356.980011  353.450012  354.829987  353.764832   9898600   \n",
              "4     355.579987  357.200012  351.220001  353.390015  352.329193  11764200   \n",
              "...          ...         ...         ...         ...         ...       ...   \n",
              "1253  139.889999  143.139999  139.539993  142.529999  142.102158  26263800   \n",
              "1254  137.559998  138.869995  135.910004  138.050003  137.635590  20089300   \n",
              "1255  134.009995  138.000000  133.750000  137.949997  137.535889  29002100   \n",
              "1256  134.690002  137.169998  131.119995  131.740005  131.344528  22717900   \n",
              "1257  128.990005  137.509995  128.559998  135.679993  135.272705  28146200   \n",
              "\n",
              "      Return       Date  Week_Number  Year  Day    Weekday  mean_return  \\\n",
              "0     -1.217 2023-12-29           52  2023   29     Friday     0.043000   \n",
              "1      0.137 2023-12-28           52  2023   28   Thursday     0.043000   \n",
              "2      0.845 2023-12-27           52  2023   27  Wednesday     0.043000   \n",
              "3      0.407 2023-12-26           52  2023   26    Tuesday     0.043000   \n",
              "4     -0.198 2023-12-22           51  2023   22     Friday     1.086600   \n",
              "...      ...        ...          ...   ...  ...        ...          ...   \n",
              "1253   3.245 2019-01-08            1  2019    8    Tuesday     0.842400   \n",
              "1254   0.072 2019-01-07            1  2019    7     Monday     0.842400   \n",
              "1255   4.714 2019-01-04            0  2019    4     Friday     0.603333   \n",
              "1256  -2.904 2019-01-03            0  2019    3   Thursday     0.603333   \n",
              "1257   0.000 2019-01-02            0  2019    2  Wednesday     0.603333   \n",
              "\n",
              "      volatility  Label  \n",
              "0       0.889220  Green  \n",
              "1       0.889220  Green  \n",
              "2       0.889220  Green  \n",
              "3       0.889220  Green  \n",
              "4       1.349914  Green  \n",
              "...          ...    ...  \n",
              "1253    1.456660    NaN  \n",
              "1254    1.456660    NaN  \n",
              "1255    3.844670    NaN  \n",
              "1256    3.844670    NaN  \n",
              "1257    3.844670    NaN  \n",
              "\n",
              "[1258 rows x 15 columns]"
            ],
            "text/html": [
              "\n",
              "  <div id=\"df-c4367ef5-302f-43a4-b434-7741cc4f587d\" class=\"colab-df-container\">\n",
              "    <div>\n",
              "<style scoped>\n",
              "    .dataframe tbody tr th:only-of-type {\n",
              "        vertical-align: middle;\n",
              "    }\n",
              "\n",
              "    .dataframe tbody tr th {\n",
              "        vertical-align: top;\n",
              "    }\n",
              "\n",
              "    .dataframe thead th {\n",
              "        text-align: right;\n",
              "    }\n",
              "</style>\n",
              "<table border=\"1\" class=\"dataframe\">\n",
              "  <thead>\n",
              "    <tr style=\"text-align: right;\">\n",
              "      <th></th>\n",
              "      <th>Open</th>\n",
              "      <th>High</th>\n",
              "      <th>Low</th>\n",
              "      <th>Close</th>\n",
              "      <th>Adj Close</th>\n",
              "      <th>Volume</th>\n",
              "      <th>Return</th>\n",
              "      <th>Date</th>\n",
              "      <th>Week_Number</th>\n",
              "      <th>Year</th>\n",
              "      <th>Day</th>\n",
              "      <th>Weekday</th>\n",
              "      <th>mean_return</th>\n",
              "      <th>volatility</th>\n",
              "      <th>Label</th>\n",
              "    </tr>\n",
              "  </thead>\n",
              "  <tbody>\n",
              "    <tr>\n",
              "      <th>0</th>\n",
              "      <td>358.989990</td>\n",
              "      <td>360.000000</td>\n",
              "      <td>351.820007</td>\n",
              "      <td>353.959992</td>\n",
              "      <td>352.897461</td>\n",
              "      <td>14980500</td>\n",
              "      <td>-1.217</td>\n",
              "      <td>2023-12-29</td>\n",
              "      <td>52</td>\n",
              "      <td>2023</td>\n",
              "      <td>29</td>\n",
              "      <td>Friday</td>\n",
              "      <td>0.043000</td>\n",
              "      <td>0.889220</td>\n",
              "      <td>Green</td>\n",
              "    </tr>\n",
              "    <tr>\n",
              "      <th>1</th>\n",
              "      <td>359.700012</td>\n",
              "      <td>361.899994</td>\n",
              "      <td>357.809998</td>\n",
              "      <td>358.320007</td>\n",
              "      <td>357.244385</td>\n",
              "      <td>11798800</td>\n",
              "      <td>0.137</td>\n",
              "      <td>2023-12-28</td>\n",
              "      <td>52</td>\n",
              "      <td>2023</td>\n",
              "      <td>28</td>\n",
              "      <td>Thursday</td>\n",
              "      <td>0.043000</td>\n",
              "      <td>0.889220</td>\n",
              "      <td>Green</td>\n",
              "    </tr>\n",
              "    <tr>\n",
              "      <th>2</th>\n",
              "      <td>356.070007</td>\n",
              "      <td>359.000000</td>\n",
              "      <td>355.309998</td>\n",
              "      <td>357.829987</td>\n",
              "      <td>356.755859</td>\n",
              "      <td>13207900</td>\n",
              "      <td>0.845</td>\n",
              "      <td>2023-12-27</td>\n",
              "      <td>52</td>\n",
              "      <td>2023</td>\n",
              "      <td>27</td>\n",
              "      <td>Wednesday</td>\n",
              "      <td>0.043000</td>\n",
              "      <td>0.889220</td>\n",
              "      <td>Green</td>\n",
              "    </tr>\n",
              "    <tr>\n",
              "      <th>3</th>\n",
              "      <td>354.989990</td>\n",
              "      <td>356.980011</td>\n",
              "      <td>353.450012</td>\n",
              "      <td>354.829987</td>\n",
              "      <td>353.764832</td>\n",
              "      <td>9898600</td>\n",
              "      <td>0.407</td>\n",
              "      <td>2023-12-26</td>\n",
              "      <td>52</td>\n",
              "      <td>2023</td>\n",
              "      <td>26</td>\n",
              "      <td>Tuesday</td>\n",
              "      <td>0.043000</td>\n",
              "      <td>0.889220</td>\n",
              "      <td>Green</td>\n",
              "    </tr>\n",
              "    <tr>\n",
              "      <th>4</th>\n",
              "      <td>355.579987</td>\n",
              "      <td>357.200012</td>\n",
              "      <td>351.220001</td>\n",
              "      <td>353.390015</td>\n",
              "      <td>352.329193</td>\n",
              "      <td>11764200</td>\n",
              "      <td>-0.198</td>\n",
              "      <td>2023-12-22</td>\n",
              "      <td>51</td>\n",
              "      <td>2023</td>\n",
              "      <td>22</td>\n",
              "      <td>Friday</td>\n",
              "      <td>1.086600</td>\n",
              "      <td>1.349914</td>\n",
              "      <td>Green</td>\n",
              "    </tr>\n",
              "    <tr>\n",
              "      <th>...</th>\n",
              "      <td>...</td>\n",
              "      <td>...</td>\n",
              "      <td>...</td>\n",
              "      <td>...</td>\n",
              "      <td>...</td>\n",
              "      <td>...</td>\n",
              "      <td>...</td>\n",
              "      <td>...</td>\n",
              "      <td>...</td>\n",
              "      <td>...</td>\n",
              "      <td>...</td>\n",
              "      <td>...</td>\n",
              "      <td>...</td>\n",
              "      <td>...</td>\n",
              "      <td>...</td>\n",
              "    </tr>\n",
              "    <tr>\n",
              "      <th>1253</th>\n",
              "      <td>139.889999</td>\n",
              "      <td>143.139999</td>\n",
              "      <td>139.539993</td>\n",
              "      <td>142.529999</td>\n",
              "      <td>142.102158</td>\n",
              "      <td>26263800</td>\n",
              "      <td>3.245</td>\n",
              "      <td>2019-01-08</td>\n",
              "      <td>1</td>\n",
              "      <td>2019</td>\n",
              "      <td>8</td>\n",
              "      <td>Tuesday</td>\n",
              "      <td>0.842400</td>\n",
              "      <td>1.456660</td>\n",
              "      <td>NaN</td>\n",
              "    </tr>\n",
              "    <tr>\n",
              "      <th>1254</th>\n",
              "      <td>137.559998</td>\n",
              "      <td>138.869995</td>\n",
              "      <td>135.910004</td>\n",
              "      <td>138.050003</td>\n",
              "      <td>137.635590</td>\n",
              "      <td>20089300</td>\n",
              "      <td>0.072</td>\n",
              "      <td>2019-01-07</td>\n",
              "      <td>1</td>\n",
              "      <td>2019</td>\n",
              "      <td>7</td>\n",
              "      <td>Monday</td>\n",
              "      <td>0.842400</td>\n",
              "      <td>1.456660</td>\n",
              "      <td>NaN</td>\n",
              "    </tr>\n",
              "    <tr>\n",
              "      <th>1255</th>\n",
              "      <td>134.009995</td>\n",
              "      <td>138.000000</td>\n",
              "      <td>133.750000</td>\n",
              "      <td>137.949997</td>\n",
              "      <td>137.535889</td>\n",
              "      <td>29002100</td>\n",
              "      <td>4.714</td>\n",
              "      <td>2019-01-04</td>\n",
              "      <td>0</td>\n",
              "      <td>2019</td>\n",
              "      <td>4</td>\n",
              "      <td>Friday</td>\n",
              "      <td>0.603333</td>\n",
              "      <td>3.844670</td>\n",
              "      <td>NaN</td>\n",
              "    </tr>\n",
              "    <tr>\n",
              "      <th>1256</th>\n",
              "      <td>134.690002</td>\n",
              "      <td>137.169998</td>\n",
              "      <td>131.119995</td>\n",
              "      <td>131.740005</td>\n",
              "      <td>131.344528</td>\n",
              "      <td>22717900</td>\n",
              "      <td>-2.904</td>\n",
              "      <td>2019-01-03</td>\n",
              "      <td>0</td>\n",
              "      <td>2019</td>\n",
              "      <td>3</td>\n",
              "      <td>Thursday</td>\n",
              "      <td>0.603333</td>\n",
              "      <td>3.844670</td>\n",
              "      <td>NaN</td>\n",
              "    </tr>\n",
              "    <tr>\n",
              "      <th>1257</th>\n",
              "      <td>128.990005</td>\n",
              "      <td>137.509995</td>\n",
              "      <td>128.559998</td>\n",
              "      <td>135.679993</td>\n",
              "      <td>135.272705</td>\n",
              "      <td>28146200</td>\n",
              "      <td>0.000</td>\n",
              "      <td>2019-01-02</td>\n",
              "      <td>0</td>\n",
              "      <td>2019</td>\n",
              "      <td>2</td>\n",
              "      <td>Wednesday</td>\n",
              "      <td>0.603333</td>\n",
              "      <td>3.844670</td>\n",
              "      <td>NaN</td>\n",
              "    </tr>\n",
              "  </tbody>\n",
              "</table>\n",
              "<p>1258 rows × 15 columns</p>\n",
              "</div>\n",
              "    <div class=\"colab-df-buttons\">\n",
              "      \n",
              "  <div class=\"colab-df-container\">\n",
              "    <button class=\"colab-df-convert\" onclick=\"convertToInteractive('df-c4367ef5-302f-43a4-b434-7741cc4f587d')\"\n",
              "            title=\"Convert this dataframe to an interactive table.\"\n",
              "            style=\"display:none;\">\n",
              "      \n",
              "  <svg xmlns=\"http://www.w3.org/2000/svg\" height=\"24px\" viewBox=\"0 -960 960 960\">\n",
              "    <path d=\"M120-120v-720h720v720H120Zm60-500h600v-160H180v160Zm220 220h160v-160H400v160Zm0 220h160v-160H400v160ZM180-400h160v-160H180v160Zm440 0h160v-160H620v160ZM180-180h160v-160H180v160Zm440 0h160v-160H620v160Z\"/>\n",
              "  </svg>\n",
              "    </button>\n",
              "    \n",
              "  <style>\n",
              "    .colab-df-container {\n",
              "      display:flex;\n",
              "      gap: 12px;\n",
              "    }\n",
              "\n",
              "    .colab-df-convert {\n",
              "      background-color: #E8F0FE;\n",
              "      border: none;\n",
              "      border-radius: 50%;\n",
              "      cursor: pointer;\n",
              "      display: none;\n",
              "      fill: #1967D2;\n",
              "      height: 32px;\n",
              "      padding: 0 0 0 0;\n",
              "      width: 32px;\n",
              "    }\n",
              "\n",
              "    .colab-df-convert:hover {\n",
              "      background-color: #E2EBFA;\n",
              "      box-shadow: 0px 1px 2px rgba(60, 64, 67, 0.3), 0px 1px 3px 1px rgba(60, 64, 67, 0.15);\n",
              "      fill: #174EA6;\n",
              "    }\n",
              "\n",
              "    .colab-df-buttons div {\n",
              "      margin-bottom: 4px;\n",
              "    }\n",
              "\n",
              "    [theme=dark] .colab-df-convert {\n",
              "      background-color: #3B4455;\n",
              "      fill: #D2E3FC;\n",
              "    }\n",
              "\n",
              "    [theme=dark] .colab-df-convert:hover {\n",
              "      background-color: #434B5C;\n",
              "      box-shadow: 0px 1px 3px 1px rgba(0, 0, 0, 0.15);\n",
              "      filter: drop-shadow(0px 1px 2px rgba(0, 0, 0, 0.3));\n",
              "      fill: #FFFFFF;\n",
              "    }\n",
              "  </style>\n",
              "\n",
              "    <script>\n",
              "      const buttonEl =\n",
              "        document.querySelector('#df-c4367ef5-302f-43a4-b434-7741cc4f587d button.colab-df-convert');\n",
              "      buttonEl.style.display =\n",
              "        google.colab.kernel.accessAllowed ? 'block' : 'none';\n",
              "\n",
              "      async function convertToInteractive(key) {\n",
              "        const element = document.querySelector('#df-c4367ef5-302f-43a4-b434-7741cc4f587d');\n",
              "        const dataTable =\n",
              "          await google.colab.kernel.invokeFunction('convertToInteractive',\n",
              "                                                    [key], {});\n",
              "        if (!dataTable) return;\n",
              "\n",
              "        const docLinkHtml = 'Like what you see? Visit the ' +\n",
              "          '<a target=\"_blank\" href=https://colab.research.google.com/notebooks/data_table.ipynb>data table notebook</a>'\n",
              "          + ' to learn more about interactive tables.';\n",
              "        element.innerHTML = '';\n",
              "        dataTable['output_type'] = 'display_data';\n",
              "        await google.colab.output.renderOutput(dataTable, element);\n",
              "        const docLink = document.createElement('div');\n",
              "        docLink.innerHTML = docLinkHtml;\n",
              "        element.appendChild(docLink);\n",
              "      }\n",
              "    </script>\n",
              "  </div>\n",
              "  \n",
              "    </div>\n",
              "  </div>\n",
              "  "
            ],
            "application/vnd.google.colaboratory.intrinsic+json": {
              "type": "dataframe",
              "variable_name": "df",
              "summary": "{\n  \"name\": \"df\",\n  \"rows\": 1258,\n  \"fields\": [\n    {\n      \"column\": \"Open\",\n      \"properties\": {\n        \"dtype\": \"number\",\n        \"std\": 69.45096007882319,\n        \"min\": 90.08000183,\n        \"max\": 381.6799927,\n        \"num_unique_values\": 1211,\n        \"samples\": [\n          313.230011,\n          278.7999878,\n          212.2400055\n        ],\n        \"semantic_type\": \"\",\n        \"description\": \"\"\n      }\n    },\n    {\n      \"column\": \"High\",\n      \"properties\": {\n        \"dtype\": \"number\",\n        \"std\": 69.97934030623728,\n        \"min\": 90.45999908,\n        \"max\": 384.3299866,\n        \"num_unique_values\": 1217,\n        \"samples\": [\n          329.0700073,\n          117.5400009,\n          310.8800049\n        ],\n        \"semantic_type\": \"\",\n        \"description\": \"\"\n      }\n    },\n    {\n      \"column\": \"Low\",\n      \"properties\": {\n        \"dtype\": \"number\",\n        \"std\": 68.80688151664843,\n        \"min\": 88.08999634,\n        \"max\": 378.8099976,\n        \"num_unique_values\": 1219,\n        \"samples\": [\n          319.7200012,\n          119.3899994,\n          292.9700012\n        ],\n        \"semantic_type\": \"\",\n        \"description\": \"\"\n      }\n    },\n    {\n      \"column\": \"Close\",\n      \"properties\": {\n        \"dtype\": \"number\",\n        \"std\": 69.40800396242084,\n        \"min\": 88.91000366,\n        \"max\": 382.1799927,\n        \"num_unique_values\": 1224,\n        \"samples\": [\n          303.5700073,\n          174.1499939,\n          242.4900055\n        ],\n        \"semantic_type\": \"\",\n        \"description\": \"\"\n      }\n    },\n    {\n      \"column\": \"Adj Close\",\n      \"properties\": {\n        \"dtype\": \"number\",\n        \"std\": 69.19965207210437,\n        \"min\": 88.64311218,\n        \"max\": 381.0327454,\n        \"num_unique_values\": 1224,\n        \"samples\": [\n          302.6587219,\n          173.62722780000001,\n          241.762085\n        ],\n        \"semantic_type\": \"\",\n        \"description\": \"\"\n      }\n    },\n    {\n      \"column\": \"Volume\",\n      \"properties\": {\n        \"dtype\": \"number\",\n        \"std\": 15561909,\n        \"min\": 5467500,\n        \"max\": 232316600,\n        \"num_unique_values\": 1257,\n        \"samples\": [\n          28995100,\n          16236500,\n          16387800\n        ],\n        \"semantic_type\": \"\",\n        \"description\": \"\"\n      }\n    },\n    {\n      \"column\": \"Return\",\n      \"properties\": {\n        \"dtype\": \"number\",\n        \"std\": 2.747334308341758,\n        \"min\": -26.39,\n        \"max\": 23.282,\n        \"num_unique_values\": 1147,\n        \"samples\": [\n          -5.592,\n          3.137,\n          0.349\n        ],\n        \"semantic_type\": \"\",\n        \"description\": \"\"\n      }\n    },\n    {\n      \"column\": \"Date\",\n      \"properties\": {\n        \"dtype\": \"date\",\n        \"min\": \"2019-01-02 00:00:00\",\n        \"max\": \"2023-12-29 00:00:00\",\n        \"num_unique_values\": 1258,\n        \"samples\": [\n          \"2021-10-06 00:00:00\",\n          \"2023-08-07 00:00:00\",\n          \"2023-10-17 00:00:00\"\n        ],\n        \"semantic_type\": \"\",\n        \"description\": \"\"\n      }\n    },\n    {\n      \"column\": \"Week_Number\",\n      \"properties\": {\n        \"dtype\": \"number\",\n        \"std\": 14,\n        \"min\": 0,\n        \"max\": 52,\n        \"num_unique_values\": 53,\n        \"samples\": [\n          33,\n          11,\n          5\n        ],\n        \"semantic_type\": \"\",\n        \"description\": \"\"\n      }\n    },\n    {\n      \"column\": \"Year\",\n      \"properties\": {\n        \"dtype\": \"number\",\n        \"std\": 1,\n        \"min\": 2019,\n        \"max\": 2023,\n        \"num_unique_values\": 5,\n        \"samples\": [\n          2022,\n          2019,\n          2021\n        ],\n        \"semantic_type\": \"\",\n        \"description\": \"\"\n      }\n    },\n    {\n      \"column\": \"Day\",\n      \"properties\": {\n        \"dtype\": \"number\",\n        \"std\": 8,\n        \"min\": 1,\n        \"max\": 31,\n        \"num_unique_values\": 31,\n        \"samples\": [\n          2,\n          7,\n          16\n        ],\n        \"semantic_type\": \"\",\n        \"description\": \"\"\n      }\n    },\n    {\n      \"column\": \"Weekday\",\n      \"properties\": {\n        \"dtype\": \"category\",\n        \"num_unique_values\": 5,\n        \"samples\": [\n          \"Thursday\",\n          \"Monday\",\n          \"Wednesday\"\n        ],\n        \"semantic_type\": \"\",\n        \"description\": \"\"\n      }\n    },\n    {\n      \"column\": \"mean_return\",\n      \"properties\": {\n        \"dtype\": \"number\",\n        \"std\": 1.1291363068604994,\n        \"min\": -4.616,\n        \"max\": 4.6192,\n        \"num_unique_values\": 261,\n        \"samples\": [\n          1.0005,\n          -0.48,\n          -1.0568\n        ],\n        \"semantic_type\": \"\",\n        \"description\": \"\"\n      }\n    },\n    {\n      \"column\": \"volatility\",\n      \"properties\": {\n        \"dtype\": \"number\",\n        \"std\": 1.6524859995667578,\n        \"min\": 0.322124588,\n        \"max\": 12.62951142,\n        \"num_unique_values\": 262,\n        \"samples\": [\n          1.464639444,\n          0.818806021,\n          2.947634362\n        ],\n        \"semantic_type\": \"\",\n        \"description\": \"\"\n      }\n    },\n    {\n      \"column\": \"Label\",\n      \"properties\": {\n        \"dtype\": \"category\",\n        \"num_unique_values\": 2,\n        \"samples\": [\n          \"Red\",\n          \"Green\"\n        ],\n        \"semantic_type\": \"\",\n        \"description\": \"\"\n      }\n    }\n  ]\n}"
            }
          },
          "metadata": {},
          "execution_count": 23
        }
      ],
      "source": [
        "# Looking at the dataframe\n",
        "df"
      ]
    },
    {
      "cell_type": "code",
      "source": [
        "import pandas as pd\n",
        "from sklearn.discriminant_analysis import LinearDiscriminantAnalysis, QuadraticDiscriminantAnalysis\n",
        "from sklearn.metrics import confusion_matrix, accuracy_score\n",
        "\n",
        "feature_values = df[df['Year'].isin([2022, 2023])].groupby(['Week_Number', 'Year']).agg(\n",
        "    mean = ('mean_return', lambda x: round(x.mean()* 100,2)),\n",
        "    std = ('Return', lambda x: round(x.std()* 100,2)),\n",
        "    Label = ('Label', 'first'),\n",
        ").reset_index()\n",
        "\n",
        "feature_values.head(10)\n",
        "\n",
        "# Split data into Year 1 and Year 2\n",
        "year_1 = feature_values[feature_values['Year'] == 2022]\n",
        "year_2 = feature_values[feature_values['Year'] == 2023]"
      ],
      "metadata": {
        "id": "8PDahOh4GBpa"
      },
      "id": "8PDahOh4GBpa",
      "execution_count": 24,
      "outputs": []
    },
    {
      "cell_type": "code",
      "source": [
        "feature_values"
      ],
      "metadata": {
        "colab": {
          "base_uri": "https://localhost:8080/",
          "height": 423
        },
        "id": "_4n9Ap3zbMrV",
        "outputId": "bfff01f2-67b7-4f32-c7bf-e50bb5f306f1"
      },
      "id": "_4n9Ap3zbMrV",
      "execution_count": 26,
      "outputs": [
        {
          "output_type": "execute_result",
          "data": {
            "text/plain": [
              "     Week_Number  Year    mean     std  Label\n",
              "0              1  2022  -25.22  226.54    Red\n",
              "1              1  2023  196.30  167.29  Green\n",
              "2              2  2022    1.86  172.80    Red\n",
              "3              2  2023  105.88  160.29  Green\n",
              "4              3  2022 -221.70  234.53    Red\n",
              "..           ...   ...     ...     ...    ...\n",
              "99            50  2023   14.30  180.34  Green\n",
              "100           51  2022  -20.06  286.58  Green\n",
              "101           51  2023  108.66  134.99  Green\n",
              "102           52  2022   50.48  239.57  Green\n",
              "103           52  2023    4.30   88.92  Green\n",
              "\n",
              "[104 rows x 5 columns]"
            ],
            "text/html": [
              "\n",
              "  <div id=\"df-1ce5a5b2-90b0-4f4f-a3e4-e5032aeea902\" class=\"colab-df-container\">\n",
              "    <div>\n",
              "<style scoped>\n",
              "    .dataframe tbody tr th:only-of-type {\n",
              "        vertical-align: middle;\n",
              "    }\n",
              "\n",
              "    .dataframe tbody tr th {\n",
              "        vertical-align: top;\n",
              "    }\n",
              "\n",
              "    .dataframe thead th {\n",
              "        text-align: right;\n",
              "    }\n",
              "</style>\n",
              "<table border=\"1\" class=\"dataframe\">\n",
              "  <thead>\n",
              "    <tr style=\"text-align: right;\">\n",
              "      <th></th>\n",
              "      <th>Week_Number</th>\n",
              "      <th>Year</th>\n",
              "      <th>mean</th>\n",
              "      <th>std</th>\n",
              "      <th>Label</th>\n",
              "    </tr>\n",
              "  </thead>\n",
              "  <tbody>\n",
              "    <tr>\n",
              "      <th>0</th>\n",
              "      <td>1</td>\n",
              "      <td>2022</td>\n",
              "      <td>-25.22</td>\n",
              "      <td>226.54</td>\n",
              "      <td>Red</td>\n",
              "    </tr>\n",
              "    <tr>\n",
              "      <th>1</th>\n",
              "      <td>1</td>\n",
              "      <td>2023</td>\n",
              "      <td>196.30</td>\n",
              "      <td>167.29</td>\n",
              "      <td>Green</td>\n",
              "    </tr>\n",
              "    <tr>\n",
              "      <th>2</th>\n",
              "      <td>2</td>\n",
              "      <td>2022</td>\n",
              "      <td>1.86</td>\n",
              "      <td>172.80</td>\n",
              "      <td>Red</td>\n",
              "    </tr>\n",
              "    <tr>\n",
              "      <th>3</th>\n",
              "      <td>2</td>\n",
              "      <td>2023</td>\n",
              "      <td>105.88</td>\n",
              "      <td>160.29</td>\n",
              "      <td>Green</td>\n",
              "    </tr>\n",
              "    <tr>\n",
              "      <th>4</th>\n",
              "      <td>3</td>\n",
              "      <td>2022</td>\n",
              "      <td>-221.70</td>\n",
              "      <td>234.53</td>\n",
              "      <td>Red</td>\n",
              "    </tr>\n",
              "    <tr>\n",
              "      <th>...</th>\n",
              "      <td>...</td>\n",
              "      <td>...</td>\n",
              "      <td>...</td>\n",
              "      <td>...</td>\n",
              "      <td>...</td>\n",
              "    </tr>\n",
              "    <tr>\n",
              "      <th>99</th>\n",
              "      <td>50</td>\n",
              "      <td>2023</td>\n",
              "      <td>14.30</td>\n",
              "      <td>180.34</td>\n",
              "      <td>Green</td>\n",
              "    </tr>\n",
              "    <tr>\n",
              "      <th>100</th>\n",
              "      <td>51</td>\n",
              "      <td>2022</td>\n",
              "      <td>-20.06</td>\n",
              "      <td>286.58</td>\n",
              "      <td>Green</td>\n",
              "    </tr>\n",
              "    <tr>\n",
              "      <th>101</th>\n",
              "      <td>51</td>\n",
              "      <td>2023</td>\n",
              "      <td>108.66</td>\n",
              "      <td>134.99</td>\n",
              "      <td>Green</td>\n",
              "    </tr>\n",
              "    <tr>\n",
              "      <th>102</th>\n",
              "      <td>52</td>\n",
              "      <td>2022</td>\n",
              "      <td>50.48</td>\n",
              "      <td>239.57</td>\n",
              "      <td>Green</td>\n",
              "    </tr>\n",
              "    <tr>\n",
              "      <th>103</th>\n",
              "      <td>52</td>\n",
              "      <td>2023</td>\n",
              "      <td>4.30</td>\n",
              "      <td>88.92</td>\n",
              "      <td>Green</td>\n",
              "    </tr>\n",
              "  </tbody>\n",
              "</table>\n",
              "<p>104 rows × 5 columns</p>\n",
              "</div>\n",
              "    <div class=\"colab-df-buttons\">\n",
              "      \n",
              "  <div class=\"colab-df-container\">\n",
              "    <button class=\"colab-df-convert\" onclick=\"convertToInteractive('df-1ce5a5b2-90b0-4f4f-a3e4-e5032aeea902')\"\n",
              "            title=\"Convert this dataframe to an interactive table.\"\n",
              "            style=\"display:none;\">\n",
              "      \n",
              "  <svg xmlns=\"http://www.w3.org/2000/svg\" height=\"24px\" viewBox=\"0 -960 960 960\">\n",
              "    <path d=\"M120-120v-720h720v720H120Zm60-500h600v-160H180v160Zm220 220h160v-160H400v160Zm0 220h160v-160H400v160ZM180-400h160v-160H180v160Zm440 0h160v-160H620v160ZM180-180h160v-160H180v160Zm440 0h160v-160H620v160Z\"/>\n",
              "  </svg>\n",
              "    </button>\n",
              "    \n",
              "  <style>\n",
              "    .colab-df-container {\n",
              "      display:flex;\n",
              "      gap: 12px;\n",
              "    }\n",
              "\n",
              "    .colab-df-convert {\n",
              "      background-color: #E8F0FE;\n",
              "      border: none;\n",
              "      border-radius: 50%;\n",
              "      cursor: pointer;\n",
              "      display: none;\n",
              "      fill: #1967D2;\n",
              "      height: 32px;\n",
              "      padding: 0 0 0 0;\n",
              "      width: 32px;\n",
              "    }\n",
              "\n",
              "    .colab-df-convert:hover {\n",
              "      background-color: #E2EBFA;\n",
              "      box-shadow: 0px 1px 2px rgba(60, 64, 67, 0.3), 0px 1px 3px 1px rgba(60, 64, 67, 0.15);\n",
              "      fill: #174EA6;\n",
              "    }\n",
              "\n",
              "    .colab-df-buttons div {\n",
              "      margin-bottom: 4px;\n",
              "    }\n",
              "\n",
              "    [theme=dark] .colab-df-convert {\n",
              "      background-color: #3B4455;\n",
              "      fill: #D2E3FC;\n",
              "    }\n",
              "\n",
              "    [theme=dark] .colab-df-convert:hover {\n",
              "      background-color: #434B5C;\n",
              "      box-shadow: 0px 1px 3px 1px rgba(0, 0, 0, 0.15);\n",
              "      filter: drop-shadow(0px 1px 2px rgba(0, 0, 0, 0.3));\n",
              "      fill: #FFFFFF;\n",
              "    }\n",
              "  </style>\n",
              "\n",
              "    <script>\n",
              "      const buttonEl =\n",
              "        document.querySelector('#df-1ce5a5b2-90b0-4f4f-a3e4-e5032aeea902 button.colab-df-convert');\n",
              "      buttonEl.style.display =\n",
              "        google.colab.kernel.accessAllowed ? 'block' : 'none';\n",
              "\n",
              "      async function convertToInteractive(key) {\n",
              "        const element = document.querySelector('#df-1ce5a5b2-90b0-4f4f-a3e4-e5032aeea902');\n",
              "        const dataTable =\n",
              "          await google.colab.kernel.invokeFunction('convertToInteractive',\n",
              "                                                    [key], {});\n",
              "        if (!dataTable) return;\n",
              "\n",
              "        const docLinkHtml = 'Like what you see? Visit the ' +\n",
              "          '<a target=\"_blank\" href=https://colab.research.google.com/notebooks/data_table.ipynb>data table notebook</a>'\n",
              "          + ' to learn more about interactive tables.';\n",
              "        element.innerHTML = '';\n",
              "        dataTable['output_type'] = 'display_data';\n",
              "        await google.colab.output.renderOutput(dataTable, element);\n",
              "        const docLink = document.createElement('div');\n",
              "        docLink.innerHTML = docLinkHtml;\n",
              "        element.appendChild(docLink);\n",
              "      }\n",
              "    </script>\n",
              "  </div>\n",
              "  \n",
              "    </div>\n",
              "  </div>\n",
              "  "
            ],
            "application/vnd.google.colaboratory.intrinsic+json": {
              "type": "dataframe",
              "variable_name": "feature_values",
              "summary": "{\n  \"name\": \"feature_values\",\n  \"rows\": 104,\n  \"fields\": [\n    {\n      \"column\": \"Week_Number\",\n      \"properties\": {\n        \"dtype\": \"number\",\n        \"std\": 15,\n        \"min\": 1,\n        \"max\": 52,\n        \"num_unique_values\": 52,\n        \"samples\": [\n          20,\n          42,\n          48\n        ],\n        \"semantic_type\": \"\",\n        \"description\": \"\"\n      }\n    },\n    {\n      \"column\": \"Year\",\n      \"properties\": {\n        \"dtype\": \"number\",\n        \"std\": 0,\n        \"min\": 2022,\n        \"max\": 2023,\n        \"num_unique_values\": 2,\n        \"samples\": [\n          2023,\n          2022\n        ],\n        \"semantic_type\": \"\",\n        \"description\": \"\"\n      }\n    },\n    {\n      \"column\": \"mean\",\n      \"properties\": {\n        \"dtype\": \"number\",\n        \"std\": 139.5016575084689,\n        \"min\": -461.6,\n        \"max\": 461.92,\n        \"num_unique_values\": 103,\n        \"samples\": [\n          -253.12,\n          17.64\n        ],\n        \"semantic_type\": \"\",\n        \"description\": \"\"\n      }\n    },\n    {\n      \"column\": \"std\",\n      \"properties\": {\n        \"dtype\": \"number\",\n        \"std\": 204.13238290464045,\n        \"min\": 50.17,\n        \"max\": 1262.95,\n        \"num_unique_values\": 104,\n        \"samples\": [\n          448.56,\n          181.42\n        ],\n        \"semantic_type\": \"\",\n        \"description\": \"\"\n      }\n    },\n    {\n      \"column\": \"Label\",\n      \"properties\": {\n        \"dtype\": \"category\",\n        \"num_unique_values\": 2,\n        \"samples\": [\n          \"Green\",\n          \"Red\"\n        ],\n        \"semantic_type\": \"\",\n        \"description\": \"\"\n      }\n    }\n  ]\n}"
            }
          },
          "metadata": {},
          "execution_count": 26
        }
      ]
    },
    {
      "cell_type": "code",
      "source": [
        "# Features and labels\n",
        "X_train = year_1[['mean', 'std']]\n",
        "y_train = year_1['Label']\n",
        "X_test = year_2[['mean', 'std']]\n",
        "y_test = year_2['Label']"
      ],
      "metadata": {
        "id": "jeUgW_-biHdM"
      },
      "id": "jeUgW_-biHdM",
      "execution_count": 25,
      "outputs": []
    },
    {
      "cell_type": "markdown",
      "id": "ZTjdJwFy1qaG",
      "metadata": {
        "id": "ZTjdJwFy1qaG"
      },
      "source": [
        "\n",
        "\n",
        "##### **Solution - 1 Linear SVM**"
      ]
    },
    {
      "cell_type": "code",
      "source": [
        "from sklearn.svm import SVC\n",
        "from sklearn.metrics import confusion_matrix, accuracy_score\n",
        "\n",
        "# Linear SVM\n",
        "linear_svm = SVC(kernel='linear', random_state=42)\n",
        "linear_svm.fit(X_train, y_train)\n",
        "\n",
        "# Predict for year 2\n",
        "y_pred_linear = linear_svm.predict(X_test)\n",
        "\n",
        "# Compute accuracy\n",
        "accuracy_linear = accuracy_score(y_test, y_pred_linear)\n",
        "print(f\"Linear SVM Accuracy: {accuracy_linear:.2f}\")\n",
        "\n",
        "# Compute confusion matrix\n",
        "conf_matrix_linear = confusion_matrix(y_test, y_pred_linear, labels=['Red', 'Green'])\n",
        "print(\"Confusion Matrix (Linear SVM):\\n\", conf_matrix_linear)\n",
        "\n",
        "# True positive rate (TPR) and true negative rate (TNR)\n",
        "tp = conf_matrix_linear[1, 1]  # True positives (Green predicted as Green)\n",
        "fn = conf_matrix_linear[1, 0]  # False negatives (Green predicted as Red)\n",
        "tn = conf_matrix_linear[0, 0]  # True negatives (Red predicted as Red)\n",
        "fp = conf_matrix_linear[0, 1]  # False positives (Red predicted as Green)\n",
        "\n",
        "tpr = tp / (tp + fn)  # Sensitivity or Recall\n",
        "tnr = tn / (tn + fp)  # Specificity\n",
        "print(f\"True Positive Rate (TPR): {tpr:.2f}\")\n",
        "print(f\"True Negative Rate (TNR): {tnr:.2f}\")\n"
      ],
      "metadata": {
        "id": "E6ouEGAF6w-_",
        "colab": {
          "base_uri": "https://localhost:8080/"
        },
        "outputId": "bcc8cdf3-f393-48c4-b4a9-1a1e59845afe"
      },
      "id": "E6ouEGAF6w-_",
      "execution_count": 27,
      "outputs": [
        {
          "output_type": "stream",
          "name": "stdout",
          "text": [
            "Linear SVM Accuracy: 0.79\n",
            "Confusion Matrix (Linear SVM):\n",
            " [[10  8]\n",
            " [ 3 31]]\n",
            "True Positive Rate (TPR): 0.91\n",
            "True Negative Rate (TNR): 0.56\n"
          ]
        }
      ]
    },
    {
      "cell_type": "markdown",
      "id": "e27afbb1",
      "metadata": {
        "id": "e27afbb1"
      },
      "source": [
        "##### **Solution - 4 Gaussian SVM**"
      ]
    },
    {
      "cell_type": "code",
      "source": [
        "# Gaussian SVM\n",
        "gaussian_svm = SVC(kernel='rbf', random_state=42)\n",
        "gaussian_svm.fit(X_train, y_train)\n",
        "\n",
        "# Predict for year 2\n",
        "y_pred_gaussian = gaussian_svm.predict(X_test)\n",
        "\n",
        "# Compute accuracy\n",
        "accuracy_gaussian = accuracy_score(y_test, y_pred_gaussian)\n",
        "print(f\"Gaussian SVM Accuracy: {accuracy_gaussian:.2f}\")\n",
        "\n",
        "# Compare accuracies\n",
        "if accuracy_gaussian > accuracy_linear:\n",
        "    print(\"Gaussian SVM performs better than Linear SVM\")\n",
        "else:\n",
        "    print(\"Linear SVM performs better than Gaussian SVM\")\n"
      ],
      "metadata": {
        "id": "kQQRH3D0iN3v",
        "colab": {
          "base_uri": "https://localhost:8080/"
        },
        "outputId": "e7db9c4d-973f-43cb-bb0d-e788b69207ff"
      },
      "id": "kQQRH3D0iN3v",
      "execution_count": 28,
      "outputs": [
        {
          "output_type": "stream",
          "name": "stdout",
          "text": [
            "Gaussian SVM Accuracy: 0.73\n",
            "Linear SVM performs better than Gaussian SVM\n"
          ]
        }
      ]
    },
    {
      "cell_type": "markdown",
      "id": "nRs2VDRwTiUv",
      "metadata": {
        "id": "nRs2VDRwTiUv"
      },
      "source": [
        "##### **Solution - 5 Polynomial SVM**"
      ]
    },
    {
      "cell_type": "code",
      "source": [
        "# Polynomial SVM (degree 2)\n",
        "poly_svm = SVC(kernel='poly', degree=2, random_state=42)\n",
        "poly_svm.fit(X_train, y_train)\n",
        "\n",
        "# Predict for year 2\n",
        "y_pred_poly = poly_svm.predict(X_test)\n",
        "\n",
        "# Compute accuracy\n",
        "accuracy_poly = accuracy_score(y_test, y_pred_poly)\n",
        "print(f\"Polynomial SVM (Degree 2) Accuracy: {accuracy_poly:.2f}\")\n",
        "\n",
        "# Compare accuracies\n",
        "if accuracy_poly > accuracy_linear:\n",
        "    print(\"Polynomial SVM performs better than Linear SVM\")\n",
        "else:\n",
        "    print(\"Linear SVM performs better than Polynomial SVM\")\n"
      ],
      "metadata": {
        "colab": {
          "base_uri": "https://localhost:8080/"
        },
        "id": "a9VDxCa0GjIv",
        "outputId": "3eb8ebba-7596-41ec-a051-30c7e242d61d"
      },
      "id": "a9VDxCa0GjIv",
      "execution_count": 29,
      "outputs": [
        {
          "output_type": "stream",
          "name": "stdout",
          "text": [
            "Polynomial SVM (Degree 2) Accuracy: 0.65\n",
            "Linear SVM performs better than Polynomial SVM\n"
          ]
        }
      ]
    },
    {
      "cell_type": "markdown",
      "id": "4753fcf0",
      "metadata": {
        "id": "4753fcf0"
      },
      "source": [
        "##### **Solution - 6 Trading Strategy with Buy & Hold**"
      ]
    },
    {
      "cell_type": "code",
      "source": [
        "# Trading strategy\n",
        "initial_capital = 100  # Starting capital in dollars\n",
        "capital = initial_capital\n",
        "\n",
        "for i, label in enumerate(y_pred_linear):\n",
        "    weekly_return = X_test.iloc[i]['mean'] / 100  # Convert return from percentage to decimal\n",
        "    if label == \"Green\":  # Buy during Green weeks\n",
        "        capital *= (1 + weekly_return)  # Invest in the market\n",
        "    elif label == \"Red\":  # Sell during Red weeks\n",
        "        capital *= (1 - weekly_return)\n",
        "\n",
        "print(f\"Final capital using Linear SVM strategy: ${capital:.2f}\")\n",
        "\n",
        "# Buy-and-hold strategy\n",
        "buy_and_hold_capital = initial_capital * (1 + (X_test['mean'].sum() / 100))\n",
        "print(f\"Final capital using Buy-and-Hold strategy: ${buy_and_hold_capital:.2f}\")\n",
        "\n",
        "# Compare strategies\n",
        "if capital > buy_and_hold_capital:\n",
        "    print(\"Linear SVM trading strategy results in higher returns than Buy-and-Hold.\")\n",
        "else:\n",
        "    print(\"Buy-and-Hold strategy results in higher returns than Linear SVM trading strategy.\")\n"
      ],
      "metadata": {
        "colab": {
          "base_uri": "https://localhost:8080/"
        },
        "id": "A4oGy0qqbl4M",
        "outputId": "68baf547-2852-44a5-dbfe-344fff1fc6e8"
      },
      "id": "A4oGy0qqbl4M",
      "execution_count": 38,
      "outputs": [
        {
          "output_type": "stream",
          "name": "stdout",
          "text": [
            "Final capital using Linear SVM strategy: $139320441007224.06\n",
            "Final capital using Buy-and-Hold strategy: $2509.98\n",
            "Linear SVM trading strategy results in higher returns than Buy-and-Hold.\n"
          ]
        }
      ]
    }
  ],
  "metadata": {
    "colab": {
      "provenance": []
    },
    "kernelspec": {
      "display_name": "Python 3 (ipykernel)",
      "language": "python",
      "name": "python3"
    },
    "language_info": {
      "codemirror_mode": {
        "name": "ipython",
        "version": 3
      },
      "file_extension": ".py",
      "mimetype": "text/x-python",
      "name": "python",
      "nbconvert_exporter": "python",
      "pygments_lexer": "ipython3",
      "version": "3.11.5"
    }
  },
  "nbformat": 4,
  "nbformat_minor": 5
}