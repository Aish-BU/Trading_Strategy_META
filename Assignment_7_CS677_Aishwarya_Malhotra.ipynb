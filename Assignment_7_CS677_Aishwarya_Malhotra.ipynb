{
 "cells": [
  {
   "cell_type": "markdown",
   "id": "7a4b8d75",
   "metadata": {
    "id": "7a4b8d75"
   },
   "source": [
    "<div style=\"text-align: center\"> <h1> Assignment - 7: Variations of kNN</div>"
   ]
  },
  {
   "cell_type": "markdown",
   "id": "45b2b05f-e184-4cf8-9228-0a82b9af911f",
   "metadata": {
    "id": "45b2b05f-e184-4cf8-9228-0a82b9af911f"
   },
   "source": [
    "<div style=\"text-align: center\"> <h3>CS677 A1 Data Science with Python (Fall 2024)"
   ]
  },
  {
   "cell_type": "markdown",
   "id": "397014ec-8a7d-4567-86de-c5dab2853bbf",
   "metadata": {
    "id": "397014ec-8a7d-4567-86de-c5dab2853bbf"
   },
   "source": [
    "<div style=\"text-align: center\"> <h4>Submitted by: Aishwarya Malhotra (U17161095)</div>"
   ]
  },
  {
   "cell_type": "markdown",
   "id": "229e6d13-400a-4c3e-b9d2-effac1da9639",
   "metadata": {
    "id": "229e6d13-400a-4c3e-b9d2-effac1da9639"
   },
   "source": [
    "### **Part - 1 Manhattan Distance (p = 1)**"
   ]
  },
  {
   "cell_type": "code",
   "execution_count": 1,
   "id": "RIpVExjMn869",
   "metadata": {
    "id": "RIpVExjMn869"
   },
   "outputs": [],
   "source": [
    "import pandas as pd\n",
    "import numpy as np\n",
    "from sklearn.model_selection import train_test_split\n",
    "from sklearn.neighbors import KNeighborsClassifier\n",
    "from sklearn.metrics import accuracy_score\n",
    "import matplotlib.pyplot as plt"
   ]
  },
  {
   "cell_type": "code",
   "execution_count": 2,
   "id": "e2fa130f",
   "metadata": {
    "id": "e2fa130f"
   },
   "outputs": [],
   "source": [
    "df = pd.read_excel(\"META_weekly_return_detailed.xlsx\")"
   ]
  },
  {
   "cell_type": "code",
   "execution_count": 3,
   "id": "667f3aac",
   "metadata": {
    "colab": {
     "base_uri": "https://localhost:8080/",
     "height": 313
    },
    "id": "667f3aac",
    "outputId": "2f4b3e62-478c-4d32-dccc-7dbef7532b43"
   },
   "outputs": [
    {
     "data": {
      "text/html": [
       "<div>\n",
       "<style scoped>\n",
       "    .dataframe tbody tr th:only-of-type {\n",
       "        vertical-align: middle;\n",
       "    }\n",
       "\n",
       "    .dataframe tbody tr th {\n",
       "        vertical-align: top;\n",
       "    }\n",
       "\n",
       "    .dataframe thead th {\n",
       "        text-align: right;\n",
       "    }\n",
       "</style>\n",
       "<table border=\"1\" class=\"dataframe\">\n",
       "  <thead>\n",
       "    <tr style=\"text-align: right;\">\n",
       "      <th></th>\n",
       "      <th>Open</th>\n",
       "      <th>High</th>\n",
       "      <th>Low</th>\n",
       "      <th>Close</th>\n",
       "      <th>Adj Close</th>\n",
       "      <th>Volume</th>\n",
       "      <th>Return</th>\n",
       "      <th>Date</th>\n",
       "      <th>Week_Number</th>\n",
       "      <th>Year</th>\n",
       "      <th>Day</th>\n",
       "      <th>Weekday</th>\n",
       "      <th>mean_return</th>\n",
       "      <th>volatility</th>\n",
       "      <th>Label</th>\n",
       "    </tr>\n",
       "  </thead>\n",
       "  <tbody>\n",
       "    <tr>\n",
       "      <th>0</th>\n",
       "      <td>358.989990</td>\n",
       "      <td>360.000000</td>\n",
       "      <td>351.820007</td>\n",
       "      <td>353.959992</td>\n",
       "      <td>352.897461</td>\n",
       "      <td>14980500</td>\n",
       "      <td>-1.217</td>\n",
       "      <td>2023-12-29</td>\n",
       "      <td>52</td>\n",
       "      <td>2023</td>\n",
       "      <td>29</td>\n",
       "      <td>Friday</td>\n",
       "      <td>0.0430</td>\n",
       "      <td>0.889220</td>\n",
       "      <td>Green</td>\n",
       "    </tr>\n",
       "    <tr>\n",
       "      <th>1</th>\n",
       "      <td>359.700012</td>\n",
       "      <td>361.899994</td>\n",
       "      <td>357.809998</td>\n",
       "      <td>358.320007</td>\n",
       "      <td>357.244385</td>\n",
       "      <td>11798800</td>\n",
       "      <td>0.137</td>\n",
       "      <td>2023-12-28</td>\n",
       "      <td>52</td>\n",
       "      <td>2023</td>\n",
       "      <td>28</td>\n",
       "      <td>Thursday</td>\n",
       "      <td>0.0430</td>\n",
       "      <td>0.889220</td>\n",
       "      <td>Green</td>\n",
       "    </tr>\n",
       "    <tr>\n",
       "      <th>2</th>\n",
       "      <td>356.070007</td>\n",
       "      <td>359.000000</td>\n",
       "      <td>355.309998</td>\n",
       "      <td>357.829987</td>\n",
       "      <td>356.755859</td>\n",
       "      <td>13207900</td>\n",
       "      <td>0.845</td>\n",
       "      <td>2023-12-27</td>\n",
       "      <td>52</td>\n",
       "      <td>2023</td>\n",
       "      <td>27</td>\n",
       "      <td>Wednesday</td>\n",
       "      <td>0.0430</td>\n",
       "      <td>0.889220</td>\n",
       "      <td>Green</td>\n",
       "    </tr>\n",
       "    <tr>\n",
       "      <th>3</th>\n",
       "      <td>354.989990</td>\n",
       "      <td>356.980011</td>\n",
       "      <td>353.450012</td>\n",
       "      <td>354.829987</td>\n",
       "      <td>353.764832</td>\n",
       "      <td>9898600</td>\n",
       "      <td>0.407</td>\n",
       "      <td>2023-12-26</td>\n",
       "      <td>52</td>\n",
       "      <td>2023</td>\n",
       "      <td>26</td>\n",
       "      <td>Tuesday</td>\n",
       "      <td>0.0430</td>\n",
       "      <td>0.889220</td>\n",
       "      <td>Green</td>\n",
       "    </tr>\n",
       "    <tr>\n",
       "      <th>4</th>\n",
       "      <td>355.579987</td>\n",
       "      <td>357.200012</td>\n",
       "      <td>351.220001</td>\n",
       "      <td>353.390015</td>\n",
       "      <td>352.329193</td>\n",
       "      <td>11764200</td>\n",
       "      <td>-0.198</td>\n",
       "      <td>2023-12-22</td>\n",
       "      <td>51</td>\n",
       "      <td>2023</td>\n",
       "      <td>22</td>\n",
       "      <td>Friday</td>\n",
       "      <td>1.0866</td>\n",
       "      <td>1.349914</td>\n",
       "      <td>Green</td>\n",
       "    </tr>\n",
       "  </tbody>\n",
       "</table>\n",
       "</div>"
      ],
      "text/plain": [
       "         Open        High         Low       Close   Adj Close    Volume  \\\n",
       "0  358.989990  360.000000  351.820007  353.959992  352.897461  14980500   \n",
       "1  359.700012  361.899994  357.809998  358.320007  357.244385  11798800   \n",
       "2  356.070007  359.000000  355.309998  357.829987  356.755859  13207900   \n",
       "3  354.989990  356.980011  353.450012  354.829987  353.764832   9898600   \n",
       "4  355.579987  357.200012  351.220001  353.390015  352.329193  11764200   \n",
       "\n",
       "   Return       Date  Week_Number  Year  Day    Weekday  mean_return  \\\n",
       "0  -1.217 2023-12-29           52  2023   29     Friday       0.0430   \n",
       "1   0.137 2023-12-28           52  2023   28   Thursday       0.0430   \n",
       "2   0.845 2023-12-27           52  2023   27  Wednesday       0.0430   \n",
       "3   0.407 2023-12-26           52  2023   26    Tuesday       0.0430   \n",
       "4  -0.198 2023-12-22           51  2023   22     Friday       1.0866   \n",
       "\n",
       "   volatility  Label  \n",
       "0    0.889220  Green  \n",
       "1    0.889220  Green  \n",
       "2    0.889220  Green  \n",
       "3    0.889220  Green  \n",
       "4    1.349914  Green  "
      ]
     },
     "execution_count": 3,
     "metadata": {},
     "output_type": "execute_result"
    }
   ],
   "source": [
    "# Looking at the dataframe\n",
    "df.head()"
   ]
  },
  {
   "cell_type": "markdown",
   "id": "ZTjdJwFy1qaG",
   "metadata": {
    "id": "ZTjdJwFy1qaG"
   },
   "source": [
    "##### **Solution - 1**"
   ]
  },
  {
   "cell_type": "code",
   "execution_count": 4,
   "id": "C1nqsHtJT8SD",
   "metadata": {
    "id": "C1nqsHtJT8SD"
   },
   "outputs": [],
   "source": [
    "# Select features (mean_return, volatility) and labels (Green/Red)\n",
    "X = df[['mean_return', 'volatility']]\n",
    "y = df['Label'].apply(lambda x: 1 if x == 'Green' else 0)  # Convert Green to 1, Red to 0\n",
    "\n",
    "# Split data into year 1 (train) and year 2 (test)\n",
    "train_data = df[df['Year'] == 2022]\n",
    "test_data = df[df['Year'] == 2023]\n",
    "\n",
    "X_train = train_data[['mean_return', 'volatility']]\n",
    "y_train = train_data['Label'].apply(lambda x: 1 if x == 'Green' else 0)\n",
    "\n",
    "X_test = test_data[['mean_return', 'volatility']]\n",
    "y_test = test_data['Label'].apply(lambda x: 1 if x == 'Green' else 0)"
   ]
  },
  {
   "cell_type": "code",
   "execution_count": 5,
   "id": "gae0SBLmoY8T",
   "metadata": {
    "colab": {
     "base_uri": "https://localhost:8080/",
     "height": 489
    },
    "id": "gae0SBLmoY8T",
    "outputId": "3a6a8ab7-b012-4409-9032-d251d7acaa1f"
   },
   "outputs": [
    {
     "data": {
      "image/png": "[encoded data removed]",
      "text/plain": [
       "<Figure size 640x480 with 1 Axes>"
      ]
     },
     "metadata": {},
     "output_type": "display_data"
    },
    {
     "name": "stdout",
     "output_type": "stream",
     "text": [
      "The optimal value of k for year 1 (2022) is: 11\n"
     ]
    }
   ],
   "source": [
    "# List of k values to test\n",
    "k_values = [3, 5, 7, 9, 11]\n",
    "accuracies = []\n",
    "\n",
    "# Loop over different values of k\n",
    "for k in k_values:\n",
    "    # Initialize k-NN classifier with Manhattan distance (p=1)\n",
    "    knn = KNeighborsClassifier(n_neighbors=k, p=1)\n",
    "\n",
    "    # Fit the model on the training data\n",
    "    knn.fit(X_train, y_train)\n",
    "\n",
    "    # Predict the labels on the test data\n",
    "    y_pred = knn.predict(X_test)\n",
    "\n",
    "    # Calculate accuracy\n",
    "    accuracy = accuracy_score(y_test, y_pred)\n",
    "    accuracies.append(accuracy)\n",
    "\n",
    "# Plot the accuracies for different k values\n",
    "plt.plot(k_values, accuracies, marker='o')\n",
    "plt.xlabel('k')\n",
    "plt.ylabel('Accuracy')\n",
    "plt.title('k-NN with Manhattan Distance (p=1)')\n",
    "plt.grid(True)\n",
    "plt.show()\n",
    "\n",
    "# Print the optimal value of k based on the highest accuracy\n",
    "optimal_k_manhattan = k_values[np.argmax(accuracies)]\n",
    "print(f'The optimal value of k for year 1 (2022) is: {optimal_k_manhattan}')\n"
   ]
  },
  {
   "cell_type": "markdown",
   "id": "e27afbb1",
   "metadata": {
    "id": "e27afbb1"
   },
   "source": [
    "##### **Solution - 2**"
   ]
  },
  {
   "cell_type": "code",
   "execution_count": 6,
   "id": "Ns4qE4p-DrSq",
   "metadata": {
    "colab": {
     "base_uri": "https://localhost:8080/"
    },
    "id": "Ns4qE4p-DrSq",
    "outputId": "fb2bd7af-2c2b-434e-e0cf-655eb5203ed0"
   },
   "outputs": [
    {
     "name": "stdout",
     "output_type": "stream",
     "text": [
      "Accuracy for year 2 with k=11 and Manhattan distance: 0.7520\n"
     ]
    }
   ],
   "source": [
    "# Initialize k-NN classifier with Manhattan distance (p=1) and optimal k\n",
    "optimal_knn = KNeighborsClassifier(n_neighbors=optimal_k_manhattan, p=1)\n",
    "\n",
    "# Fit the model on the training data (year 1)\n",
    "optimal_knn.fit(X_train, y_train)\n",
    "\n",
    "# Predict the labels for year 2\n",
    "y_pred_year2 = optimal_knn.predict(X_test)\n",
    "\n",
    "# Calculate accuracy for year 2\n",
    "accuracy_manhattan = accuracy_score(y_test, y_pred_year2)\n",
    "print(f'Accuracy for year 2 with k={optimal_k_manhattan} and Manhattan distance: {accuracy_manhattan:.4f}')\n"
   ]
  },
  {
   "cell_type": "markdown",
   "id": "nRs2VDRwTiUv",
   "metadata": {
    "id": "nRs2VDRwTiUv"
   },
   "source": [
    "##### **Solution - 3**"
   ]
  },
  {
   "cell_type": "code",
   "execution_count": 7,
   "id": "lDrCO8-zrxdf",
   "metadata": {
    "colab": {
     "base_uri": "https://localhost:8080/",
     "height": 504
    },
    "id": "lDrCO8-zrxdf",
    "outputId": "b368edc9-8b04-4b45-a850-8e5971f7f7e8"
   },
   "outputs": [
    {
     "name": "stdout",
     "output_type": "stream",
     "text": [
      "Confusion matrix for year 2 with k=11:\n",
      " [[ 44  42]\n",
      " [ 20 144]]\n"
     ]
    },
    {
     "data": {
      "image/png": "[encoded data removed]",
      "text/plain": [
       "<Figure size 640x480 with 2 Axes>"
      ]
     },
     "metadata": {},
     "output_type": "display_data"
    }
   ],
   "source": [
    "from sklearn.metrics import confusion_matrix\n",
    "\n",
    "# Compute confusion matrix\n",
    "conf_matrix = confusion_matrix(y_test, y_pred_year2)\n",
    "print(f'Confusion matrix for year 2 with k={optimal_k_manhattan}:\\n', conf_matrix)\n",
    "\n",
    "import seaborn as sns\n",
    "sns.heatmap(conf_matrix, annot=True, fmt='d', cmap='Purples')\n",
    "plt.title('Confusion matrix for year 2 with k= 11')\n",
    "plt.show()"
   ]
  },
  {
   "cell_type": "markdown",
   "id": "h0S4ckPBShxQ",
   "metadata": {
    "id": "h0S4ckPBShxQ"
   },
   "source": [
    "##### **Solution - 4**"
   ]
  },
  {
   "cell_type": "code",
   "execution_count": 8,
   "id": "hrEPrsA8FuDC",
   "metadata": {
    "colab": {
     "base_uri": "https://localhost:8080/"
    },
    "id": "hrEPrsA8FuDC",
    "outputId": "f76e320f-9569-49b5-e553-29f27e97c678"
   },
   "outputs": [
    {
     "data": {
      "text/plain": [
       "3"
      ]
     },
     "execution_count": 8,
     "metadata": {},
     "output_type": "execute_result"
    }
   ],
   "source": [
    "# k-NN with Euclidean distance for comparison\n",
    "euclidean_accuracies = []\n",
    "\n",
    "for k in k_values:\n",
    "    knn = KNeighborsClassifier(n_neighbors=k, metric='euclidean')\n",
    "    knn.fit(X_train, y_train)\n",
    "    y_pred_train = knn.predict(X_train)\n",
    "    accuracy_euclidean = accuracy_score(y_train, y_pred_train)\n",
    "    euclidean_accuracies.append(accuracy)\n",
    "\n",
    "\n",
    "# Optimal k for Euclidean distance\n",
    "optimal_k_euclidean = k_values[euclidean_accuracies.index(max(euclidean_accuracies))]\n",
    "optimal_k_euclidean\n"
   ]
  },
  {
   "cell_type": "code",
   "execution_count": 9,
   "id": "ImPR3ngOe4Kc",
   "metadata": {
    "colab": {
     "base_uri": "https://localhost:8080/"
    },
    "id": "ImPR3ngOe4Kc",
    "outputId": "294dd0f6-47d4-4f7f-99d8-ca11d45ef66e"
   },
   "outputs": [
    {
     "name": "stdout",
     "output_type": "stream",
     "text": [
      "Final balance with trading strategy (euclidean): 239.72\n",
      "Final balance with buy-and-hold strategy: 352.41\n"
     ]
    }
   ],
   "source": [
    "# Trading strategy based on predictions from euclidean k-NN\n",
    "initial_balance = 1000.0  # Starting investment amount\n",
    "final_amount_euclidean = initial_balance\n",
    "\n",
    "# Assuming `weekly_returns` contains the returns for year 2\n",
    "weekly_returns = test_data['Adj Close'].pct_change().fillna(0).values  # Example of calculating returns\n",
    "\n",
    "# Implementing the trading strategy based on predicted labels\n",
    "for i, label in enumerate(y_pred_year2):\n",
    "    if label == 1:  # Invest when label is 1\n",
    "        final_amount_euclidean *= (1 + weekly_returns[i])\n",
    "    # If the label is 0, no action is taken\n",
    "\n",
    "# Buy-and-hold strategy calculation\n",
    "final_amount_buy_and_hold = initial_balance * (test_data['Adj Close'].iloc[-1] / test_data['Adj Close'].iloc[0])\n",
    "\n",
    "# Print final balances\n",
    "print(f'Final balance with trading strategy (euclidean): {final_amount_euclidean:.2f}')\n",
    "print(f'Final balance with buy-and-hold strategy: {final_amount_buy_and_hold:.2f}')\n"
   ]
  },
  {
   "cell_type": "code",
   "execution_count": 10,
   "id": "4NrbEZsjGbPZ",
   "metadata": {
    "colab": {
     "base_uri": "https://localhost:8080/"
    },
    "id": "4NrbEZsjGbPZ",
    "outputId": "42d43575-3fae-4ee8-ae35-4707ccfffdba"
   },
   "outputs": [
    {
     "name": "stdout",
     "output_type": "stream",
     "text": [
      "Optimal k for Manhattan distance: 11, Accuracy: 0.7520\n",
      "Optimal k for Euclidean distance: 3, Accuracy: 0.7520\n"
     ]
    }
   ],
   "source": [
    "# Print the results\n",
    "print(f\"Optimal k for Manhattan distance: {optimal_k_manhattan}, Accuracy: {max(accuracies):.4f}\")\n",
    "print(f\"Optimal k for Euclidean distance: {optimal_k_euclidean}, Accuracy: {max(euclidean_accuracies):.4f}\")\n"
   ]
  },
  {
   "cell_type": "markdown",
   "id": "huY3ObkqMJlt",
   "metadata": {
    "id": "huY3ObkqMJlt"
   },
   "source": [
    "Yes, the manhattan distance value of K is different from Euclidean."
   ]
  },
  {
   "cell_type": "markdown",
   "id": "TCmDUgOpTlpN",
   "metadata": {
    "id": "TCmDUgOpTlpN"
   },
   "source": [
    "##### **Solution - 5**"
   ]
  },
  {
   "cell_type": "code",
   "execution_count": 11,
   "id": "LboSpossEjj9",
   "metadata": {
    "colab": {
     "base_uri": "https://localhost:8080/"
    },
    "id": "LboSpossEjj9",
    "outputId": "1134d8c9-f5b2-4896-b214-3ad07a7bbd77"
   },
   "outputs": [
    {
     "name": "stdout",
     "output_type": "stream",
     "text": [
      "True Positive Rate (Sensitivity): 0.8780\n",
      "True Negative Rate (Specificity): 0.5116\n"
     ]
    }
   ],
   "source": [
    "# Extract values from the confusion matrix\n",
    "TN, FP, FN, TP = conf_matrix.ravel()\n",
    "\n",
    "# Calculate True Positive Rate (Sensitivity)\n",
    "TPR = TP / (TP + FN)\n",
    "\n",
    "# Calculate True Negative Rate (Specificity)\n",
    "TNR = TN / (TN + FP)\n",
    "\n",
    "print(f'True Positive Rate (Sensitivity): {TPR:.4f}')\n",
    "print(f'True Negative Rate (Specificity): {TNR:.4f}')"
   ]
  },
  {
   "cell_type": "markdown",
   "id": "C2h-CFYPTFcB",
   "metadata": {
    "id": "C2h-CFYPTFcB"
   },
   "source": [
    "##### **Solution - 6**"
   ]
  },
  {
   "cell_type": "code",
   "execution_count": 12,
   "id": "KZG_i78yUh8k",
   "metadata": {
    "colab": {
     "base_uri": "https://localhost:8080/"
    },
    "id": "KZG_i78yUh8k",
    "outputId": "c106a2f2-3b2e-4221-b2ab-d954f83f08a7"
   },
   "outputs": [
    {
     "name": "stdout",
     "output_type": "stream",
     "text": [
      "Final balance with trading strategy: 487.51\n",
      "Final balance with buy-and-hold strategy: 352.41\n"
     ]
    }
   ],
   "source": [
    "# Convert returns from percentages to fractions\n",
    "weekly_returns = test_data['mean_return'].values / 100\n",
    "# Initialize starting balance for both strategies\n",
    "initial_balance = 100.0\n",
    "final_amount_manhattan = initial_balance\n",
    "balance_buy_hold = initial_balance\n",
    "\n",
    "# Check weekly return scaling\n",
    "weekly_returns = test_data['mean_return'].values\n",
    "if max(weekly_returns) > 1:\n",
    "    weekly_returns = weekly_returns / 100  # Convert percentages to decimals\n",
    "\n",
    "# Trading strategy based on predicted labels\n",
    "for i, label in enumerate(y_pred_year2):\n",
    "    if label == 1:  # Green label, invest\n",
    "        final_amount_manhattan *= (1 + weekly_returns[i])\n",
    "\n",
    "# Compare with buy-and-hold strategy\n",
    "investment = 1000  # Starting investment\n",
    "final_amount_buy_and_hold = investment * (test_data['Adj Close'].iloc[-1] / test_data['Adj Close'].iloc[0])\n",
    "\n",
    "# Display final balances\n",
    "print(f'Final balance with trading strategy: {final_amount_manhattan:.2f}')\n",
    "print(f'Final balance with buy-and-hold strategy: {final_amount_buy_and_hold:.2f}')\n"
   ]
  },
  {
   "cell_type": "markdown",
   "id": "VsKgN4SITFwv",
   "metadata": {
    "id": "VsKgN4SITFwv"
   },
   "source": [
    "##### **Solution - 7**"
   ]
  },
  {
   "cell_type": "code",
   "execution_count": 13,
   "id": "5ZPugOwvTKFo",
   "metadata": {
    "colab": {
     "base_uri": "https://localhost:8080/"
    },
    "id": "5ZPugOwvTKFo",
    "outputId": "e96b2401-4c80-40d5-b044-c970d3d766df"
   },
   "outputs": [
    {
     "name": "stdout",
     "output_type": "stream",
     "text": [
      "Euclidean distance (p=2) is better with accuracy: 0.7610\n",
      "Trading strategy based on k-NN labels outperforms buy-and-hold.\n"
     ]
    }
   ],
   "source": [
    "# Compare performance\n",
    "if accuracy_manhattan > accuracy_euclidean:\n",
    "    print(f'Manhattan distance (p=1) is better with accuracy: {accuracy_manhattan:.4f}')\n",
    "else:\n",
    "    print(f'Euclidean distance (p=2) is better with accuracy: {accuracy_euclidean:.4f}')\n",
    "\n",
    "# Compare trading strategy results\n",
    "if final_amount_manhattan > final_amount_buy_and_hold:\n",
    "    print(f\"Trading strategy based on k-NN labels outperforms buy-and-hold.\")\n",
    "else:\n",
    "    print(f\"Buy-and-hold strategy outperforms k-NN trading strategy.\")\n"
   ]
  },
  {
   "cell_type": "markdown",
   "id": "roF_hfyb-Um_",
   "metadata": {
    "id": "roF_hfyb-Um_"
   },
   "source": [
    "### **Part - 2 Minkowski Distance (p = 1.5)**"
   ]
  },
  {
   "cell_type": "markdown",
   "id": "eCh7XSxNTXr_",
   "metadata": {
    "id": "eCh7XSxNTXr_"
   },
   "source": [
    "##### **Solution - 1**"
   ]
  },
  {
   "cell_type": "code",
   "execution_count": 14,
   "id": "5tNMVf6TGSgn",
   "metadata": {
    "colab": {
     "base_uri": "https://localhost:8080/",
     "height": 489
    },
    "id": "5tNMVf6TGSgn",
    "outputId": "98651421-1557-4d59-8d57-0f641f72fe9b"
   },
   "outputs": [
    {
     "data": {
      "image/png": "[encoded data removed]",
      "text/plain": [
       "<Figure size 640x480 with 1 Axes>"
      ]
     },
     "metadata": {},
     "output_type": "display_data"
    },
    {
     "name": "stdout",
     "output_type": "stream",
     "text": [
      "Optimal value of k for year 1: 3\n"
     ]
    }
   ],
   "source": [
    "# 1. Compute accuracy for k = 3, 5, 7, 9, 11 with Minkowski distance (p=1.5)\n",
    "k_values = [3, 5, 7, 9, 11]\n",
    "accuracies = []\n",
    "\n",
    "for k in k_values:\n",
    "    knn = KNeighborsClassifier(n_neighbors=k, p=1.5)  # Minkowski distance with p=1.5\n",
    "    knn.fit(X_train, y_train)\n",
    "    y_pred_train = knn.predict(X_train)\n",
    "    acc = accuracy_score(y_train, y_pred_train)\n",
    "    accuracies.append(acc)\n",
    "\n",
    "# Plotting accuracy vs. k\n",
    "plt.plot(k_values, accuracies, marker='o')\n",
    "plt.xlabel('k')\n",
    "plt.ylabel('Accuracy')\n",
    "plt.title('Accuracy vs. k (Minkowski Distance, p=1.5)')\n",
    "plt.show()\n",
    "\n",
    "# Determine the optimal value of k\n",
    "optimal_k_minkowski = k_values[np.argmax(accuracies)]\n",
    "print(f'Optimal value of k for year 1: {optimal_k_minkowski}')"
   ]
  },
  {
   "cell_type": "markdown",
   "id": "Kja-aeHQJNUJ",
   "metadata": {
    "id": "Kja-aeHQJNUJ"
   },
   "source": [
    "##### **Solution - 2**"
   ]
  },
  {
   "cell_type": "code",
   "execution_count": 15,
   "id": "kB-OMwUeGswG",
   "metadata": {
    "colab": {
     "base_uri": "https://localhost:8080/"
    },
    "id": "kB-OMwUeGswG",
    "outputId": "6e7e4a56-de95-4fe1-b0dc-b38c95b59f8f"
   },
   "outputs": [
    {
     "name": "stdout",
     "output_type": "stream",
     "text": [
      "Accuracy for year 2 with optimal k=3: 0.6560\n"
     ]
    }
   ],
   "source": [
    "# 2. Use the optimal value of k to predict labels for year 2\n",
    "knn_optimal = KNeighborsClassifier(n_neighbors=optimal_k_minkowski, p=1.5)\n",
    "knn_optimal.fit(X_train, y_train)\n",
    "y_pred_year2 = knn_optimal.predict(X_test)\n",
    "\n",
    "# Calculate accuracy for year 2\n",
    "accuracy_minkowski = accuracy_score(y_test, y_pred_year2)\n",
    "print(f'Accuracy for year 2 with optimal k={optimal_k_minkowski}: {accuracy_minkowski:.4f}')"
   ]
  },
  {
   "cell_type": "markdown",
   "id": "A8pGU3-8JPB1",
   "metadata": {
    "id": "A8pGU3-8JPB1"
   },
   "source": [
    "##### **Solution - 3**"
   ]
  },
  {
   "cell_type": "code",
   "execution_count": 16,
   "id": "HnWheme_Js6_",
   "metadata": {
    "colab": {
     "base_uri": "https://localhost:8080/",
     "height": 504
    },
    "id": "HnWheme_Js6_",
    "outputId": "cfb1a178-6d28-47f3-9fb1-dd3646c300b3"
   },
   "outputs": [
    {
     "name": "stdout",
     "output_type": "stream",
     "text": [
      "Confusion matrix for year 2:\n",
      "[[ 40  46]\n",
      " [ 40 124]]\n"
     ]
    },
    {
     "data": {
      "image/png": "[encoded data removed]",
      "text/plain": [
       "<Figure size 640x480 with 2 Axes>"
      ]
     },
     "metadata": {},
     "output_type": "display_data"
    }
   ],
   "source": [
    "# 3. Compute confusion matrix for year 2\n",
    "conf_matrix = confusion_matrix(y_test, y_pred_year2)\n",
    "print(f'Confusion matrix for year 2:\\n{conf_matrix}')\n",
    "\n",
    "# Plot confusion matrix\n",
    "sns.heatmap(conf_matrix, annot=True, fmt='d', cmap='Purples')\n",
    "plt.title('Confusion Matrix for Year 2')\n",
    "plt.show()"
   ]
  },
  {
   "cell_type": "markdown",
   "id": "IilZ3KQ9JPnC",
   "metadata": {
    "id": "IilZ3KQ9JPnC"
   },
   "source": [
    "##### **Solution - 4**"
   ]
  },
  {
   "cell_type": "code",
   "execution_count": 17,
   "id": "zK75lD7dMfJh",
   "metadata": {
    "colab": {
     "base_uri": "https://localhost:8080/"
    },
    "id": "zK75lD7dMfJh",
    "outputId": "5773ad41-373e-4cf8-e169-9de8def76bf2"
   },
   "outputs": [
    {
     "name": "stdout",
     "output_type": "stream",
     "text": [
      "Optimal k for Minkowski distance: 3, Accuracy: 0.6560\n",
      "Optimal k for Euclidean distance: 3, Accuracy: 0.7520\n"
     ]
    }
   ],
   "source": [
    "# Print the results\n",
    "print(f\"Optimal k for Minkowski distance: {optimal_k_minkowski}, Accuracy: {accuracy_minkowski:.4f}\")\n",
    "print(f\"Optimal k for Euclidean distance: {optimal_k_euclidean}, Accuracy: {max(euclidean_accuracies):.4f}\")\n"
   ]
  },
  {
   "cell_type": "markdown",
   "id": "3TqeK2fPN-Fi",
   "metadata": {
    "id": "3TqeK2fPN-Fi"
   },
   "source": [
    "Both have same K values"
   ]
  },
  {
   "cell_type": "markdown",
   "id": "NsFYpESQJQR-",
   "metadata": {
    "id": "NsFYpESQJQR-"
   },
   "source": [
    "##### **Solution - 5**"
   ]
  },
  {
   "cell_type": "code",
   "execution_count": 18,
   "id": "fFgqhBX0I_5p",
   "metadata": {
    "colab": {
     "base_uri": "https://localhost:8080/"
    },
    "id": "fFgqhBX0I_5p",
    "outputId": "41b61d85-a8ac-42d4-992a-ef80414aa369"
   },
   "outputs": [
    {
     "name": "stdout",
     "output_type": "stream",
     "text": [
      "True Positive Rate (Recall): 0.7561\n",
      "True Negative Rate (Specificity): 0.4651\n"
     ]
    }
   ],
   "source": [
    "# 5. Compute true positive rate (recall) and true negative rate (specificity)\n",
    "tn, fp, fn, tp = conf_matrix.ravel()\n",
    "\n",
    "# Sensitivity (recall) = TP / (TP + FN)\n",
    "true_positive_rate = tp / (tp + fn)\n",
    "# Specificity = TN / (TN + FP)\n",
    "true_negative_rate = tn / (tn + fp)\n",
    "\n",
    "print(f'True Positive Rate (Recall): {true_positive_rate:.4f}')\n",
    "print(f'True Negative Rate (Specificity): {true_negative_rate:.4f}')"
   ]
  },
  {
   "cell_type": "markdown",
   "id": "rZfkymCbYTM3",
   "metadata": {
    "id": "rZfkymCbYTM3"
   },
   "source": [
    "##### **Solution - 6**"
   ]
  },
  {
   "cell_type": "code",
   "execution_count": 19,
   "id": "jlX6vujCXcwR",
   "metadata": {
    "colab": {
     "base_uri": "https://localhost:8080/"
    },
    "id": "jlX6vujCXcwR",
    "outputId": "ae55b407-f3ea-4405-93bd-095bd9ed09b2"
   },
   "outputs": [
    {
     "name": "stdout",
     "output_type": "stream",
     "text": [
      "Final balance with trading strategy: 335.11\n",
      "Final balance with buy-and-hold strategy: 352.41\n"
     ]
    }
   ],
   "source": [
    "# 6. Implement trading strategy based on labels for year 2 and compare with buy-and-hold\n",
    "initial_balance = 100.0\n",
    "final_amount_minkowski = initial_balance\n",
    "balance_buy_hold = initial_balance\n",
    "\n",
    "# Assuming `weekly_returns` contains the returns for year 2\n",
    "for i, label in enumerate(y_pred_year2):\n",
    "    if label == 1:  # Invest when label is 1\n",
    "        final_amount_minkowski *= (1 + weekly_returns[i])\n",
    "\n",
    "# Compare with buy-and-hold strategy\n",
    "investment = 1000  # Starting investment\n",
    "final_amount_buy_and_hold = investment * (test_data['Adj Close'].iloc[-1] / test_data['Adj Close'].iloc[0])\n",
    "\n",
    "print(f'Final balance with trading strategy: {final_amount_minkowski:.2f}')\n",
    "print(f'Final balance with buy-and-hold strategy: {final_amount_buy_and_hold:.2f}')"
   ]
  },
  {
   "cell_type": "markdown",
   "id": "AZ9RtYrMYTTW",
   "metadata": {
    "id": "AZ9RtYrMYTTW"
   },
   "source": [
    "##### **Solution - 7**"
   ]
  },
  {
   "cell_type": "code",
   "execution_count": 20,
   "id": "Xf2hCV9iXjEg",
   "metadata": {
    "colab": {
     "base_uri": "https://localhost:8080/"
    },
    "id": "Xf2hCV9iXjEg",
    "outputId": "518a1b35-3f0d-481c-bfd0-0b597d62cb86"
   },
   "outputs": [
    {
     "name": "stdout",
     "output_type": "stream",
     "text": [
      "Euclidean distance (p=2) is better with accuracy: 0.7610\n",
      "Buy-and-hold strategy outperforms k-NN trading strategy.\n"
     ]
    }
   ],
   "source": [
    "# Compare performance\n",
    "if accuracy_minkowski > accuracy_euclidean:\n",
    "    print(f'Minkowski Distance (p = 1.5) is better with accuracy: {accuracy_minkowski:.4f}')\n",
    "else:\n",
    "    print(f'Euclidean distance (p=2) is better with accuracy: {accuracy_euclidean:.4f}')\n",
    "\n",
    "# Compare trading strategy results\n",
    "if final_amount_minkowski > final_amount_buy_and_hold:\n",
    "    print(f\"Trading strategy based on k-NN labels outperforms buy-and-hold.\")\n",
    "else:\n",
    "    print(f\"Buy-and-hold strategy outperforms k-NN trading strategy.\")\n"
   ]
  },
  {
   "cell_type": "markdown",
   "id": "Y2gD8l1CRWW3",
   "metadata": {
    "id": "Y2gD8l1CRWW3"
   },
   "source": [
    "**💡Conclusion kNN vs Logistic💡-**\n",
    "\n",
    "The trading strategy based on k-NN labels performs better, where based on Logistic Regression buy-and-hold strategy performs better."
   ]
  },
  {
   "cell_type": "markdown",
   "id": "FUkJjHiXM6xv",
   "metadata": {
    "id": "FUkJjHiXM6xv"
   },
   "source": [
    "### **Part - 3 Nearest Centroid**"
   ]
  },
  {
   "cell_type": "markdown",
   "id": "4753fcf0",
   "metadata": {
    "id": "4753fcf0"
   },
   "source": [
    "##### **Solution - 1**"
   ]
  },
  {
   "cell_type": "code",
   "execution_count": 21,
   "id": "pR6zSzcyhbgv",
   "metadata": {
    "colab": {
     "base_uri": "https://localhost:8080/"
    },
    "id": "pR6zSzcyhbgv",
    "outputId": "9a8795f7-ea50-4d30-cbfb-f0ff406028a3"
   },
   "outputs": [
    {
     "name": "stdout",
     "output_type": "stream",
     "text": [
      "Average Distance: {'Green': 2.005334866508486, 'Red': 2.0164047203447306}\n",
      "Median Distance: {'Green': 1.6079483337724119, 'Red': 1.5775774517912329}\n"
     ]
    },
    {
     "name": "stderr",
     "output_type": "stream",
     "text": [
      "C:\\Users\\asusw\\AppData\\Local\\Temp\\ipykernel_20256\\1042207467.py:14: SettingWithCopyWarning: \n",
      "A value is trying to be set on a copy of a slice from a DataFrame.\n",
      "Try using .loc[row_indexer,col_indexer] = value instead\n",
      "\n",
      "See the caveats in the documentation: https://pandas.pydata.org/pandas-docs/stable/user_guide/indexing.html#returning-a-view-versus-a-copy\n",
      "  train_data['Green_distance'] = compute_distances(train_data, centroids['Green'])  # Calculate for all data points\n",
      "C:\\Users\\asusw\\AppData\\Local\\Temp\\ipykernel_20256\\1042207467.py:15: SettingWithCopyWarning: \n",
      "A value is trying to be set on a copy of a slice from a DataFrame.\n",
      "Try using .loc[row_indexer,col_indexer] = value instead\n",
      "\n",
      "See the caveats in the documentation: https://pandas.pydata.org/pandas-docs/stable/user_guide/indexing.html#returning-a-view-versus-a-copy\n",
      "  train_data['Red_distance'] = compute_distances(train_data, centroids['Red'])  # Calculate for all data points\n"
     ]
    }
   ],
   "source": [
    "import numpy as np\n",
    "\n",
    "# Calculate centroids\n",
    "centroids = {\n",
    "    'Green': train_data[train_data['Label'] == 'Green'][['mean_return', 'volatility']].mean().values,\n",
    "    'Red': train_data[train_data['Label'] == 'Red'][['mean_return', 'volatility']].mean().values\n",
    "}\n",
    "\n",
    "# Function to calculate distances\n",
    "def compute_distances(data, centroid):\n",
    "    return np.linalg.norm(data[['mean_return', 'volatility']].values - centroid, axis=1)\n",
    "\n",
    "# Compute distances for the entire dataset\n",
    "train_data['Green_distance'] = compute_distances(train_data, centroids['Green'])  # Calculate for all data points\n",
    "train_data['Red_distance'] = compute_distances(train_data, centroids['Red'])  # Calculate for all data points\n",
    "\n",
    "\n",
    "# Average and median distances\n",
    "average_distance = {\n",
    "    'Green': train_data['Green_distance'].mean(),\n",
    "    'Red': train_data['Red_distance'].mean()\n",
    "}\n",
    "\n",
    "median_distance = {\n",
    "    'Green': train_data['Green_distance'].median(),\n",
    "    'Red': train_data['Red_distance'].median()\n",
    "}\n",
    "\n",
    "print(\"Average Distance:\", average_distance)\n",
    "print(\"Median Distance:\", median_distance)"
   ]
  },
  {
   "cell_type": "markdown",
   "id": "o7vDEaKph-wh",
   "metadata": {
    "id": "o7vDEaKph-wh"
   },
   "source": [
    "##### **Solution - 2**"
   ]
  },
  {
   "cell_type": "code",
   "execution_count": 22,
   "id": "BSQjYSish5-w",
   "metadata": {
    "colab": {
     "base_uri": "https://localhost:8080/"
    },
    "id": "BSQjYSish5-w",
    "outputId": "4c2af606-cddc-42d1-d78c-02cc0a1ad817"
   },
   "outputs": [
    {
     "name": "stdout",
     "output_type": "stream",
     "text": [
      "True Positive Rate: 0.9390243902439024\n",
      "True Negative Rate: 0.5232558139534884\n"
     ]
    },
    {
     "name": "stderr",
     "output_type": "stream",
     "text": [
      "C:\\Users\\asusw\\AppData\\Local\\Temp\\ipykernel_20256\\2240912319.py:8: SettingWithCopyWarning: \n",
      "A value is trying to be set on a copy of a slice from a DataFrame.\n",
      "Try using .loc[row_indexer,col_indexer] = value instead\n",
      "\n",
      "See the caveats in the documentation: https://pandas.pydata.org/pandas-docs/stable/user_guide/indexing.html#returning-a-view-versus-a-copy\n",
      "  test_data.loc[:, 'Predicted_Label'] = test_data.apply(predict_label, axis=1)\n"
     ]
    }
   ],
   "source": [
    "# Predict labels for year 2 based on nearest centroid\n",
    "def predict_label(row):\n",
    "    green_distance = np.linalg.norm(row[['mean_return', 'volatility']] - centroids['Green'])\n",
    "    red_distance = np.linalg.norm(row[['mean_return', 'volatility']] - centroids['Red'])\n",
    "    return 'Green' if green_distance < red_distance else 'Red'\n",
    "\n",
    "# Apply prediction using .loc to avoid SettingWithCopyWarning\n",
    "test_data.loc[:, 'Predicted_Label'] = test_data.apply(predict_label, axis=1)\n",
    "\n",
    "# Calculate true positives and true negatives\n",
    "TP = ((test_data['Predicted_Label'] == 'Green') & (test_data['Label'] == 'Green')).sum()\n",
    "TN = ((test_data['Predicted_Label'] == 'Red') & (test_data['Label'] == 'Red')).sum()\n",
    "FP = ((test_data['Predicted_Label'] == 'Green') & (test_data['Label'] == 'Red')).sum()\n",
    "FN = ((test_data['Predicted_Label'] == 'Red') & (test_data['Label'] == 'Green')).sum()\n",
    "\n",
    "# True Positive Rate (Recall) and True Negative Rate (Specificity)\n",
    "true_positive_rate = TP / (TP + FN) if (TP + FN) > 0 else 0\n",
    "true_negative_rate = TN / (TN + FP) if (TN + FP) > 0 else 0\n",
    "\n",
    "print(\"True Positive Rate:\", true_positive_rate)\n",
    "print(\"True Negative Rate:\", true_negative_rate)\n"
   ]
  },
  {
   "cell_type": "markdown",
   "id": "pnZf9PhCh-26",
   "metadata": {
    "id": "pnZf9PhCh-26"
   },
   "source": [
    "##### **Solution - 3**"
   ]
  },
  {
   "cell_type": "code",
   "execution_count": 23,
   "id": "gm9DBlMqiDYQ",
   "metadata": {
    "colab": {
     "base_uri": "https://localhost:8080/"
    },
    "id": "gm9DBlMqiDYQ",
    "outputId": "b7931ba1-0974-4ee6-ddf5-a3892d97f928"
   },
   "outputs": [
    {
     "name": "stdout",
     "output_type": "stream",
     "text": [
      "Final amount with Trading Strategy: 46935.74213820734\n",
      "Final amount with Buy-and-Hold Strategy: 21552.899999999998\n"
     ]
    }
   ],
   "source": [
    "# Initial investment\n",
    "initial_investment = 10000\n",
    "\n",
    "# Trading strategy based on predicted labels\n",
    "def trading_strategy(data):\n",
    "    investment = initial_investment\n",
    "    for index, row in data.iterrows():\n",
    "        if row['Predicted_Label'] == 'Green':\n",
    "            investment *= (1 + row['Return'] / 100)  # Return is in percentage\n",
    "    return investment\n",
    "\n",
    "# Calculate final amounts\n",
    "final_amount_centroid = trading_strategy(test_data)\n",
    "\n",
    "# Buy-and-hold strategy\n",
    "buy_and_hold_amount = initial_investment * (1 + test_data['Return'].sum() / 100)\n",
    "\n",
    "print(\"Final amount with Trading Strategy:\", final_amount_centroid)\n",
    "print(\"Final amount with Buy-and-Hold Strategy:\", buy_and_hold_amount)\n"
   ]
  },
  {
   "cell_type": "markdown",
   "id": "BG8yYkBsh-7o",
   "metadata": {
    "id": "BG8yYkBsh-7o"
   },
   "source": [
    "##### **Solution - 4**"
   ]
  },
  {
   "cell_type": "code",
   "execution_count": 24,
   "id": "BZ1u0IKXjyXL",
   "metadata": {
    "colab": {
     "base_uri": "https://localhost:8080/"
    },
    "id": "BZ1u0IKXjyXL",
    "outputId": "d5b67e36-daef-4511-af01-4ff9668eab30"
   },
   "outputs": [
    {
     "name": "stdout",
     "output_type": "stream",
     "text": [
      "K-NN Accuracy: 0.752\n",
      "K-NN True Positive Rate: 0.7012195121951219\n",
      "K-NN True Negative Rate: 0.46511627906976744\n"
     ]
    }
   ],
   "source": [
    "from sklearn.metrics import accuracy_score, confusion_matrix\n",
    "\n",
    "# Fit k-NN\n",
    "knn = KNeighborsClassifier(n_neighbors=5)\n",
    "knn.fit(X_train, y_train)\n",
    "\n",
    "# Predictions\n",
    "y_pred_knn = knn.predict(X_test)\n",
    "\n",
    "# Map predicted labels to strings if you used integers for y_test\n",
    "y_pred_knn_str = ['Green' if pred == 1 else 'Red' for pred in y_pred_knn]\n",
    "\n",
    "# Calculate the accuracy and confusion matrix\n",
    "y_test_str = test_data['Label'].map({'Green': 1, 'Red': 0})\n",
    "accuracy_centroid = accuracy_score(y_test_str, y_pred_knn)\n",
    "\n",
    "# Calculate the confusion matrix\n",
    "tn, fp, fn, tp = confusion_matrix(y_test_str, y_pred_knn).ravel()\n",
    "\n",
    "# True Positive Rate (Recall) and True Negative Rate (Specificity)\n",
    "knn_true_positive_rate = tp / (tp + fn) if (tp + fn) > 0 else 0\n",
    "knn_true_negative_rate = tn / (tn + fp) if (tn + fp) > 0 else 0\n",
    "\n",
    "# Print results\n",
    "print(\"K-NN Accuracy:\", accuracy)\n",
    "print(\"K-NN True Positive Rate:\", knn_true_positive_rate)\n",
    "print(\"K-NN True Negative Rate:\", knn_true_negative_rate)\n"
   ]
  },
  {
   "cell_type": "code",
   "execution_count": 25,
   "id": "TPBXATvdQTIC",
   "metadata": {
    "colab": {
     "base_uri": "https://localhost:8080/"
    },
    "id": "TPBXATvdQTIC",
    "outputId": "ef3fd3c7-b577-4867-c618-da32ea50b601"
   },
   "outputs": [
    {
     "data": {
      "text/plain": [
       "0.62"
      ]
     },
     "execution_count": 25,
     "metadata": {},
     "output_type": "execute_result"
    }
   ],
   "source": [
    "accuracy_centroid"
   ]
  },
  {
   "cell_type": "code",
   "execution_count": 26,
   "id": "omyoHRpQwobh",
   "metadata": {
    "colab": {
     "base_uri": "https://localhost:8080/"
    },
    "id": "omyoHRpQwobh",
    "outputId": "5c7ae82c-5c54-4044-8a0b-8b1bcd28aedd"
   },
   "outputs": [
    {
     "name": "stdout",
     "output_type": "stream",
     "text": [
      "Euclidean distance (p=2) is better with accuracy: 0.7610\n",
      "Trading strategy based on k-NN labels outperforms buy-and-hold.\n"
     ]
    }
   ],
   "source": [
    "# Compare performance\n",
    "if accuracy_centroid > accuracy_euclidean:\n",
    "    print(f'Nearest Centroid is better with accuracy: {accuracy_centroid:.4f}')\n",
    "else:\n",
    "    print(f'Euclidean distance (p=2) is better with accuracy: {accuracy_euclidean:.4f}')\n",
    "\n",
    "# Compare trading strategy results\n",
    "if final_amount_centroid > buy_and_hold_amount:\n",
    "    print(f\"Trading strategy based on k-NN labels outperforms buy-and-hold.\")\n",
    "else:\n",
    "    print(f\"Buy-and-hold strategy outperforms k-NN trading strategy.\")\n"
   ]
  },
  {
   "cell_type": "markdown",
   "id": "HP_XhFiAk1Gh",
   "metadata": {
    "id": "HP_XhFiAk1Gh"
   },
   "source": [
    "### **Part - 4 Domain Transformation**\n",
    "\n"
   ]
  },
  {
   "cell_type": "markdown",
   "id": "popOixfHO2jo",
   "metadata": {
    "id": "popOixfHO2jo"
   },
   "source": [
    "##### **Solution - 1**"
   ]
  },
  {
   "cell_type": "code",
   "execution_count": 27,
   "id": "N8_n8B9akw2Z",
   "metadata": {
    "colab": {
     "base_uri": "https://localhost:8080/",
     "height": 504
    },
    "id": "N8_n8B9akw2Z",
    "outputId": "c2c3cdf2-091a-4257-b43b-963ea36b8c0e"
   },
   "outputs": [
    {
     "data": {
      "image/png": "[encoded data removed]",
      "text/plain": [
       "<Figure size 1000x500 with 1 Axes>"
      ]
     },
     "metadata": {},
     "output_type": "display_data"
    },
    {
     "name": "stdout",
     "output_type": "stream",
     "text": [
      "Optimal value of k for year 1: 11\n"
     ]
    }
   ],
   "source": [
    "import numpy as np\n",
    "import matplotlib.pyplot as plt\n",
    "from sklearn.metrics import accuracy_score\n",
    "\n",
    "# Values of k to test\n",
    "k_values = [3, 5, 7, 9, 11]\n",
    "accuracies = []\n",
    "\n",
    "for k in k_values:\n",
    "    knn = KNeighborsClassifier(n_neighbors=k)\n",
    "    knn.fit(X_train, y_train)  # Train on year 1\n",
    "    y_pred = knn.predict(X_test)  # Predict on year 2\n",
    "    accuracy = accuracy_score(y_test, y_pred)  # Calculate accuracy\n",
    "    accuracies.append(accuracy)\n",
    "\n",
    "# Plotting\n",
    "plt.figure(figsize=(10, 5))\n",
    "plt.plot(k_values, accuracies, marker='o')\n",
    "plt.title('Accuracy vs. k for k-NN Classifier')\n",
    "plt.xlabel('Value of k')\n",
    "plt.ylabel('Accuracy')\n",
    "plt.xticks(k_values)\n",
    "plt.grid()\n",
    "plt.show()\n",
    "\n",
    "# Optimal value of k\n",
    "optimal_k_domain = k_values[np.argmax(accuracies)]\n",
    "print(\"Optimal value of k for year 1:\", optimal_k_domain)\n"
   ]
  },
  {
   "cell_type": "markdown",
   "id": "W75W-vMJO5pO",
   "metadata": {
    "id": "W75W-vMJO5pO"
   },
   "source": [
    "##### **Solution - 2**"
   ]
  },
  {
   "cell_type": "code",
   "execution_count": 28,
   "id": "Css8O8I3k3cT",
   "metadata": {
    "colab": {
     "base_uri": "https://localhost:8080/"
    },
    "id": "Css8O8I3k3cT",
    "outputId": "36104006-a8c9-46a0-f517-c30814b98bca"
   },
   "outputs": [
    {
     "name": "stdout",
     "output_type": "stream",
     "text": [
      "Accuracy for Year 2 with k = 11 : 0.736\n"
     ]
    }
   ],
   "source": [
    "# Train with optimal k from year 1\n",
    "knn_optimal = KNeighborsClassifier(n_neighbors=optimal_k_domain, metric='euclidean')\n",
    "knn_optimal.fit(X_train, y_train)\n",
    "\n",
    "# Predict labels for year 2\n",
    "y_pred_test = knn_optimal.predict(X_test)\n",
    "\n",
    "# Compute accuracy for year 2\n",
    "accuracy_domain = accuracy_score(y_test, y_pred_test)\n",
    "print(\"Accuracy for Year 2 with k =\", optimal_k_domain, \":\", accuracy_domain)"
   ]
  },
  {
   "cell_type": "markdown",
   "id": "sE2Gp0SfO8yp",
   "metadata": {
    "id": "sE2Gp0SfO8yp"
   },
   "source": [
    "##### **Solution - 3**"
   ]
  },
  {
   "cell_type": "code",
   "execution_count": 29,
   "id": "aSGgnILwk48r",
   "metadata": {
    "colab": {
     "base_uri": "https://localhost:8080/"
    },
    "id": "aSGgnILwk48r",
    "outputId": "196e1faf-5e2b-48f9-99a4-cbfba1b3e51a"
   },
   "outputs": [
    {
     "name": "stdout",
     "output_type": "stream",
     "text": [
      "Confusion Matrix for Year 2:\n",
      "TN: 40 FP: 46\n",
      "FN: 40 TP: 124\n"
     ]
    }
   ],
   "source": [
    "from sklearn.metrics import confusion_matrix\n",
    "\n",
    "tn, fp, fn, tp = confusion_matrix(y_test, y_pred_year2).ravel()\n",
    "print(\"Confusion Matrix for Year 2:\")\n",
    "print(\"TN:\", tn, \"FP:\", fp)\n",
    "print(\"FN:\", fn, \"TP:\", tp)\n"
   ]
  },
  {
   "cell_type": "markdown",
   "id": "EaZzBNbhPEnV",
   "metadata": {
    "id": "EaZzBNbhPEnV"
   },
   "source": [
    "##### **Solution - 4**"
   ]
  },
  {
   "cell_type": "code",
   "execution_count": 30,
   "id": "upypydPyPMXy",
   "metadata": {
    "colab": {
     "base_uri": "https://localhost:8080/"
    },
    "id": "upypydPyPMXy",
    "outputId": "e8f40f31-4ee1-4f10-cd8f-971c0c019066"
   },
   "outputs": [
    {
     "name": "stdout",
     "output_type": "stream",
     "text": [
      "Optimal k for Domain Transformation: 11, Accuracy: 0.736\n",
      "Optimal k for Euclidean distance: 3, Accuracy: 0.7520\n"
     ]
    }
   ],
   "source": [
    "# Print the results\n",
    "print(f\"Optimal k for Domain Transformation: {optimal_k_domain}, Accuracy: {accuracy_domain}\")\n",
    "print(f\"Optimal k for Euclidean distance: {optimal_k_euclidean}, Accuracy: {max(euclidean_accuracies):.4f}\")\n"
   ]
  },
  {
   "cell_type": "markdown",
   "id": "hM11ellySqSX",
   "metadata": {
    "id": "hM11ellySqSX"
   },
   "source": [
    "##### **Solution - 5**"
   ]
  },
  {
   "cell_type": "code",
   "execution_count": 31,
   "id": "qGCp4RsSk8im",
   "metadata": {
    "colab": {
     "base_uri": "https://localhost:8080/"
    },
    "id": "qGCp4RsSk8im",
    "outputId": "8f14f47e-0e4e-48bb-ded3-cc62c414be4f"
   },
   "outputs": [
    {
     "name": "stdout",
     "output_type": "stream",
     "text": [
      "True Positive Rate for Year 2: 0.7560975609756098\n",
      "True Negative Rate for Year 2: 0.46511627906976744\n"
     ]
    }
   ],
   "source": [
    "true_positive_rate = tp / (tp + fn) if (tp + fn) > 0 else 0\n",
    "true_negative_rate = tn / (tn + fp) if (tn + fp) > 0 else 0\n",
    "\n",
    "print(\"True Positive Rate for Year 2:\", true_positive_rate)\n",
    "print(\"True Negative Rate for Year 2:\", true_negative_rate)\n"
   ]
  },
  {
   "cell_type": "markdown",
   "id": "VeVwgbwoSxnY",
   "metadata": {
    "id": "VeVwgbwoSxnY"
   },
   "source": [
    "##### **Solution - 6**"
   ]
  },
  {
   "cell_type": "code",
   "execution_count": 32,
   "id": "1eMhwDXMk_om",
   "metadata": {
    "colab": {
     "base_uri": "https://localhost:8080/"
    },
    "id": "1eMhwDXMk_om",
    "outputId": "7b3c5889-ae14-49c2-8937-2b614a883ebd"
   },
   "outputs": [
    {
     "name": "stdout",
     "output_type": "stream",
     "text": [
      "Final amount with trading strategy for year 2: 318.5270802777414\n",
      "Final amount with buy-and-hold strategy: 352.41270051314217\n"
     ]
    }
   ],
   "source": [
    "def trading_strategy(predictions, prices):\n",
    "    investment = 1000\n",
    "    cash = investment\n",
    "    shares = 0\n",
    "\n",
    "    for i in range(len(predictions)):\n",
    "        if predictions[i] == 1:  # Green\n",
    "            shares += cash / prices[i]\n",
    "            cash = 0\n",
    "        else:  # Red\n",
    "            cash += shares * prices[i]\n",
    "            shares = 0\n",
    "\n",
    "    final_amount = cash + shares * prices.iloc[-1]  # Final amount\n",
    "    return final_amount\n",
    "\n",
    "# Example prices for year 2 (use the actual 'Adj Close' from your test set)\n",
    "final_amount_domain = trading_strategy(y_pred_year2, test_data['Adj Close'])\n",
    "\n",
    "# Define investment here, before it is used in the calculation\n",
    "investment = 1000\n",
    "final_amount_buy_and_hold = investment * (test_data['Adj Close'].iloc[-1] / test_data['Adj Close'].iloc[0])\n",
    "\n",
    "print(\"Final amount with trading strategy for year 2:\", final_amount_domain)\n",
    "print(\"Final amount with buy-and-hold strategy:\", final_amount_buy_and_hold)"
   ]
  },
  {
   "cell_type": "markdown",
   "id": "t3DbDqoqS0ub",
   "metadata": {
    "id": "t3DbDqoqS0ub"
   },
   "source": [
    "##### **Solution - 7**"
   ]
  },
  {
   "cell_type": "code",
   "execution_count": 33,
   "id": "soVeJw63k6aq",
   "metadata": {
    "colab": {
     "base_uri": "https://localhost:8080/"
    },
    "id": "soVeJw63k6aq",
    "outputId": "92c8df00-7009-453d-c0a4-c2d6c0d85bfb"
   },
   "outputs": [
    {
     "name": "stdout",
     "output_type": "stream",
     "text": [
      "Euclidean distance (p=2) is better with accuracy: 0.7610\n",
      "Buy-and-hold strategy outperforms k-NN trading strategy.\n"
     ]
    }
   ],
   "source": [
    "# Compare performance\n",
    "if accuracy_domain > accuracy_euclidean:\n",
    "    print(f'Domain Transformation is better with accuracy: {accuracy_domain:.4f}')\n",
    "else:\n",
    "    print(f'Euclidean distance (p=2) is better with accuracy: {accuracy_euclidean:.4f}')\n",
    "\n",
    "# Compare trading strategy results\n",
    "if final_amount_domain > final_amount_buy_and_hold:\n",
    "    print(f\"Trading strategy based on k-NN labels outperforms buy-and-hold.\")\n",
    "else:\n",
    "    print(f\"Buy-and-hold strategy outperforms k-NN trading strategy.\")\n"
   ]
  },
  {
   "cell_type": "markdown",
   "id": "XnF0_k5vTHrE",
   "metadata": {
    "id": "XnF0_k5vTHrE"
   },
   "source": [
    "### **Part - 5 k-Predicted Neighbors**\n",
    "\n"
   ]
  },
  {
   "cell_type": "markdown",
   "id": "SgvWVkUATPZ3",
   "metadata": {
    "id": "SgvWVkUATPZ3"
   },
   "source": [
    "##### **Solution - 1**"
   ]
  },
  {
   "cell_type": "code",
   "execution_count": 34,
   "id": "UUNfzWaTTNfc",
   "metadata": {
    "colab": {
     "base_uri": "https://localhost:8080/",
     "height": 504
    },
    "id": "UUNfzWaTTNfc",
    "outputId": "f712aef5-de54-4bdb-de0a-b59dfe1b5268"
   },
   "outputs": [
    {
     "data": {
      "image/png": "[encoded data removed]",
      "text/plain": [
       "<Figure size 1000x500 with 1 Axes>"
      ]
     },
     "metadata": {},
     "output_type": "display_data"
    },
    {
     "name": "stdout",
     "output_type": "stream",
     "text": [
      "Optimal value of k for year 1: 11\n"
     ]
    }
   ],
   "source": [
    "# Define k values\n",
    "k_values = [3, 5, 7, 9, 11]\n",
    "accuracies = []\n",
    "\n",
    "# Train and compute accuracy for each k\n",
    "for k in k_values:\n",
    "    knn = KNeighborsClassifier(n_neighbors=k)\n",
    "    knn.fit(X_train, y_train)  # Train on year 1 data\n",
    "    y_pred = knn.predict(X_test)  # Predict on year 2 data\n",
    "    accuracy = accuracy_score(y_test, y_pred)\n",
    "    accuracies.append(accuracy)\n",
    "\n",
    "# Plotting k vs accuracy\n",
    "plt.figure(figsize=(10, 5))\n",
    "plt.plot(k_values, accuracies, marker='o')\n",
    "plt.title('Accuracy vs. k for k-NN Classifier')\n",
    "plt.xlabel('k')\n",
    "plt.ylabel('Accuracy')\n",
    "plt.grid(True)\n",
    "plt.show()\n",
    "\n",
    "# Optimal k value\n",
    "optimal_k_neighbors = k_values[np.argmax(accuracies)]\n",
    "print(f\"Optimal value of k for year 1: {optimal_k_neighbors}\")\n"
   ]
  },
  {
   "cell_type": "markdown",
   "id": "mjA1yk1EUeM_",
   "metadata": {
    "id": "mjA1yk1EUeM_"
   },
   "source": [
    "##### **Solution - 2**"
   ]
  },
  {
   "cell_type": "code",
   "execution_count": 35,
   "id": "wRMz4QPVUQsE",
   "metadata": {
    "colab": {
     "base_uri": "https://localhost:8080/"
    },
    "id": "wRMz4QPVUQsE",
    "outputId": "73aaabde-80d2-4ad9-d3b4-fd54746c8337"
   },
   "outputs": [
    {
     "name": "stdout",
     "output_type": "stream",
     "text": [
      "Accuracy for year 2 with optimal k: 0.7360\n"
     ]
    }
   ],
   "source": [
    "# Train with the optimal k from year 1\n",
    "knn_optimal = KNeighborsClassifier(n_neighbors=optimal_k_neighbors)\n",
    "knn_optimal.fit(X_train, y_train)  # Train on year 1\n",
    "\n",
    "# Predict labels for year 2\n",
    "y_pred_year2 = knn_optimal.predict(X_test)\n",
    "\n",
    "# Compute accuracy for year 2\n",
    "accuracy_pred_neigh = accuracy_score(y_test, y_pred_year2)\n",
    "print(f\"Accuracy for year 2 with optimal k: {accuracy_pred_neigh:.4f}\")\n"
   ]
  },
  {
   "cell_type": "markdown",
   "id": "XiUQJsshUf2-",
   "metadata": {
    "id": "XiUQJsshUf2-"
   },
   "source": [
    "##### **Solution - 3**"
   ]
  },
  {
   "cell_type": "code",
   "execution_count": 36,
   "id": "uXsAKNsEUUUY",
   "metadata": {
    "colab": {
     "base_uri": "https://localhost:8080/"
    },
    "id": "uXsAKNsEUUUY",
    "outputId": "5a017b46-b381-46bd-cf5b-57079874656c"
   },
   "outputs": [
    {
     "name": "stdout",
     "output_type": "stream",
     "text": [
      "Confusion Matrix for Year 2:\n",
      "TN: 44, FP: 42\n",
      "FN: 24, TP: 140\n"
     ]
    }
   ],
   "source": [
    "from sklearn.metrics import confusion_matrix\n",
    "\n",
    "# Compute confusion matrix\n",
    "tn, fp, fn, tp = confusion_matrix(y_test, y_pred_year2).ravel()\n",
    "\n",
    "print(\"Confusion Matrix for Year 2:\")\n",
    "print(f\"TN: {tn}, FP: {fp}\")\n",
    "print(f\"FN: {fn}, TP: {tp}\")\n"
   ]
  },
  {
   "cell_type": "markdown",
   "id": "9BVRoalrUhaD",
   "metadata": {
    "id": "9BVRoalrUhaD"
   },
   "source": [
    "##### **Solution - 4**"
   ]
  },
  {
   "cell_type": "code",
   "execution_count": 37,
   "id": "rt4cN9kvUnek",
   "metadata": {
    "colab": {
     "base_uri": "https://localhost:8080/"
    },
    "id": "rt4cN9kvUnek",
    "outputId": "2cf2a117-5a78-44c6-9804-a9bbaa559b1f"
   },
   "outputs": [
    {
     "name": "stdout",
     "output_type": "stream",
     "text": [
      "Optimal k for k-Predicted Neighbors: 11, Accuracy: 0.736\n",
      "Optimal k for Euclidean distance: 3, Accuracy: 0.7520\n"
     ]
    }
   ],
   "source": [
    "# Print the results\n",
    "print(f\"Optimal k for k-Predicted Neighbors: {optimal_k_neighbors}, Accuracy: {accuracy_pred_neigh}\")\n",
    "print(f\"Optimal k for Euclidean distance: {optimal_k_euclidean}, Accuracy: {max(euclidean_accuracies):.4f}\")\n"
   ]
  },
  {
   "cell_type": "markdown",
   "id": "-usnZ-cTUhrY",
   "metadata": {
    "id": "-usnZ-cTUhrY"
   },
   "source": [
    "##### **Solution - 5**"
   ]
  },
  {
   "cell_type": "code",
   "execution_count": 38,
   "id": "n_edeDh3U0cD",
   "metadata": {
    "colab": {
     "base_uri": "https://localhost:8080/"
    },
    "id": "n_edeDh3U0cD",
    "outputId": "6fc78da6-54b4-4024-9c2e-113a06922fde"
   },
   "outputs": [
    {
     "name": "stdout",
     "output_type": "stream",
     "text": [
      "True Positive Rate (Recall) for Year 2: 0.8537\n",
      "True Negative Rate (Specificity) for Year 2: 0.5116\n"
     ]
    }
   ],
   "source": [
    "# Calculate true positive rate (sensitivity)\n",
    "true_positive_rate = tp / (tp + fn) if (tp + fn) > 0 else 0\n",
    "\n",
    "# Calculate true negative rate (specificity)\n",
    "true_negative_rate = tn / (tn + fp) if (tn + fp) > 0 else 0\n",
    "\n",
    "print(f\"True Positive Rate (Recall) for Year 2: {true_positive_rate:.4f}\")\n",
    "print(f\"True Negative Rate (Specificity) for Year 2: {true_negative_rate:.4f}\")\n"
   ]
  },
  {
   "cell_type": "markdown",
   "id": "C1VYPShMUh3u",
   "metadata": {
    "id": "C1VYPShMUh3u"
   },
   "source": [
    "##### **Solution - 6**"
   ]
  },
  {
   "cell_type": "code",
   "execution_count": 39,
   "id": "9KqkAgvoVlDX",
   "metadata": {
    "colab": {
     "base_uri": "https://localhost:8080/"
    },
    "id": "9KqkAgvoVlDX",
    "outputId": "5043f0ba-11e9-4e24-f076-bdf102fe8a89"
   },
   "outputs": [
    {
     "name": "stdout",
     "output_type": "stream",
     "text": [
      "Final amount with trading strategy: 223.39\n",
      "Final amount with buy-and-hold strategy: 352.41\n"
     ]
    }
   ],
   "source": [
    "def trading_strategy(predictions, prices):\n",
    "    investment = 1000  # Starting investment amount\n",
    "    cash = investment\n",
    "    shares = 0\n",
    "\n",
    "    for i in range(len(predictions)):\n",
    "        if predictions[i] == 1:  # Buy (Green)\n",
    "            shares += cash / prices[i]\n",
    "            cash = 0\n",
    "        else:  # Sell (Red)\n",
    "            cash += shares * prices[i]\n",
    "            shares = 0\n",
    "\n",
    "    # Final amount after trading\n",
    "    final_amount = cash + shares * prices.iloc[-1]  # Add remaining shares' value\n",
    "    return final_amount\n",
    "\n",
    "# Simulate trading strategy based on predictions for year 2\n",
    "final_amount_neighbors = trading_strategy(y_pred_year2, test_data['Adj Close'])\n",
    "\n",
    "# Compare with buy-and-hold strategy\n",
    "investment = 1000  # Starting investment\n",
    "final_amount_buy_and_hold = investment * (test_data['Adj Close'].iloc[-1] / test_data['Adj Close'].iloc[0])\n",
    "\n",
    "print(f\"Final amount with trading strategy: {final_amount_neighbors:.2f}\")\n",
    "print(f\"Final amount with buy-and-hold strategy: {final_amount_buy_and_hold:.2f}\")\n"
   ]
  },
  {
   "cell_type": "markdown",
   "id": "VKSAP3cUUh_z",
   "metadata": {
    "id": "VKSAP3cUUh_z"
   },
   "source": [
    "##### **Solution - 7**"
   ]
  },
  {
   "cell_type": "code",
   "execution_count": 40,
   "id": "Ga1FdFwdVp42",
   "metadata": {
    "colab": {
     "base_uri": "https://localhost:8080/"
    },
    "id": "Ga1FdFwdVp42",
    "outputId": "1ffed33b-2287-4840-e54b-af2ce194bd43"
   },
   "outputs": [
    {
     "name": "stdout",
     "output_type": "stream",
     "text": [
      "Regular k-NN is better with accuracy: 0.7610\n",
      "Buy-and-hold strategy outperforms k-NN trading strategy.\n"
     ]
    }
   ],
   "source": [
    "# Compare accuracies\n",
    "if accuracy_domain > accuracy_euclidean:\n",
    "    print(f\"Domain transformation k-NN is better with accuracy: {accuracy_domain:.4f}\")\n",
    "else:\n",
    "    print(f\"Regular k-NN is better with accuracy: {accuracy_euclidean:.4f}\")\n",
    "\n",
    "# Compare trading strategy results\n",
    "if final_amount_neighbors > final_amount_buy_and_hold:\n",
    "    print(f\"Trading strategy based on k-NN labels outperforms buy-and-hold.\")\n",
    "else:\n",
    "    print(f\"Buy-and-hold strategy outperforms k-NN trading strategy.\")\n"
   ]
  },
  {
   "cell_type": "markdown",
   "id": "G_vMq2UgW_oJ",
   "metadata": {
    "id": "G_vMq2UgW_oJ"
   },
   "source": [
    "### **Part - 6  k-Hyperplanes**\n",
    "\n"
   ]
  },
  {
   "cell_type": "markdown",
   "id": "yeEzROqDZF07",
   "metadata": {
    "id": "yeEzROqDZF07"
   },
   "source": [
    "##### **Solution - 1*"
   ]
  },
  {
   "cell_type": "code",
   "execution_count": 41,
   "id": "ClcNI5MDXRRf",
   "metadata": {
    "colab": {
     "base_uri": "https://localhost:8080/",
     "height": 504
    },
    "id": "ClcNI5MDXRRf",
    "outputId": "5fd555ea-ad19-431d-a962-38ffeda83ab6"
   },
   "outputs": [
    {
     "data": {
      "image/png": "[encoded data removed]",
      "text/plain": [
       "<Figure size 1000x500 with 1 Axes>"
      ]
     },
     "metadata": {},
     "output_type": "display_data"
    },
    {
     "name": "stdout",
     "output_type": "stream",
     "text": [
      "Optimal value of k for year 1 (Hyperplanes): 11\n"
     ]
    }
   ],
   "source": [
    "# Define k values\n",
    "k_values = [3, 5, 7, 9, 11]\n",
    "accuracies = []\n",
    "\n",
    "# Train and compute accuracy for each k\n",
    "for k in k_values:\n",
    "    knn = KNeighborsClassifier(n_neighbors=k)\n",
    "    knn.fit(X_train, y_train)  # Train on year 1 data\n",
    "    y_pred = knn.predict(X_test)  # Predict on year 2 data\n",
    "    accuracy = accuracy_score(y_test, y_pred)\n",
    "    accuracies.append(accuracy)\n",
    "\n",
    "# Plotting k vs accuracy\n",
    "plt.figure(figsize=(10, 5))\n",
    "plt.plot(k_values, accuracies, marker='o')\n",
    "plt.title('Accuracy vs. k for k-NN Classifier (Hyperplanes)')\n",
    "plt.xlabel('k')\n",
    "plt.ylabel('Accuracy')\n",
    "plt.xticks(k_values)\n",
    "plt.grid(True)\n",
    "plt.show()\n",
    "\n",
    "# Optimal k value\n",
    "optimal_k_hyperplanes = k_values[np.argmax(accuracies)]\n",
    "print(f\"Optimal value of k for year 1 (Hyperplanes): {optimal_k_hyperplanes}\")\n"
   ]
  },
  {
   "cell_type": "markdown",
   "id": "_Jj0-JdfZIa7",
   "metadata": {
    "id": "_Jj0-JdfZIa7"
   },
   "source": [
    "##### **Solution - 2**"
   ]
  },
  {
   "cell_type": "code",
   "execution_count": 42,
   "id": "TH_7TOSfXuZE",
   "metadata": {
    "colab": {
     "base_uri": "https://localhost:8080/"
    },
    "id": "TH_7TOSfXuZE",
    "outputId": "9183f704-454d-4040-87c3-d8c111a38737"
   },
   "outputs": [
    {
     "name": "stdout",
     "output_type": "stream",
     "text": [
      "Accuracy for year 2 with optimal k (Hyperplanes): 0.7360\n",
      "True Positive Rate (Recall) for Year 2 (Hyperplanes): 0.8537\n",
      "True Negative Rate (Specificity) for Year 2 (Hyperplanes): 0.5116\n"
     ]
    }
   ],
   "source": [
    "from sklearn.metrics import confusion_matrix\n",
    "\n",
    "# Train with the optimal k from year 1\n",
    "knn_optimal_hyperplanes = KNeighborsClassifier(n_neighbors=optimal_k_hyperplanes)\n",
    "knn_optimal_hyperplanes.fit(X_train, y_train)  # Train on year 1\n",
    "\n",
    "# Predict labels for year 2\n",
    "y_pred_year2_hyperplanes = knn_optimal_hyperplanes.predict(X_test)\n",
    "\n",
    "# accuracy\n",
    "accuracy_hyperplanes = accuracy_score(y_test, y_pred_year2_hyperplanes)\n",
    "print(f\"Accuracy for year 2 with optimal k (Hyperplanes): {accuracy_hyperplanes:.4f}\")\n",
    "\n",
    "# Compute confusion matrix for year 2\n",
    "tn, fp, fn, tp = confusion_matrix(y_test, y_pred_year2_hyperplanes).ravel()\n",
    "\n",
    "# Calculate true positive rate (sensitivity)\n",
    "true_positive_rate_hyperplanes = tp / (tp + fn) if (tp + fn) > 0 else 0\n",
    "\n",
    "# Calculate true negative rate (specificity)\n",
    "true_negative_rate_hyperplanes = tn / (tn + fp) if (tn + fp) > 0 else 0\n",
    "\n",
    "print(f\"True Positive Rate (Recall) for Year 2 (Hyperplanes): {true_positive_rate_hyperplanes:.4f}\")\n",
    "print(f\"True Negative Rate (Specificity) for Year 2 (Hyperplanes): {true_negative_rate_hyperplanes:.4f}\")\n"
   ]
  },
  {
   "cell_type": "markdown",
   "id": "cont1ZC7ZKX9",
   "metadata": {
    "id": "cont1ZC7ZKX9"
   },
   "source": [
    "##### **Solution - 3**"
   ]
  },
  {
   "cell_type": "code",
   "execution_count": 43,
   "id": "pKEOA1kwXxia",
   "metadata": {
    "colab": {
     "base_uri": "https://localhost:8080/"
    },
    "id": "pKEOA1kwXxia",
    "outputId": "2035135e-a4a5-40a2-e617-83f1bd0fc6e7"
   },
   "outputs": [
    {
     "name": "stdout",
     "output_type": "stream",
     "text": [
      "Final amount with trading strategy (Hyperplanes): 223.39\n",
      "Final amount with buy-and-hold strategy (Hyperplanes): 352.41\n"
     ]
    }
   ],
   "source": [
    "def trading_strategy(predictions, prices):\n",
    "    investment = 1000  # Starting investment amount\n",
    "    cash = investment\n",
    "    shares = 0\n",
    "\n",
    "    for i in range(len(predictions)):\n",
    "        if predictions[i] == 1:  # Buy (Green)\n",
    "            shares += cash / prices[i]\n",
    "            cash = 0\n",
    "        else:  # Sell (Red)\n",
    "            cash += shares * prices[i]\n",
    "            shares = 0\n",
    "\n",
    "    # Final amount after trading\n",
    "    final_amount = cash + shares * prices.iloc[-1]  # Add remaining shares' value\n",
    "    return final_amount\n",
    "\n",
    "# Simulate trading strategy based on predictions for year 2\n",
    "final_amount_hyperplanes = trading_strategy(y_pred_year2_hyperplanes, test_data['Adj Close'])\n",
    "\n",
    "# Compare with buy-and-hold strategy\n",
    "investment = 1000  # Starting investment\n",
    "final_amount_buy_and_hold = investment * (test_data['Adj Close'].iloc[-1] / test_data['Adj Close'].iloc[0])\n",
    "\n",
    "print(f\"Final amount with trading strategy (Hyperplanes): {final_amount_hyperplanes:.2f}\")\n",
    "print(f\"Final amount with buy-and-hold strategy (Hyperplanes): {final_amount_buy_and_hold:.2f}\")\n"
   ]
  },
  {
   "cell_type": "markdown",
   "id": "1Yso77T1ZML0",
   "metadata": {
    "id": "1Yso77T1ZML0"
   },
   "source": [
    "##### **Solution - 4**"
   ]
  },
  {
   "cell_type": "code",
   "execution_count": 44,
   "id": "qHIxZ2Z4X5w0",
   "metadata": {
    "colab": {
     "base_uri": "https://localhost:8080/"
    },
    "id": "qHIxZ2Z4X5w0",
    "outputId": "24765d96-fd58-4563-d7b0-f4c3a5a8d00e"
   },
   "outputs": [
    {
     "name": "stdout",
     "output_type": "stream",
     "text": [
      "Regular k-NN is better with accuracy: 0.7610\n",
      "Buy-and-hold strategy outperforms k-Hyperplanes trading strategy.\n"
     ]
    }
   ],
   "source": [
    "# Compare accuracies\n",
    "if accuracy_hyperplanes > accuracy_euclidean:\n",
    "    print(f\"Domain transformation k-NN is better with accuracy: {accuracy_hyperplanes:.4f}\")\n",
    "else:\n",
    "    print(f\"Regular k-NN is better with accuracy: {accuracy_euclidean:.4f}\")\n",
    "\n",
    "# Compare trading strategy results\n",
    "if final_amount_hyperplanes > final_amount_buy_and_hold:\n",
    "    print(\"Trading strategy based on k-Hyperplanes labels outperforms buy-and-hold.\")\n",
    "else:\n",
    "    print(\"Buy-and-hold strategy outperforms k-Hyperplanes trading strategy.\")\n"
   ]
  },
  {
   "cell_type": "markdown",
   "id": "QvGTCtCha2zQ",
   "metadata": {
    "id": "QvGTCtCha2zQ"
   },
   "source": [
    "### **Part - 7 Table**\n",
    "\n"
   ]
  },
  {
   "cell_type": "code",
   "execution_count": 48,
   "id": "vBzdHp52ZsBe",
   "metadata": {
    "colab": {
     "base_uri": "https://localhost:8080/",
     "height": 521
    },
    "id": "vBzdHp52ZsBe",
    "outputId": "056213bc-8d45-431c-ae8c-2074f48056a6"
   },
   "outputs": [
    {
     "data": {
      "text/html": [
       "<style type=\"text/css\">\n",
       "#T_2c695_row1_col2, #T_2c695_row4_col3 {\n",
       "  background-color: green;\n",
       "}\n",
       "#T_2c695_row3_col2, #T_2c695_row6_col3, #T_2c695_row7_col3 {\n",
       "  background-color: red;\n",
       "}\n",
       "</style>\n",
       "<table id=\"T_2c695\">\n",
       "  <thead>\n",
       "    <tr>\n",
       "      <th class=\"blank level0\" >&nbsp;</th>\n",
       "      <th id=\"T_2c695_level0_col0\" class=\"col_heading level0 col0\" >Method</th>\n",
       "      <th id=\"T_2c695_level0_col1\" class=\"col_heading level0 col1\" >Best k</th>\n",
       "      <th id=\"T_2c695_level0_col2\" class=\"col_heading level0 col2\" >% Accuracy</th>\n",
       "      <th id=\"T_2c695_level0_col3\" class=\"col_heading level0 col3\" >Amount</th>\n",
       "    </tr>\n",
       "  </thead>\n",
       "  <tbody>\n",
       "    <tr>\n",
       "      <th id=\"T_2c695_level0_row0\" class=\"row_heading level0 row0\" >0</th>\n",
       "      <td id=\"T_2c695_row0_col0\" class=\"data row0 col0\" >Buy-and-Hold</td>\n",
       "      <td id=\"T_2c695_row0_col1\" class=\"data row0 col1\" >N/A</td>\n",
       "      <td id=\"T_2c695_row0_col2\" class=\"data row0 col2\" >nan</td>\n",
       "      <td id=\"T_2c695_row0_col3\" class=\"data row0 col3\" >352</td>\n",
       "    </tr>\n",
       "    <tr>\n",
       "      <th id=\"T_2c695_level0_row1\" class=\"row_heading level0 row1\" >1</th>\n",
       "      <td id=\"T_2c695_row1_col0\" class=\"data row1 col0\" >k-NN (Euclidean, p=2)</td>\n",
       "      <td id=\"T_2c695_row1_col1\" class=\"data row1 col1\" >3</td>\n",
       "      <td id=\"T_2c695_row1_col2\" class=\"data row1 col2\" >76.000000</td>\n",
       "      <td id=\"T_2c695_row1_col3\" class=\"data row1 col3\" >240</td>\n",
       "    </tr>\n",
       "    <tr>\n",
       "      <th id=\"T_2c695_level0_row2\" class=\"row_heading level0 row2\" >2</th>\n",
       "      <td id=\"T_2c695_row2_col0\" class=\"data row2 col0\" >k-NN (Manhattan, p=1)</td>\n",
       "      <td id=\"T_2c695_row2_col1\" class=\"data row2 col1\" >11</td>\n",
       "      <td id=\"T_2c695_row2_col2\" class=\"data row2 col2\" >75.000000</td>\n",
       "      <td id=\"T_2c695_row2_col3\" class=\"data row2 col3\" >488</td>\n",
       "    </tr>\n",
       "    <tr>\n",
       "      <th id=\"T_2c695_level0_row3\" class=\"row_heading level0 row3\" >3</th>\n",
       "      <td id=\"T_2c695_row3_col0\" class=\"data row3 col0\" >k-NN (Minkowski, p=1.5)</td>\n",
       "      <td id=\"T_2c695_row3_col1\" class=\"data row3 col1\" >3</td>\n",
       "      <td id=\"T_2c695_row3_col2\" class=\"data row3 col2\" >66.000000</td>\n",
       "      <td id=\"T_2c695_row3_col3\" class=\"data row3 col3\" >335</td>\n",
       "    </tr>\n",
       "    <tr>\n",
       "      <th id=\"T_2c695_level0_row4\" class=\"row_heading level0 row4\" >4</th>\n",
       "      <td id=\"T_2c695_row4_col0\" class=\"data row4 col0\" >Nearest Centroid</td>\n",
       "      <td id=\"T_2c695_row4_col1\" class=\"data row4 col1\" >N/A</td>\n",
       "      <td id=\"T_2c695_row4_col2\" class=\"data row4 col2\" >nan</td>\n",
       "      <td id=\"T_2c695_row4_col3\" class=\"data row4 col3\" >46936</td>\n",
       "    </tr>\n",
       "    <tr>\n",
       "      <th id=\"T_2c695_level0_row5\" class=\"row_heading level0 row5\" >5</th>\n",
       "      <td id=\"T_2c695_row5_col0\" class=\"data row5 col0\" >Domain Transformation</td>\n",
       "      <td id=\"T_2c695_row5_col1\" class=\"data row5 col1\" >11</td>\n",
       "      <td id=\"T_2c695_row5_col2\" class=\"data row5 col2\" >74.000000</td>\n",
       "      <td id=\"T_2c695_row5_col3\" class=\"data row5 col3\" >319</td>\n",
       "    </tr>\n",
       "    <tr>\n",
       "      <th id=\"T_2c695_level0_row6\" class=\"row_heading level0 row6\" >6</th>\n",
       "      <td id=\"T_2c695_row6_col0\" class=\"data row6 col0\" >k-Predicted Neighbors</td>\n",
       "      <td id=\"T_2c695_row6_col1\" class=\"data row6 col1\" >11</td>\n",
       "      <td id=\"T_2c695_row6_col2\" class=\"data row6 col2\" >74.000000</td>\n",
       "      <td id=\"T_2c695_row6_col3\" class=\"data row6 col3\" >223</td>\n",
       "    </tr>\n",
       "    <tr>\n",
       "      <th id=\"T_2c695_level0_row7\" class=\"row_heading level0 row7\" >7</th>\n",
       "      <td id=\"T_2c695_row7_col0\" class=\"data row7 col0\" >k-Hyperplanes</td>\n",
       "      <td id=\"T_2c695_row7_col1\" class=\"data row7 col1\" >11</td>\n",
       "      <td id=\"T_2c695_row7_col2\" class=\"data row7 col2\" >74.000000</td>\n",
       "      <td id=\"T_2c695_row7_col3\" class=\"data row7 col3\" >223</td>\n",
       "    </tr>\n",
       "  </tbody>\n",
       "</table>\n"
      ],
      "text/plain": [
       "<pandas.io.formats.style.Styler at 0x2503983a1d0>"
      ]
     },
     "execution_count": 48,
     "metadata": {},
     "output_type": "execute_result"
    }
   ],
   "source": [
    "import pandas as pd\n",
    "import matplotlib.pyplot as plt\n",
    "results = {\n",
    "    \"Method\": [\n",
    "        \"Buy-and-Hold\",\n",
    "        \"k-NN (Euclidean, p=2)\",\n",
    "        \"k-NN (Manhattan, p=1)\",\n",
    "        \"k-NN (Minkowski, p=1.5)\",\n",
    "        \"Nearest Centroid\",\n",
    "        \"Domain Transformation\",\n",
    "        \"k-Predicted Neighbors\",\n",
    "        \"k-Hyperplanes\"\n",
    "    ],\n",
    "    \"Best k\": [\n",
    "        \"N/A\",\n",
    "        optimal_k_euclidean,\n",
    "        optimal_k_manhattan,\n",
    "        optimal_k_minkowski,\n",
    "        \"N/A\",\n",
    "        optimal_k_domain,\n",
    "        optimal_k_neighbors,\n",
    "        optimal_k_hyperplanes\n",
    "    ],\n",
    "    \"% Accuracy\": [\n",
    "        None,\n",
    "        round(accuracy_euclidean * 100),\n",
    "        round(accuracy_manhattan * 100),\n",
    "        round(accuracy_minkowski * 100),\n",
    "        None,\n",
    "        round(accuracy_domain * 100),\n",
    "        round(accuracy_pred_neigh * 100),\n",
    "        round(accuracy_hyperplanes * 100)\n",
    "    ],\n",
    "    \"Amount\": [\n",
    "        round(final_amount_buy_and_hold),\n",
    "        round(final_amount_euclidean),\n",
    "        round(final_amount_manhattan),\n",
    "        round(final_amount_minkowski),\n",
    "        round(final_amount_centroid),\n",
    "        round(final_amount_domain),\n",
    "        round(final_amount_neighbors),\n",
    "        round(final_amount_hyperplanes)\n",
    "    ]\n",
    "}\n",
    "\n",
    "# Create a DataFrame\n",
    "df_results = pd.DataFrame(results)\n",
    "\n",
    "# Function to highlight extremes\n",
    "def highlight_extremes(s):\n",
    "    color = []\n",
    "    for val in s:\n",
    "        if pd.isna(val):\n",
    "            color.append('')\n",
    "        elif val == s.max():\n",
    "            color.append('background-color: green')\n",
    "        elif val == s.min():\n",
    "            color.append('background-color: red')\n",
    "        else:\n",
    "            color.append('')\n",
    "    return color\n",
    "\n",
    "# Apply the highlight function to Accuracy and Amount columns\n",
    "styled_df = df_results.style.apply(highlight_extremes, subset=['% Accuracy', 'Amount'])\n",
    "\n",
    "# Display the styled DataFrame directly\n",
    "styled_df"
   ]
  }
 ],
 "metadata": {
  "colab": {
   "provenance": [],
   "toc_visible": true
  },
  "kernelspec": {
   "display_name": "Python 3 (ipykernel)",
   "language": "python",
   "name": "python3"
  },
  "language_info": {
   "codemirror_mode": {
    "name": "ipython",
    "version": 3
   },
   "file_extension": ".py",
   "mimetype": "text/x-python",
   "name": "python",
   "nbconvert_exporter": "python",
   "pygments_lexer": "ipython3",
   "version": "3.11.5"
  }
 },
 "nbformat": 4,
 "nbformat_minor": 5
}
