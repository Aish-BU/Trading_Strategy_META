{
 "cells": [
  {
   "attachments": {
    "49cb3ed9-80c8-4e92-b0d9-4d153a587bbb.png": {
     "image/png": "[encoded data removed]"
    }
   },
   "cell_type": "markdown",
   "id": "e2bd6d7c-7788-4688-8b57-81bf53992656",
   "metadata": {},
   "source": [
    "![image.png](attachment:49cb3ed9-80c8-4e92-b0d9-4d153a587bbb.png) \n",
    "<div style=\"text-align: center\"> <h1>Assignment - 1</div>\n"
   ]
  },
  {
   "cell_type": "markdown",
   "id": "45b2b05f-e184-4cf8-9228-0a82b9af911f",
   "metadata": {},
   "source": [
    "<div style=\"text-align: center\"> <h3>CS677 A3 Data Science With Python (Fall 2024)</div>\n"
   ]
  },
  {
   "cell_type": "markdown",
   "id": "397014ec-8a7d-4567-86de-c5dab2853bbf",
   "metadata": {},
   "source": [
    "<div style=\"text-align: center\"> <h4>Submitted by: Aishwarya Malhotra (U17161095)</div>\n"
   ]
  },
  {
   "cell_type": "markdown",
   "id": "229e6d13-400a-4c3e-b9d2-effac1da9639",
   "metadata": {},
   "source": [
    "### Part - 1: Preliminary Assignment"
   ]
  },
  {
   "cell_type": "markdown",
   "id": "f255aeee",
   "metadata": {},
   "source": [
    "#### Preliminary Task - 1: Ticker - \"META\" Meta Platforms, Inc."
   ]
  },
  {
   "cell_type": "markdown",
   "id": "051e2ae0",
   "metadata": {},
   "source": [
    "#### Preliminary Task - 2: Download Historical data (Jan 1, 2019 to Dec 31, 2023)  "
   ]
  },
  {
   "cell_type": "code",
   "execution_count": null,
   "id": "ed20d59b",
   "metadata": {},
   "outputs": [],
   "source": [
    "def get_stock(ticker, start_date, end_date, s_window, l_window):\n",
    "    try:\n",
    "        #yf.pdr_override()  # Uncomment if necessary\n",
    "        df = yf.download(ticker, start=start_date, end=end_date)\n",
    "        #df = web.get_data_yahoo(ticker, start=start_date, end=end_date)\n",
    "        df['Return'] = df['Adj Close'].pct_change()\n",
    "        df['Return'].fillna(0, inplace=True)\n",
    "        df['Date'] = df.index\n",
    "        df['Date'] = pd.to_datetime(df['Date'])\n",
    "        df['Month'] = df['Date'].dt.month\n",
    "        df['Year'] = df['Date'].dt.year\n",
    "        df['Day'] = df['Date'].dt.day\n",
    "        for col in ['Open', 'High', 'Low', 'Close', 'Adj Close']:\n",
    "            df[col] = df[col].round(2)\n",
    "        df['Weekday'] = df['Date'].dt.day_name()\n",
    "        df['Week_Number'] = df['Date'].dt.strftime('%U')\n",
    "        df['Year_Week'] = df['Date'].dt.strftime('%Y-%U')\n",
    "        df['Short_MA'] = df['Adj Close'].rolling(window=s_window, min_periods=1).mean()\n",
    "        df['Long_MA'] = df['Adj Close'].rolling(window=l_window, min_periods=1).mean()        \n",
    "        col_list = ['Date', 'Year', 'Month', 'Day', 'Weekday', \n",
    "                    'Week_Number', 'Year_Week', 'Open', \n",
    "                    'High', 'Low', 'Close', 'Volume', 'Adj Close',\n",
    "                    'Return', 'Short_MA', 'Long_MA']\n",
    "        num_lines = len(df)\n",
    "        df = df[col_list]\n",
    "        print('Read', num_lines, 'lines of data for ticker:', ticker)\n",
    "        return df\n",
    "    except Exception as error:\n",
    "        print(error)\n",
    "        return None\n",
    "\n",
    "try:\n",
    "    ticker = \"META\"\n",
    "    start_date = '2019-01-01'\n",
    "    end_date = '2023-12-31'\n",
    "    input_dir = os.getcwd()\n",
    "    output_file = os.path.join(input_dir, f'{ticker}.csv')\n",
    "    df = get_stock(ticker, start_date, end_date, s_window=14, l_window=50)\n",
    "    if df is not None:\n",
    "        df.to_csv(output_file, index=False)\n",
    "        print(f'Wrote {len(df)} lines to file: {output_file}')\n",
    "except Exception as e:\n",
    "    print(e)\n",
    "    print('Failed to get Yahoo stock data for ticker:', ticker)\n"
   ]
  },
  {
   "cell_type": "code",
   "execution_count": 2,
   "id": "a373676c-bbd0-4c2a-ad40-db3f5d436382",
   "metadata": {},
   "outputs": [
    {
     "name": "stdout",
     "output_type": "stream",
     "text": [
      "Requirement already satisfied: pandas_datareader in c:\\users\\asusw\\anaconda3\\envs\\langchain_env\\lib\\site-packages (0.10.0)\n",
      "Requirement already satisfied: lxml in c:\\users\\asusw\\anaconda3\\envs\\langchain_env\\lib\\site-packages (from pandas_datareader) (5.3.0)\n",
      "Requirement already satisfied: pandas>=0.23 in c:\\users\\asusw\\anaconda3\\envs\\langchain_env\\lib\\site-packages (from pandas_datareader) (2.2.3)\n",
      "Requirement already satisfied: requests>=2.19.0 in c:\\users\\asusw\\anaconda3\\envs\\langchain_env\\lib\\site-packages (from pandas_datareader) (2.32.3)\n",
      "Requirement already satisfied: numpy>=1.22.4 in c:\\users\\asusw\\anaconda3\\envs\\langchain_env\\lib\\site-packages (from pandas>=0.23->pandas_datareader) (1.26.4)\n",
      "Requirement already satisfied: python-dateutil>=2.8.2 in c:\\users\\asusw\\anaconda3\\envs\\langchain_env\\lib\\site-packages (from pandas>=0.23->pandas_datareader) (2.9.0.post0)\n",
      "Requirement already satisfied: pytz>=2020.1 in c:\\users\\asusw\\anaconda3\\envs\\langchain_env\\lib\\site-packages (from pandas>=0.23->pandas_datareader) (2024.2)\n",
      "Requirement already satisfied: tzdata>=2022.7 in c:\\users\\asusw\\anaconda3\\envs\\langchain_env\\lib\\site-packages (from pandas>=0.23->pandas_datareader) (2024.2)\n",
      "Requirement already satisfied: charset-normalizer<4,>=2 in c:\\users\\asusw\\anaconda3\\envs\\langchain_env\\lib\\site-packages (from requests>=2.19.0->pandas_datareader) (3.4.0)\n",
      "Requirement already satisfied: idna<4,>=2.5 in c:\\users\\asusw\\anaconda3\\envs\\langchain_env\\lib\\site-packages (from requests>=2.19.0->pandas_datareader) (3.10)\n",
      "Requirement already satisfied: urllib3<3,>=1.21.1 in c:\\users\\asusw\\anaconda3\\envs\\langchain_env\\lib\\site-packages (from requests>=2.19.0->pandas_datareader) (2.2.3)\n",
      "Requirement already satisfied: certifi>=2017.4.17 in c:\\users\\asusw\\anaconda3\\envs\\langchain_env\\lib\\site-packages (from requests>=2.19.0->pandas_datareader) (2024.8.30)\n",
      "Requirement already satisfied: six>=1.5 in c:\\users\\asusw\\anaconda3\\envs\\langchain_env\\lib\\site-packages (from python-dateutil>=2.8.2->pandas>=0.23->pandas_datareader) (1.16.0)\n",
      "Requirement already satisfied: yfinance in c:\\users\\asusw\\anaconda3\\envs\\langchain_env\\lib\\site-packages (0.1.62)\n",
      "Requirement already satisfied: pandas>=0.24 in c:\\users\\asusw\\anaconda3\\envs\\langchain_env\\lib\\site-packages (from yfinance) (2.2.3)\n",
      "Requirement already satisfied: numpy>=1.15 in c:\\users\\asusw\\anaconda3\\envs\\langchain_env\\lib\\site-packages (from yfinance) (1.26.4)\n",
      "Requirement already satisfied: requests>=2.20 in c:\\users\\asusw\\anaconda3\\envs\\langchain_env\\lib\\site-packages (from yfinance) (2.32.3)\n",
      "Requirement already satisfied: multitasking>=0.0.7 in c:\\users\\asusw\\anaconda3\\envs\\langchain_env\\lib\\site-packages (from yfinance) (0.0.11)\n",
      "Requirement already satisfied: lxml>=4.5.1 in c:\\users\\asusw\\anaconda3\\envs\\langchain_env\\lib\\site-packages (from yfinance) (5.3.0)\n",
      "Requirement already satisfied: python-dateutil>=2.8.2 in c:\\users\\asusw\\anaconda3\\envs\\langchain_env\\lib\\site-packages (from pandas>=0.24->yfinance) (2.9.0.post0)\n",
      "Requirement already satisfied: pytz>=2020.1 in c:\\users\\asusw\\anaconda3\\envs\\langchain_env\\lib\\site-packages (from pandas>=0.24->yfinance) (2024.2)\n",
      "Requirement already satisfied: tzdata>=2022.7 in c:\\users\\asusw\\anaconda3\\envs\\langchain_env\\lib\\site-packages (from pandas>=0.24->yfinance) (2024.2)\n",
      "Requirement already satisfied: charset-normalizer<4,>=2 in c:\\users\\asusw\\anaconda3\\envs\\langchain_env\\lib\\site-packages (from requests>=2.20->yfinance) (3.4.0)\n",
      "Requirement already satisfied: idna<4,>=2.5 in c:\\users\\asusw\\anaconda3\\envs\\langchain_env\\lib\\site-packages (from requests>=2.20->yfinance) (3.10)\n",
      "Requirement already satisfied: urllib3<3,>=1.21.1 in c:\\users\\asusw\\anaconda3\\envs\\langchain_env\\lib\\site-packages (from requests>=2.20->yfinance) (2.2.3)\n",
      "Requirement already satisfied: certifi>=2017.4.17 in c:\\users\\asusw\\anaconda3\\envs\\langchain_env\\lib\\site-packages (from requests>=2.20->yfinance) (2024.8.30)\n",
      "Requirement already satisfied: six>=1.5 in c:\\users\\asusw\\anaconda3\\envs\\langchain_env\\lib\\site-packages (from python-dateutil>=2.8.2->pandas>=0.24->yfinance) (1.16.0)\n"
     ]
    }
   ],
   "source": [
    "!pip install pandas_datareader\n",
    "from pandas_datareader import data as web\n",
    "import os\n",
    "import pandas as pd\n",
    "!pip install yfinance\n",
    "import yfinance as yf"
   ]
  },
  {
   "cell_type": "markdown",
   "id": "2b19f0c9",
   "metadata": {},
   "source": [
    "#### Preliminary Task - 3: Download CSV"
   ]
  },
  {
   "cell_type": "code",
   "execution_count": null,
   "id": "bb7835cc",
   "metadata": {},
   "outputs": [],
   "source": [
    "import os\n",
    "\n",
    "ticker='META'\n",
    "input_dir = r'C:\\Users\\asusw\\Desktop\\BU MET\\BU SEM 3\\DSwP\\Assignments DSwP'\n",
    "ticker_file = os.path.join(input_dir, ticker + '.csv')\n",
    "\n",
    "try:   \n",
    "    with open(ticker_file) as f:\n",
    "        lines = f.read().splitlines()\n",
    "    print('opened file for ticker: ', ticker)\n",
    "    \"\"\"    your code for assignment 1 goes here\n",
    "    \"\"\"\n",
    "    \n",
    "except Exception as e:\n",
    "    print(e)\n",
    "    print('failed to read stock data for ticker: ', ticker)\n",
    "### Part - 1: Preliminary Assignment"
   ]
  },
  {
   "cell_type": "markdown",
   "id": "7f9f4342",
   "metadata": {},
   "source": [
    "### Part - 2: Diamonds Dataset"
   ]
  },
  {
   "cell_type": "markdown",
   "id": "6b2b335a-a5e9-45d6-ad4e-d9254d34277e",
   "metadata": {},
   "source": [
    "**💡DATASET - GROUP 3💡-**\n",
    "\n",
    "I will be analyzing the diamonds with cut \"Very Good\" for this assignment"
   ]
  },
  {
   "cell_type": "markdown",
   "id": "04c07f98-f3c9-4034-b63d-a7f19c87d23e",
   "metadata": {},
   "source": [
    "##### Solution - 1"
   ]
  },
  {
   "cell_type": "code",
   "execution_count": 47,
   "id": "f39cf94a",
   "metadata": {},
   "outputs": [
    {
     "name": "stdout",
     "output_type": "stream",
     "text": [
      "Total number of diamonds with 'Very Good' cut:12082\n",
      "['6', '0.24', 'Very Good', 'J', 'VVS2', '62.8', '57', '336', '3.94', '3.96', '2.48']\n",
      "['7', '0.24', 'Very Good', 'I', 'VVS1', '62.3', '57', '336', '3.95', '3.98', '2.47']\n",
      "['8', '0.26', 'Very Good', 'H', 'SI1', '61.9', '55', '337', '4.07', '4.11', '2.53']\n",
      "['10', '0.23', 'Very Good', 'H', 'VS1', '59.4', '61', '338', '4', '4.05', '2.39']\n",
      "['20', '0.3', 'Very Good', 'J', 'SI1', '62.7', '59', '351', '4.21', '4.27', '2.66']\n"
     ]
    }
   ],
   "source": [
    "#Load CSV\n",
    "file_path = \"diamonds.csv\"\n",
    "with open(file_path, \"r\") as file:\n",
    "    data = file.readlines()\n",
    "\n",
    "#Filter\n",
    "my_group = [line.strip().split(\",\") for line in data[1:] if \"Very Good\" in line]\n",
    "\n",
    "#Print\n",
    "print(f\"Total number of diamonds with 'Very Good' cut:{len(my_group)}\")\n",
    "for diamond in my_group[:5]:\n",
    "    print(diamond) "
   ]
  },
  {
   "cell_type": "markdown",
   "id": "1f7d7ddd",
   "metadata": {},
   "source": [
    "**💡Interpretation of Results💡-**\n",
    "\n",
    "This dataset consists of `12082` entries."
   ]
  },
  {
   "cell_type": "code",
   "execution_count": 48,
   "id": "68e2ce8b",
   "metadata": {},
   "outputs": [
    {
     "name": "stdout",
     "output_type": "stream",
     "text": [
      "Average weight for Very Good cut diamonds: 0.81\n"
     ]
    }
   ],
   "source": [
    "carat = [float(diamond[1]) for diamond in my_group]\n",
    "average_carat = sum(carat)/ len(carat)\n",
    "print(f\"Average weight for Very Good cut diamonds: {average_carat:.2f}\")"
   ]
  },
  {
   "cell_type": "code",
   "execution_count": 49,
   "id": "9d85a122",
   "metadata": {},
   "outputs": [
    {
     "name": "stdout",
     "output_type": "stream",
     "text": [
      "Average price for Very Good cut diamonds: 3981.7599\n"
     ]
    }
   ],
   "source": [
    "price = [float(diamond[7]) for diamond in my_group]\n",
    "average_price = sum(price)/ len(price)\n",
    "print(f\"Average price for Very Good cut diamonds: {average_price:.4f}\")"
   ]
  },
  {
   "cell_type": "markdown",
   "id": "d702bcac",
   "metadata": {},
   "source": [
    "> **💡DATASET - GROUP 3💡-**\n",
    ">\n",
    "> I will be analyzing the diamonds with cut \"Very Good\" for this assignment"
   ]
  },
  {
   "cell_type": "markdown",
   "id": "cdc70144-886e-49fb-b773-1e47af159d2a",
   "metadata": {},
   "source": [
    "#### Solution - 2"
   ]
  },
  {
   "cell_type": "code",
   "execution_count": 50,
   "id": "8500062c",
   "metadata": {},
   "outputs": [],
   "source": [
    "N = len(my_group)"
   ]
  },
  {
   "cell_type": "code",
   "execution_count": 53,
   "id": "8b86ae1d",
   "metadata": {},
   "outputs": [
    {
     "name": "stdout",
     "output_type": "stream",
     "text": [
      "Weighted Average price per carat:$4014.1284\n"
     ]
    }
   ],
   "source": [
    "weighted_avg_price_a = sum(float(diamond[7])/float(diamond[1]) for diamond in my_group) / N\n",
    "print(f\"Weighted Average price per carat:${weighted_avg_price_a:.4f}\")"
   ]
  },
  {
   "cell_type": "code",
   "execution_count": 54,
   "id": "dd233067",
   "metadata": {},
   "outputs": [
    {
     "name": "stdout",
     "output_type": "stream",
     "text": [
      "Weighted Average price per carat:$4937.8122\n"
     ]
    }
   ],
   "source": [
    "total_price = sum(float(diamond[7]) for diamond in my_group)\n",
    "total_weight = sum(float(diamond[1]) for diamond in my_group)\n",
    "weighted_avg_price_b = total_price/total_weight\n",
    "print(f\"Weighted Average price per carat:${weighted_avg_price_b:.4f}\")"
   ]
  },
  {
   "cell_type": "markdown",
   "id": "edec4049-3f02-4a07-a8f5-a747591378a8",
   "metadata": {},
   "source": [
    "**💡Interpretation of Results💡-**\n",
    "\n",
    "The weighted average price per carat by method a = `$4014.1284`; Method b = `$4937.8122`. Method a has lower average price as the calculation averages the price per carat of each individual diamond, without considering the total carat weight of the diamonds as a factor. It gives each diamond equal weight regardless of its size.\n",
    "\n",
    "Thus, method b calculation is more accurate for estimating the total price of a diamond based on its weight. It sums the total price and the total carat weight of all diamonds, then divides the total price by the total weight.\n"
   ]
  },
  {
   "cell_type": "code",
   "execution_count": 55,
   "id": "e1853db5",
   "metadata": {},
   "outputs": [
    {
     "name": "stdout",
     "output_type": "stream",
     "text": [
      "Max price per carat:$17828.8462\n"
     ]
    }
   ],
   "source": [
    "max_price = max(float(diamond[7])/float(diamond[1]) for diamond in my_group)\n",
    "print(f\"Max price per carat:${max_price:.4f}\")"
   ]
  },
  {
   "cell_type": "code",
   "execution_count": 56,
   "id": "505f18aa",
   "metadata": {},
   "outputs": [
    {
     "name": "stdout",
     "output_type": "stream",
     "text": [
      "Min price per carat:$1138.7097\n"
     ]
    }
   ],
   "source": [
    "min_price = min(float(diamond[7])/float(diamond[1]) for diamond in my_group)\n",
    "print(f\"Min price per carat:${min_price:.4f}\")"
   ]
  },
  {
   "cell_type": "code",
   "execution_count": 57,
   "id": "7ae0e367",
   "metadata": {},
   "outputs": [
    {
     "name": "stdout",
     "output_type": "stream",
     "text": [
      "Median price per carat: $3605.8258\n"
     ]
    }
   ],
   "source": [
    "price_pc = (float(diamond[7])/float(diamond[1]) for diamond in my_group)\n",
    "price_pc = sorted(price_pc)\n",
    "n = len(price_pc)\n",
    "if n%2==1:\n",
    "    median_price = price_pc[n//2]\n",
    "else:\n",
    "    median_price = (price_pc[(n//2)-1] + price_pc[n//2]) /2\n",
    "    \n",
    "print(f\"Median price per carat: ${median_price:.4f}\")"
   ]
  },
  {
   "cell_type": "markdown",
   "id": "4ff746ce",
   "metadata": {},
   "source": [
    "##### Solution - 3"
   ]
  },
  {
   "cell_type": "code",
   "execution_count": 59,
   "id": "8bf1f8ed",
   "metadata": {},
   "outputs": [
    {
     "name": "stdout",
     "output_type": "stream",
     "text": [
      "Highest price per carat: $17828.8462\n",
      "Parameters for highest price: Cut=27636, Carat=1.04, Color=Very Good, Clarity = D, Depth=IF, Table=61.3, Price=18542\n",
      "Lowest price per carat: $1138.7097\n",
      "Parameters for lowest price: Cut=24, Carat=0.31, Color=Very Good, Clarity = J, Depth=SI1, Table=59.4, Price=353\n"
     ]
    }
   ],
   "source": [
    "#Track the paeameters for highest and lowest price per carat\n",
    "max_price_per_carat = 0\n",
    "min_price_per_carat = float(\"inf\")\n",
    "\n",
    "max_params = None\n",
    "min_params = None\n",
    "\n",
    "for diamond in my_group:\n",
    "    price_per_carat = float(diamond[7]) / float(diamond[1])\n",
    "    \n",
    "    if price_per_carat > max_price_per_carat:\n",
    "        max_price_per_carat = price_per_carat\n",
    "        max_params = diamond\n",
    "        \n",
    "    if price_per_carat < min_price_per_carat:\n",
    "        min_price_per_carat = price_per_carat\n",
    "        min_params = diamond\n",
    "        \n",
    "print(f\"Highest price per carat: ${max_price_per_carat:.4f}\")\n",
    "print(f\"Parameters for highest price: Cut={max_params[0]}, Carat={max_params[1]}, Color={max_params[2]}, Clarity = {max_params[3]}, Depth={max_params[4]}, Table={max_params[5]}, Price={max_params[7]}\")\n",
    "\n",
    "print(f\"Lowest price per carat: ${min_price_per_carat:.4f}\")\n",
    "print(f\"Parameters for lowest price: Cut={min_params[0]}, Carat={min_params[1]}, Color={min_params[2]}, Clarity = {min_params[3]}, Depth={min_params[4]}, Table={min_params[5]}, Price={min_params[7]}\")\n"
   ]
  },
  {
   "cell_type": "markdown",
   "id": "f252d882-827e-46d2-a0a7-d15bf90202ed",
   "metadata": {},
   "source": [
    "#### Solution - 4"
   ]
  },
  {
   "cell_type": "code",
   "execution_count": 63,
   "id": "9bcdcda1",
   "metadata": {},
   "outputs": [
    {
     "name": "stdout",
     "output_type": "stream",
     "text": [
      "Estimated price for a 102.39 carat diamond based on the average price per carat: $505,582.5920\n",
      "Expected auction price range: $10,000,000.0000 to high_estimate:,.4f\n",
      "The estimate is lower than the auction price range by $9,494,417.4080.\n"
     ]
    }
   ],
   "source": [
    "#The Sotheby's diamond price estimation\n",
    "estimated_price = weighted_avg_price_b *102.39 \n",
    "low_estimate = 10000000\n",
    "high_estimate = 30000000\n",
    "\n",
    "print(f\"Estimated price for a 102.39 carat diamond based on the average price per carat: ${estimated_price:,.4f}\")\n",
    "print(f\"Expected auction price range: ${low_estimate:,.4f} to high_estimate:,.4f\")\n",
    "\n",
    "if estimated_price < low_estimate:\n",
    "    print(f\"The estimate is lower than the auction price range by ${(low_estimate - estimated_price):,.4f}.\")\n",
    "elif estimated_price > high_estimate:\n",
    "    print(f\"The estimate is higher than the auction price range by ${(estimated_price - high_estimate):,.4f}.\")\n",
    "else:\n",
    "    print(f\"The estimate falls within the auciton price range.\")\n",
    "    "
   ]
  },
  {
   "cell_type": "markdown",
   "id": "c96eab80-ca48-40c3-b9de-fe48e7edcee0",
   "metadata": {},
   "source": [
    "**💡Interpretation of Results💡-**\n",
    "\n",
    "The significant difference between the estimated price could be because of the quality difference. The Sotheby's diamond is a Flowless diamond (\"Ideal\"), which is one of the highest possible grades of color and clarity whereas, my estimation was conduted based of \"Very Good\".\n",
    "\n",
    "The color, clarity, dimentions, deapth, etc are not taken into consideration for the estimation of the price."
   ]
  }
 ],
 "metadata": {
  "kernelspec": {
   "display_name": "Python 3 (ipykernel)",
   "language": "python",
   "name": "python3"
  },
  "language_info": {
   "codemirror_mode": {
    "name": "ipython",
    "version": 3
   },
   "file_extension": ".py",
   "mimetype": "text/x-python",
   "name": "python",
   "nbconvert_exporter": "python",
   "pygments_lexer": "ipython3",
   "version": "3.10.10"
  }
 },
 "nbformat": 4,
 "nbformat_minor": 5
}
