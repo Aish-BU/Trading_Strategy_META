{
  "cells": [
    {
      "cell_type": "markdown",
      "id": "7a4b8d75",
      "metadata": {
        "id": "7a4b8d75"
      },
      "source": [
        "<div style=\"text-align: center\"> <h1> Assignment - 10"
      ]
    },
    {
      "cell_type": "markdown",
      "id": "45b2b05f-e184-4cf8-9228-0a82b9af911f",
      "metadata": {
        "id": "45b2b05f-e184-4cf8-9228-0a82b9af911f"
      },
      "source": [
        "<div style=\"text-align: center\"> <h3>CS677 A1 Data Science with Python (Fall 2024)"
      ]
    },
    {
      "cell_type": "markdown",
      "id": "397014ec-8a7d-4567-86de-c5dab2853bbf",
      "metadata": {
        "id": "397014ec-8a7d-4567-86de-c5dab2853bbf"
      },
      "source": [
        "<div style=\"text-align: center\"> <h4>Submitted by: Aishwarya Malhotra (U17161095)</div>"
      ]
    },
    {
      "cell_type": "markdown",
      "id": "229e6d13-400a-4c3e-b9d2-effac1da9639",
      "metadata": {
        "id": "229e6d13-400a-4c3e-b9d2-effac1da9639"
      },
      "source": [
        "### **Part - 1 : Naive Bayes (Student-t)**"
      ]
    },
    {
      "cell_type": "code",
      "execution_count": 13,
      "id": "RIpVExjMn869",
      "metadata": {
        "id": "RIpVExjMn869"
      },
      "outputs": [],
      "source": [
        "import pandas as pd\n",
        "import numpy as np\n",
        "from scipy.stats import t\n",
        "from sklearn.metrics import confusion_matrix, accuracy_score"
      ]
    },
    {
      "cell_type": "code",
      "execution_count": 14,
      "id": "e2fa130f",
      "metadata": {
        "id": "e2fa130f"
      },
      "outputs": [],
      "source": [
        "df = pd.read_excel(\"META_weekly_return_detailed.xlsx\")"
      ]
    },
    {
      "cell_type": "code",
      "execution_count": 15,
      "id": "667f3aac",
      "metadata": {
        "colab": {
          "base_uri": "https://localhost:8080/",
          "height": 423
        },
        "id": "667f3aac",
        "outputId": "2ccaad91-4a32-436d-80a1-cda53931bc6d"
      },
      "outputs": [
        {
          "output_type": "execute_result",
          "data": {
            "text/plain": [
              "            Open        High         Low       Close   Adj Close    Volume  \\\n",
              "0     358.989990  360.000000  351.820007  353.959992  352.897461  14980500   \n",
              "1     359.700012  361.899994  357.809998  358.320007  357.244385  11798800   \n",
              "2     356.070007  359.000000  355.309998  357.829987  356.755859  13207900   \n",
              "3     354.989990  356.980011  353.450012  354.829987  353.764832   9898600   \n",
              "4     355.579987  357.200012  351.220001  353.390015  352.329193  11764200   \n",
              "...          ...         ...         ...         ...         ...       ...   \n",
              "1253  139.889999  143.139999  139.539993  142.529999  142.102158  26263800   \n",
              "1254  137.559998  138.869995  135.910004  138.050003  137.635590  20089300   \n",
              "1255  134.009995  138.000000  133.750000  137.949997  137.535889  29002100   \n",
              "1256  134.690002  137.169998  131.119995  131.740005  131.344528  22717900   \n",
              "1257  128.990005  137.509995  128.559998  135.679993  135.272705  28146200   \n",
              "\n",
              "      Return       Date  Week_Number  Year  Day    Weekday  mean_return  \\\n",
              "0     -1.217 2023-12-29           52  2023   29     Friday     0.043000   \n",
              "1      0.137 2023-12-28           52  2023   28   Thursday     0.043000   \n",
              "2      0.845 2023-12-27           52  2023   27  Wednesday     0.043000   \n",
              "3      0.407 2023-12-26           52  2023   26    Tuesday     0.043000   \n",
              "4     -0.198 2023-12-22           51  2023   22     Friday     1.086600   \n",
              "...      ...        ...          ...   ...  ...        ...          ...   \n",
              "1253   3.245 2019-01-08            1  2019    8    Tuesday     0.842400   \n",
              "1254   0.072 2019-01-07            1  2019    7     Monday     0.842400   \n",
              "1255   4.714 2019-01-04            0  2019    4     Friday     0.603333   \n",
              "1256  -2.904 2019-01-03            0  2019    3   Thursday     0.603333   \n",
              "1257   0.000 2019-01-02            0  2019    2  Wednesday     0.603333   \n",
              "\n",
              "      volatility  Label  \n",
              "0       0.889220  Green  \n",
              "1       0.889220  Green  \n",
              "2       0.889220  Green  \n",
              "3       0.889220  Green  \n",
              "4       1.349914  Green  \n",
              "...          ...    ...  \n",
              "1253    1.456660    NaN  \n",
              "1254    1.456660    NaN  \n",
              "1255    3.844670    NaN  \n",
              "1256    3.844670    NaN  \n",
              "1257    3.844670    NaN  \n",
              "\n",
              "[1258 rows x 15 columns]"
            ],
            "text/html": [
              "\n",
              "  <div id=\"df-ceb64f2b-1b9c-4298-8f24-b752783f63af\" class=\"colab-df-container\">\n",
              "    <div>\n",
              "<style scoped>\n",
              "    .dataframe tbody tr th:only-of-type {\n",
              "        vertical-align: middle;\n",
              "    }\n",
              "\n",
              "    .dataframe tbody tr th {\n",
              "        vertical-align: top;\n",
              "    }\n",
              "\n",
              "    .dataframe thead th {\n",
              "        text-align: right;\n",
              "    }\n",
              "</style>\n",
              "<table border=\"1\" class=\"dataframe\">\n",
              "  <thead>\n",
              "    <tr style=\"text-align: right;\">\n",
              "      <th></th>\n",
              "      <th>Open</th>\n",
              "      <th>High</th>\n",
              "      <th>Low</th>\n",
              "      <th>Close</th>\n",
              "      <th>Adj Close</th>\n",
              "      <th>Volume</th>\n",
              "      <th>Return</th>\n",
              "      <th>Date</th>\n",
              "      <th>Week_Number</th>\n",
              "      <th>Year</th>\n",
              "      <th>Day</th>\n",
              "      <th>Weekday</th>\n",
              "      <th>mean_return</th>\n",
              "      <th>volatility</th>\n",
              "      <th>Label</th>\n",
              "    </tr>\n",
              "  </thead>\n",
              "  <tbody>\n",
              "    <tr>\n",
              "      <th>0</th>\n",
              "      <td>358.989990</td>\n",
              "      <td>360.000000</td>\n",
              "      <td>351.820007</td>\n",
              "      <td>353.959992</td>\n",
              "      <td>352.897461</td>\n",
              "      <td>14980500</td>\n",
              "      <td>-1.217</td>\n",
              "      <td>2023-12-29</td>\n",
              "      <td>52</td>\n",
              "      <td>2023</td>\n",
              "      <td>29</td>\n",
              "      <td>Friday</td>\n",
              "      <td>0.043000</td>\n",
              "      <td>0.889220</td>\n",
              "      <td>Green</td>\n",
              "    </tr>\n",
              "    <tr>\n",
              "      <th>1</th>\n",
              "      <td>359.700012</td>\n",
              "      <td>361.899994</td>\n",
              "      <td>357.809998</td>\n",
              "      <td>358.320007</td>\n",
              "      <td>357.244385</td>\n",
              "      <td>11798800</td>\n",
              "      <td>0.137</td>\n",
              "      <td>2023-12-28</td>\n",
              "      <td>52</td>\n",
              "      <td>2023</td>\n",
              "      <td>28</td>\n",
              "      <td>Thursday</td>\n",
              "      <td>0.043000</td>\n",
              "      <td>0.889220</td>\n",
              "      <td>Green</td>\n",
              "    </tr>\n",
              "    <tr>\n",
              "      <th>2</th>\n",
              "      <td>356.070007</td>\n",
              "      <td>359.000000</td>\n",
              "      <td>355.309998</td>\n",
              "      <td>357.829987</td>\n",
              "      <td>356.755859</td>\n",
              "      <td>13207900</td>\n",
              "      <td>0.845</td>\n",
              "      <td>2023-12-27</td>\n",
              "      <td>52</td>\n",
              "      <td>2023</td>\n",
              "      <td>27</td>\n",
              "      <td>Wednesday</td>\n",
              "      <td>0.043000</td>\n",
              "      <td>0.889220</td>\n",
              "      <td>Green</td>\n",
              "    </tr>\n",
              "    <tr>\n",
              "      <th>3</th>\n",
              "      <td>354.989990</td>\n",
              "      <td>356.980011</td>\n",
              "      <td>353.450012</td>\n",
              "      <td>354.829987</td>\n",
              "      <td>353.764832</td>\n",
              "      <td>9898600</td>\n",
              "      <td>0.407</td>\n",
              "      <td>2023-12-26</td>\n",
              "      <td>52</td>\n",
              "      <td>2023</td>\n",
              "      <td>26</td>\n",
              "      <td>Tuesday</td>\n",
              "      <td>0.043000</td>\n",
              "      <td>0.889220</td>\n",
              "      <td>Green</td>\n",
              "    </tr>\n",
              "    <tr>\n",
              "      <th>4</th>\n",
              "      <td>355.579987</td>\n",
              "      <td>357.200012</td>\n",
              "      <td>351.220001</td>\n",
              "      <td>353.390015</td>\n",
              "      <td>352.329193</td>\n",
              "      <td>11764200</td>\n",
              "      <td>-0.198</td>\n",
              "      <td>2023-12-22</td>\n",
              "      <td>51</td>\n",
              "      <td>2023</td>\n",
              "      <td>22</td>\n",
              "      <td>Friday</td>\n",
              "      <td>1.086600</td>\n",
              "      <td>1.349914</td>\n",
              "      <td>Green</td>\n",
              "    </tr>\n",
              "    <tr>\n",
              "      <th>...</th>\n",
              "      <td>...</td>\n",
              "      <td>...</td>\n",
              "      <td>...</td>\n",
              "      <td>...</td>\n",
              "      <td>...</td>\n",
              "      <td>...</td>\n",
              "      <td>...</td>\n",
              "      <td>...</td>\n",
              "      <td>...</td>\n",
              "      <td>...</td>\n",
              "      <td>...</td>\n",
              "      <td>...</td>\n",
              "      <td>...</td>\n",
              "      <td>...</td>\n",
              "      <td>...</td>\n",
              "    </tr>\n",
              "    <tr>\n",
              "      <th>1253</th>\n",
              "      <td>139.889999</td>\n",
              "      <td>143.139999</td>\n",
              "      <td>139.539993</td>\n",
              "      <td>142.529999</td>\n",
              "      <td>142.102158</td>\n",
              "      <td>26263800</td>\n",
              "      <td>3.245</td>\n",
              "      <td>2019-01-08</td>\n",
              "      <td>1</td>\n",
              "      <td>2019</td>\n",
              "      <td>8</td>\n",
              "      <td>Tuesday</td>\n",
              "      <td>0.842400</td>\n",
              "      <td>1.456660</td>\n",
              "      <td>NaN</td>\n",
              "    </tr>\n",
              "    <tr>\n",
              "      <th>1254</th>\n",
              "      <td>137.559998</td>\n",
              "      <td>138.869995</td>\n",
              "      <td>135.910004</td>\n",
              "      <td>138.050003</td>\n",
              "      <td>137.635590</td>\n",
              "      <td>20089300</td>\n",
              "      <td>0.072</td>\n",
              "      <td>2019-01-07</td>\n",
              "      <td>1</td>\n",
              "      <td>2019</td>\n",
              "      <td>7</td>\n",
              "      <td>Monday</td>\n",
              "      <td>0.842400</td>\n",
              "      <td>1.456660</td>\n",
              "      <td>NaN</td>\n",
              "    </tr>\n",
              "    <tr>\n",
              "      <th>1255</th>\n",
              "      <td>134.009995</td>\n",
              "      <td>138.000000</td>\n",
              "      <td>133.750000</td>\n",
              "      <td>137.949997</td>\n",
              "      <td>137.535889</td>\n",
              "      <td>29002100</td>\n",
              "      <td>4.714</td>\n",
              "      <td>2019-01-04</td>\n",
              "      <td>0</td>\n",
              "      <td>2019</td>\n",
              "      <td>4</td>\n",
              "      <td>Friday</td>\n",
              "      <td>0.603333</td>\n",
              "      <td>3.844670</td>\n",
              "      <td>NaN</td>\n",
              "    </tr>\n",
              "    <tr>\n",
              "      <th>1256</th>\n",
              "      <td>134.690002</td>\n",
              "      <td>137.169998</td>\n",
              "      <td>131.119995</td>\n",
              "      <td>131.740005</td>\n",
              "      <td>131.344528</td>\n",
              "      <td>22717900</td>\n",
              "      <td>-2.904</td>\n",
              "      <td>2019-01-03</td>\n",
              "      <td>0</td>\n",
              "      <td>2019</td>\n",
              "      <td>3</td>\n",
              "      <td>Thursday</td>\n",
              "      <td>0.603333</td>\n",
              "      <td>3.844670</td>\n",
              "      <td>NaN</td>\n",
              "    </tr>\n",
              "    <tr>\n",
              "      <th>1257</th>\n",
              "      <td>128.990005</td>\n",
              "      <td>137.509995</td>\n",
              "      <td>128.559998</td>\n",
              "      <td>135.679993</td>\n",
              "      <td>135.272705</td>\n",
              "      <td>28146200</td>\n",
              "      <td>0.000</td>\n",
              "      <td>2019-01-02</td>\n",
              "      <td>0</td>\n",
              "      <td>2019</td>\n",
              "      <td>2</td>\n",
              "      <td>Wednesday</td>\n",
              "      <td>0.603333</td>\n",
              "      <td>3.844670</td>\n",
              "      <td>NaN</td>\n",
              "    </tr>\n",
              "  </tbody>\n",
              "</table>\n",
              "<p>1258 rows × 15 columns</p>\n",
              "</div>\n",
              "    <div class=\"colab-df-buttons\">\n",
              "\n",
              "  <div class=\"colab-df-container\">\n",
              "    <button class=\"colab-df-convert\" onclick=\"convertToInteractive('df-ceb64f2b-1b9c-4298-8f24-b752783f63af')\"\n",
              "            title=\"Convert this dataframe to an interactive table.\"\n",
              "            style=\"display:none;\">\n",
              "\n",
              "  <svg xmlns=\"http://www.w3.org/2000/svg\" height=\"24px\" viewBox=\"0 -960 960 960\">\n",
              "    <path d=\"M120-120v-720h720v720H120Zm60-500h600v-160H180v160Zm220 220h160v-160H400v160Zm0 220h160v-160H400v160ZM180-400h160v-160H180v160Zm440 0h160v-160H620v160ZM180-180h160v-160H180v160Zm440 0h160v-160H620v160Z\"/>\n",
              "  </svg>\n",
              "    </button>\n",
              "\n",
              "  <style>\n",
              "    .colab-df-container {\n",
              "      display:flex;\n",
              "      gap: 12px;\n",
              "    }\n",
              "\n",
              "    .colab-df-convert {\n",
              "      background-color: #E8F0FE;\n",
              "      border: none;\n",
              "      border-radius: 50%;\n",
              "      cursor: pointer;\n",
              "      display: none;\n",
              "      fill: #1967D2;\n",
              "      height: 32px;\n",
              "      padding: 0 0 0 0;\n",
              "      width: 32px;\n",
              "    }\n",
              "\n",
              "    .colab-df-convert:hover {\n",
              "      background-color: #E2EBFA;\n",
              "      box-shadow: 0px 1px 2px rgba(60, 64, 67, 0.3), 0px 1px 3px 1px rgba(60, 64, 67, 0.15);\n",
              "      fill: #174EA6;\n",
              "    }\n",
              "\n",
              "    .colab-df-buttons div {\n",
              "      margin-bottom: 4px;\n",
              "    }\n",
              "\n",
              "    [theme=dark] .colab-df-convert {\n",
              "      background-color: #3B4455;\n",
              "      fill: #D2E3FC;\n",
              "    }\n",
              "\n",
              "    [theme=dark] .colab-df-convert:hover {\n",
              "      background-color: #434B5C;\n",
              "      box-shadow: 0px 1px 3px 1px rgba(0, 0, 0, 0.15);\n",
              "      filter: drop-shadow(0px 1px 2px rgba(0, 0, 0, 0.3));\n",
              "      fill: #FFFFFF;\n",
              "    }\n",
              "  </style>\n",
              "\n",
              "    <script>\n",
              "      const buttonEl =\n",
              "        document.querySelector('#df-ceb64f2b-1b9c-4298-8f24-b752783f63af button.colab-df-convert');\n",
              "      buttonEl.style.display =\n",
              "        google.colab.kernel.accessAllowed ? 'block' : 'none';\n",
              "\n",
              "      async function convertToInteractive(key) {\n",
              "        const element = document.querySelector('#df-ceb64f2b-1b9c-4298-8f24-b752783f63af');\n",
              "        const dataTable =\n",
              "          await google.colab.kernel.invokeFunction('convertToInteractive',\n",
              "                                                    [key], {});\n",
              "        if (!dataTable) return;\n",
              "\n",
              "        const docLinkHtml = 'Like what you see? Visit the ' +\n",
              "          '<a target=\"_blank\" href=https://colab.research.google.com/notebooks/data_table.ipynb>data table notebook</a>'\n",
              "          + ' to learn more about interactive tables.';\n",
              "        element.innerHTML = '';\n",
              "        dataTable['output_type'] = 'display_data';\n",
              "        await google.colab.output.renderOutput(dataTable, element);\n",
              "        const docLink = document.createElement('div');\n",
              "        docLink.innerHTML = docLinkHtml;\n",
              "        element.appendChild(docLink);\n",
              "      }\n",
              "    </script>\n",
              "  </div>\n",
              "\n",
              "\n",
              "<div id=\"df-295e9499-3f53-4817-b306-200a41531fc4\">\n",
              "  <button class=\"colab-df-quickchart\" onclick=\"quickchart('df-295e9499-3f53-4817-b306-200a41531fc4')\"\n",
              "            title=\"Suggest charts\"\n",
              "            style=\"display:none;\">\n",
              "\n",
              "<svg xmlns=\"http://www.w3.org/2000/svg\" height=\"24px\"viewBox=\"0 0 24 24\"\n",
              "     width=\"24px\">\n",
              "    <g>\n",
              "        <path d=\"M19 3H5c-1.1 0-2 .9-2 2v14c0 1.1.9 2 2 2h14c1.1 0 2-.9 2-2V5c0-1.1-.9-2-2-2zM9 17H7v-7h2v7zm4 0h-2V7h2v10zm4 0h-2v-4h2v4z\"/>\n",
              "    </g>\n",
              "</svg>\n",
              "  </button>\n",
              "\n",
              "<style>\n",
              "  .colab-df-quickchart {\n",
              "      --bg-color: #E8F0FE;\n",
              "      --fill-color: #1967D2;\n",
              "      --hover-bg-color: #E2EBFA;\n",
              "      --hover-fill-color: #174EA6;\n",
              "      --disabled-fill-color: #AAA;\n",
              "      --disabled-bg-color: #DDD;\n",
              "  }\n",
              "\n",
              "  [theme=dark] .colab-df-quickchart {\n",
              "      --bg-color: #3B4455;\n",
              "      --fill-color: #D2E3FC;\n",
              "      --hover-bg-color: #434B5C;\n",
              "      --hover-fill-color: #FFFFFF;\n",
              "      --disabled-bg-color: #3B4455;\n",
              "      --disabled-fill-color: #666;\n",
              "  }\n",
              "\n",
              "  .colab-df-quickchart {\n",
              "    background-color: var(--bg-color);\n",
              "    border: none;\n",
              "    border-radius: 50%;\n",
              "    cursor: pointer;\n",
              "    display: none;\n",
              "    fill: var(--fill-color);\n",
              "    height: 32px;\n",
              "    padding: 0;\n",
              "    width: 32px;\n",
              "  }\n",
              "\n",
              "  .colab-df-quickchart:hover {\n",
              "    background-color: var(--hover-bg-color);\n",
              "    box-shadow: 0 1px 2px rgba(60, 64, 67, 0.3), 0 1px 3px 1px rgba(60, 64, 67, 0.15);\n",
              "    fill: var(--button-hover-fill-color);\n",
              "  }\n",
              "\n",
              "  .colab-df-quickchart-complete:disabled,\n",
              "  .colab-df-quickchart-complete:disabled:hover {\n",
              "    background-color: var(--disabled-bg-color);\n",
              "    fill: var(--disabled-fill-color);\n",
              "    box-shadow: none;\n",
              "  }\n",
              "\n",
              "  .colab-df-spinner {\n",
              "    border: 2px solid var(--fill-color);\n",
              "    border-color: transparent;\n",
              "    border-bottom-color: var(--fill-color);\n",
              "    animation:\n",
              "      spin 1s steps(1) infinite;\n",
              "  }\n",
              "\n",
              "  @keyframes spin {\n",
              "    0% {\n",
              "      border-color: transparent;\n",
              "      border-bottom-color: var(--fill-color);\n",
              "      border-left-color: var(--fill-color);\n",
              "    }\n",
              "    20% {\n",
              "      border-color: transparent;\n",
              "      border-left-color: var(--fill-color);\n",
              "      border-top-color: var(--fill-color);\n",
              "    }\n",
              "    30% {\n",
              "      border-color: transparent;\n",
              "      border-left-color: var(--fill-color);\n",
              "      border-top-color: var(--fill-color);\n",
              "      border-right-color: var(--fill-color);\n",
              "    }\n",
              "    40% {\n",
              "      border-color: transparent;\n",
              "      border-right-color: var(--fill-color);\n",
              "      border-top-color: var(--fill-color);\n",
              "    }\n",
              "    60% {\n",
              "      border-color: transparent;\n",
              "      border-right-color: var(--fill-color);\n",
              "    }\n",
              "    80% {\n",
              "      border-color: transparent;\n",
              "      border-right-color: var(--fill-color);\n",
              "      border-bottom-color: var(--fill-color);\n",
              "    }\n",
              "    90% {\n",
              "      border-color: transparent;\n",
              "      border-bottom-color: var(--fill-color);\n",
              "    }\n",
              "  }\n",
              "</style>\n",
              "\n",
              "  <script>\n",
              "    async function quickchart(key) {\n",
              "      const quickchartButtonEl =\n",
              "        document.querySelector('#' + key + ' button');\n",
              "      quickchartButtonEl.disabled = true;  // To prevent multiple clicks.\n",
              "      quickchartButtonEl.classList.add('colab-df-spinner');\n",
              "      try {\n",
              "        const charts = await google.colab.kernel.invokeFunction(\n",
              "            'suggestCharts', [key], {});\n",
              "      } catch (error) {\n",
              "        console.error('Error during call to suggestCharts:', error);\n",
              "      }\n",
              "      quickchartButtonEl.classList.remove('colab-df-spinner');\n",
              "      quickchartButtonEl.classList.add('colab-df-quickchart-complete');\n",
              "    }\n",
              "    (() => {\n",
              "      let quickchartButtonEl =\n",
              "        document.querySelector('#df-295e9499-3f53-4817-b306-200a41531fc4 button');\n",
              "      quickchartButtonEl.style.display =\n",
              "        google.colab.kernel.accessAllowed ? 'block' : 'none';\n",
              "    })();\n",
              "  </script>\n",
              "</div>\n",
              "\n",
              "  <div id=\"id_790a3dfa-7ae6-4781-a74a-1983502644ba\">\n",
              "    <style>\n",
              "      .colab-df-generate {\n",
              "        background-color: #E8F0FE;\n",
              "        border: none;\n",
              "        border-radius: 50%;\n",
              "        cursor: pointer;\n",
              "        display: none;\n",
              "        fill: #1967D2;\n",
              "        height: 32px;\n",
              "        padding: 0 0 0 0;\n",
              "        width: 32px;\n",
              "      }\n",
              "\n",
              "      .colab-df-generate:hover {\n",
              "        background-color: #E2EBFA;\n",
              "        box-shadow: 0px 1px 2px rgba(60, 64, 67, 0.3), 0px 1px 3px 1px rgba(60, 64, 67, 0.15);\n",
              "        fill: #174EA6;\n",
              "      }\n",
              "\n",
              "      [theme=dark] .colab-df-generate {\n",
              "        background-color: #3B4455;\n",
              "        fill: #D2E3FC;\n",
              "      }\n",
              "\n",
              "      [theme=dark] .colab-df-generate:hover {\n",
              "        background-color: #434B5C;\n",
              "        box-shadow: 0px 1px 3px 1px rgba(0, 0, 0, 0.15);\n",
              "        filter: drop-shadow(0px 1px 2px rgba(0, 0, 0, 0.3));\n",
              "        fill: #FFFFFF;\n",
              "      }\n",
              "    </style>\n",
              "    <button class=\"colab-df-generate\" onclick=\"generateWithVariable('df')\"\n",
              "            title=\"Generate code using this dataframe.\"\n",
              "            style=\"display:none;\">\n",
              "\n",
              "  <svg xmlns=\"http://www.w3.org/2000/svg\" height=\"24px\"viewBox=\"0 0 24 24\"\n",
              "       width=\"24px\">\n",
              "    <path d=\"M7,19H8.4L18.45,9,17,7.55,7,17.6ZM5,21V16.75L18.45,3.32a2,2,0,0,1,2.83,0l1.4,1.43a1.91,1.91,0,0,1,.58,1.4,1.91,1.91,0,0,1-.58,1.4L9.25,21ZM18.45,9,17,7.55Zm-12,3A5.31,5.31,0,0,0,4.9,8.1,5.31,5.31,0,0,0,1,6.5,5.31,5.31,0,0,0,4.9,4.9,5.31,5.31,0,0,0,6.5,1,5.31,5.31,0,0,0,8.1,4.9,5.31,5.31,0,0,0,12,6.5,5.46,5.46,0,0,0,6.5,12Z\"/>\n",
              "  </svg>\n",
              "    </button>\n",
              "    <script>\n",
              "      (() => {\n",
              "      const buttonEl =\n",
              "        document.querySelector('#id_790a3dfa-7ae6-4781-a74a-1983502644ba button.colab-df-generate');\n",
              "      buttonEl.style.display =\n",
              "        google.colab.kernel.accessAllowed ? 'block' : 'none';\n",
              "\n",
              "      buttonEl.onclick = () => {\n",
              "        google.colab.notebook.generateWithVariable('df');\n",
              "      }\n",
              "      })();\n",
              "    </script>\n",
              "  </div>\n",
              "\n",
              "    </div>\n",
              "  </div>\n"
            ],
            "application/vnd.google.colaboratory.intrinsic+json": {
              "type": "dataframe",
              "variable_name": "df",
              "summary": "{\n  \"name\": \"df\",\n  \"rows\": 1258,\n  \"fields\": [\n    {\n      \"column\": \"Open\",\n      \"properties\": {\n        \"dtype\": \"number\",\n        \"std\": 69.45096007882319,\n        \"min\": 90.08000183,\n        \"max\": 381.6799927,\n        \"num_unique_values\": 1211,\n        \"samples\": [\n          313.230011,\n          278.7999878,\n          212.2400055\n        ],\n        \"semantic_type\": \"\",\n        \"description\": \"\"\n      }\n    },\n    {\n      \"column\": \"High\",\n      \"properties\": {\n        \"dtype\": \"number\",\n        \"std\": 69.97934030623728,\n        \"min\": 90.45999908,\n        \"max\": 384.3299866,\n        \"num_unique_values\": 1217,\n        \"samples\": [\n          329.0700073,\n          117.5400009,\n          310.8800049\n        ],\n        \"semantic_type\": \"\",\n        \"description\": \"\"\n      }\n    },\n    {\n      \"column\": \"Low\",\n      \"properties\": {\n        \"dtype\": \"number\",\n        \"std\": 68.80688151664843,\n        \"min\": 88.08999634,\n        \"max\": 378.8099976,\n        \"num_unique_values\": 1219,\n        \"samples\": [\n          319.7200012,\n          119.3899994,\n          292.9700012\n        ],\n        \"semantic_type\": \"\",\n        \"description\": \"\"\n      }\n    },\n    {\n      \"column\": \"Close\",\n      \"properties\": {\n        \"dtype\": \"number\",\n        \"std\": 69.40800396242084,\n        \"min\": 88.91000366,\n        \"max\": 382.1799927,\n        \"num_unique_values\": 1224,\n        \"samples\": [\n          303.5700073,\n          174.1499939,\n          242.4900055\n        ],\n        \"semantic_type\": \"\",\n        \"description\": \"\"\n      }\n    },\n    {\n      \"column\": \"Adj Close\",\n      \"properties\": {\n        \"dtype\": \"number\",\n        \"std\": 69.19965207210437,\n        \"min\": 88.64311218,\n        \"max\": 381.0327454,\n        \"num_unique_values\": 1224,\n        \"samples\": [\n          302.6587219,\n          173.62722780000001,\n          241.762085\n        ],\n        \"semantic_type\": \"\",\n        \"description\": \"\"\n      }\n    },\n    {\n      \"column\": \"Volume\",\n      \"properties\": {\n        \"dtype\": \"number\",\n        \"std\": 15561909,\n        \"min\": 5467500,\n        \"max\": 232316600,\n        \"num_unique_values\": 1257,\n        \"samples\": [\n          28995100,\n          16236500,\n          16387800\n        ],\n        \"semantic_type\": \"\",\n        \"description\": \"\"\n      }\n    },\n    {\n      \"column\": \"Return\",\n      \"properties\": {\n        \"dtype\": \"number\",\n        \"std\": 2.747334308341758,\n        \"min\": -26.39,\n        \"max\": 23.282,\n        \"num_unique_values\": 1147,\n        \"samples\": [\n          -5.592,\n          3.137,\n          0.349\n        ],\n        \"semantic_type\": \"\",\n        \"description\": \"\"\n      }\n    },\n    {\n      \"column\": \"Date\",\n      \"properties\": {\n        \"dtype\": \"date\",\n        \"min\": \"2019-01-02 00:00:00\",\n        \"max\": \"2023-12-29 00:00:00\",\n        \"num_unique_values\": 1258,\n        \"samples\": [\n          \"2021-10-06 00:00:00\",\n          \"2023-08-07 00:00:00\",\n          \"2023-10-17 00:00:00\"\n        ],\n        \"semantic_type\": \"\",\n        \"description\": \"\"\n      }\n    },\n    {\n      \"column\": \"Week_Number\",\n      \"properties\": {\n        \"dtype\": \"number\",\n        \"std\": 14,\n        \"min\": 0,\n        \"max\": 52,\n        \"num_unique_values\": 53,\n        \"samples\": [\n          33,\n          11,\n          5\n        ],\n        \"semantic_type\": \"\",\n        \"description\": \"\"\n      }\n    },\n    {\n      \"column\": \"Year\",\n      \"properties\": {\n        \"dtype\": \"number\",\n        \"std\": 1,\n        \"min\": 2019,\n        \"max\": 2023,\n        \"num_unique_values\": 5,\n        \"samples\": [\n          2022,\n          2019,\n          2021\n        ],\n        \"semantic_type\": \"\",\n        \"description\": \"\"\n      }\n    },\n    {\n      \"column\": \"Day\",\n      \"properties\": {\n        \"dtype\": \"number\",\n        \"std\": 8,\n        \"min\": 1,\n        \"max\": 31,\n        \"num_unique_values\": 31,\n        \"samples\": [\n          2,\n          7,\n          16\n        ],\n        \"semantic_type\": \"\",\n        \"description\": \"\"\n      }\n    },\n    {\n      \"column\": \"Weekday\",\n      \"properties\": {\n        \"dtype\": \"category\",\n        \"num_unique_values\": 5,\n        \"samples\": [\n          \"Thursday\",\n          \"Monday\",\n          \"Wednesday\"\n        ],\n        \"semantic_type\": \"\",\n        \"description\": \"\"\n      }\n    },\n    {\n      \"column\": \"mean_return\",\n      \"properties\": {\n        \"dtype\": \"number\",\n        \"std\": 1.1291363068604994,\n        \"min\": -4.616,\n        \"max\": 4.6192,\n        \"num_unique_values\": 261,\n        \"samples\": [\n          1.0005,\n          -0.48,\n          -1.0568\n        ],\n        \"semantic_type\": \"\",\n        \"description\": \"\"\n      }\n    },\n    {\n      \"column\": \"volatility\",\n      \"properties\": {\n        \"dtype\": \"number\",\n        \"std\": 1.6524859995667578,\n        \"min\": 0.322124588,\n        \"max\": 12.62951142,\n        \"num_unique_values\": 262,\n        \"samples\": [\n          1.464639444,\n          0.818806021,\n          2.947634362\n        ],\n        \"semantic_type\": \"\",\n        \"description\": \"\"\n      }\n    },\n    {\n      \"column\": \"Label\",\n      \"properties\": {\n        \"dtype\": \"category\",\n        \"num_unique_values\": 2,\n        \"samples\": [\n          \"Red\",\n          \"Green\"\n        ],\n        \"semantic_type\": \"\",\n        \"description\": \"\"\n      }\n    }\n  ]\n}"
            }
          },
          "metadata": {},
          "execution_count": 15
        }
      ],
      "source": [
        "# Looking at the dataframe\n",
        "df"
      ]
    },
    {
      "cell_type": "code",
      "source": [
        "feature_values = df[df['Year'].isin([2022, 2023])].groupby(['Week_Number', 'Year']).agg(\n",
        "    mean = ('mean_return', lambda x: round(x.mean()* 100,2)),\n",
        "    std = ('Return', lambda x: round(x.std()* 100,2)),\n",
        "    Label = ('Label', 'first'),\n",
        ").reset_index()\n",
        "\n",
        "feature_values.head(10)\n",
        "\n",
        "# Split data into Year 1 and Year 2\n",
        "year_1 = feature_values[feature_values['Year'] == 2022]\n",
        "year_2 = feature_values[feature_values['Year'] == 2023]"
      ],
      "metadata": {
        "id": "8PDahOh4GBpa"
      },
      "id": "8PDahOh4GBpa",
      "execution_count": 16,
      "outputs": []
    },
    {
      "cell_type": "code",
      "source": [
        "feature_values"
      ],
      "metadata": {
        "colab": {
          "base_uri": "https://localhost:8080/",
          "height": 423
        },
        "id": "_4n9Ap3zbMrV",
        "outputId": "dfa5f13c-a35b-4149-995f-26e7df2a2c7d"
      },
      "id": "_4n9Ap3zbMrV",
      "execution_count": 17,
      "outputs": [
        {
          "output_type": "execute_result",
          "data": {
            "text/plain": [
              "     Week_Number  Year    mean     std  Label\n",
              "0              1  2022  -25.22  226.54    Red\n",
              "1              1  2023  196.30  167.29  Green\n",
              "2              2  2022    1.86  172.80    Red\n",
              "3              2  2023  105.88  160.29  Green\n",
              "4              3  2022 -221.70  234.53    Red\n",
              "..           ...   ...     ...     ...    ...\n",
              "99            50  2023   14.30  180.34  Green\n",
              "100           51  2022  -20.06  286.58  Green\n",
              "101           51  2023  108.66  134.99  Green\n",
              "102           52  2022   50.48  239.57  Green\n",
              "103           52  2023    4.30   88.92  Green\n",
              "\n",
              "[104 rows x 5 columns]"
            ],
            "text/html": [
              "\n",
              "  <div id=\"df-48ef3b42-51fe-488a-9dbf-74875148f1fe\" class=\"colab-df-container\">\n",
              "    <div>\n",
              "<style scoped>\n",
              "    .dataframe tbody tr th:only-of-type {\n",
              "        vertical-align: middle;\n",
              "    }\n",
              "\n",
              "    .dataframe tbody tr th {\n",
              "        vertical-align: top;\n",
              "    }\n",
              "\n",
              "    .dataframe thead th {\n",
              "        text-align: right;\n",
              "    }\n",
              "</style>\n",
              "<table border=\"1\" class=\"dataframe\">\n",
              "  <thead>\n",
              "    <tr style=\"text-align: right;\">\n",
              "      <th></th>\n",
              "      <th>Week_Number</th>\n",
              "      <th>Year</th>\n",
              "      <th>mean</th>\n",
              "      <th>std</th>\n",
              "      <th>Label</th>\n",
              "    </tr>\n",
              "  </thead>\n",
              "  <tbody>\n",
              "    <tr>\n",
              "      <th>0</th>\n",
              "      <td>1</td>\n",
              "      <td>2022</td>\n",
              "      <td>-25.22</td>\n",
              "      <td>226.54</td>\n",
              "      <td>Red</td>\n",
              "    </tr>\n",
              "    <tr>\n",
              "      <th>1</th>\n",
              "      <td>1</td>\n",
              "      <td>2023</td>\n",
              "      <td>196.30</td>\n",
              "      <td>167.29</td>\n",
              "      <td>Green</td>\n",
              "    </tr>\n",
              "    <tr>\n",
              "      <th>2</th>\n",
              "      <td>2</td>\n",
              "      <td>2022</td>\n",
              "      <td>1.86</td>\n",
              "      <td>172.80</td>\n",
              "      <td>Red</td>\n",
              "    </tr>\n",
              "    <tr>\n",
              "      <th>3</th>\n",
              "      <td>2</td>\n",
              "      <td>2023</td>\n",
              "      <td>105.88</td>\n",
              "      <td>160.29</td>\n",
              "      <td>Green</td>\n",
              "    </tr>\n",
              "    <tr>\n",
              "      <th>4</th>\n",
              "      <td>3</td>\n",
              "      <td>2022</td>\n",
              "      <td>-221.70</td>\n",
              "      <td>234.53</td>\n",
              "      <td>Red</td>\n",
              "    </tr>\n",
              "    <tr>\n",
              "      <th>...</th>\n",
              "      <td>...</td>\n",
              "      <td>...</td>\n",
              "      <td>...</td>\n",
              "      <td>...</td>\n",
              "      <td>...</td>\n",
              "    </tr>\n",
              "    <tr>\n",
              "      <th>99</th>\n",
              "      <td>50</td>\n",
              "      <td>2023</td>\n",
              "      <td>14.30</td>\n",
              "      <td>180.34</td>\n",
              "      <td>Green</td>\n",
              "    </tr>\n",
              "    <tr>\n",
              "      <th>100</th>\n",
              "      <td>51</td>\n",
              "      <td>2022</td>\n",
              "      <td>-20.06</td>\n",
              "      <td>286.58</td>\n",
              "      <td>Green</td>\n",
              "    </tr>\n",
              "    <tr>\n",
              "      <th>101</th>\n",
              "      <td>51</td>\n",
              "      <td>2023</td>\n",
              "      <td>108.66</td>\n",
              "      <td>134.99</td>\n",
              "      <td>Green</td>\n",
              "    </tr>\n",
              "    <tr>\n",
              "      <th>102</th>\n",
              "      <td>52</td>\n",
              "      <td>2022</td>\n",
              "      <td>50.48</td>\n",
              "      <td>239.57</td>\n",
              "      <td>Green</td>\n",
              "    </tr>\n",
              "    <tr>\n",
              "      <th>103</th>\n",
              "      <td>52</td>\n",
              "      <td>2023</td>\n",
              "      <td>4.30</td>\n",
              "      <td>88.92</td>\n",
              "      <td>Green</td>\n",
              "    </tr>\n",
              "  </tbody>\n",
              "</table>\n",
              "<p>104 rows × 5 columns</p>\n",
              "</div>\n",
              "    <div class=\"colab-df-buttons\">\n",
              "\n",
              "  <div class=\"colab-df-container\">\n",
              "    <button class=\"colab-df-convert\" onclick=\"convertToInteractive('df-48ef3b42-51fe-488a-9dbf-74875148f1fe')\"\n",
              "            title=\"Convert this dataframe to an interactive table.\"\n",
              "            style=\"display:none;\">\n",
              "\n",
              "  <svg xmlns=\"http://www.w3.org/2000/svg\" height=\"24px\" viewBox=\"0 -960 960 960\">\n",
              "    <path d=\"M120-120v-720h720v720H120Zm60-500h600v-160H180v160Zm220 220h160v-160H400v160Zm0 220h160v-160H400v160ZM180-400h160v-160H180v160Zm440 0h160v-160H620v160ZM180-180h160v-160H180v160Zm440 0h160v-160H620v160Z\"/>\n",
              "  </svg>\n",
              "    </button>\n",
              "\n",
              "  <style>\n",
              "    .colab-df-container {\n",
              "      display:flex;\n",
              "      gap: 12px;\n",
              "    }\n",
              "\n",
              "    .colab-df-convert {\n",
              "      background-color: #E8F0FE;\n",
              "      border: none;\n",
              "      border-radius: 50%;\n",
              "      cursor: pointer;\n",
              "      display: none;\n",
              "      fill: #1967D2;\n",
              "      height: 32px;\n",
              "      padding: 0 0 0 0;\n",
              "      width: 32px;\n",
              "    }\n",
              "\n",
              "    .colab-df-convert:hover {\n",
              "      background-color: #E2EBFA;\n",
              "      box-shadow: 0px 1px 2px rgba(60, 64, 67, 0.3), 0px 1px 3px 1px rgba(60, 64, 67, 0.15);\n",
              "      fill: #174EA6;\n",
              "    }\n",
              "\n",
              "    .colab-df-buttons div {\n",
              "      margin-bottom: 4px;\n",
              "    }\n",
              "\n",
              "    [theme=dark] .colab-df-convert {\n",
              "      background-color: #3B4455;\n",
              "      fill: #D2E3FC;\n",
              "    }\n",
              "\n",
              "    [theme=dark] .colab-df-convert:hover {\n",
              "      background-color: #434B5C;\n",
              "      box-shadow: 0px 1px 3px 1px rgba(0, 0, 0, 0.15);\n",
              "      filter: drop-shadow(0px 1px 2px rgba(0, 0, 0, 0.3));\n",
              "      fill: #FFFFFF;\n",
              "    }\n",
              "  </style>\n",
              "\n",
              "    <script>\n",
              "      const buttonEl =\n",
              "        document.querySelector('#df-48ef3b42-51fe-488a-9dbf-74875148f1fe button.colab-df-convert');\n",
              "      buttonEl.style.display =\n",
              "        google.colab.kernel.accessAllowed ? 'block' : 'none';\n",
              "\n",
              "      async function convertToInteractive(key) {\n",
              "        const element = document.querySelector('#df-48ef3b42-51fe-488a-9dbf-74875148f1fe');\n",
              "        const dataTable =\n",
              "          await google.colab.kernel.invokeFunction('convertToInteractive',\n",
              "                                                    [key], {});\n",
              "        if (!dataTable) return;\n",
              "\n",
              "        const docLinkHtml = 'Like what you see? Visit the ' +\n",
              "          '<a target=\"_blank\" href=https://colab.research.google.com/notebooks/data_table.ipynb>data table notebook</a>'\n",
              "          + ' to learn more about interactive tables.';\n",
              "        element.innerHTML = '';\n",
              "        dataTable['output_type'] = 'display_data';\n",
              "        await google.colab.output.renderOutput(dataTable, element);\n",
              "        const docLink = document.createElement('div');\n",
              "        docLink.innerHTML = docLinkHtml;\n",
              "        element.appendChild(docLink);\n",
              "      }\n",
              "    </script>\n",
              "  </div>\n",
              "\n",
              "\n",
              "<div id=\"df-3bb2ca80-73b3-4711-a897-43cceb1e3fba\">\n",
              "  <button class=\"colab-df-quickchart\" onclick=\"quickchart('df-3bb2ca80-73b3-4711-a897-43cceb1e3fba')\"\n",
              "            title=\"Suggest charts\"\n",
              "            style=\"display:none;\">\n",
              "\n",
              "<svg xmlns=\"http://www.w3.org/2000/svg\" height=\"24px\"viewBox=\"0 0 24 24\"\n",
              "     width=\"24px\">\n",
              "    <g>\n",
              "        <path d=\"M19 3H5c-1.1 0-2 .9-2 2v14c0 1.1.9 2 2 2h14c1.1 0 2-.9 2-2V5c0-1.1-.9-2-2-2zM9 17H7v-7h2v7zm4 0h-2V7h2v10zm4 0h-2v-4h2v4z\"/>\n",
              "    </g>\n",
              "</svg>\n",
              "  </button>\n",
              "\n",
              "<style>\n",
              "  .colab-df-quickchart {\n",
              "      --bg-color: #E8F0FE;\n",
              "      --fill-color: #1967D2;\n",
              "      --hover-bg-color: #E2EBFA;\n",
              "      --hover-fill-color: #174EA6;\n",
              "      --disabled-fill-color: #AAA;\n",
              "      --disabled-bg-color: #DDD;\n",
              "  }\n",
              "\n",
              "  [theme=dark] .colab-df-quickchart {\n",
              "      --bg-color: #3B4455;\n",
              "      --fill-color: #D2E3FC;\n",
              "      --hover-bg-color: #434B5C;\n",
              "      --hover-fill-color: #FFFFFF;\n",
              "      --disabled-bg-color: #3B4455;\n",
              "      --disabled-fill-color: #666;\n",
              "  }\n",
              "\n",
              "  .colab-df-quickchart {\n",
              "    background-color: var(--bg-color);\n",
              "    border: none;\n",
              "    border-radius: 50%;\n",
              "    cursor: pointer;\n",
              "    display: none;\n",
              "    fill: var(--fill-color);\n",
              "    height: 32px;\n",
              "    padding: 0;\n",
              "    width: 32px;\n",
              "  }\n",
              "\n",
              "  .colab-df-quickchart:hover {\n",
              "    background-color: var(--hover-bg-color);\n",
              "    box-shadow: 0 1px 2px rgba(60, 64, 67, 0.3), 0 1px 3px 1px rgba(60, 64, 67, 0.15);\n",
              "    fill: var(--button-hover-fill-color);\n",
              "  }\n",
              "\n",
              "  .colab-df-quickchart-complete:disabled,\n",
              "  .colab-df-quickchart-complete:disabled:hover {\n",
              "    background-color: var(--disabled-bg-color);\n",
              "    fill: var(--disabled-fill-color);\n",
              "    box-shadow: none;\n",
              "  }\n",
              "\n",
              "  .colab-df-spinner {\n",
              "    border: 2px solid var(--fill-color);\n",
              "    border-color: transparent;\n",
              "    border-bottom-color: var(--fill-color);\n",
              "    animation:\n",
              "      spin 1s steps(1) infinite;\n",
              "  }\n",
              "\n",
              "  @keyframes spin {\n",
              "    0% {\n",
              "      border-color: transparent;\n",
              "      border-bottom-color: var(--fill-color);\n",
              "      border-left-color: var(--fill-color);\n",
              "    }\n",
              "    20% {\n",
              "      border-color: transparent;\n",
              "      border-left-color: var(--fill-color);\n",
              "      border-top-color: var(--fill-color);\n",
              "    }\n",
              "    30% {\n",
              "      border-color: transparent;\n",
              "      border-left-color: var(--fill-color);\n",
              "      border-top-color: var(--fill-color);\n",
              "      border-right-color: var(--fill-color);\n",
              "    }\n",
              "    40% {\n",
              "      border-color: transparent;\n",
              "      border-right-color: var(--fill-color);\n",
              "      border-top-color: var(--fill-color);\n",
              "    }\n",
              "    60% {\n",
              "      border-color: transparent;\n",
              "      border-right-color: var(--fill-color);\n",
              "    }\n",
              "    80% {\n",
              "      border-color: transparent;\n",
              "      border-right-color: var(--fill-color);\n",
              "      border-bottom-color: var(--fill-color);\n",
              "    }\n",
              "    90% {\n",
              "      border-color: transparent;\n",
              "      border-bottom-color: var(--fill-color);\n",
              "    }\n",
              "  }\n",
              "</style>\n",
              "\n",
              "  <script>\n",
              "    async function quickchart(key) {\n",
              "      const quickchartButtonEl =\n",
              "        document.querySelector('#' + key + ' button');\n",
              "      quickchartButtonEl.disabled = true;  // To prevent multiple clicks.\n",
              "      quickchartButtonEl.classList.add('colab-df-spinner');\n",
              "      try {\n",
              "        const charts = await google.colab.kernel.invokeFunction(\n",
              "            'suggestCharts', [key], {});\n",
              "      } catch (error) {\n",
              "        console.error('Error during call to suggestCharts:', error);\n",
              "      }\n",
              "      quickchartButtonEl.classList.remove('colab-df-spinner');\n",
              "      quickchartButtonEl.classList.add('colab-df-quickchart-complete');\n",
              "    }\n",
              "    (() => {\n",
              "      let quickchartButtonEl =\n",
              "        document.querySelector('#df-3bb2ca80-73b3-4711-a897-43cceb1e3fba button');\n",
              "      quickchartButtonEl.style.display =\n",
              "        google.colab.kernel.accessAllowed ? 'block' : 'none';\n",
              "    })();\n",
              "  </script>\n",
              "</div>\n",
              "\n",
              "  <div id=\"id_1d2aee10-4038-4efe-97f8-e5209c46a954\">\n",
              "    <style>\n",
              "      .colab-df-generate {\n",
              "        background-color: #E8F0FE;\n",
              "        border: none;\n",
              "        border-radius: 50%;\n",
              "        cursor: pointer;\n",
              "        display: none;\n",
              "        fill: #1967D2;\n",
              "        height: 32px;\n",
              "        padding: 0 0 0 0;\n",
              "        width: 32px;\n",
              "      }\n",
              "\n",
              "      .colab-df-generate:hover {\n",
              "        background-color: #E2EBFA;\n",
              "        box-shadow: 0px 1px 2px rgba(60, 64, 67, 0.3), 0px 1px 3px 1px rgba(60, 64, 67, 0.15);\n",
              "        fill: #174EA6;\n",
              "      }\n",
              "\n",
              "      [theme=dark] .colab-df-generate {\n",
              "        background-color: #3B4455;\n",
              "        fill: #D2E3FC;\n",
              "      }\n",
              "\n",
              "      [theme=dark] .colab-df-generate:hover {\n",
              "        background-color: #434B5C;\n",
              "        box-shadow: 0px 1px 3px 1px rgba(0, 0, 0, 0.15);\n",
              "        filter: drop-shadow(0px 1px 2px rgba(0, 0, 0, 0.3));\n",
              "        fill: #FFFFFF;\n",
              "      }\n",
              "    </style>\n",
              "    <button class=\"colab-df-generate\" onclick=\"generateWithVariable('feature_values')\"\n",
              "            title=\"Generate code using this dataframe.\"\n",
              "            style=\"display:none;\">\n",
              "\n",
              "  <svg xmlns=\"http://www.w3.org/2000/svg\" height=\"24px\"viewBox=\"0 0 24 24\"\n",
              "       width=\"24px\">\n",
              "    <path d=\"M7,19H8.4L18.45,9,17,7.55,7,17.6ZM5,21V16.75L18.45,3.32a2,2,0,0,1,2.83,0l1.4,1.43a1.91,1.91,0,0,1,.58,1.4,1.91,1.91,0,0,1-.58,1.4L9.25,21ZM18.45,9,17,7.55Zm-12,3A5.31,5.31,0,0,0,4.9,8.1,5.31,5.31,0,0,0,1,6.5,5.31,5.31,0,0,0,4.9,4.9,5.31,5.31,0,0,0,6.5,1,5.31,5.31,0,0,0,8.1,4.9,5.31,5.31,0,0,0,12,6.5,5.46,5.46,0,0,0,6.5,12Z\"/>\n",
              "  </svg>\n",
              "    </button>\n",
              "    <script>\n",
              "      (() => {\n",
              "      const buttonEl =\n",
              "        document.querySelector('#id_1d2aee10-4038-4efe-97f8-e5209c46a954 button.colab-df-generate');\n",
              "      buttonEl.style.display =\n",
              "        google.colab.kernel.accessAllowed ? 'block' : 'none';\n",
              "\n",
              "      buttonEl.onclick = () => {\n",
              "        google.colab.notebook.generateWithVariable('feature_values');\n",
              "      }\n",
              "      })();\n",
              "    </script>\n",
              "  </div>\n",
              "\n",
              "    </div>\n",
              "  </div>\n"
            ],
            "application/vnd.google.colaboratory.intrinsic+json": {
              "type": "dataframe",
              "variable_name": "feature_values",
              "summary": "{\n  \"name\": \"feature_values\",\n  \"rows\": 104,\n  \"fields\": [\n    {\n      \"column\": \"Week_Number\",\n      \"properties\": {\n        \"dtype\": \"number\",\n        \"std\": 15,\n        \"min\": 1,\n        \"max\": 52,\n        \"num_unique_values\": 52,\n        \"samples\": [\n          20,\n          42,\n          48\n        ],\n        \"semantic_type\": \"\",\n        \"description\": \"\"\n      }\n    },\n    {\n      \"column\": \"Year\",\n      \"properties\": {\n        \"dtype\": \"number\",\n        \"std\": 0,\n        \"min\": 2022,\n        \"max\": 2023,\n        \"num_unique_values\": 2,\n        \"samples\": [\n          2023,\n          2022\n        ],\n        \"semantic_type\": \"\",\n        \"description\": \"\"\n      }\n    },\n    {\n      \"column\": \"mean\",\n      \"properties\": {\n        \"dtype\": \"number\",\n        \"std\": 139.5016575084689,\n        \"min\": -461.6,\n        \"max\": 461.92,\n        \"num_unique_values\": 103,\n        \"samples\": [\n          -253.12,\n          17.64\n        ],\n        \"semantic_type\": \"\",\n        \"description\": \"\"\n      }\n    },\n    {\n      \"column\": \"std\",\n      \"properties\": {\n        \"dtype\": \"number\",\n        \"std\": 204.13238290464045,\n        \"min\": 50.17,\n        \"max\": 1262.95,\n        \"num_unique_values\": 104,\n        \"samples\": [\n          448.56,\n          181.42\n        ],\n        \"semantic_type\": \"\",\n        \"description\": \"\"\n      }\n    },\n    {\n      \"column\": \"Label\",\n      \"properties\": {\n        \"dtype\": \"category\",\n        \"num_unique_values\": 2,\n        \"samples\": [\n          \"Green\",\n          \"Red\"\n        ],\n        \"semantic_type\": \"\",\n        \"description\": \"\"\n      }\n    }\n  ]\n}"
            }
          },
          "metadata": {},
          "execution_count": 17
        }
      ]
    },
    {
      "cell_type": "code",
      "source": [
        "# Features and labels\n",
        "X_train = year_1[['mean', 'std']]\n",
        "y_train = year_1['Label']\n",
        "X_test = year_2[['mean', 'std']]\n",
        "y_test = year_2['Label']"
      ],
      "metadata": {
        "id": "jeUgW_-biHdM"
      },
      "id": "jeUgW_-biHdM",
      "execution_count": 18,
      "outputs": []
    },
    {
      "cell_type": "code",
      "source": [
        "# Define initial capital\n",
        "initial_capital = 100\n",
        "\n",
        "# Buy-and-Hold strategy\n",
        "cumulative_return = year_2['mean'].sum() / 100  # Sum of weekly returns, converted to decimal\n",
        "capital_buy_and_hold = initial_capital * (1 + cumulative_return)\n",
        "\n",
        "print(\"Final Amount with Buy-and-Hold Strategy: ${:.2f}\".format(capital_buy_and_hold))"
      ],
      "metadata": {
        "colab": {
          "base_uri": "https://localhost:8080/"
        },
        "id": "QECUEjDmGjKj",
        "outputId": "93de2588-c28e-4027-d46b-560aec9edb10"
      },
      "id": "QECUEjDmGjKj",
      "execution_count": 19,
      "outputs": [
        {
          "output_type": "stream",
          "name": "stdout",
          "text": [
            "Final Amount with Buy-and-Hold Strategy: $2509.98\n"
          ]
        }
      ]
    },
    {
      "cell_type": "markdown",
      "id": "ZTjdJwFy1qaG",
      "metadata": {
        "id": "ZTjdJwFy1qaG"
      },
      "source": [
        "##### **Solution - 1, 2, 3, 4**"
      ]
    },
    {
      "cell_type": "code",
      "source": [
        "from scipy import stats\n",
        "# Define possible degrees of freedom for Student-t\n",
        "dfs = [0.5, 1, 5]\n",
        "\n",
        "def naive_bayes_student_t(X_train, y_train, X_test, df):\n",
        "    # 1. Calculate mean and std for each class\n",
        "    class_stats = {}\n",
        "    for label in y_train.unique():\n",
        "        class_data = X_train[y_train == label]\n",
        "        mean_mean = class_data['mean'].mean()\n",
        "        std_mean = class_data['mean'].std()\n",
        "        mean_std = class_data['std'].mean()\n",
        "        std_std = class_data['std'].std()\n",
        "\n",
        "        # Calculate prior probability for the class\n",
        "        prior = len(class_data) / len(X_train)\n",
        "\n",
        "        # Store the class statistics\n",
        "        class_stats[label] = {\n",
        "            'prior': prior,\n",
        "            'mean_mean': mean_mean,\n",
        "            'std_mean': std_mean,\n",
        "            'mean_std': mean_std,\n",
        "            'std_std': std_std,\n",
        "        }\n",
        "\n",
        "    # 2. Classify test data\n",
        "    predictions = []\n",
        "    for _, row in X_test.iterrows():\n",
        "        mean = row['mean']\n",
        "        std = row['std']\n",
        "        probs = {}\n",
        "\n",
        "        for label, stats_dict in class_stats.items():\n",
        "            # Compute the probability of the class for the given data point\n",
        "            mean_prob = stats_dict['prior'] * stats.t.pdf(mean, df, loc=stats_dict['mean_mean'], scale=stats_dict['std_mean'])\n",
        "            std_prob = stats_dict['prior'] * stats.t.pdf(std, df, loc=stats_dict['mean_std'], scale=stats_dict['std_std'])\n",
        "            probs[label] = mean_prob * std_prob  # Multiply probabilities for Naive Bayes\n",
        "\n",
        "        # Choose the label with the highest probability\n",
        "        predictions.append(max(probs, key=probs.get))\n",
        "\n",
        "    return predictions\n"
      ],
      "metadata": {
        "id": "S3ICmnM8DzHa"
      },
      "id": "S3ICmnM8DzHa",
      "execution_count": 20,
      "outputs": []
    },
    {
      "cell_type": "code",
      "source": [
        "# Evaluate classifier for each df and print results\n",
        "best_df = None\n",
        "best_accuracy = 0\n",
        "results = {}\n",
        "\n",
        "for df in dfs:\n",
        "    # Predict labels for the test set\n",
        "    y_pred = naive_bayes_student_t(X_train, y_train, X_test, df)\n",
        "    accuracy = accuracy_score(y_test, y_pred)\n",
        "    conf_matrix = confusion_matrix(y_test, y_pred, labels=['Red', 'Green'])\n",
        "    tp_rate = conf_matrix[1, 1] / conf_matrix[1].sum()  # True positive rate\n",
        "    tn_rate = conf_matrix[0, 0] / conf_matrix[0].sum()  # True negative rate\n",
        "\n",
        "    # Print results for this df\n",
        "    print(f\"Results for df = {df}:\")\n",
        "    print(f\"Accuracy: {accuracy}\")\n",
        "    print(f\"Confusion Matrix:\\n{conf_matrix}\")\n",
        "    print(f\"True Positive Rate: {tp_rate}\")\n",
        "    print(f\"True Negative Rate: {tn_rate}\\n\")\n",
        "\n",
        "    # Track the best df\n",
        "    if accuracy > best_accuracy:\n",
        "        best_accuracy = accuracy\n",
        "        best_df = df\n",
        "    results[df] = {'accuracy': accuracy, 'tp_rate': tp_rate, 'tn_rate': tn_rate}\n",
        "\n",
        "print(f\"Best df: {best_df} with accuracy: {best_accuracy}\")"
      ],
      "metadata": {
        "colab": {
          "base_uri": "https://localhost:8080/"
        },
        "id": "AEWHyoxOEX7X",
        "outputId": "afeee193-6f71-483c-8356-629aea8cd4b1"
      },
      "id": "AEWHyoxOEX7X",
      "execution_count": 21,
      "outputs": [
        {
          "output_type": "stream",
          "name": "stdout",
          "text": [
            "Results for df = 0.5:\n",
            "Accuracy: 0.6923076923076923\n",
            "Confusion Matrix:\n",
            "[[ 2 16]\n",
            " [ 0 34]]\n",
            "True Positive Rate: 1.0\n",
            "True Negative Rate: 0.1111111111111111\n",
            "\n",
            "Results for df = 1:\n",
            "Accuracy: 0.6538461538461539\n",
            "Confusion Matrix:\n",
            "[[ 0 18]\n",
            " [ 0 34]]\n",
            "True Positive Rate: 1.0\n",
            "True Negative Rate: 0.0\n",
            "\n",
            "Results for df = 5:\n",
            "Accuracy: 0.6538461538461539\n",
            "Confusion Matrix:\n",
            "[[ 0 18]\n",
            " [ 0 34]]\n",
            "True Positive Rate: 1.0\n",
            "True Negative Rate: 0.0\n",
            "\n",
            "Best df: 0.5 with accuracy: 0.6923076923076923\n"
          ]
        }
      ]
    },
    {
      "cell_type": "markdown",
      "metadata": {
        "id": "kx9vxklqw9BZ"
      },
      "source": [
        "##### **Solution - 5. Comparison of Buy & Hold with Normal Naive Bayes**"
      ],
      "id": "kx9vxklqw9BZ"
    },
    {
      "cell_type": "code",
      "source": [
        "# Trading strategy evaluation for the best df\n",
        "y_pred_best = naive_bayes_student_t(X_train, y_train, X_test, best_df)\n",
        "initial_balance = 100 # Starting capital\n",
        "balance = initial_balance\n",
        "\n",
        "for i, label in enumerate(y_pred_best):\n",
        "   if label == 'Green':\n",
        "        balance *= (1 + year_2.iloc[i]['mean'] / 100)  # Update balance based on weekly return\n",
        "\n",
        "\n",
        "print(f\"Balance with Naive Bayes strategy: ${balance:.2f}\")\n",
        "print(f\"Balance with buy-and-hold strategy: ${capital_buy_and_hold:.2f}\")\n",
        "\n",
        "\n",
        "# Determine which strategy yields better results\n",
        "if cumulative_return > capital_buy_and_hold:\n",
        "    print(\"The trading strategy based on Naive Bayes predictions results in a larger amount.\")\n",
        "else:\n",
        "    print(\"The buy-and-hold strategy results in a larger amount compared to Naive Bayes.\")"
      ],
      "metadata": {
        "colab": {
          "base_uri": "https://localhost:8080/"
        },
        "id": "3qY196dJJb2S",
        "outputId": "703d2e41-016f-4348-f45d-33cd6abb8f6d"
      },
      "id": "3qY196dJJb2S",
      "execution_count": 22,
      "outputs": [
        {
          "output_type": "stream",
          "name": "stdout",
          "text": [
            "Balance with Naive Bayes strategy: $59638.53\n",
            "Balance with buy-and-hold strategy: $2509.98\n",
            "The buy-and-hold strategy results in a larger amount compared to Naive Bayes.\n"
          ]
        }
      ]
    },
    {
      "cell_type": "markdown",
      "metadata": {
        "id": "_FUifEoNQt7L"
      },
      "source": [
        "### **Part - 2 Decision Tree**"
      ],
      "id": "_FUifEoNQt7L"
    },
    {
      "cell_type": "markdown",
      "metadata": {
        "id": "HFa8LZxSQyw_"
      },
      "source": [
        "##### **Solution - 1. Implement a Decision Tree and Compute Its Accuracy for Year 2**"
      ],
      "id": "HFa8LZxSQyw_"
    },
    {
      "cell_type": "code",
      "source": [
        "from sklearn.tree import DecisionTreeClassifier\n",
        "from sklearn.metrics import accuracy_score, confusion_matrix\n",
        "\n",
        "# Initialize the Decision Tree Classifier with entropy as the splitting criterion\n",
        "dt_classifier = DecisionTreeClassifier(criterion=\"entropy\", random_state=0)\n",
        "\n",
        "# Fit the model on year 1 data\n",
        "dt_classifier.fit(X_train, y_train)\n",
        "\n",
        "# Predict labels for year 2\n",
        "y_pred = dt_classifier.predict(X_test)\n",
        "\n",
        "# Compute accuracy for year 2\n",
        "accuracy = accuracy_score(y_test, y_pred)\n",
        "print(\"Accuracy for Year 2:\", accuracy)\n"
      ],
      "metadata": {
        "colab": {
          "base_uri": "https://localhost:8080/"
        },
        "id": "vyVvUk04Qw4D",
        "outputId": "5296e3b4-bcb7-4e27-a15a-87640d4d15ef"
      },
      "id": "vyVvUk04Qw4D",
      "execution_count": 23,
      "outputs": [
        {
          "output_type": "stream",
          "name": "stdout",
          "text": [
            "Accuracy for Year 2: 0.4423076923076923\n"
          ]
        }
      ]
    },
    {
      "cell_type": "markdown",
      "metadata": {
        "id": "3urNeNJPQ2jJ"
      },
      "source": [
        "##### **Solution - 2. Compute the Confusion Matrix for Year 2**"
      ],
      "id": "3urNeNJPQ2jJ"
    },
    {
      "cell_type": "code",
      "source": [
        "# Calculate the confusion matrix for year 2\n",
        "conf_matrix = confusion_matrix(y_test, y_pred)\n",
        "print(\"Confusion Matrix for Year 2:\\n\", conf_matrix)"
      ],
      "metadata": {
        "colab": {
          "base_uri": "https://localhost:8080/"
        },
        "id": "jFhCRgTdRIrF",
        "outputId": "e315c1a6-f92e-4cf8-d264-0e1c8101c624"
      },
      "id": "jFhCRgTdRIrF",
      "execution_count": 24,
      "outputs": [
        {
          "output_type": "stream",
          "name": "stdout",
          "text": [
            "Confusion Matrix for Year 2:\n",
            " [[10 24]\n",
            " [ 5 13]]\n"
          ]
        }
      ]
    },
    {
      "cell_type": "markdown",
      "metadata": {
        "id": "_TlBbmlgQ530"
      },
      "source": [
        "##### **Solution - 3. Compute the True Positive Rate and True Negative Rate for Year 2**"
      ],
      "id": "_TlBbmlgQ530"
    },
    {
      "cell_type": "code",
      "source": [
        "# Extract confusion matrix values\n",
        "tn, fp, fn, tp = conf_matrix.ravel()\n",
        "\n",
        "# Calculate true positive rate and true negative rate\n",
        "true_positive_rate = tp / (tp + fn)\n",
        "true_negative_rate = tn / (tn + fp)\n",
        "\n",
        "print(\"True Positive Rate for Year 2:\", true_positive_rate)\n",
        "print(\"True Negative Rate for Year 2:\", true_negative_rate)\n"
      ],
      "metadata": {
        "colab": {
          "base_uri": "https://localhost:8080/"
        },
        "id": "qKD4-2wPRLJb",
        "outputId": "bb18e5e3-9c41-4864-979c-ad3ab0cd8a8a"
      },
      "id": "qKD4-2wPRLJb",
      "execution_count": 25,
      "outputs": [
        {
          "output_type": "stream",
          "name": "stdout",
          "text": [
            "True Positive Rate for Year 2: 0.7222222222222222\n",
            "True Negative Rate for Year 2: 0.29411764705882354\n"
          ]
        }
      ]
    },
    {
      "cell_type": "markdown",
      "metadata": {
        "id": "Lu9HnGvGQ9KV"
      },
      "source": [
        "##### **Solution - 4. Implement a Trading Strategy Based on Year 2 Predictions and Compare to Buy-and-Hold**"
      ],
      "id": "Lu9HnGvGQ9KV"
    },
    {
      "cell_type": "code",
      "source": [
        "# Define initial capital for both strategies\n",
        "\n",
        "initial_capital = 100\n",
        "\n",
        "# Trading strategy returns based on model predictions\n",
        "capital_trading_strategy = initial_capital\n",
        "for label, mean_return in zip(y_pred, year_2['mean']):\n",
        "    if label == \"Green\":  # Buy signal\n",
        "        capital_trading_strategy *= (1 + mean_return / 100)\n",
        "\n",
        "print(\"Final Amount with Trading Strategy - Regression Tree: ${:.2f}\".format(capital_trading_strategy))\n",
        "print(\"Final Amount with Buy-and-Hold Strategy: ${:.2f}\".format(capital_buy_and_hold))\n",
        "\n",
        "# Compare which strategy results in a larger amount\n",
        "if capital_trading_strategy > capital_buy_and_hold:\n",
        "    print(\"The Trading Strategy - Regression Tree outperformed the Buy-and-Hold Strategy.\")\n",
        "else:\n",
        "    print(\"The Buy-and-Hold Strategy outperformed the Trading Strategy - Regression Tree.\")"
      ],
      "metadata": {
        "colab": {
          "base_uri": "https://localhost:8080/"
        },
        "id": "gSNwewhvRNYG",
        "outputId": "0dc41250-489a-4704-8047-344fe54281e2"
      },
      "id": "gSNwewhvRNYG",
      "execution_count": 26,
      "outputs": [
        {
          "output_type": "stream",
          "name": "stdout",
          "text": [
            "Final Amount with Trading Strategy - Regression Tree: $2522.08\n",
            "Final Amount with Buy-and-Hold Strategy: $2509.98\n",
            "The Trading Strategy - Regression Tree outperformed the Buy-and-Hold Strategy.\n"
          ]
        }
      ]
    },
    {
      "cell_type": "markdown",
      "id": "FUkJjHiXM6xv",
      "metadata": {
        "id": "FUkJjHiXM6xv"
      },
      "source": [
        "### **Part - 4 Random Forest**"
      ]
    },
    {
      "cell_type": "markdown",
      "metadata": {
        "id": "nUl9kgn4TV5-"
      },
      "source": [
        "##### **Solution - 1**"
      ],
      "id": "nUl9kgn4TV5-"
    },
    {
      "cell_type": "code",
      "source": [
        "import pandas as pd\n",
        "from sklearn.ensemble import RandomForestClassifier\n",
        "from sklearn.metrics import confusion_matrix, accuracy_score\n",
        "import numpy as np\n",
        "import matplotlib.pyplot as plt"
      ],
      "metadata": {
        "id": "pQ-_qjuWTihb"
      },
      "id": "pQ-_qjuWTihb",
      "execution_count": 27,
      "outputs": []
    },
    {
      "cell_type": "code",
      "source": [
        "# Define parameters\n",
        "N_values = [1, 3, 5, 7, 9]\n",
        "D_values = [1, 2, 3, 4, 5]\n",
        "error_rates = []\n",
        "\n",
        "# Train and evaluate models with different (N, d) combinations\n",
        "for N in N_values:\n",
        "    for d in D_values:\n",
        "        # Initialize Random Forest with specific N and d\n",
        "        rf = RandomForestClassifier(n_estimators=N, max_depth=d, criterion='entropy', random_state=0)\n",
        "        rf.fit(X_train, y_train)\n",
        "\n",
        "        # Predict and calculate error rate for year 2\n",
        "        y_pred = rf.predict(X_test)\n",
        "        error_rate = 1 - accuracy_score(y_test, y_pred)\n",
        "        error_rates.append((N, d, error_rate))\n",
        "\n",
        "# Convert error rates to a DataFrame for easier plotting\n",
        "error_df = pd.DataFrame(error_rates, columns=['N', 'D', 'Error_Rate'])\n",
        "\n",
        "# Plot error rates\n",
        "plt.figure(figsize=(10, 6))\n",
        "for d in D_values:\n",
        "    subset = error_df[error_df['D'] == d]\n",
        "    plt.plot(subset['N'], subset['Error_Rate'], marker='o', label=f'Depth = {d}')\n",
        "plt.xlabel('Number of Trees (N)')\n",
        "plt.ylabel('Error Rate')\n",
        "plt.title('Error Rate for Different Values of N and D')\n",
        "plt.legend()\n",
        "plt.show()\n",
        "\n",
        "# Find the best (N, D) combination with the lowest error rate\n",
        "best_combination = error_df.loc[error_df['Error_Rate'].idxmin()]\n",
        "best_N = best_combination['N']\n",
        "best_D = best_combination['D']\n",
        "print(f\"Best combination: N = {best_N}, D = {best_D}\")"
      ],
      "metadata": {
        "colab": {
          "base_uri": "https://localhost:8080/",
          "height": 581
        },
        "id": "S73ldu0MTWdv",
        "outputId": "2dd826c6-1dda-4af0-d7a3-d99fc8334256"
      },
      "id": "S73ldu0MTWdv",
      "execution_count": 28,
      "outputs": [
        {
          "output_type": "display_data",
          "data": {
            "text/plain": [
              "<Figure size 1000x600 with 1 Axes>"
            ],
            "image/png": "[encoded data removed]"
          },
          "metadata": {}
        },
        {
          "output_type": "stream",
          "name": "stdout",
          "text": [
            "Best combination: N = 7.0, D = 1.0\n"
          ]
        }
      ]
    },
    {
      "cell_type": "markdown",
      "metadata": {
        "id": "9K98r4BcTvW3"
      },
      "source": [
        "##### **Solution - 2**"
      ],
      "id": "9K98r4BcTvW3"
    },
    {
      "cell_type": "code",
      "source": [
        "# Using the best combination, compute the confusion matrix, TPR, TNR, and compare strategies\n",
        "\n",
        "# Train with optimal N and D\n",
        "rf_best = RandomForestClassifier(n_estimators=int(best_N), max_depth=int(best_D), criterion='entropy', random_state=0)\n",
        "rf_best.fit(X_train, y_train)\n",
        "y_pred_best = rf_best.predict(X_test)\n",
        "\n",
        "# Confusion matrix\n",
        "conf_matrix = confusion_matrix(y_test, y_pred_best, labels=['Green', 'Red'])\n",
        "tn, fp, fn, tp = conf_matrix.ravel()\n",
        "print(\"Confusion Matrix:\\n\", conf_matrix)"
      ],
      "metadata": {
        "colab": {
          "base_uri": "https://localhost:8080/"
        },
        "id": "cXe4FJzPTrLW",
        "outputId": "05f9aa0e-6035-4588-ecfb-a6c400213db3"
      },
      "id": "cXe4FJzPTrLW",
      "execution_count": 29,
      "outputs": [
        {
          "output_type": "stream",
          "name": "stdout",
          "text": [
            "Confusion Matrix:\n",
            " [[33  1]\n",
            " [11  7]]\n"
          ]
        }
      ]
    },
    {
      "cell_type": "markdown",
      "metadata": {
        "id": "I4afYf_KTxyu"
      },
      "source": [
        "##### **Solution - 3**"
      ],
      "id": "I4afYf_KTxyu"
    },
    {
      "cell_type": "code",
      "source": [
        "# True Positive Rate and True Negative Rate\n",
        "tpr = tp / (tp + fn)  # Sensitivity or Recall\n",
        "tnr = tn / (tn + fp)  # Specificity\n",
        "print(f\"True Positive Rate: {tpr}\")\n",
        "print(f\"True Negative Rate: {tnr}\")"
      ],
      "metadata": {
        "colab": {
          "base_uri": "https://localhost:8080/"
        },
        "id": "uGpZ4M0FT6Vb",
        "outputId": "b7e60b53-e403-434a-f3d5-758adca9000a"
      },
      "id": "uGpZ4M0FT6Vb",
      "execution_count": 30,
      "outputs": [
        {
          "output_type": "stream",
          "name": "stdout",
          "text": [
            "True Positive Rate: 0.3888888888888889\n",
            "True Negative Rate: 0.9705882352941176\n"
          ]
        }
      ]
    },
    {
      "cell_type": "markdown",
      "metadata": {
        "id": "UxPoTrUPT09H"
      },
      "source": [
        "##### **Solution - 4**"
      ],
      "id": "UxPoTrUPT09H"
    },
    {
      "cell_type": "code",
      "source": [
        "initial_capital = 100\n",
        "capital_trading_strategy = initial_capital\n",
        "\n",
        "# Cap maximum weekly return to prevent compounding errors\n",
        "max_return_limit = 0.5  # Set a limit for weekly return, e.g., 50%\n",
        "\n",
        "# Simulate the trading strategy with capped returns\n",
        "for label, mean_return in zip(y_pred_best, year_2['mean']):\n",
        "    if label == \"Green\":  # Buy signal\n",
        "        # Limit the mean return to avoid large negative or extreme compounding\n",
        "        mean_return = min(max_return_limit, max(-max_return_limit, mean_return))\n",
        "        capital_trading_strategy *= (1 + mean_return / 100)\n",
        "\n",
        "print(\"Final Amount with Trading Strategy - Random Forest: ${:.2f}\".format(capital_trading_strategy))\n",
        "print(\"Final Amount with Buy-and-Hold Strategy: ${:.2f}\".format(capital_buy_and_hold))\n",
        "\n",
        "# Compare which strategy results in a larger amount\n",
        "if capital_trading_strategy > capital_buy_and_hold:\n",
        "    print(\"The Trading Strategy - Random Forest outperformed the Buy-and-Hold Strategy.\")\n",
        "else:\n",
        "    print(\"The Buy-and-Hold Strategy outperformed the Trading Strategy - Random Forest.\")\n"
      ],
      "metadata": {
        "colab": {
          "base_uri": "https://localhost:8080/"
        },
        "id": "TDmieHgOT_RE",
        "outputId": "4646b2b8-81e5-48c5-e95f-f1b601019ce7"
      },
      "id": "TDmieHgOT_RE",
      "execution_count": 31,
      "outputs": [
        {
          "output_type": "stream",
          "name": "stdout",
          "text": [
            "Final Amount with Trading Strategy - Random Forest: $113.82\n",
            "Final Amount with Buy-and-Hold Strategy: $2509.98\n",
            "The Buy-and-Hold Strategy outperformed the Trading Strategy - Random Forest.\n"
          ]
        }
      ]
    },
    {
      "cell_type": "markdown",
      "metadata": {
        "id": "J7q9KcZOTQvi"
      },
      "source": [
        "### **Part - 4 AdaBoost**"
      ],
      "id": "J7q9KcZOTQvi"
    },
    {
      "cell_type": "markdown",
      "id": "4753fcf0",
      "metadata": {
        "id": "4753fcf0"
      },
      "source": [
        "##### **Solution - 1**"
      ]
    },
    {
      "cell_type": "code",
      "source": [
        "import pandas as pd\n",
        "import numpy as np\n",
        "from sklearn.ensemble import AdaBoostClassifier\n",
        "from sklearn.linear_model import LogisticRegression\n",
        "from sklearn.naive_bayes import GaussianNB\n",
        "from sklearn.neighbors import KNeighborsClassifier\n",
        "from sklearn.metrics import accuracy_score, confusion_matrix\n",
        "import matplotlib.pyplot as plt"
      ],
      "metadata": {
        "id": "gshOJtnePbjn"
      },
      "id": "gshOJtnePbjn",
      "execution_count": 32,
      "outputs": []
    },
    {
      "cell_type": "code",
      "source": [
        "# Define parameters\n",
        "lambdas = [0.5, 1]\n",
        "N_values = range(1, 16)\n",
        "base_estimators = {\n",
        "    'Logistic Regression': LogisticRegression(max_iter=100),\n",
        "    'Naive Bayes': GaussianNB(),\n",
        "    }"
      ],
      "metadata": {
        "id": "EOeYzrN3U0P2"
      },
      "id": "EOeYzrN3U0P2",
      "execution_count": 33,
      "outputs": []
    },
    {
      "cell_type": "code",
      "source": [
        "# Initialize error rates and accuracies storage\n",
        "error_rates = {}\n",
        "accuracies = {}\n",
        "best_N = {}\n",
        "\n",
        "# Iterate over different values of lambda and base estimators\n",
        "for lr in lambdas:\n",
        "    error_rates[lr] = {}\n",
        "    accuracies[lr] = {}\n",
        "    for name, estimator in base_estimators.items():\n",
        "        errors = []\n",
        "        for n in N_values:\n",
        "            adaboost = AdaBoostClassifier(estimator=estimator, n_estimators=n, learning_rate=lr, random_state=0)\n",
        "            adaboost.fit(X_train, y_train)\n",
        "            y_pred = adaboost.predict(X_test)\n",
        "            error_rate = 1 - accuracy_score(y_test, y_pred)\n",
        "            errors.append(error_rate)\n",
        "\n",
        "        error_rates[lr][name] = errors\n",
        "\n",
        "        # Identify the best N for this estimator\n",
        "        best_N[name] = N_values[np.argmin(errors)]  # Get N corresponding to the minimum error\n",
        "        accuracies[lr][name] = 1 - min(errors)  # Store best accuracy for each estimator\n",
        "\n",
        "        plt.plot(N_values, errors, label=f\"{name} (λ={lr})\")\n",
        "\n",
        "# Plot error rates\n",
        "plt.xlabel(\"Number of Weak Learners (N)\")\n",
        "plt.ylabel(\"Error Rate\")\n",
        "plt.title(\"Error Rates for different base estimators and λ values\")\n",
        "plt.legend()\n",
        "plt.show()"
      ],
      "metadata": {
        "colab": {
          "base_uri": "https://localhost:8080/",
          "height": 1000
        },
        "id": "fS_HSCsoEFA8",
        "outputId": "86d4252f-3796-4086-ce20-f9dec73f4248"
      },
      "id": "fS_HSCsoEFA8",
      "execution_count": 34,
      "outputs": [
        {
          "output_type": "stream",
          "name": "stderr",
          "text": [
            "/usr/local/lib/python3.10/dist-packages/sklearn/ensemble/_weight_boosting.py:527: FutureWarning: The SAMME.R algorithm (the default) is deprecated and will be removed in 1.6. Use the SAMME algorithm to circumvent this warning.\n",
            "  warnings.warn(\n",
            "/usr/local/lib/python3.10/dist-packages/sklearn/ensemble/_weight_boosting.py:527: FutureWarning: The SAMME.R algorithm (the default) is deprecated and will be removed in 1.6. Use the SAMME algorithm to circumvent this warning.\n",
            "  warnings.warn(\n",
            "/usr/local/lib/python3.10/dist-packages/sklearn/ensemble/_weight_boosting.py:527: FutureWarning: The SAMME.R algorithm (the default) is deprecated and will be removed in 1.6. Use the SAMME algorithm to circumvent this warning.\n",
            "  warnings.warn(\n",
            "/usr/local/lib/python3.10/dist-packages/sklearn/ensemble/_weight_boosting.py:527: FutureWarning: The SAMME.R algorithm (the default) is deprecated and will be removed in 1.6. Use the SAMME algorithm to circumvent this warning.\n",
            "  warnings.warn(\n",
            "/usr/local/lib/python3.10/dist-packages/sklearn/ensemble/_weight_boosting.py:527: FutureWarning: The SAMME.R algorithm (the default) is deprecated and will be removed in 1.6. Use the SAMME algorithm to circumvent this warning.\n",
            "  warnings.warn(\n",
            "/usr/local/lib/python3.10/dist-packages/sklearn/ensemble/_weight_boosting.py:527: FutureWarning: The SAMME.R algorithm (the default) is deprecated and will be removed in 1.6. Use the SAMME algorithm to circumvent this warning.\n",
            "  warnings.warn(\n",
            "/usr/local/lib/python3.10/dist-packages/sklearn/ensemble/_weight_boosting.py:527: FutureWarning: The SAMME.R algorithm (the default) is deprecated and will be removed in 1.6. Use the SAMME algorithm to circumvent this warning.\n",
            "  warnings.warn(\n",
            "/usr/local/lib/python3.10/dist-packages/sklearn/ensemble/_weight_boosting.py:527: FutureWarning: The SAMME.R algorithm (the default) is deprecated and will be removed in 1.6. Use the SAMME algorithm to circumvent this warning.\n",
            "  warnings.warn(\n",
            "/usr/local/lib/python3.10/dist-packages/sklearn/ensemble/_weight_boosting.py:527: FutureWarning: The SAMME.R algorithm (the default) is deprecated and will be removed in 1.6. Use the SAMME algorithm to circumvent this warning.\n",
            "  warnings.warn(\n",
            "/usr/local/lib/python3.10/dist-packages/sklearn/ensemble/_weight_boosting.py:527: FutureWarning: The SAMME.R algorithm (the default) is deprecated and will be removed in 1.6. Use the SAMME algorithm to circumvent this warning.\n",
            "  warnings.warn(\n",
            "/usr/local/lib/python3.10/dist-packages/sklearn/ensemble/_weight_boosting.py:527: FutureWarning: The SAMME.R algorithm (the default) is deprecated and will be removed in 1.6. Use the SAMME algorithm to circumvent this warning.\n",
            "  warnings.warn(\n",
            "/usr/local/lib/python3.10/dist-packages/sklearn/ensemble/_weight_boosting.py:527: FutureWarning: The SAMME.R algorithm (the default) is deprecated and will be removed in 1.6. Use the SAMME algorithm to circumvent this warning.\n",
            "  warnings.warn(\n",
            "/usr/local/lib/python3.10/dist-packages/sklearn/ensemble/_weight_boosting.py:527: FutureWarning: The SAMME.R algorithm (the default) is deprecated and will be removed in 1.6. Use the SAMME algorithm to circumvent this warning.\n",
            "  warnings.warn(\n",
            "/usr/local/lib/python3.10/dist-packages/sklearn/ensemble/_weight_boosting.py:527: FutureWarning: The SAMME.R algorithm (the default) is deprecated and will be removed in 1.6. Use the SAMME algorithm to circumvent this warning.\n",
            "  warnings.warn(\n",
            "/usr/local/lib/python3.10/dist-packages/sklearn/ensemble/_weight_boosting.py:527: FutureWarning: The SAMME.R algorithm (the default) is deprecated and will be removed in 1.6. Use the SAMME algorithm to circumvent this warning.\n",
            "  warnings.warn(\n",
            "/usr/local/lib/python3.10/dist-packages/sklearn/ensemble/_weight_boosting.py:527: FutureWarning: The SAMME.R algorithm (the default) is deprecated and will be removed in 1.6. Use the SAMME algorithm to circumvent this warning.\n",
            "  warnings.warn(\n",
            "/usr/local/lib/python3.10/dist-packages/sklearn/ensemble/_weight_boosting.py:527: FutureWarning: The SAMME.R algorithm (the default) is deprecated and will be removed in 1.6. Use the SAMME algorithm to circumvent this warning.\n",
            "  warnings.warn(\n",
            "/usr/local/lib/python3.10/dist-packages/sklearn/ensemble/_weight_boosting.py:527: FutureWarning: The SAMME.R algorithm (the default) is deprecated and will be removed in 1.6. Use the SAMME algorithm to circumvent this warning.\n",
            "  warnings.warn(\n",
            "/usr/local/lib/python3.10/dist-packages/sklearn/ensemble/_weight_boosting.py:527: FutureWarning: The SAMME.R algorithm (the default) is deprecated and will be removed in 1.6. Use the SAMME algorithm to circumvent this warning.\n",
            "  warnings.warn(\n",
            "/usr/local/lib/python3.10/dist-packages/sklearn/ensemble/_weight_boosting.py:527: FutureWarning: The SAMME.R algorithm (the default) is deprecated and will be removed in 1.6. Use the SAMME algorithm to circumvent this warning.\n",
            "  warnings.warn(\n",
            "/usr/local/lib/python3.10/dist-packages/sklearn/ensemble/_weight_boosting.py:527: FutureWarning: The SAMME.R algorithm (the default) is deprecated and will be removed in 1.6. Use the SAMME algorithm to circumvent this warning.\n",
            "  warnings.warn(\n",
            "/usr/local/lib/python3.10/dist-packages/sklearn/ensemble/_weight_boosting.py:527: FutureWarning: The SAMME.R algorithm (the default) is deprecated and will be removed in 1.6. Use the SAMME algorithm to circumvent this warning.\n",
            "  warnings.warn(\n",
            "/usr/local/lib/python3.10/dist-packages/sklearn/ensemble/_weight_boosting.py:527: FutureWarning: The SAMME.R algorithm (the default) is deprecated and will be removed in 1.6. Use the SAMME algorithm to circumvent this warning.\n",
            "  warnings.warn(\n",
            "/usr/local/lib/python3.10/dist-packages/sklearn/ensemble/_weight_boosting.py:527: FutureWarning: The SAMME.R algorithm (the default) is deprecated and will be removed in 1.6. Use the SAMME algorithm to circumvent this warning.\n",
            "  warnings.warn(\n",
            "/usr/local/lib/python3.10/dist-packages/sklearn/ensemble/_weight_boosting.py:527: FutureWarning: The SAMME.R algorithm (the default) is deprecated and will be removed in 1.6. Use the SAMME algorithm to circumvent this warning.\n",
            "  warnings.warn(\n",
            "/usr/local/lib/python3.10/dist-packages/sklearn/ensemble/_weight_boosting.py:527: FutureWarning: The SAMME.R algorithm (the default) is deprecated and will be removed in 1.6. Use the SAMME algorithm to circumvent this warning.\n",
            "  warnings.warn(\n",
            "/usr/local/lib/python3.10/dist-packages/sklearn/ensemble/_weight_boosting.py:527: FutureWarning: The SAMME.R algorithm (the default) is deprecated and will be removed in 1.6. Use the SAMME algorithm to circumvent this warning.\n",
            "  warnings.warn(\n",
            "/usr/local/lib/python3.10/dist-packages/sklearn/ensemble/_weight_boosting.py:527: FutureWarning: The SAMME.R algorithm (the default) is deprecated and will be removed in 1.6. Use the SAMME algorithm to circumvent this warning.\n",
            "  warnings.warn(\n",
            "/usr/local/lib/python3.10/dist-packages/sklearn/ensemble/_weight_boosting.py:527: FutureWarning: The SAMME.R algorithm (the default) is deprecated and will be removed in 1.6. Use the SAMME algorithm to circumvent this warning.\n",
            "  warnings.warn(\n",
            "/usr/local/lib/python3.10/dist-packages/sklearn/ensemble/_weight_boosting.py:527: FutureWarning: The SAMME.R algorithm (the default) is deprecated and will be removed in 1.6. Use the SAMME algorithm to circumvent this warning.\n",
            "  warnings.warn(\n",
            "/usr/local/lib/python3.10/dist-packages/sklearn/ensemble/_weight_boosting.py:527: FutureWarning: The SAMME.R algorithm (the default) is deprecated and will be removed in 1.6. Use the SAMME algorithm to circumvent this warning.\n",
            "  warnings.warn(\n",
            "/usr/local/lib/python3.10/dist-packages/sklearn/ensemble/_weight_boosting.py:527: FutureWarning: The SAMME.R algorithm (the default) is deprecated and will be removed in 1.6. Use the SAMME algorithm to circumvent this warning.\n",
            "  warnings.warn(\n",
            "/usr/local/lib/python3.10/dist-packages/sklearn/ensemble/_weight_boosting.py:527: FutureWarning: The SAMME.R algorithm (the default) is deprecated and will be removed in 1.6. Use the SAMME algorithm to circumvent this warning.\n",
            "  warnings.warn(\n",
            "/usr/local/lib/python3.10/dist-packages/sklearn/ensemble/_weight_boosting.py:527: FutureWarning: The SAMME.R algorithm (the default) is deprecated and will be removed in 1.6. Use the SAMME algorithm to circumvent this warning.\n",
            "  warnings.warn(\n",
            "/usr/local/lib/python3.10/dist-packages/sklearn/ensemble/_weight_boosting.py:527: FutureWarning: The SAMME.R algorithm (the default) is deprecated and will be removed in 1.6. Use the SAMME algorithm to circumvent this warning.\n",
            "  warnings.warn(\n",
            "/usr/local/lib/python3.10/dist-packages/sklearn/ensemble/_weight_boosting.py:527: FutureWarning: The SAMME.R algorithm (the default) is deprecated and will be removed in 1.6. Use the SAMME algorithm to circumvent this warning.\n",
            "  warnings.warn(\n",
            "/usr/local/lib/python3.10/dist-packages/sklearn/ensemble/_weight_boosting.py:527: FutureWarning: The SAMME.R algorithm (the default) is deprecated and will be removed in 1.6. Use the SAMME algorithm to circumvent this warning.\n",
            "  warnings.warn(\n",
            "/usr/local/lib/python3.10/dist-packages/sklearn/ensemble/_weight_boosting.py:527: FutureWarning: The SAMME.R algorithm (the default) is deprecated and will be removed in 1.6. Use the SAMME algorithm to circumvent this warning.\n",
            "  warnings.warn(\n",
            "/usr/local/lib/python3.10/dist-packages/sklearn/ensemble/_weight_boosting.py:527: FutureWarning: The SAMME.R algorithm (the default) is deprecated and will be removed in 1.6. Use the SAMME algorithm to circumvent this warning.\n",
            "  warnings.warn(\n",
            "/usr/local/lib/python3.10/dist-packages/sklearn/ensemble/_weight_boosting.py:527: FutureWarning: The SAMME.R algorithm (the default) is deprecated and will be removed in 1.6. Use the SAMME algorithm to circumvent this warning.\n",
            "  warnings.warn(\n",
            "/usr/local/lib/python3.10/dist-packages/sklearn/ensemble/_weight_boosting.py:527: FutureWarning: The SAMME.R algorithm (the default) is deprecated and will be removed in 1.6. Use the SAMME algorithm to circumvent this warning.\n",
            "  warnings.warn(\n",
            "/usr/local/lib/python3.10/dist-packages/sklearn/ensemble/_weight_boosting.py:527: FutureWarning: The SAMME.R algorithm (the default) is deprecated and will be removed in 1.6. Use the SAMME algorithm to circumvent this warning.\n",
            "  warnings.warn(\n",
            "/usr/local/lib/python3.10/dist-packages/sklearn/ensemble/_weight_boosting.py:527: FutureWarning: The SAMME.R algorithm (the default) is deprecated and will be removed in 1.6. Use the SAMME algorithm to circumvent this warning.\n",
            "  warnings.warn(\n",
            "/usr/local/lib/python3.10/dist-packages/sklearn/ensemble/_weight_boosting.py:527: FutureWarning: The SAMME.R algorithm (the default) is deprecated and will be removed in 1.6. Use the SAMME algorithm to circumvent this warning.\n",
            "  warnings.warn(\n",
            "/usr/local/lib/python3.10/dist-packages/sklearn/ensemble/_weight_boosting.py:527: FutureWarning: The SAMME.R algorithm (the default) is deprecated and will be removed in 1.6. Use the SAMME algorithm to circumvent this warning.\n",
            "  warnings.warn(\n",
            "/usr/local/lib/python3.10/dist-packages/sklearn/ensemble/_weight_boosting.py:527: FutureWarning: The SAMME.R algorithm (the default) is deprecated and will be removed in 1.6. Use the SAMME algorithm to circumvent this warning.\n",
            "  warnings.warn(\n",
            "/usr/local/lib/python3.10/dist-packages/sklearn/ensemble/_weight_boosting.py:527: FutureWarning: The SAMME.R algorithm (the default) is deprecated and will be removed in 1.6. Use the SAMME algorithm to circumvent this warning.\n",
            "  warnings.warn(\n",
            "/usr/local/lib/python3.10/dist-packages/sklearn/ensemble/_weight_boosting.py:527: FutureWarning: The SAMME.R algorithm (the default) is deprecated and will be removed in 1.6. Use the SAMME algorithm to circumvent this warning.\n",
            "  warnings.warn(\n",
            "/usr/local/lib/python3.10/dist-packages/sklearn/ensemble/_weight_boosting.py:527: FutureWarning: The SAMME.R algorithm (the default) is deprecated and will be removed in 1.6. Use the SAMME algorithm to circumvent this warning.\n",
            "  warnings.warn(\n",
            "/usr/local/lib/python3.10/dist-packages/sklearn/ensemble/_weight_boosting.py:527: FutureWarning: The SAMME.R algorithm (the default) is deprecated and will be removed in 1.6. Use the SAMME algorithm to circumvent this warning.\n",
            "  warnings.warn(\n",
            "/usr/local/lib/python3.10/dist-packages/sklearn/ensemble/_weight_boosting.py:527: FutureWarning: The SAMME.R algorithm (the default) is deprecated and will be removed in 1.6. Use the SAMME algorithm to circumvent this warning.\n",
            "  warnings.warn(\n",
            "/usr/local/lib/python3.10/dist-packages/sklearn/ensemble/_weight_boosting.py:527: FutureWarning: The SAMME.R algorithm (the default) is deprecated and will be removed in 1.6. Use the SAMME algorithm to circumvent this warning.\n",
            "  warnings.warn(\n",
            "/usr/local/lib/python3.10/dist-packages/sklearn/ensemble/_weight_boosting.py:527: FutureWarning: The SAMME.R algorithm (the default) is deprecated and will be removed in 1.6. Use the SAMME algorithm to circumvent this warning.\n",
            "  warnings.warn(\n",
            "/usr/local/lib/python3.10/dist-packages/sklearn/ensemble/_weight_boosting.py:527: FutureWarning: The SAMME.R algorithm (the default) is deprecated and will be removed in 1.6. Use the SAMME algorithm to circumvent this warning.\n",
            "  warnings.warn(\n",
            "/usr/local/lib/python3.10/dist-packages/sklearn/ensemble/_weight_boosting.py:527: FutureWarning: The SAMME.R algorithm (the default) is deprecated and will be removed in 1.6. Use the SAMME algorithm to circumvent this warning.\n",
            "  warnings.warn(\n",
            "/usr/local/lib/python3.10/dist-packages/sklearn/ensemble/_weight_boosting.py:527: FutureWarning: The SAMME.R algorithm (the default) is deprecated and will be removed in 1.6. Use the SAMME algorithm to circumvent this warning.\n",
            "  warnings.warn(\n",
            "/usr/local/lib/python3.10/dist-packages/sklearn/ensemble/_weight_boosting.py:527: FutureWarning: The SAMME.R algorithm (the default) is deprecated and will be removed in 1.6. Use the SAMME algorithm to circumvent this warning.\n",
            "  warnings.warn(\n",
            "/usr/local/lib/python3.10/dist-packages/sklearn/ensemble/_weight_boosting.py:527: FutureWarning: The SAMME.R algorithm (the default) is deprecated and will be removed in 1.6. Use the SAMME algorithm to circumvent this warning.\n",
            "  warnings.warn(\n",
            "/usr/local/lib/python3.10/dist-packages/sklearn/ensemble/_weight_boosting.py:527: FutureWarning: The SAMME.R algorithm (the default) is deprecated and will be removed in 1.6. Use the SAMME algorithm to circumvent this warning.\n",
            "  warnings.warn(\n",
            "/usr/local/lib/python3.10/dist-packages/sklearn/ensemble/_weight_boosting.py:527: FutureWarning: The SAMME.R algorithm (the default) is deprecated and will be removed in 1.6. Use the SAMME algorithm to circumvent this warning.\n",
            "  warnings.warn(\n"
          ]
        },
        {
          "output_type": "display_data",
          "data": {
            "text/plain": [
              "<Figure size 640x480 with 1 Axes>"
            ],
            "image/png": "[encoded data removed]"
          },
          "metadata": {}
        }
      ]
    },
    {
      "cell_type": "markdown",
      "metadata": {
        "id": "eyRX5rzWfclN"
      },
      "source": [
        "##### **Solution - 2**"
      ],
      "id": "eyRX5rzWfclN"
    },
    {
      "cell_type": "code",
      "source": [
        "# Print best N* for each estimator with λ=0.5\n",
        "for name in base_estimators:\n",
        "    print(f\"Best N* for {name} with λ=0.5: {best_N[name]}\")\n"
      ],
      "metadata": {
        "colab": {
          "base_uri": "https://localhost:8080/"
        },
        "id": "dl74XicRWSHX",
        "outputId": "0ad2a50b-f037-4bdb-a597-901975584cd1"
      },
      "id": "dl74XicRWSHX",
      "execution_count": 35,
      "outputs": [
        {
          "output_type": "stream",
          "name": "stdout",
          "text": [
            "Best N* for Logistic Regression with λ=0.5: 1\n",
            "Best N* for Naive Bayes with λ=0.5: 1\n"
          ]
        }
      ]
    },
    {
      "cell_type": "markdown",
      "metadata": {
        "id": "b2E4fLnvfdWE"
      },
      "source": [
        "##### **Solution - 3**"
      ],
      "id": "b2E4fLnvfdWE"
    },
    {
      "cell_type": "code",
      "source": [
        "# Print accuracy for each base estimator with the best N* and λ=0.5\n",
        "for name in base_estimators:\n",
        "    best_n = best_N[name]  # Get the best N* for this estimator\n",
        "    adaboost = AdaBoostClassifier(estimator=base_estimators[name], n_estimators=best_n, learning_rate=0.5, random_state=0)\n",
        "    adaboost.fit(X_train, y_train)\n",
        "    y_pred = adaboost.predict(X_test)\n",
        "    accuracy = accuracy_score(y_test, y_pred)\n",
        "    print(f\"Accuracy for {name} with N*={best_n} and λ=0.5: {accuracy:.2f}\")\n"
      ],
      "metadata": {
        "colab": {
          "base_uri": "https://localhost:8080/"
        },
        "id": "mH2jVH-0W_I-",
        "outputId": "767a3a51-58ab-4d3b-d25f-fd5bbc82b75f"
      },
      "id": "mH2jVH-0W_I-",
      "execution_count": 36,
      "outputs": [
        {
          "output_type": "stream",
          "name": "stdout",
          "text": [
            "Accuracy for Logistic Regression with N*=1 and λ=0.5: 0.79\n",
            "Accuracy for Naive Bayes with N*=1 and λ=0.5: 0.77\n"
          ]
        },
        {
          "output_type": "stream",
          "name": "stderr",
          "text": [
            "/usr/local/lib/python3.10/dist-packages/sklearn/ensemble/_weight_boosting.py:527: FutureWarning: The SAMME.R algorithm (the default) is deprecated and will be removed in 1.6. Use the SAMME algorithm to circumvent this warning.\n",
            "  warnings.warn(\n",
            "/usr/local/lib/python3.10/dist-packages/sklearn/ensemble/_weight_boosting.py:527: FutureWarning: The SAMME.R algorithm (the default) is deprecated and will be removed in 1.6. Use the SAMME algorithm to circumvent this warning.\n",
            "  warnings.warn(\n"
          ]
        }
      ]
    },
    {
      "cell_type": "markdown",
      "metadata": {
        "id": "RRzVypH-feCl"
      },
      "source": [
        "##### **Solution - 4**"
      ],
      "id": "RRzVypH-feCl"
    },
    {
      "cell_type": "code",
      "source": [
        "# Compare accuracies to determine the best base estimator\n",
        "best_estimator = max(accuracies[0.5], key=accuracies[0.5].get)\n",
        "print(f\"The best base estimator is {best_estimator} with λ=0.5\")\n"
      ],
      "metadata": {
        "colab": {
          "base_uri": "https://localhost:8080/"
        },
        "id": "aQ6-M1qDeu5N",
        "outputId": "1ebd3e3e-de12-4eff-ea6f-e470e517d54b"
      },
      "id": "aQ6-M1qDeu5N",
      "execution_count": 37,
      "outputs": [
        {
          "output_type": "stream",
          "name": "stdout",
          "text": [
            "The best base estimator is Logistic Regression with λ=0.5\n"
          ]
        }
      ]
    },
    {
      "cell_type": "markdown",
      "metadata": {
        "id": "t9xnklf4YpFw"
      },
      "source": [
        "##### **Solution - 5**"
      ],
      "id": "t9xnklf4YpFw"
    },
    {
      "cell_type": "code",
      "source": [
        "# Simulate the Trading Strategy\n",
        "capital_trading_strategy = 100\n",
        "\n",
        "for label, (_, row) in zip(y_pred, year_2.iterrows()):\n",
        "    if label == \"Green\":  # Invest if the label is \"Green\"\n",
        "        # Ensure 'mean' is processed correctly (e.g., percentage to decimal)\n",
        "        capital_trading_strategy *= (1 + row['mean'] / 100)\n",
        "\n",
        "# Print final results\n",
        "print(\"Final Amount with Trading Strategy: ${:.2f}\".format(capital_trading_strategy))\n",
        "print(\"Final Amount with Buy-and-Hold Strategy: ${:.2f}\".format(capital_buy_and_hold))\n",
        "\n",
        "# Compare which strategy results in a larger amount\n",
        "if capital_trading_strategy > capital_buy_and_hold:\n",
        "    print(\"The Trading Strategy outperformed the Buy-and-Hold Strategy.\")\n",
        "else:\n",
        "    print(\"The Buy-and-Hold Strategy outperformed the Trading Strategy.\")\n"
      ],
      "metadata": {
        "colab": {
          "base_uri": "https://localhost:8080/"
        },
        "id": "7ALwSNp6XcDM",
        "outputId": "e8af4b1f-68c8-4232-a348-adbe763309f0"
      },
      "id": "7ALwSNp6XcDM",
      "execution_count": 38,
      "outputs": [
        {
          "output_type": "stream",
          "name": "stdout",
          "text": [
            "Final Amount with Trading Strategy: $43178241.09\n",
            "Final Amount with Buy-and-Hold Strategy: $2509.98\n",
            "The Trading Strategy outperformed the Buy-and-Hold Strategy.\n"
          ]
        }
      ]
    },
    {
      "cell_type": "markdown",
      "metadata": {
        "id": "nJFaZOmZYyev"
      },
      "source": [
        "### **Part - 5 Tips**"
      ],
      "id": "nJFaZOmZYyev"
    },
    {
      "cell_type": "code",
      "source": [
        "df = pd.read_csv(\"tips.csv\")"
      ],
      "metadata": {
        "id": "n8MtFWMuY3VE"
      },
      "id": "n8MtFWMuY3VE",
      "execution_count": 39,
      "outputs": []
    },
    {
      "cell_type": "code",
      "source": [
        "df"
      ],
      "metadata": {
        "colab": {
          "base_uri": "https://localhost:8080/",
          "height": 423
        },
        "id": "z_ne_JseZMOt",
        "outputId": "5a01b94c-07be-459e-bd3b-00963e232829"
      },
      "id": "z_ne_JseZMOt",
      "execution_count": 40,
      "outputs": [
        {
          "output_type": "execute_result",
          "data": {
            "text/plain": [
              "     total_bill   tip     sex smoker   day    time  size\n",
              "0         16.99  1.01  Female     No   Sun  Dinner     2\n",
              "1         10.34  1.66    Male     No   Sun  Dinner     3\n",
              "2         21.01  3.50    Male     No   Sun  Dinner     3\n",
              "3         23.68  3.31    Male     No   Sun  Dinner     2\n",
              "4         24.59  3.61  Female     No   Sun  Dinner     4\n",
              "..          ...   ...     ...    ...   ...     ...   ...\n",
              "239       29.03  5.92    Male     No   Sat  Dinner     3\n",
              "240       27.18  2.00  Female    Yes   Sat  Dinner     2\n",
              "241       22.67  2.00    Male    Yes   Sat  Dinner     2\n",
              "242       17.82  1.75    Male     No   Sat  Dinner     2\n",
              "243       18.78  3.00  Female     No  Thur  Dinner     2\n",
              "\n",
              "[244 rows x 7 columns]"
            ],
            "text/html": [
              "\n",
              "  <div id=\"df-ae4a8fd7-bde3-4e5a-a00b-d3da67dcbd73\" class=\"colab-df-container\">\n",
              "    <div>\n",
              "<style scoped>\n",
              "    .dataframe tbody tr th:only-of-type {\n",
              "        vertical-align: middle;\n",
              "    }\n",
              "\n",
              "    .dataframe tbody tr th {\n",
              "        vertical-align: top;\n",
              "    }\n",
              "\n",
              "    .dataframe thead th {\n",
              "        text-align: right;\n",
              "    }\n",
              "</style>\n",
              "<table border=\"1\" class=\"dataframe\">\n",
              "  <thead>\n",
              "    <tr style=\"text-align: right;\">\n",
              "      <th></th>\n",
              "      <th>total_bill</th>\n",
              "      <th>tip</th>\n",
              "      <th>sex</th>\n",
              "      <th>smoker</th>\n",
              "      <th>day</th>\n",
              "      <th>time</th>\n",
              "      <th>size</th>\n",
              "    </tr>\n",
              "  </thead>\n",
              "  <tbody>\n",
              "    <tr>\n",
              "      <th>0</th>\n",
              "      <td>16.99</td>\n",
              "      <td>1.01</td>\n",
              "      <td>Female</td>\n",
              "      <td>No</td>\n",
              "      <td>Sun</td>\n",
              "      <td>Dinner</td>\n",
              "      <td>2</td>\n",
              "    </tr>\n",
              "    <tr>\n",
              "      <th>1</th>\n",
              "      <td>10.34</td>\n",
              "      <td>1.66</td>\n",
              "      <td>Male</td>\n",
              "      <td>No</td>\n",
              "      <td>Sun</td>\n",
              "      <td>Dinner</td>\n",
              "      <td>3</td>\n",
              "    </tr>\n",
              "    <tr>\n",
              "      <th>2</th>\n",
              "      <td>21.01</td>\n",
              "      <td>3.50</td>\n",
              "      <td>Male</td>\n",
              "      <td>No</td>\n",
              "      <td>Sun</td>\n",
              "      <td>Dinner</td>\n",
              "      <td>3</td>\n",
              "    </tr>\n",
              "    <tr>\n",
              "      <th>3</th>\n",
              "      <td>23.68</td>\n",
              "      <td>3.31</td>\n",
              "      <td>Male</td>\n",
              "      <td>No</td>\n",
              "      <td>Sun</td>\n",
              "      <td>Dinner</td>\n",
              "      <td>2</td>\n",
              "    </tr>\n",
              "    <tr>\n",
              "      <th>4</th>\n",
              "      <td>24.59</td>\n",
              "      <td>3.61</td>\n",
              "      <td>Female</td>\n",
              "      <td>No</td>\n",
              "      <td>Sun</td>\n",
              "      <td>Dinner</td>\n",
              "      <td>4</td>\n",
              "    </tr>\n",
              "    <tr>\n",
              "      <th>...</th>\n",
              "      <td>...</td>\n",
              "      <td>...</td>\n",
              "      <td>...</td>\n",
              "      <td>...</td>\n",
              "      <td>...</td>\n",
              "      <td>...</td>\n",
              "      <td>...</td>\n",
              "    </tr>\n",
              "    <tr>\n",
              "      <th>239</th>\n",
              "      <td>29.03</td>\n",
              "      <td>5.92</td>\n",
              "      <td>Male</td>\n",
              "      <td>No</td>\n",
              "      <td>Sat</td>\n",
              "      <td>Dinner</td>\n",
              "      <td>3</td>\n",
              "    </tr>\n",
              "    <tr>\n",
              "      <th>240</th>\n",
              "      <td>27.18</td>\n",
              "      <td>2.00</td>\n",
              "      <td>Female</td>\n",
              "      <td>Yes</td>\n",
              "      <td>Sat</td>\n",
              "      <td>Dinner</td>\n",
              "      <td>2</td>\n",
              "    </tr>\n",
              "    <tr>\n",
              "      <th>241</th>\n",
              "      <td>22.67</td>\n",
              "      <td>2.00</td>\n",
              "      <td>Male</td>\n",
              "      <td>Yes</td>\n",
              "      <td>Sat</td>\n",
              "      <td>Dinner</td>\n",
              "      <td>2</td>\n",
              "    </tr>\n",
              "    <tr>\n",
              "      <th>242</th>\n",
              "      <td>17.82</td>\n",
              "      <td>1.75</td>\n",
              "      <td>Male</td>\n",
              "      <td>No</td>\n",
              "      <td>Sat</td>\n",
              "      <td>Dinner</td>\n",
              "      <td>2</td>\n",
              "    </tr>\n",
              "    <tr>\n",
              "      <th>243</th>\n",
              "      <td>18.78</td>\n",
              "      <td>3.00</td>\n",
              "      <td>Female</td>\n",
              "      <td>No</td>\n",
              "      <td>Thur</td>\n",
              "      <td>Dinner</td>\n",
              "      <td>2</td>\n",
              "    </tr>\n",
              "  </tbody>\n",
              "</table>\n",
              "<p>244 rows × 7 columns</p>\n",
              "</div>\n",
              "    <div class=\"colab-df-buttons\">\n",
              "\n",
              "  <div class=\"colab-df-container\">\n",
              "    <button class=\"colab-df-convert\" onclick=\"convertToInteractive('df-ae4a8fd7-bde3-4e5a-a00b-d3da67dcbd73')\"\n",
              "            title=\"Convert this dataframe to an interactive table.\"\n",
              "            style=\"display:none;\">\n",
              "\n",
              "  <svg xmlns=\"http://www.w3.org/2000/svg\" height=\"24px\" viewBox=\"0 -960 960 960\">\n",
              "    <path d=\"M120-120v-720h720v720H120Zm60-500h600v-160H180v160Zm220 220h160v-160H400v160Zm0 220h160v-160H400v160ZM180-400h160v-160H180v160Zm440 0h160v-160H620v160ZM180-180h160v-160H180v160Zm440 0h160v-160H620v160Z\"/>\n",
              "  </svg>\n",
              "    </button>\n",
              "\n",
              "  <style>\n",
              "    .colab-df-container {\n",
              "      display:flex;\n",
              "      gap: 12px;\n",
              "    }\n",
              "\n",
              "    .colab-df-convert {\n",
              "      background-color: #E8F0FE;\n",
              "      border: none;\n",
              "      border-radius: 50%;\n",
              "      cursor: pointer;\n",
              "      display: none;\n",
              "      fill: #1967D2;\n",
              "      height: 32px;\n",
              "      padding: 0 0 0 0;\n",
              "      width: 32px;\n",
              "    }\n",
              "\n",
              "    .colab-df-convert:hover {\n",
              "      background-color: #E2EBFA;\n",
              "      box-shadow: 0px 1px 2px rgba(60, 64, 67, 0.3), 0px 1px 3px 1px rgba(60, 64, 67, 0.15);\n",
              "      fill: #174EA6;\n",
              "    }\n",
              "\n",
              "    .colab-df-buttons div {\n",
              "      margin-bottom: 4px;\n",
              "    }\n",
              "\n",
              "    [theme=dark] .colab-df-convert {\n",
              "      background-color: #3B4455;\n",
              "      fill: #D2E3FC;\n",
              "    }\n",
              "\n",
              "    [theme=dark] .colab-df-convert:hover {\n",
              "      background-color: #434B5C;\n",
              "      box-shadow: 0px 1px 3px 1px rgba(0, 0, 0, 0.15);\n",
              "      filter: drop-shadow(0px 1px 2px rgba(0, 0, 0, 0.3));\n",
              "      fill: #FFFFFF;\n",
              "    }\n",
              "  </style>\n",
              "\n",
              "    <script>\n",
              "      const buttonEl =\n",
              "        document.querySelector('#df-ae4a8fd7-bde3-4e5a-a00b-d3da67dcbd73 button.colab-df-convert');\n",
              "      buttonEl.style.display =\n",
              "        google.colab.kernel.accessAllowed ? 'block' : 'none';\n",
              "\n",
              "      async function convertToInteractive(key) {\n",
              "        const element = document.querySelector('#df-ae4a8fd7-bde3-4e5a-a00b-d3da67dcbd73');\n",
              "        const dataTable =\n",
              "          await google.colab.kernel.invokeFunction('convertToInteractive',\n",
              "                                                    [key], {});\n",
              "        if (!dataTable) return;\n",
              "\n",
              "        const docLinkHtml = 'Like what you see? Visit the ' +\n",
              "          '<a target=\"_blank\" href=https://colab.research.google.com/notebooks/data_table.ipynb>data table notebook</a>'\n",
              "          + ' to learn more about interactive tables.';\n",
              "        element.innerHTML = '';\n",
              "        dataTable['output_type'] = 'display_data';\n",
              "        await google.colab.output.renderOutput(dataTable, element);\n",
              "        const docLink = document.createElement('div');\n",
              "        docLink.innerHTML = docLinkHtml;\n",
              "        element.appendChild(docLink);\n",
              "      }\n",
              "    </script>\n",
              "  </div>\n",
              "\n",
              "\n",
              "<div id=\"df-d1e61474-4694-4525-9950-8a78472351cb\">\n",
              "  <button class=\"colab-df-quickchart\" onclick=\"quickchart('df-d1e61474-4694-4525-9950-8a78472351cb')\"\n",
              "            title=\"Suggest charts\"\n",
              "            style=\"display:none;\">\n",
              "\n",
              "<svg xmlns=\"http://www.w3.org/2000/svg\" height=\"24px\"viewBox=\"0 0 24 24\"\n",
              "     width=\"24px\">\n",
              "    <g>\n",
              "        <path d=\"M19 3H5c-1.1 0-2 .9-2 2v14c0 1.1.9 2 2 2h14c1.1 0 2-.9 2-2V5c0-1.1-.9-2-2-2zM9 17H7v-7h2v7zm4 0h-2V7h2v10zm4 0h-2v-4h2v4z\"/>\n",
              "    </g>\n",
              "</svg>\n",
              "  </button>\n",
              "\n",
              "<style>\n",
              "  .colab-df-quickchart {\n",
              "      --bg-color: #E8F0FE;\n",
              "      --fill-color: #1967D2;\n",
              "      --hover-bg-color: #E2EBFA;\n",
              "      --hover-fill-color: #174EA6;\n",
              "      --disabled-fill-color: #AAA;\n",
              "      --disabled-bg-color: #DDD;\n",
              "  }\n",
              "\n",
              "  [theme=dark] .colab-df-quickchart {\n",
              "      --bg-color: #3B4455;\n",
              "      --fill-color: #D2E3FC;\n",
              "      --hover-bg-color: #434B5C;\n",
              "      --hover-fill-color: #FFFFFF;\n",
              "      --disabled-bg-color: #3B4455;\n",
              "      --disabled-fill-color: #666;\n",
              "  }\n",
              "\n",
              "  .colab-df-quickchart {\n",
              "    background-color: var(--bg-color);\n",
              "    border: none;\n",
              "    border-radius: 50%;\n",
              "    cursor: pointer;\n",
              "    display: none;\n",
              "    fill: var(--fill-color);\n",
              "    height: 32px;\n",
              "    padding: 0;\n",
              "    width: 32px;\n",
              "  }\n",
              "\n",
              "  .colab-df-quickchart:hover {\n",
              "    background-color: var(--hover-bg-color);\n",
              "    box-shadow: 0 1px 2px rgba(60, 64, 67, 0.3), 0 1px 3px 1px rgba(60, 64, 67, 0.15);\n",
              "    fill: var(--button-hover-fill-color);\n",
              "  }\n",
              "\n",
              "  .colab-df-quickchart-complete:disabled,\n",
              "  .colab-df-quickchart-complete:disabled:hover {\n",
              "    background-color: var(--disabled-bg-color);\n",
              "    fill: var(--disabled-fill-color);\n",
              "    box-shadow: none;\n",
              "  }\n",
              "\n",
              "  .colab-df-spinner {\n",
              "    border: 2px solid var(--fill-color);\n",
              "    border-color: transparent;\n",
              "    border-bottom-color: var(--fill-color);\n",
              "    animation:\n",
              "      spin 1s steps(1) infinite;\n",
              "  }\n",
              "\n",
              "  @keyframes spin {\n",
              "    0% {\n",
              "      border-color: transparent;\n",
              "      border-bottom-color: var(--fill-color);\n",
              "      border-left-color: var(--fill-color);\n",
              "    }\n",
              "    20% {\n",
              "      border-color: transparent;\n",
              "      border-left-color: var(--fill-color);\n",
              "      border-top-color: var(--fill-color);\n",
              "    }\n",
              "    30% {\n",
              "      border-color: transparent;\n",
              "      border-left-color: var(--fill-color);\n",
              "      border-top-color: var(--fill-color);\n",
              "      border-right-color: var(--fill-color);\n",
              "    }\n",
              "    40% {\n",
              "      border-color: transparent;\n",
              "      border-right-color: var(--fill-color);\n",
              "      border-top-color: var(--fill-color);\n",
              "    }\n",
              "    60% {\n",
              "      border-color: transparent;\n",
              "      border-right-color: var(--fill-color);\n",
              "    }\n",
              "    80% {\n",
              "      border-color: transparent;\n",
              "      border-right-color: var(--fill-color);\n",
              "      border-bottom-color: var(--fill-color);\n",
              "    }\n",
              "    90% {\n",
              "      border-color: transparent;\n",
              "      border-bottom-color: var(--fill-color);\n",
              "    }\n",
              "  }\n",
              "</style>\n",
              "\n",
              "  <script>\n",
              "    async function quickchart(key) {\n",
              "      const quickchartButtonEl =\n",
              "        document.querySelector('#' + key + ' button');\n",
              "      quickchartButtonEl.disabled = true;  // To prevent multiple clicks.\n",
              "      quickchartButtonEl.classList.add('colab-df-spinner');\n",
              "      try {\n",
              "        const charts = await google.colab.kernel.invokeFunction(\n",
              "            'suggestCharts', [key], {});\n",
              "      } catch (error) {\n",
              "        console.error('Error during call to suggestCharts:', error);\n",
              "      }\n",
              "      quickchartButtonEl.classList.remove('colab-df-spinner');\n",
              "      quickchartButtonEl.classList.add('colab-df-quickchart-complete');\n",
              "    }\n",
              "    (() => {\n",
              "      let quickchartButtonEl =\n",
              "        document.querySelector('#df-d1e61474-4694-4525-9950-8a78472351cb button');\n",
              "      quickchartButtonEl.style.display =\n",
              "        google.colab.kernel.accessAllowed ? 'block' : 'none';\n",
              "    })();\n",
              "  </script>\n",
              "</div>\n",
              "\n",
              "  <div id=\"id_83f02268-bf3b-4c9b-a2a6-94fead787131\">\n",
              "    <style>\n",
              "      .colab-df-generate {\n",
              "        background-color: #E8F0FE;\n",
              "        border: none;\n",
              "        border-radius: 50%;\n",
              "        cursor: pointer;\n",
              "        display: none;\n",
              "        fill: #1967D2;\n",
              "        height: 32px;\n",
              "        padding: 0 0 0 0;\n",
              "        width: 32px;\n",
              "      }\n",
              "\n",
              "      .colab-df-generate:hover {\n",
              "        background-color: #E2EBFA;\n",
              "        box-shadow: 0px 1px 2px rgba(60, 64, 67, 0.3), 0px 1px 3px 1px rgba(60, 64, 67, 0.15);\n",
              "        fill: #174EA6;\n",
              "      }\n",
              "\n",
              "      [theme=dark] .colab-df-generate {\n",
              "        background-color: #3B4455;\n",
              "        fill: #D2E3FC;\n",
              "      }\n",
              "\n",
              "      [theme=dark] .colab-df-generate:hover {\n",
              "        background-color: #434B5C;\n",
              "        box-shadow: 0px 1px 3px 1px rgba(0, 0, 0, 0.15);\n",
              "        filter: drop-shadow(0px 1px 2px rgba(0, 0, 0, 0.3));\n",
              "        fill: #FFFFFF;\n",
              "      }\n",
              "    </style>\n",
              "    <button class=\"colab-df-generate\" onclick=\"generateWithVariable('df')\"\n",
              "            title=\"Generate code using this dataframe.\"\n",
              "            style=\"display:none;\">\n",
              "\n",
              "  <svg xmlns=\"http://www.w3.org/2000/svg\" height=\"24px\"viewBox=\"0 0 24 24\"\n",
              "       width=\"24px\">\n",
              "    <path d=\"M7,19H8.4L18.45,9,17,7.55,7,17.6ZM5,21V16.75L18.45,3.32a2,2,0,0,1,2.83,0l1.4,1.43a1.91,1.91,0,0,1,.58,1.4,1.91,1.91,0,0,1-.58,1.4L9.25,21ZM18.45,9,17,7.55Zm-12,3A5.31,5.31,0,0,0,4.9,8.1,5.31,5.31,0,0,0,1,6.5,5.31,5.31,0,0,0,4.9,4.9,5.31,5.31,0,0,0,6.5,1,5.31,5.31,0,0,0,8.1,4.9,5.31,5.31,0,0,0,12,6.5,5.46,5.46,0,0,0,6.5,12Z\"/>\n",
              "  </svg>\n",
              "    </button>\n",
              "    <script>\n",
              "      (() => {\n",
              "      const buttonEl =\n",
              "        document.querySelector('#id_83f02268-bf3b-4c9b-a2a6-94fead787131 button.colab-df-generate');\n",
              "      buttonEl.style.display =\n",
              "        google.colab.kernel.accessAllowed ? 'block' : 'none';\n",
              "\n",
              "      buttonEl.onclick = () => {\n",
              "        google.colab.notebook.generateWithVariable('df');\n",
              "      }\n",
              "      })();\n",
              "    </script>\n",
              "  </div>\n",
              "\n",
              "    </div>\n",
              "  </div>\n"
            ],
            "application/vnd.google.colaboratory.intrinsic+json": {
              "type": "dataframe",
              "variable_name": "df",
              "summary": "{\n  \"name\": \"df\",\n  \"rows\": 244,\n  \"fields\": [\n    {\n      \"column\": \"total_bill\",\n      \"properties\": {\n        \"dtype\": \"number\",\n        \"std\": 8.902411954856856,\n        \"min\": 3.07,\n        \"max\": 50.81,\n        \"num_unique_values\": 229,\n        \"samples\": [\n          22.12,\n          20.23,\n          14.78\n        ],\n        \"semantic_type\": \"\",\n        \"description\": \"\"\n      }\n    },\n    {\n      \"column\": \"tip\",\n      \"properties\": {\n        \"dtype\": \"number\",\n        \"std\": 1.3836381890011826,\n        \"min\": 1.0,\n        \"max\": 10.0,\n        \"num_unique_values\": 123,\n        \"samples\": [\n          3.35,\n          1.5,\n          6.73\n        ],\n        \"semantic_type\": \"\",\n        \"description\": \"\"\n      }\n    },\n    {\n      \"column\": \"sex\",\n      \"properties\": {\n        \"dtype\": \"category\",\n        \"num_unique_values\": 2,\n        \"samples\": [\n          \"Male\",\n          \"Female\"\n        ],\n        \"semantic_type\": \"\",\n        \"description\": \"\"\n      }\n    },\n    {\n      \"column\": \"smoker\",\n      \"properties\": {\n        \"dtype\": \"category\",\n        \"num_unique_values\": 2,\n        \"samples\": [\n          \"Yes\",\n          \"No\"\n        ],\n        \"semantic_type\": \"\",\n        \"description\": \"\"\n      }\n    },\n    {\n      \"column\": \"day\",\n      \"properties\": {\n        \"dtype\": \"category\",\n        \"num_unique_values\": 4,\n        \"samples\": [\n          \"Sat\",\n          \"Fri\"\n        ],\n        \"semantic_type\": \"\",\n        \"description\": \"\"\n      }\n    },\n    {\n      \"column\": \"time\",\n      \"properties\": {\n        \"dtype\": \"category\",\n        \"num_unique_values\": 2,\n        \"samples\": [\n          \"Lunch\",\n          \"Dinner\"\n        ],\n        \"semantic_type\": \"\",\n        \"description\": \"\"\n      }\n    },\n    {\n      \"column\": \"size\",\n      \"properties\": {\n        \"dtype\": \"number\",\n        \"std\": 0,\n        \"min\": 1,\n        \"max\": 6,\n        \"num_unique_values\": 6,\n        \"samples\": [\n          2,\n          3\n        ],\n        \"semantic_type\": \"\",\n        \"description\": \"\"\n      }\n    }\n  ]\n}"
            }
          },
          "metadata": {},
          "execution_count": 40
        }
      ]
    },
    {
      "cell_type": "code",
      "source": [
        "# Calculate the tip as a percentage of the meal cost\n",
        "df['tip_percentage'] = (df['tip'] / df['total_bill']) * 100\n",
        "\n",
        "# Calculate the average tip percentage for lunch and dinner\n",
        "average_tip_by_time = df.groupby('time')['tip_percentage'].mean()\n",
        "print(average_tip_by_time)\n"
      ],
      "metadata": {
        "colab": {
          "base_uri": "https://localhost:8080/"
        },
        "id": "a1rHfjJgZT3A",
        "outputId": "f3eec95d-353e-4a63-fa6b-296d38a6f4a7"
      },
      "id": "a1rHfjJgZT3A",
      "execution_count": 41,
      "outputs": [
        {
          "output_type": "stream",
          "name": "stdout",
          "text": [
            "time\n",
            "Dinner    15.951779\n",
            "Lunch     16.412793\n",
            "Name: tip_percentage, dtype: float64\n"
          ]
        }
      ]
    },
    {
      "cell_type": "code",
      "source": [
        "# Calculate the average tip percentage for each day of the week\n",
        "average_tip_by_day = df.groupby('day')['tip_percentage'].mean()\n",
        "print(average_tip_by_day)\n"
      ],
      "metadata": {
        "colab": {
          "base_uri": "https://localhost:8080/"
        },
        "id": "Db6xrd79ZZEy",
        "outputId": "77c748c7-35de-4176-c868-bfee3a082ba2"
      },
      "id": "Db6xrd79ZZEy",
      "execution_count": 42,
      "outputs": [
        {
          "output_type": "stream",
          "name": "stdout",
          "text": [
            "day\n",
            "Fri     16.991303\n",
            "Sat     15.315172\n",
            "Sun     16.689729\n",
            "Thur    16.127563\n",
            "Name: tip_percentage, dtype: float64\n"
          ]
        }
      ]
    },
    {
      "cell_type": "code",
      "source": [
        "# Find the row where tip percentage is highest\n",
        "highest_tip_row = df.loc[df['tip_percentage'].idxmax()]\n",
        "highest_tip_day_time = highest_tip_row[['day', 'time', 'tip_percentage']]\n",
        "print(f\"Tips are highest on {highest_tip_day_time['day']} during {highest_tip_day_time['time']} with a percentage of {highest_tip_day_time['tip_percentage']:.2f}%\")\n"
      ],
      "metadata": {
        "colab": {
          "base_uri": "https://localhost:8080/"
        },
        "id": "Huv2ZVp1ZamO",
        "outputId": "b2a2417e-354e-4360-c101-74cecf96eb85"
      },
      "id": "Huv2ZVp1ZamO",
      "execution_count": 43,
      "outputs": [
        {
          "output_type": "stream",
          "name": "stdout",
          "text": [
            "Tips are highest on Sun during Dinner with a percentage of 71.03%\n"
          ]
        }
      ]
    },
    {
      "cell_type": "code",
      "source": [
        "# Compute the correlation between 'total_bill' and 'tip'\n",
        "correlation = df[['total_bill', 'tip']].corr().iloc[0, 1]\n",
        "print(f\"Correlation between meal prices and tips: {correlation:.2f}\")\n"
      ],
      "metadata": {
        "colab": {
          "base_uri": "https://localhost:8080/"
        },
        "id": "RhvKQQ58Zc5V",
        "outputId": "ba73aae7-c56b-4a72-d9bb-c999d251b703"
      },
      "id": "RhvKQQ58Zc5V",
      "execution_count": 44,
      "outputs": [
        {
          "output_type": "stream",
          "name": "stdout",
          "text": [
            "Correlation between meal prices and tips: 0.68\n"
          ]
        }
      ]
    },
    {
      "cell_type": "code",
      "source": [
        "# Compute the correlation between 'size' and 'tip'\n",
        "correlation_size_tip = df[['size', 'tip']].corr().iloc[0, 1]\n",
        "print(f\"Correlation between group size and tips: {correlation_size_tip:.2f}\")\n"
      ],
      "metadata": {
        "colab": {
          "base_uri": "https://localhost:8080/"
        },
        "id": "574qSYLJZfOG",
        "outputId": "1cb17af4-ad94-4a82-b448-444bcb3f2cb8"
      },
      "id": "574qSYLJZfOG",
      "execution_count": 45,
      "outputs": [
        {
          "output_type": "stream",
          "name": "stdout",
          "text": [
            "Correlation between group size and tips: 0.49\n"
          ]
        }
      ]
    },
    {
      "cell_type": "code",
      "source": [
        "# Calculate the percentage of smokers\n",
        "percentage_smoking = (df['smoker'].value_counts(normalize=True)['Yes']) * 100\n",
        "print(f\"Percentage of smokers: {percentage_smoking:.2f}%\")\n"
      ],
      "metadata": {
        "colab": {
          "base_uri": "https://localhost:8080/"
        },
        "id": "wcIfY15RZhhL",
        "outputId": "786e0158-57cf-4dbe-dc08-d50e8b1c7218"
      },
      "id": "wcIfY15RZhhL",
      "execution_count": 46,
      "outputs": [
        {
          "output_type": "stream",
          "name": "stdout",
          "text": [
            "Percentage of smokers: 38.11%\n"
          ]
        }
      ]
    },
    {
      "cell_type": "code",
      "source": [
        "# Sort the DataFrame by day and time\n",
        "df_sorted = df.sort_values(by=['day', 'time'])\n",
        "\n",
        "# Check if tips are increasing within each day\n",
        "df_sorted['tip_increasing'] = df_sorted.groupby('day')['tip'].apply(lambda x: x.diff().ge(0)).reset_index(drop=True)\n",
        "\n",
        "# Check if tips are generally increasing within each day\n",
        "tips_increasing = df_sorted.groupby('day')['tip_increasing'].all()\n",
        "print(tips_increasing)\n"
      ],
      "metadata": {
        "colab": {
          "base_uri": "https://localhost:8080/"
        },
        "id": "lTYc5B3qZj9u",
        "outputId": "d8768841-fe4e-4686-cec2-d2d9d2f2901f"
      },
      "id": "lTYc5B3qZj9u",
      "execution_count": 47,
      "outputs": [
        {
          "output_type": "stream",
          "name": "stdout",
          "text": [
            "day\n",
            "Fri     False\n",
            "Sat     False\n",
            "Sun     False\n",
            "Thur    False\n",
            "Name: tip_increasing, dtype: bool\n"
          ]
        }
      ]
    },
    {
      "cell_type": "code",
      "source": [
        "# Filter smokers and non-smokers\n",
        "smokers = df[df['smoker'] == 'Yes']\n",
        "non_smokers = df[df['smoker'] == 'No']\n",
        "\n",
        "# Compute the correlation for smokers and non-smokers separately\n",
        "correlation_smoker = smokers[['total_bill', 'tip']].corr().iloc[0, 1]\n",
        "correlation_non_smoker = non_smokers[['total_bill', 'tip']].corr().iloc[0, 1]\n",
        "\n",
        "print(f\"Correlation for smokers: {correlation_smoker:.2f}\")\n",
        "print(f\"Correlation for non-smokers: {correlation_non_smoker:.2f}\")\n"
      ],
      "metadata": {
        "colab": {
          "base_uri": "https://localhost:8080/"
        },
        "id": "AcfaO-hcZowB",
        "outputId": "c6b909ad-5b61-4f97-9b92-f891bc36bccb"
      },
      "id": "AcfaO-hcZowB",
      "execution_count": 48,
      "outputs": [
        {
          "output_type": "stream",
          "name": "stdout",
          "text": [
            "Correlation for smokers: 0.49\n",
            "Correlation for non-smokers: 0.82\n"
          ]
        }
      ]
    }
  ],
  "metadata": {
    "colab": {
      "provenance": []
    },
    "kernelspec": {
      "display_name": "Python 3 (ipykernel)",
      "language": "python",
      "name": "python3"
    },
    "language_info": {
      "codemirror_mode": {
        "name": "ipython",
        "version": 3
      },
      "file_extension": ".py",
      "mimetype": "text/x-python",
      "name": "python",
      "nbconvert_exporter": "python",
      "pygments_lexer": "ipython3",
      "version": "3.11.5"
    }
  },
  "nbformat": 4,
  "nbformat_minor": 5
}