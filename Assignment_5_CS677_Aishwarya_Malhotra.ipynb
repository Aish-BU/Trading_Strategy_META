{
 "cells": [
  {
   "cell_type": "markdown",
   "id": "7a4b8d75",
   "metadata": {
    "id": "7a4b8d75"
   },
   "source": [
    "<div style=\"text-align: center\"> <h1> Assignment - 5</div>"
   ]
  },
  {
   "cell_type": "markdown",
   "id": "45b2b05f-e184-4cf8-9228-0a82b9af911f",
   "metadata": {
    "id": "45b2b05f-e184-4cf8-9228-0a82b9af911f"
   },
   "source": [
    "<div style=\"text-align: center\"> <h3>CS677 A1 Data Science with Python (Fall 2024)"
   ]
  },
  {
   "cell_type": "markdown",
   "id": "397014ec-8a7d-4567-86de-c5dab2853bbf",
   "metadata": {
    "id": "397014ec-8a7d-4567-86de-c5dab2853bbf"
   },
   "source": [
    "<div style=\"text-align: center\"> <h4>Submitted by: Aishwarya Malhotra (U17161095)</div>"
   ]
  },
  {
   "cell_type": "markdown",
   "id": "LCZTDFgwZUcg",
   "metadata": {
    "id": "LCZTDFgwZUcg"
   },
   "source": [
    "### **Daytime Trading with Statistical Oracle**"
   ]
  },
  {
   "cell_type": "code",
   "execution_count": 1,
   "id": "uTJLdh1tkk1n",
   "metadata": {
    "id": "uTJLdh1tkk1n"
   },
   "outputs": [],
   "source": [
    "import pandas as pd"
   ]
  },
  {
   "cell_type": "code",
   "execution_count": 2,
   "id": "jZZoZHkbaFp8",
   "metadata": {
    "id": "jZZoZHkbaFp8"
   },
   "outputs": [],
   "source": [
    "df = pd.read_excel(\"META_weekly_return_detailed.xlsx\")"
   ]
  },
  {
   "cell_type": "code",
   "execution_count": 3,
   "id": "doaPMEeZo3K2",
   "metadata": {
    "id": "doaPMEeZo3K2"
   },
   "outputs": [],
   "source": [
    "# We sort the dates in accending order\n",
    "df.sort_values(by = 'Date', inplace = True)"
   ]
  },
  {
   "cell_type": "code",
   "execution_count": 4,
   "id": "KdSd6eKc28nr",
   "metadata": {
    "id": "KdSd6eKc28nr"
   },
   "outputs": [],
   "source": [
    "df.drop(columns = ['Label'], inplace = True)"
   ]
  },
  {
   "cell_type": "code",
   "execution_count": 5,
   "id": "RVGeUXJcbiF1",
   "metadata": {
    "colab": {
     "base_uri": "https://localhost:8080/",
     "height": 206
    },
    "id": "RVGeUXJcbiF1",
    "outputId": "8a19af30-5b66-4f4f-823a-b4250be8918a"
   },
   "outputs": [
    {
     "data": {
      "text/html": [
       "<div>\n",
       "<style scoped>\n",
       "    .dataframe tbody tr th:only-of-type {\n",
       "        vertical-align: middle;\n",
       "    }\n",
       "\n",
       "    .dataframe tbody tr th {\n",
       "        vertical-align: top;\n",
       "    }\n",
       "\n",
       "    .dataframe thead th {\n",
       "        text-align: right;\n",
       "    }\n",
       "</style>\n",
       "<table border=\"1\" class=\"dataframe\">\n",
       "  <thead>\n",
       "    <tr style=\"text-align: right;\">\n",
       "      <th></th>\n",
       "      <th>Open</th>\n",
       "      <th>High</th>\n",
       "      <th>Low</th>\n",
       "      <th>Close</th>\n",
       "      <th>Adj Close</th>\n",
       "      <th>Volume</th>\n",
       "      <th>Return</th>\n",
       "      <th>Date</th>\n",
       "      <th>Week_Number</th>\n",
       "      <th>Year</th>\n",
       "      <th>Day</th>\n",
       "      <th>Weekday</th>\n",
       "      <th>mean_return</th>\n",
       "      <th>volatility</th>\n",
       "    </tr>\n",
       "  </thead>\n",
       "  <tbody>\n",
       "    <tr>\n",
       "      <th>1257</th>\n",
       "      <td>128.990005</td>\n",
       "      <td>137.509995</td>\n",
       "      <td>128.559998</td>\n",
       "      <td>135.679993</td>\n",
       "      <td>135.272705</td>\n",
       "      <td>28146200</td>\n",
       "      <td>0.000</td>\n",
       "      <td>2019-01-02</td>\n",
       "      <td>0</td>\n",
       "      <td>2019</td>\n",
       "      <td>2</td>\n",
       "      <td>Wednesday</td>\n",
       "      <td>0.603333</td>\n",
       "      <td>3.84467</td>\n",
       "    </tr>\n",
       "    <tr>\n",
       "      <th>1256</th>\n",
       "      <td>134.690002</td>\n",
       "      <td>137.169998</td>\n",
       "      <td>131.119995</td>\n",
       "      <td>131.740005</td>\n",
       "      <td>131.344528</td>\n",
       "      <td>22717900</td>\n",
       "      <td>-2.904</td>\n",
       "      <td>2019-01-03</td>\n",
       "      <td>0</td>\n",
       "      <td>2019</td>\n",
       "      <td>3</td>\n",
       "      <td>Thursday</td>\n",
       "      <td>0.603333</td>\n",
       "      <td>3.84467</td>\n",
       "    </tr>\n",
       "    <tr>\n",
       "      <th>1255</th>\n",
       "      <td>134.009995</td>\n",
       "      <td>138.000000</td>\n",
       "      <td>133.750000</td>\n",
       "      <td>137.949997</td>\n",
       "      <td>137.535889</td>\n",
       "      <td>29002100</td>\n",
       "      <td>4.714</td>\n",
       "      <td>2019-01-04</td>\n",
       "      <td>0</td>\n",
       "      <td>2019</td>\n",
       "      <td>4</td>\n",
       "      <td>Friday</td>\n",
       "      <td>0.603333</td>\n",
       "      <td>3.84467</td>\n",
       "    </tr>\n",
       "    <tr>\n",
       "      <th>1254</th>\n",
       "      <td>137.559998</td>\n",
       "      <td>138.869995</td>\n",
       "      <td>135.910004</td>\n",
       "      <td>138.050003</td>\n",
       "      <td>137.635590</td>\n",
       "      <td>20089300</td>\n",
       "      <td>0.072</td>\n",
       "      <td>2019-01-07</td>\n",
       "      <td>1</td>\n",
       "      <td>2019</td>\n",
       "      <td>7</td>\n",
       "      <td>Monday</td>\n",
       "      <td>0.842400</td>\n",
       "      <td>1.45666</td>\n",
       "    </tr>\n",
       "    <tr>\n",
       "      <th>1253</th>\n",
       "      <td>139.889999</td>\n",
       "      <td>143.139999</td>\n",
       "      <td>139.539993</td>\n",
       "      <td>142.529999</td>\n",
       "      <td>142.102158</td>\n",
       "      <td>26263800</td>\n",
       "      <td>3.245</td>\n",
       "      <td>2019-01-08</td>\n",
       "      <td>1</td>\n",
       "      <td>2019</td>\n",
       "      <td>8</td>\n",
       "      <td>Tuesday</td>\n",
       "      <td>0.842400</td>\n",
       "      <td>1.45666</td>\n",
       "    </tr>\n",
       "  </tbody>\n",
       "</table>\n",
       "</div>"
      ],
      "text/plain": [
       "            Open        High         Low       Close   Adj Close    Volume  \\\n",
       "1257  128.990005  137.509995  128.559998  135.679993  135.272705  28146200   \n",
       "1256  134.690002  137.169998  131.119995  131.740005  131.344528  22717900   \n",
       "1255  134.009995  138.000000  133.750000  137.949997  137.535889  29002100   \n",
       "1254  137.559998  138.869995  135.910004  138.050003  137.635590  20089300   \n",
       "1253  139.889999  143.139999  139.539993  142.529999  142.102158  26263800   \n",
       "\n",
       "      Return       Date  Week_Number  Year  Day    Weekday  mean_return  \\\n",
       "1257   0.000 2019-01-02            0  2019    2  Wednesday     0.603333   \n",
       "1256  -2.904 2019-01-03            0  2019    3   Thursday     0.603333   \n",
       "1255   4.714 2019-01-04            0  2019    4     Friday     0.603333   \n",
       "1254   0.072 2019-01-07            1  2019    7     Monday     0.842400   \n",
       "1253   3.245 2019-01-08            1  2019    8    Tuesday     0.842400   \n",
       "\n",
       "      volatility  \n",
       "1257     3.84467  \n",
       "1256     3.84467  \n",
       "1255     3.84467  \n",
       "1254     1.45666  \n",
       "1253     1.45666  "
      ]
     },
     "execution_count": 5,
     "metadata": {},
     "output_type": "execute_result"
    }
   ],
   "source": [
    "df.head()"
   ]
  },
  {
   "cell_type": "code",
   "execution_count": 6,
   "id": "C3H2QKdCc1AW",
   "metadata": {
    "id": "C3H2QKdCc1AW"
   },
   "outputs": [],
   "source": [
    "#   Compute the daytime returns as the percent change from 'Open' to 'Close' price\n",
    "df['daytime_return'] = (df['Close'] - df['Open']) / df['Open'] *100"
   ]
  },
  {
   "cell_type": "code",
   "execution_count": 7,
   "id": "ux_8bgR5FyYk",
   "metadata": {
    "id": "ux_8bgR5FyYk"
   },
   "outputs": [],
   "source": [
    "weekday_returns = df.groupby('Weekday')['daytime_return'].mean().reset_index()\n"
   ]
  },
  {
   "cell_type": "markdown",
   "id": "vElgSW5iXu8Q",
   "metadata": {
    "id": "vElgSW5iXu8Q"
   },
   "source": [
    "##### **Solution - 1.1**"
   ]
  },
  {
   "cell_type": "code",
   "execution_count": 8,
   "id": "lJNBSX6VqRwo",
   "metadata": {
    "id": "lJNBSX6VqRwo"
   },
   "outputs": [],
   "source": [
    "results_df = (df.groupby(['Year', 'Weekday'])\n",
    "              .agg(\n",
    "                  μ_R=('daytime_return', 'mean'),\n",
    "                  σ_R=('daytime_return', 'std'),\n",
    "                  count_R_minus=('daytime_return', lambda x: (x < 0).sum()),\n",
    "                  μ_R_minus=('daytime_return', lambda x: x[x < 0].mean() if not x[x < 0].empty else 0),\n",
    "                  σ_R_minus=('daytime_return', lambda x: x[x < 0].std() if not x[x < 0].empty else 0),\n",
    "                  count_R_plus=('daytime_return', lambda x: (x >= 0).sum()),\n",
    "                  μ_R_plus=('daytime_return', lambda x: x[x >= 0].mean() if not x[x >= 0].empty else 0),\n",
    "                  σ_R_plus=('daytime_return', lambda x: x[x >= 0].std() if not x[x >= 0].empty else 0)\n",
    "              )\n",
    "              .reset_index())\n",
    "\n",
    "results_df.columns = ['Year', 'Day', 'μ(R)', 'σ(R)', '|R-|', 'μ(R-)', 'σ(R-)', '|R+|', 'μ(R+)', 'σ(R+)']\n",
    "\n",
    "# Define the custom order for the days of the week\n",
    "day_order = ['Monday', 'Tuesday', 'Wednesday', 'Thursday', 'Friday']\n",
    "\n",
    "# Convert the 'Day' column to a categorical type with the specified order\n",
    "results_df['Day'] = pd.Categorical(results_df['Day'], categories=day_order, ordered=True)\n",
    "\n",
    "# Sort the DataFrame by 'Year' and 'Day'\n",
    "result_df = results_df.sort_values(by=['Year', 'Day']).reset_index(drop=True)"
   ]
  },
  {
   "cell_type": "markdown",
   "id": "QfmxHLMQLuy-",
   "metadata": {
    "id": "QfmxHLMQLuy-"
   },
   "source": [
    "##### **Solution - 1.2**"
   ]
  },
  {
   "cell_type": "code",
   "execution_count": 9,
   "id": "mbjRFsSlbI6H",
   "metadata": {
    "colab": {
     "base_uri": "https://localhost:8080/",
     "height": 1137
    },
    "id": "mbjRFsSlbI6H",
    "outputId": "b24bdbd1-8689-40d0-aac9-a11627dfcfa6"
   },
   "outputs": [
    {
     "name": "stdout",
     "output_type": "stream",
     "text": [
      "\n",
      "Results for Year 2019:\n"
     ]
    },
    {
     "data": {
      "text/html": [
       "<div>\n",
       "<style scoped>\n",
       "    .dataframe tbody tr th:only-of-type {\n",
       "        vertical-align: middle;\n",
       "    }\n",
       "\n",
       "    .dataframe tbody tr th {\n",
       "        vertical-align: top;\n",
       "    }\n",
       "\n",
       "    .dataframe thead th {\n",
       "        text-align: right;\n",
       "    }\n",
       "</style>\n",
       "<table border=\"1\" class=\"dataframe\">\n",
       "  <thead>\n",
       "    <tr style=\"text-align: right;\">\n",
       "      <th></th>\n",
       "      <th>Day</th>\n",
       "      <th>μ(R)</th>\n",
       "      <th>σ(R)</th>\n",
       "      <th>|R-|</th>\n",
       "      <th>μ(R-)</th>\n",
       "      <th>σ(R-)</th>\n",
       "      <th>|R+|</th>\n",
       "      <th>μ(R+)</th>\n",
       "      <th>σ(R+)</th>\n",
       "    </tr>\n",
       "  </thead>\n",
       "  <tbody>\n",
       "    <tr>\n",
       "      <th>0</th>\n",
       "      <td>Monday</td>\n",
       "      <td>0.130572</td>\n",
       "      <td>1.472408</td>\n",
       "      <td>19</td>\n",
       "      <td>-1.151193</td>\n",
       "      <td>1.356257</td>\n",
       "      <td>29</td>\n",
       "      <td>0.970350</td>\n",
       "      <td>0.781903</td>\n",
       "    </tr>\n",
       "    <tr>\n",
       "      <th>1</th>\n",
       "      <td>Tuesday</td>\n",
       "      <td>0.031175</td>\n",
       "      <td>1.519552</td>\n",
       "      <td>28</td>\n",
       "      <td>-1.049099</td>\n",
       "      <td>1.082071</td>\n",
       "      <td>24</td>\n",
       "      <td>1.291495</td>\n",
       "      <td>0.816932</td>\n",
       "    </tr>\n",
       "    <tr>\n",
       "      <th>2</th>\n",
       "      <td>Wednesday</td>\n",
       "      <td>0.206974</td>\n",
       "      <td>1.535373</td>\n",
       "      <td>25</td>\n",
       "      <td>-0.949039</td>\n",
       "      <td>0.746789</td>\n",
       "      <td>26</td>\n",
       "      <td>1.318525</td>\n",
       "      <td>1.248207</td>\n",
       "    </tr>\n",
       "    <tr>\n",
       "      <th>3</th>\n",
       "      <td>Thursday</td>\n",
       "      <td>-0.087394</td>\n",
       "      <td>1.157645</td>\n",
       "      <td>24</td>\n",
       "      <td>-1.037584</td>\n",
       "      <td>0.844832</td>\n",
       "      <td>26</td>\n",
       "      <td>0.789705</td>\n",
       "      <td>0.550648</td>\n",
       "    </tr>\n",
       "    <tr>\n",
       "      <th>4</th>\n",
       "      <td>Friday</td>\n",
       "      <td>0.035728</td>\n",
       "      <td>1.132367</td>\n",
       "      <td>24</td>\n",
       "      <td>-0.881876</td>\n",
       "      <td>0.651324</td>\n",
       "      <td>27</td>\n",
       "      <td>0.851376</td>\n",
       "      <td>0.788988</td>\n",
       "    </tr>\n",
       "  </tbody>\n",
       "</table>\n",
       "</div>"
      ],
      "text/plain": [
       "         Day      μ(R)      σ(R)  |R-|     μ(R-)     σ(R-)  |R+|     μ(R+)  \\\n",
       "0     Monday  0.130572  1.472408    19 -1.151193  1.356257    29  0.970350   \n",
       "1    Tuesday  0.031175  1.519552    28 -1.049099  1.082071    24  1.291495   \n",
       "2  Wednesday  0.206974  1.535373    25 -0.949039  0.746789    26  1.318525   \n",
       "3   Thursday -0.087394  1.157645    24 -1.037584  0.844832    26  0.789705   \n",
       "4     Friday  0.035728  1.132367    24 -0.881876  0.651324    27  0.851376   \n",
       "\n",
       "      σ(R+)  \n",
       "0  0.781903  \n",
       "1  0.816932  \n",
       "2  1.248207  \n",
       "3  0.550648  \n",
       "4  0.788988  "
      ]
     },
     "metadata": {},
     "output_type": "display_data"
    },
    {
     "name": "stdout",
     "output_type": "stream",
     "text": [
      "\n",
      "Results for Year 2020:\n"
     ]
    },
    {
     "data": {
      "text/html": [
       "<div>\n",
       "<style scoped>\n",
       "    .dataframe tbody tr th:only-of-type {\n",
       "        vertical-align: middle;\n",
       "    }\n",
       "\n",
       "    .dataframe tbody tr th {\n",
       "        vertical-align: top;\n",
       "    }\n",
       "\n",
       "    .dataframe thead th {\n",
       "        text-align: right;\n",
       "    }\n",
       "</style>\n",
       "<table border=\"1\" class=\"dataframe\">\n",
       "  <thead>\n",
       "    <tr style=\"text-align: right;\">\n",
       "      <th></th>\n",
       "      <th>Day</th>\n",
       "      <th>μ(R)</th>\n",
       "      <th>σ(R)</th>\n",
       "      <th>|R-|</th>\n",
       "      <th>μ(R-)</th>\n",
       "      <th>σ(R-)</th>\n",
       "      <th>|R+|</th>\n",
       "      <th>μ(R+)</th>\n",
       "      <th>σ(R+)</th>\n",
       "    </tr>\n",
       "  </thead>\n",
       "  <tbody>\n",
       "    <tr>\n",
       "      <th>5</th>\n",
       "      <td>Monday</td>\n",
       "      <td>0.469652</td>\n",
       "      <td>2.025981</td>\n",
       "      <td>18</td>\n",
       "      <td>-1.506050</td>\n",
       "      <td>1.270466</td>\n",
       "      <td>30</td>\n",
       "      <td>1.655073</td>\n",
       "      <td>1.352632</td>\n",
       "    </tr>\n",
       "    <tr>\n",
       "      <th>6</th>\n",
       "      <td>Tuesday</td>\n",
       "      <td>0.042332</td>\n",
       "      <td>1.837194</td>\n",
       "      <td>25</td>\n",
       "      <td>-1.453792</td>\n",
       "      <td>1.190557</td>\n",
       "      <td>27</td>\n",
       "      <td>1.427633</td>\n",
       "      <td>1.080366</td>\n",
       "    </tr>\n",
       "    <tr>\n",
       "      <th>7</th>\n",
       "      <td>Wednesday</td>\n",
       "      <td>0.153179</td>\n",
       "      <td>1.975120</td>\n",
       "      <td>25</td>\n",
       "      <td>-1.326489</td>\n",
       "      <td>0.994797</td>\n",
       "      <td>27</td>\n",
       "      <td>1.523242</td>\n",
       "      <td>1.638347</td>\n",
       "    </tr>\n",
       "    <tr>\n",
       "      <th>8</th>\n",
       "      <td>Thursday</td>\n",
       "      <td>0.067586</td>\n",
       "      <td>1.815286</td>\n",
       "      <td>27</td>\n",
       "      <td>-1.235325</td>\n",
       "      <td>0.878942</td>\n",
       "      <td>25</td>\n",
       "      <td>1.474730</td>\n",
       "      <td>1.480941</td>\n",
       "    </tr>\n",
       "    <tr>\n",
       "      <th>9</th>\n",
       "      <td>Friday</td>\n",
       "      <td>-0.098538</td>\n",
       "      <td>2.063379</td>\n",
       "      <td>26</td>\n",
       "      <td>-1.376135</td>\n",
       "      <td>1.629467</td>\n",
       "      <td>23</td>\n",
       "      <td>1.345702</td>\n",
       "      <td>1.470462</td>\n",
       "    </tr>\n",
       "  </tbody>\n",
       "</table>\n",
       "</div>"
      ],
      "text/plain": [
       "         Day      μ(R)      σ(R)  |R-|     μ(R-)     σ(R-)  |R+|     μ(R+)  \\\n",
       "5     Monday  0.469652  2.025981    18 -1.506050  1.270466    30  1.655073   \n",
       "6    Tuesday  0.042332  1.837194    25 -1.453792  1.190557    27  1.427633   \n",
       "7  Wednesday  0.153179  1.975120    25 -1.326489  0.994797    27  1.523242   \n",
       "8   Thursday  0.067586  1.815286    27 -1.235325  0.878942    25  1.474730   \n",
       "9     Friday -0.098538  2.063379    26 -1.376135  1.629467    23  1.345702   \n",
       "\n",
       "      σ(R+)  \n",
       "5  1.352632  \n",
       "6  1.080366  \n",
       "7  1.638347  \n",
       "8  1.480941  \n",
       "9  1.470462  "
      ]
     },
     "metadata": {},
     "output_type": "display_data"
    },
    {
     "name": "stdout",
     "output_type": "stream",
     "text": [
      "\n",
      "Results for Year 2021:\n"
     ]
    },
    {
     "data": {
      "text/html": [
       "<div>\n",
       "<style scoped>\n",
       "    .dataframe tbody tr th:only-of-type {\n",
       "        vertical-align: middle;\n",
       "    }\n",
       "\n",
       "    .dataframe tbody tr th {\n",
       "        vertical-align: top;\n",
       "    }\n",
       "\n",
       "    .dataframe thead th {\n",
       "        text-align: right;\n",
       "    }\n",
       "</style>\n",
       "<table border=\"1\" class=\"dataframe\">\n",
       "  <thead>\n",
       "    <tr style=\"text-align: right;\">\n",
       "      <th></th>\n",
       "      <th>Day</th>\n",
       "      <th>μ(R)</th>\n",
       "      <th>σ(R)</th>\n",
       "      <th>|R-|</th>\n",
       "      <th>μ(R-)</th>\n",
       "      <th>σ(R-)</th>\n",
       "      <th>|R+|</th>\n",
       "      <th>μ(R+)</th>\n",
       "      <th>σ(R+)</th>\n",
       "    </tr>\n",
       "  </thead>\n",
       "  <tbody>\n",
       "    <tr>\n",
       "      <th>10</th>\n",
       "      <td>Monday</td>\n",
       "      <td>0.317610</td>\n",
       "      <td>1.703564</td>\n",
       "      <td>19</td>\n",
       "      <td>-1.399617</td>\n",
       "      <td>1.002459</td>\n",
       "      <td>28</td>\n",
       "      <td>1.482871</td>\n",
       "      <td>0.889477</td>\n",
       "    </tr>\n",
       "    <tr>\n",
       "      <th>11</th>\n",
       "      <td>Tuesday</td>\n",
       "      <td>-0.063735</td>\n",
       "      <td>1.382080</td>\n",
       "      <td>29</td>\n",
       "      <td>-1.027774</td>\n",
       "      <td>0.945313</td>\n",
       "      <td>23</td>\n",
       "      <td>1.151793</td>\n",
       "      <td>0.721792</td>\n",
       "    </tr>\n",
       "    <tr>\n",
       "      <th>12</th>\n",
       "      <td>Wednesday</td>\n",
       "      <td>-0.252978</td>\n",
       "      <td>1.644795</td>\n",
       "      <td>32</td>\n",
       "      <td>-1.233062</td>\n",
       "      <td>1.171581</td>\n",
       "      <td>20</td>\n",
       "      <td>1.315156</td>\n",
       "      <td>0.903306</td>\n",
       "    </tr>\n",
       "    <tr>\n",
       "      <th>13</th>\n",
       "      <td>Thursday</td>\n",
       "      <td>-0.014118</td>\n",
       "      <td>1.333414</td>\n",
       "      <td>23</td>\n",
       "      <td>-1.085847</td>\n",
       "      <td>1.125823</td>\n",
       "      <td>28</td>\n",
       "      <td>0.866230</td>\n",
       "      <td>0.691133</td>\n",
       "    </tr>\n",
       "    <tr>\n",
       "      <th>14</th>\n",
       "      <td>Friday</td>\n",
       "      <td>0.166414</td>\n",
       "      <td>1.415591</td>\n",
       "      <td>24</td>\n",
       "      <td>-0.989982</td>\n",
       "      <td>0.811337</td>\n",
       "      <td>26</td>\n",
       "      <td>1.233856</td>\n",
       "      <td>0.923722</td>\n",
       "    </tr>\n",
       "  </tbody>\n",
       "</table>\n",
       "</div>"
      ],
      "text/plain": [
       "          Day      μ(R)      σ(R)  |R-|     μ(R-)     σ(R-)  |R+|     μ(R+)  \\\n",
       "10     Monday  0.317610  1.703564    19 -1.399617  1.002459    28  1.482871   \n",
       "11    Tuesday -0.063735  1.382080    29 -1.027774  0.945313    23  1.151793   \n",
       "12  Wednesday -0.252978  1.644795    32 -1.233062  1.171581    20  1.315156   \n",
       "13   Thursday -0.014118  1.333414    23 -1.085847  1.125823    28  0.866230   \n",
       "14     Friday  0.166414  1.415591    24 -0.989982  0.811337    26  1.233856   \n",
       "\n",
       "       σ(R+)  \n",
       "10  0.889477  \n",
       "11  0.721792  \n",
       "12  0.903306  \n",
       "13  0.691133  \n",
       "14  0.923722  "
      ]
     },
     "metadata": {},
     "output_type": "display_data"
    },
    {
     "name": "stdout",
     "output_type": "stream",
     "text": [
      "\n",
      "Results for Year 2022:\n"
     ]
    },
    {
     "data": {
      "text/html": [
       "<div>\n",
       "<style scoped>\n",
       "    .dataframe tbody tr th:only-of-type {\n",
       "        vertical-align: middle;\n",
       "    }\n",
       "\n",
       "    .dataframe tbody tr th {\n",
       "        vertical-align: top;\n",
       "    }\n",
       "\n",
       "    .dataframe thead th {\n",
       "        text-align: right;\n",
       "    }\n",
       "</style>\n",
       "<table border=\"1\" class=\"dataframe\">\n",
       "  <thead>\n",
       "    <tr style=\"text-align: right;\">\n",
       "      <th></th>\n",
       "      <th>Day</th>\n",
       "      <th>μ(R)</th>\n",
       "      <th>σ(R)</th>\n",
       "      <th>|R-|</th>\n",
       "      <th>μ(R-)</th>\n",
       "      <th>σ(R-)</th>\n",
       "      <th>|R+|</th>\n",
       "      <th>μ(R+)</th>\n",
       "      <th>σ(R+)</th>\n",
       "    </tr>\n",
       "  </thead>\n",
       "  <tbody>\n",
       "    <tr>\n",
       "      <th>15</th>\n",
       "      <td>Monday</td>\n",
       "      <td>0.033266</td>\n",
       "      <td>2.455482</td>\n",
       "      <td>19</td>\n",
       "      <td>-2.194742</td>\n",
       "      <td>1.789698</td>\n",
       "      <td>26</td>\n",
       "      <td>1.661427</td>\n",
       "      <td>1.332649</td>\n",
       "    </tr>\n",
       "    <tr>\n",
       "      <th>16</th>\n",
       "      <td>Tuesday</td>\n",
       "      <td>-0.317643</td>\n",
       "      <td>2.474562</td>\n",
       "      <td>28</td>\n",
       "      <td>-2.015768</td>\n",
       "      <td>1.690838</td>\n",
       "      <td>24</td>\n",
       "      <td>1.663504</td>\n",
       "      <td>1.617363</td>\n",
       "    </tr>\n",
       "    <tr>\n",
       "      <th>17</th>\n",
       "      <td>Wednesday</td>\n",
       "      <td>0.279551</td>\n",
       "      <td>2.789343</td>\n",
       "      <td>22</td>\n",
       "      <td>-2.210883</td>\n",
       "      <td>1.573810</td>\n",
       "      <td>30</td>\n",
       "      <td>2.105869</td>\n",
       "      <td>1.932257</td>\n",
       "    </tr>\n",
       "    <tr>\n",
       "      <th>18</th>\n",
       "      <td>Thursday</td>\n",
       "      <td>0.190200</td>\n",
       "      <td>2.849014</td>\n",
       "      <td>26</td>\n",
       "      <td>-1.918497</td>\n",
       "      <td>1.676865</td>\n",
       "      <td>25</td>\n",
       "      <td>2.383244</td>\n",
       "      <td>2.038171</td>\n",
       "    </tr>\n",
       "    <tr>\n",
       "      <th>19</th>\n",
       "      <td>Friday</td>\n",
       "      <td>-0.013492</td>\n",
       "      <td>2.458225</td>\n",
       "      <td>27</td>\n",
       "      <td>-1.857011</td>\n",
       "      <td>1.386965</td>\n",
       "      <td>24</td>\n",
       "      <td>2.060468</td>\n",
       "      <td>1.576116</td>\n",
       "    </tr>\n",
       "  </tbody>\n",
       "</table>\n",
       "</div>"
      ],
      "text/plain": [
       "          Day      μ(R)      σ(R)  |R-|     μ(R-)     σ(R-)  |R+|     μ(R+)  \\\n",
       "15     Monday  0.033266  2.455482    19 -2.194742  1.789698    26  1.661427   \n",
       "16    Tuesday -0.317643  2.474562    28 -2.015768  1.690838    24  1.663504   \n",
       "17  Wednesday  0.279551  2.789343    22 -2.210883  1.573810    30  2.105869   \n",
       "18   Thursday  0.190200  2.849014    26 -1.918497  1.676865    25  2.383244   \n",
       "19     Friday -0.013492  2.458225    27 -1.857011  1.386965    24  2.060468   \n",
       "\n",
       "       σ(R+)  \n",
       "15  1.332649  \n",
       "16  1.617363  \n",
       "17  1.932257  \n",
       "18  2.038171  \n",
       "19  1.576116  "
      ]
     },
     "metadata": {},
     "output_type": "display_data"
    },
    {
     "name": "stdout",
     "output_type": "stream",
     "text": [
      "\n",
      "Results for Year 2023:\n"
     ]
    },
    {
     "data": {
      "text/html": [
       "<div>\n",
       "<style scoped>\n",
       "    .dataframe tbody tr th:only-of-type {\n",
       "        vertical-align: middle;\n",
       "    }\n",
       "\n",
       "    .dataframe tbody tr th {\n",
       "        vertical-align: top;\n",
       "    }\n",
       "\n",
       "    .dataframe thead th {\n",
       "        text-align: right;\n",
       "    }\n",
       "</style>\n",
       "<table border=\"1\" class=\"dataframe\">\n",
       "  <thead>\n",
       "    <tr style=\"text-align: right;\">\n",
       "      <th></th>\n",
       "      <th>Day</th>\n",
       "      <th>μ(R)</th>\n",
       "      <th>σ(R)</th>\n",
       "      <th>|R-|</th>\n",
       "      <th>μ(R-)</th>\n",
       "      <th>σ(R-)</th>\n",
       "      <th>|R+|</th>\n",
       "      <th>μ(R+)</th>\n",
       "      <th>σ(R+)</th>\n",
       "    </tr>\n",
       "  </thead>\n",
       "  <tbody>\n",
       "    <tr>\n",
       "      <th>20</th>\n",
       "      <td>Monday</td>\n",
       "      <td>0.460525</td>\n",
       "      <td>1.364776</td>\n",
       "      <td>17</td>\n",
       "      <td>-1.015549</td>\n",
       "      <td>0.855276</td>\n",
       "      <td>28</td>\n",
       "      <td>1.356712</td>\n",
       "      <td>0.630206</td>\n",
       "    </tr>\n",
       "    <tr>\n",
       "      <th>21</th>\n",
       "      <td>Tuesday</td>\n",
       "      <td>0.440635</td>\n",
       "      <td>1.520882</td>\n",
       "      <td>22</td>\n",
       "      <td>-0.959830</td>\n",
       "      <td>0.612895</td>\n",
       "      <td>29</td>\n",
       "      <td>1.503056</td>\n",
       "      <td>1.067098</td>\n",
       "    </tr>\n",
       "    <tr>\n",
       "      <th>22</th>\n",
       "      <td>Wednesday</td>\n",
       "      <td>-0.044396</td>\n",
       "      <td>1.676333</td>\n",
       "      <td>25</td>\n",
       "      <td>-1.485120</td>\n",
       "      <td>0.882577</td>\n",
       "      <td>27</td>\n",
       "      <td>1.289608</td>\n",
       "      <td>0.974275</td>\n",
       "    </tr>\n",
       "    <tr>\n",
       "      <th>23</th>\n",
       "      <td>Thursday</td>\n",
       "      <td>0.198790</td>\n",
       "      <td>2.036113</td>\n",
       "      <td>22</td>\n",
       "      <td>-1.649721</td>\n",
       "      <td>1.390680</td>\n",
       "      <td>29</td>\n",
       "      <td>1.601108</td>\n",
       "      <td>1.109565</td>\n",
       "    </tr>\n",
       "    <tr>\n",
       "      <th>24</th>\n",
       "      <td>Friday</td>\n",
       "      <td>0.359269</td>\n",
       "      <td>1.842375</td>\n",
       "      <td>24</td>\n",
       "      <td>-1.222823</td>\n",
       "      <td>1.018733</td>\n",
       "      <td>27</td>\n",
       "      <td>1.765572</td>\n",
       "      <td>1.115924</td>\n",
       "    </tr>\n",
       "  </tbody>\n",
       "</table>\n",
       "</div>"
      ],
      "text/plain": [
       "          Day      μ(R)      σ(R)  |R-|     μ(R-)     σ(R-)  |R+|     μ(R+)  \\\n",
       "20     Monday  0.460525  1.364776    17 -1.015549  0.855276    28  1.356712   \n",
       "21    Tuesday  0.440635  1.520882    22 -0.959830  0.612895    29  1.503056   \n",
       "22  Wednesday -0.044396  1.676333    25 -1.485120  0.882577    27  1.289608   \n",
       "23   Thursday  0.198790  2.036113    22 -1.649721  1.390680    29  1.601108   \n",
       "24     Friday  0.359269  1.842375    24 -1.222823  1.018733    27  1.765572   \n",
       "\n",
       "       σ(R+)  \n",
       "20  0.630206  \n",
       "21  1.067098  \n",
       "22  0.974275  \n",
       "23  1.109565  \n",
       "24  1.115924  "
      ]
     },
     "metadata": {},
     "output_type": "display_data"
    }
   ],
   "source": [
    "for year in result_df['Year'].unique():\n",
    "    print(f\"\\nResults for Year {year}:\")\n",
    "    display(result_df[result_df['Year'] == year].drop(columns='Year'))"
   ]
  },
  {
   "cell_type": "markdown",
   "id": "9pIuIF4hLu53",
   "metadata": {
    "id": "9pIuIF4hLu53"
   },
   "source": [
    "##### **Solution - 1.3**"
   ]
  },
  {
   "cell_type": "code",
   "execution_count": 10,
   "id": "m3NN-Zd-dJv8",
   "metadata": {
    "colab": {
     "base_uri": "https://localhost:8080/",
     "height": 0
    },
    "id": "m3NN-Zd-dJv8",
    "outputId": "5dbae685-916d-4c19-86b1-360b96200d1d"
   },
   "outputs": [
    {
     "name": "stdout",
     "output_type": "stream",
     "text": [
      "\n",
      "Total number of days with R−: 600\n",
      "Total number of days with R+: 658\n"
     ]
    }
   ],
   "source": [
    "total_negative_days = results_df['|R-|'].sum()\n",
    "total_positive_days = results_df['|R+|'].sum()\n",
    "\n",
    "print(f\"\\nTotal number of days with R−: {total_negative_days}\")\n",
    "print(f\"Total number of days with R+: {total_positive_days}\")"
   ]
  },
  {
   "cell_type": "markdown",
   "id": "-fqHSRW77WoL",
   "metadata": {
    "id": "-fqHSRW77WoL"
   },
   "source": [
    "> **💡Results💡-**\n",
    ">\n",
    "> There are more days with non-negative daytime returns compared to negative daytime returns."
   ]
  },
  {
   "cell_type": "markdown",
   "id": "Y--Gd5fpMHvz",
   "metadata": {
    "id": "Y--Gd5fpMHvz"
   },
   "source": [
    "##### **Solution - 1.4**"
   ]
  },
  {
   "cell_type": "code",
   "execution_count": 11,
   "id": "2AyWUVnyt9EH",
   "metadata": {
    "colab": {
     "base_uri": "https://localhost:8080/",
     "height": 0
    },
    "id": "2AyWUVnyt9EH",
    "outputId": "f9af2c55-06e6-4cc6-aa76-8a7140d15e43"
   },
   "outputs": [
    {
     "name": "stdout",
     "output_type": "stream",
     "text": [
      "Average loss on down days (μ(R-)): -1.369312326221264\n",
      "Average gain on up days (μ(R+)): 1.443532223559222\n",
      "The stock loses more on down days than it gains on up days.\n"
     ]
    }
   ],
   "source": [
    "# Overall mean returns for negative and positive returns\n",
    "mean_negative_return = results_df['μ(R-)'].mean()\n",
    "mean_positive_return = results_df['μ(R+)'].mean()\n",
    "\n",
    "print(f\"Average loss on down days (μ(R-)): {mean_negative_return}\")\n",
    "print(f\"Average gain on up days (μ(R+)): {mean_positive_return}\")\n",
    "\n",
    "if mean_negative_return < mean_positive_return:\n",
    "    print(\"The stock loses more on down days than it gains on up days.\")\n",
    "else:\n",
    "    print(\"The stock gains more on up days than it loses on down days.\")\n"
   ]
  },
  {
   "cell_type": "markdown",
   "id": "8GVDsu33MK7t",
   "metadata": {
    "id": "8GVDsu33MK7t"
   },
   "source": [
    "##### **Solution - 1.5**"
   ]
  },
  {
   "cell_type": "markdown",
   "id": "cjM80ClS76aD",
   "metadata": {
    "id": "cjM80ClS76aD"
   },
   "source": [
    "**💡Results💡-**\n",
    "\n",
    "**Volatility across Days:**\n",
    "\n",
    "No results are not same across days of the week.\n",
    "\n",
    "While certain days tend to be more volatile and show patterns, there is no consistent behavior across all days of the week, and the difference in returns on down vs up days varies by year and day of the week."
   ]
  },
  {
   "cell_type": "markdown",
   "id": "DUwNN_ypMVer",
   "metadata": {
    "id": "DUwNN_ypMVer"
   },
   "source": [
    "##### **Solution - 2.1**"
   ]
  },
  {
   "cell_type": "code",
   "execution_count": 12,
   "id": "yqE4eY3yGxBD",
   "metadata": {
    "colab": {
     "base_uri": "https://localhost:8080/",
     "height": 833
    },
    "id": "yqE4eY3yGxBD",
    "outputId": "961d464f-b35d-4176-8dfd-e2287e5827e5"
   },
   "outputs": [
    {
     "data": {
      "text/html": [
       "<style type=\"text/css\">\n",
       "#T_e3149_row0_col5, #T_e3149_row0_col6, #T_e3149_row2_col3, #T_e3149_row2_col9, #T_e3149_row3_col2, #T_e3149_row3_col8, #T_e3149_row5_col5, #T_e3149_row7_col9, #T_e3149_row9_col2, #T_e3149_row9_col3, #T_e3149_row9_col6, #T_e3149_row9_col8, #T_e3149_row10_col3, #T_e3149_row10_col5, #T_e3149_row12_col2, #T_e3149_row12_col6, #T_e3149_row13_col8, #T_e3149_row14_col9, #T_e3149_row15_col6, #T_e3149_row15_col8, #T_e3149_row16_col2, #T_e3149_row17_col5, #T_e3149_row18_col3, #T_e3149_row18_col9, #T_e3149_row22_col2, #T_e3149_row22_col8, #T_e3149_row23_col3, #T_e3149_row23_col5, #T_e3149_row23_col6, #T_e3149_row24_col9 {\n",
       "  background-color: lightcoral;\n",
       "}\n",
       "#T_e3149_row2_col2, #T_e3149_row2_col8, #T_e3149_row3_col9, #T_e3149_row4_col3, #T_e3149_row4_col5, #T_e3149_row4_col6, #T_e3149_row5_col2, #T_e3149_row5_col8, #T_e3149_row6_col9, #T_e3149_row8_col3, #T_e3149_row8_col5, #T_e3149_row8_col6, #T_e3149_row10_col2, #T_e3149_row10_col8, #T_e3149_row13_col3, #T_e3149_row13_col9, #T_e3149_row14_col5, #T_e3149_row14_col6, #T_e3149_row15_col3, #T_e3149_row15_col9, #T_e3149_row17_col2, #T_e3149_row18_col8, #T_e3149_row19_col5, #T_e3149_row19_col6, #T_e3149_row20_col2, #T_e3149_row20_col3, #T_e3149_row20_col9, #T_e3149_row21_col5, #T_e3149_row21_col6, #T_e3149_row24_col8 {\n",
       "  background-color: lightgreen;\n",
       "}\n",
       "</style>\n",
       "<table id=\"T_e3149\">\n",
       "  <thead>\n",
       "    <tr>\n",
       "      <th class=\"blank level0\" >&nbsp;</th>\n",
       "      <th id=\"T_e3149_level0_col0\" class=\"col_heading level0 col0\" >Year</th>\n",
       "      <th id=\"T_e3149_level0_col1\" class=\"col_heading level0 col1\" >Day</th>\n",
       "      <th id=\"T_e3149_level0_col2\" class=\"col_heading level0 col2\" >μ(R)</th>\n",
       "      <th id=\"T_e3149_level0_col3\" class=\"col_heading level0 col3\" >σ(R)</th>\n",
       "      <th id=\"T_e3149_level0_col4\" class=\"col_heading level0 col4\" >|R-|</th>\n",
       "      <th id=\"T_e3149_level0_col5\" class=\"col_heading level0 col5\" >μ(R-)</th>\n",
       "      <th id=\"T_e3149_level0_col6\" class=\"col_heading level0 col6\" >σ(R-)</th>\n",
       "      <th id=\"T_e3149_level0_col7\" class=\"col_heading level0 col7\" >|R+|</th>\n",
       "      <th id=\"T_e3149_level0_col8\" class=\"col_heading level0 col8\" >μ(R+)</th>\n",
       "      <th id=\"T_e3149_level0_col9\" class=\"col_heading level0 col9\" >σ(R+)</th>\n",
       "    </tr>\n",
       "  </thead>\n",
       "  <tbody>\n",
       "    <tr>\n",
       "      <th id=\"T_e3149_level0_row0\" class=\"row_heading level0 row0\" >0</th>\n",
       "      <td id=\"T_e3149_row0_col0\" class=\"data row0 col0\" >2019</td>\n",
       "      <td id=\"T_e3149_row0_col1\" class=\"data row0 col1\" >Monday</td>\n",
       "      <td id=\"T_e3149_row0_col2\" class=\"data row0 col2\" >0.130572</td>\n",
       "      <td id=\"T_e3149_row0_col3\" class=\"data row0 col3\" >1.472408</td>\n",
       "      <td id=\"T_e3149_row0_col4\" class=\"data row0 col4\" >19</td>\n",
       "      <td id=\"T_e3149_row0_col5\" class=\"data row0 col5\" >-1.151193</td>\n",
       "      <td id=\"T_e3149_row0_col6\" class=\"data row0 col6\" >1.356257</td>\n",
       "      <td id=\"T_e3149_row0_col7\" class=\"data row0 col7\" >29</td>\n",
       "      <td id=\"T_e3149_row0_col8\" class=\"data row0 col8\" >0.970350</td>\n",
       "      <td id=\"T_e3149_row0_col9\" class=\"data row0 col9\" >0.781903</td>\n",
       "    </tr>\n",
       "    <tr>\n",
       "      <th id=\"T_e3149_level0_row1\" class=\"row_heading level0 row1\" >1</th>\n",
       "      <td id=\"T_e3149_row1_col0\" class=\"data row1 col0\" >2019</td>\n",
       "      <td id=\"T_e3149_row1_col1\" class=\"data row1 col1\" >Tuesday</td>\n",
       "      <td id=\"T_e3149_row1_col2\" class=\"data row1 col2\" >0.031175</td>\n",
       "      <td id=\"T_e3149_row1_col3\" class=\"data row1 col3\" >1.519552</td>\n",
       "      <td id=\"T_e3149_row1_col4\" class=\"data row1 col4\" >28</td>\n",
       "      <td id=\"T_e3149_row1_col5\" class=\"data row1 col5\" >-1.049099</td>\n",
       "      <td id=\"T_e3149_row1_col6\" class=\"data row1 col6\" >1.082071</td>\n",
       "      <td id=\"T_e3149_row1_col7\" class=\"data row1 col7\" >24</td>\n",
       "      <td id=\"T_e3149_row1_col8\" class=\"data row1 col8\" >1.291495</td>\n",
       "      <td id=\"T_e3149_row1_col9\" class=\"data row1 col9\" >0.816932</td>\n",
       "    </tr>\n",
       "    <tr>\n",
       "      <th id=\"T_e3149_level0_row2\" class=\"row_heading level0 row2\" >2</th>\n",
       "      <td id=\"T_e3149_row2_col0\" class=\"data row2 col0\" >2019</td>\n",
       "      <td id=\"T_e3149_row2_col1\" class=\"data row2 col1\" >Wednesday</td>\n",
       "      <td id=\"T_e3149_row2_col2\" class=\"data row2 col2\" >0.206974</td>\n",
       "      <td id=\"T_e3149_row2_col3\" class=\"data row2 col3\" >1.535373</td>\n",
       "      <td id=\"T_e3149_row2_col4\" class=\"data row2 col4\" >25</td>\n",
       "      <td id=\"T_e3149_row2_col5\" class=\"data row2 col5\" >-0.949039</td>\n",
       "      <td id=\"T_e3149_row2_col6\" class=\"data row2 col6\" >0.746789</td>\n",
       "      <td id=\"T_e3149_row2_col7\" class=\"data row2 col7\" >26</td>\n",
       "      <td id=\"T_e3149_row2_col8\" class=\"data row2 col8\" >1.318525</td>\n",
       "      <td id=\"T_e3149_row2_col9\" class=\"data row2 col9\" >1.248207</td>\n",
       "    </tr>\n",
       "    <tr>\n",
       "      <th id=\"T_e3149_level0_row3\" class=\"row_heading level0 row3\" >3</th>\n",
       "      <td id=\"T_e3149_row3_col0\" class=\"data row3 col0\" >2019</td>\n",
       "      <td id=\"T_e3149_row3_col1\" class=\"data row3 col1\" >Thursday</td>\n",
       "      <td id=\"T_e3149_row3_col2\" class=\"data row3 col2\" >-0.087394</td>\n",
       "      <td id=\"T_e3149_row3_col3\" class=\"data row3 col3\" >1.157645</td>\n",
       "      <td id=\"T_e3149_row3_col4\" class=\"data row3 col4\" >24</td>\n",
       "      <td id=\"T_e3149_row3_col5\" class=\"data row3 col5\" >-1.037584</td>\n",
       "      <td id=\"T_e3149_row3_col6\" class=\"data row3 col6\" >0.844832</td>\n",
       "      <td id=\"T_e3149_row3_col7\" class=\"data row3 col7\" >26</td>\n",
       "      <td id=\"T_e3149_row3_col8\" class=\"data row3 col8\" >0.789705</td>\n",
       "      <td id=\"T_e3149_row3_col9\" class=\"data row3 col9\" >0.550648</td>\n",
       "    </tr>\n",
       "    <tr>\n",
       "      <th id=\"T_e3149_level0_row4\" class=\"row_heading level0 row4\" >4</th>\n",
       "      <td id=\"T_e3149_row4_col0\" class=\"data row4 col0\" >2019</td>\n",
       "      <td id=\"T_e3149_row4_col1\" class=\"data row4 col1\" >Friday</td>\n",
       "      <td id=\"T_e3149_row4_col2\" class=\"data row4 col2\" >0.035728</td>\n",
       "      <td id=\"T_e3149_row4_col3\" class=\"data row4 col3\" >1.132367</td>\n",
       "      <td id=\"T_e3149_row4_col4\" class=\"data row4 col4\" >24</td>\n",
       "      <td id=\"T_e3149_row4_col5\" class=\"data row4 col5\" >-0.881876</td>\n",
       "      <td id=\"T_e3149_row4_col6\" class=\"data row4 col6\" >0.651324</td>\n",
       "      <td id=\"T_e3149_row4_col7\" class=\"data row4 col7\" >27</td>\n",
       "      <td id=\"T_e3149_row4_col8\" class=\"data row4 col8\" >0.851376</td>\n",
       "      <td id=\"T_e3149_row4_col9\" class=\"data row4 col9\" >0.788988</td>\n",
       "    </tr>\n",
       "    <tr>\n",
       "      <th id=\"T_e3149_level0_row5\" class=\"row_heading level0 row5\" >5</th>\n",
       "      <td id=\"T_e3149_row5_col0\" class=\"data row5 col0\" >2020</td>\n",
       "      <td id=\"T_e3149_row5_col1\" class=\"data row5 col1\" >Monday</td>\n",
       "      <td id=\"T_e3149_row5_col2\" class=\"data row5 col2\" >0.469652</td>\n",
       "      <td id=\"T_e3149_row5_col3\" class=\"data row5 col3\" >2.025981</td>\n",
       "      <td id=\"T_e3149_row5_col4\" class=\"data row5 col4\" >18</td>\n",
       "      <td id=\"T_e3149_row5_col5\" class=\"data row5 col5\" >-1.506050</td>\n",
       "      <td id=\"T_e3149_row5_col6\" class=\"data row5 col6\" >1.270466</td>\n",
       "      <td id=\"T_e3149_row5_col7\" class=\"data row5 col7\" >30</td>\n",
       "      <td id=\"T_e3149_row5_col8\" class=\"data row5 col8\" >1.655073</td>\n",
       "      <td id=\"T_e3149_row5_col9\" class=\"data row5 col9\" >1.352632</td>\n",
       "    </tr>\n",
       "    <tr>\n",
       "      <th id=\"T_e3149_level0_row6\" class=\"row_heading level0 row6\" >6</th>\n",
       "      <td id=\"T_e3149_row6_col0\" class=\"data row6 col0\" >2020</td>\n",
       "      <td id=\"T_e3149_row6_col1\" class=\"data row6 col1\" >Tuesday</td>\n",
       "      <td id=\"T_e3149_row6_col2\" class=\"data row6 col2\" >0.042332</td>\n",
       "      <td id=\"T_e3149_row6_col3\" class=\"data row6 col3\" >1.837194</td>\n",
       "      <td id=\"T_e3149_row6_col4\" class=\"data row6 col4\" >25</td>\n",
       "      <td id=\"T_e3149_row6_col5\" class=\"data row6 col5\" >-1.453792</td>\n",
       "      <td id=\"T_e3149_row6_col6\" class=\"data row6 col6\" >1.190557</td>\n",
       "      <td id=\"T_e3149_row6_col7\" class=\"data row6 col7\" >27</td>\n",
       "      <td id=\"T_e3149_row6_col8\" class=\"data row6 col8\" >1.427633</td>\n",
       "      <td id=\"T_e3149_row6_col9\" class=\"data row6 col9\" >1.080366</td>\n",
       "    </tr>\n",
       "    <tr>\n",
       "      <th id=\"T_e3149_level0_row7\" class=\"row_heading level0 row7\" >7</th>\n",
       "      <td id=\"T_e3149_row7_col0\" class=\"data row7 col0\" >2020</td>\n",
       "      <td id=\"T_e3149_row7_col1\" class=\"data row7 col1\" >Wednesday</td>\n",
       "      <td id=\"T_e3149_row7_col2\" class=\"data row7 col2\" >0.153179</td>\n",
       "      <td id=\"T_e3149_row7_col3\" class=\"data row7 col3\" >1.975120</td>\n",
       "      <td id=\"T_e3149_row7_col4\" class=\"data row7 col4\" >25</td>\n",
       "      <td id=\"T_e3149_row7_col5\" class=\"data row7 col5\" >-1.326489</td>\n",
       "      <td id=\"T_e3149_row7_col6\" class=\"data row7 col6\" >0.994797</td>\n",
       "      <td id=\"T_e3149_row7_col7\" class=\"data row7 col7\" >27</td>\n",
       "      <td id=\"T_e3149_row7_col8\" class=\"data row7 col8\" >1.523242</td>\n",
       "      <td id=\"T_e3149_row7_col9\" class=\"data row7 col9\" >1.638347</td>\n",
       "    </tr>\n",
       "    <tr>\n",
       "      <th id=\"T_e3149_level0_row8\" class=\"row_heading level0 row8\" >8</th>\n",
       "      <td id=\"T_e3149_row8_col0\" class=\"data row8 col0\" >2020</td>\n",
       "      <td id=\"T_e3149_row8_col1\" class=\"data row8 col1\" >Thursday</td>\n",
       "      <td id=\"T_e3149_row8_col2\" class=\"data row8 col2\" >0.067586</td>\n",
       "      <td id=\"T_e3149_row8_col3\" class=\"data row8 col3\" >1.815286</td>\n",
       "      <td id=\"T_e3149_row8_col4\" class=\"data row8 col4\" >27</td>\n",
       "      <td id=\"T_e3149_row8_col5\" class=\"data row8 col5\" >-1.235325</td>\n",
       "      <td id=\"T_e3149_row8_col6\" class=\"data row8 col6\" >0.878942</td>\n",
       "      <td id=\"T_e3149_row8_col7\" class=\"data row8 col7\" >25</td>\n",
       "      <td id=\"T_e3149_row8_col8\" class=\"data row8 col8\" >1.474730</td>\n",
       "      <td id=\"T_e3149_row8_col9\" class=\"data row8 col9\" >1.480941</td>\n",
       "    </tr>\n",
       "    <tr>\n",
       "      <th id=\"T_e3149_level0_row9\" class=\"row_heading level0 row9\" >9</th>\n",
       "      <td id=\"T_e3149_row9_col0\" class=\"data row9 col0\" >2020</td>\n",
       "      <td id=\"T_e3149_row9_col1\" class=\"data row9 col1\" >Friday</td>\n",
       "      <td id=\"T_e3149_row9_col2\" class=\"data row9 col2\" >-0.098538</td>\n",
       "      <td id=\"T_e3149_row9_col3\" class=\"data row9 col3\" >2.063379</td>\n",
       "      <td id=\"T_e3149_row9_col4\" class=\"data row9 col4\" >26</td>\n",
       "      <td id=\"T_e3149_row9_col5\" class=\"data row9 col5\" >-1.376135</td>\n",
       "      <td id=\"T_e3149_row9_col6\" class=\"data row9 col6\" >1.629467</td>\n",
       "      <td id=\"T_e3149_row9_col7\" class=\"data row9 col7\" >23</td>\n",
       "      <td id=\"T_e3149_row9_col8\" class=\"data row9 col8\" >1.345702</td>\n",
       "      <td id=\"T_e3149_row9_col9\" class=\"data row9 col9\" >1.470462</td>\n",
       "    </tr>\n",
       "    <tr>\n",
       "      <th id=\"T_e3149_level0_row10\" class=\"row_heading level0 row10\" >10</th>\n",
       "      <td id=\"T_e3149_row10_col0\" class=\"data row10 col0\" >2021</td>\n",
       "      <td id=\"T_e3149_row10_col1\" class=\"data row10 col1\" >Monday</td>\n",
       "      <td id=\"T_e3149_row10_col2\" class=\"data row10 col2\" >0.317610</td>\n",
       "      <td id=\"T_e3149_row10_col3\" class=\"data row10 col3\" >1.703564</td>\n",
       "      <td id=\"T_e3149_row10_col4\" class=\"data row10 col4\" >19</td>\n",
       "      <td id=\"T_e3149_row10_col5\" class=\"data row10 col5\" >-1.399617</td>\n",
       "      <td id=\"T_e3149_row10_col6\" class=\"data row10 col6\" >1.002459</td>\n",
       "      <td id=\"T_e3149_row10_col7\" class=\"data row10 col7\" >28</td>\n",
       "      <td id=\"T_e3149_row10_col8\" class=\"data row10 col8\" >1.482871</td>\n",
       "      <td id=\"T_e3149_row10_col9\" class=\"data row10 col9\" >0.889477</td>\n",
       "    </tr>\n",
       "    <tr>\n",
       "      <th id=\"T_e3149_level0_row11\" class=\"row_heading level0 row11\" >11</th>\n",
       "      <td id=\"T_e3149_row11_col0\" class=\"data row11 col0\" >2021</td>\n",
       "      <td id=\"T_e3149_row11_col1\" class=\"data row11 col1\" >Tuesday</td>\n",
       "      <td id=\"T_e3149_row11_col2\" class=\"data row11 col2\" >-0.063735</td>\n",
       "      <td id=\"T_e3149_row11_col3\" class=\"data row11 col3\" >1.382080</td>\n",
       "      <td id=\"T_e3149_row11_col4\" class=\"data row11 col4\" >29</td>\n",
       "      <td id=\"T_e3149_row11_col5\" class=\"data row11 col5\" >-1.027774</td>\n",
       "      <td id=\"T_e3149_row11_col6\" class=\"data row11 col6\" >0.945313</td>\n",
       "      <td id=\"T_e3149_row11_col7\" class=\"data row11 col7\" >23</td>\n",
       "      <td id=\"T_e3149_row11_col8\" class=\"data row11 col8\" >1.151793</td>\n",
       "      <td id=\"T_e3149_row11_col9\" class=\"data row11 col9\" >0.721792</td>\n",
       "    </tr>\n",
       "    <tr>\n",
       "      <th id=\"T_e3149_level0_row12\" class=\"row_heading level0 row12\" >12</th>\n",
       "      <td id=\"T_e3149_row12_col0\" class=\"data row12 col0\" >2021</td>\n",
       "      <td id=\"T_e3149_row12_col1\" class=\"data row12 col1\" >Wednesday</td>\n",
       "      <td id=\"T_e3149_row12_col2\" class=\"data row12 col2\" >-0.252978</td>\n",
       "      <td id=\"T_e3149_row12_col3\" class=\"data row12 col3\" >1.644795</td>\n",
       "      <td id=\"T_e3149_row12_col4\" class=\"data row12 col4\" >32</td>\n",
       "      <td id=\"T_e3149_row12_col5\" class=\"data row12 col5\" >-1.233062</td>\n",
       "      <td id=\"T_e3149_row12_col6\" class=\"data row12 col6\" >1.171581</td>\n",
       "      <td id=\"T_e3149_row12_col7\" class=\"data row12 col7\" >20</td>\n",
       "      <td id=\"T_e3149_row12_col8\" class=\"data row12 col8\" >1.315156</td>\n",
       "      <td id=\"T_e3149_row12_col9\" class=\"data row12 col9\" >0.903306</td>\n",
       "    </tr>\n",
       "    <tr>\n",
       "      <th id=\"T_e3149_level0_row13\" class=\"row_heading level0 row13\" >13</th>\n",
       "      <td id=\"T_e3149_row13_col0\" class=\"data row13 col0\" >2021</td>\n",
       "      <td id=\"T_e3149_row13_col1\" class=\"data row13 col1\" >Thursday</td>\n",
       "      <td id=\"T_e3149_row13_col2\" class=\"data row13 col2\" >-0.014118</td>\n",
       "      <td id=\"T_e3149_row13_col3\" class=\"data row13 col3\" >1.333414</td>\n",
       "      <td id=\"T_e3149_row13_col4\" class=\"data row13 col4\" >23</td>\n",
       "      <td id=\"T_e3149_row13_col5\" class=\"data row13 col5\" >-1.085847</td>\n",
       "      <td id=\"T_e3149_row13_col6\" class=\"data row13 col6\" >1.125823</td>\n",
       "      <td id=\"T_e3149_row13_col7\" class=\"data row13 col7\" >28</td>\n",
       "      <td id=\"T_e3149_row13_col8\" class=\"data row13 col8\" >0.866230</td>\n",
       "      <td id=\"T_e3149_row13_col9\" class=\"data row13 col9\" >0.691133</td>\n",
       "    </tr>\n",
       "    <tr>\n",
       "      <th id=\"T_e3149_level0_row14\" class=\"row_heading level0 row14\" >14</th>\n",
       "      <td id=\"T_e3149_row14_col0\" class=\"data row14 col0\" >2021</td>\n",
       "      <td id=\"T_e3149_row14_col1\" class=\"data row14 col1\" >Friday</td>\n",
       "      <td id=\"T_e3149_row14_col2\" class=\"data row14 col2\" >0.166414</td>\n",
       "      <td id=\"T_e3149_row14_col3\" class=\"data row14 col3\" >1.415591</td>\n",
       "      <td id=\"T_e3149_row14_col4\" class=\"data row14 col4\" >24</td>\n",
       "      <td id=\"T_e3149_row14_col5\" class=\"data row14 col5\" >-0.989982</td>\n",
       "      <td id=\"T_e3149_row14_col6\" class=\"data row14 col6\" >0.811337</td>\n",
       "      <td id=\"T_e3149_row14_col7\" class=\"data row14 col7\" >26</td>\n",
       "      <td id=\"T_e3149_row14_col8\" class=\"data row14 col8\" >1.233856</td>\n",
       "      <td id=\"T_e3149_row14_col9\" class=\"data row14 col9\" >0.923722</td>\n",
       "    </tr>\n",
       "    <tr>\n",
       "      <th id=\"T_e3149_level0_row15\" class=\"row_heading level0 row15\" >15</th>\n",
       "      <td id=\"T_e3149_row15_col0\" class=\"data row15 col0\" >2022</td>\n",
       "      <td id=\"T_e3149_row15_col1\" class=\"data row15 col1\" >Monday</td>\n",
       "      <td id=\"T_e3149_row15_col2\" class=\"data row15 col2\" >0.033266</td>\n",
       "      <td id=\"T_e3149_row15_col3\" class=\"data row15 col3\" >2.455482</td>\n",
       "      <td id=\"T_e3149_row15_col4\" class=\"data row15 col4\" >19</td>\n",
       "      <td id=\"T_e3149_row15_col5\" class=\"data row15 col5\" >-2.194742</td>\n",
       "      <td id=\"T_e3149_row15_col6\" class=\"data row15 col6\" >1.789698</td>\n",
       "      <td id=\"T_e3149_row15_col7\" class=\"data row15 col7\" >26</td>\n",
       "      <td id=\"T_e3149_row15_col8\" class=\"data row15 col8\" >1.661427</td>\n",
       "      <td id=\"T_e3149_row15_col9\" class=\"data row15 col9\" >1.332649</td>\n",
       "    </tr>\n",
       "    <tr>\n",
       "      <th id=\"T_e3149_level0_row16\" class=\"row_heading level0 row16\" >16</th>\n",
       "      <td id=\"T_e3149_row16_col0\" class=\"data row16 col0\" >2022</td>\n",
       "      <td id=\"T_e3149_row16_col1\" class=\"data row16 col1\" >Tuesday</td>\n",
       "      <td id=\"T_e3149_row16_col2\" class=\"data row16 col2\" >-0.317643</td>\n",
       "      <td id=\"T_e3149_row16_col3\" class=\"data row16 col3\" >2.474562</td>\n",
       "      <td id=\"T_e3149_row16_col4\" class=\"data row16 col4\" >28</td>\n",
       "      <td id=\"T_e3149_row16_col5\" class=\"data row16 col5\" >-2.015768</td>\n",
       "      <td id=\"T_e3149_row16_col6\" class=\"data row16 col6\" >1.690838</td>\n",
       "      <td id=\"T_e3149_row16_col7\" class=\"data row16 col7\" >24</td>\n",
       "      <td id=\"T_e3149_row16_col8\" class=\"data row16 col8\" >1.663504</td>\n",
       "      <td id=\"T_e3149_row16_col9\" class=\"data row16 col9\" >1.617363</td>\n",
       "    </tr>\n",
       "    <tr>\n",
       "      <th id=\"T_e3149_level0_row17\" class=\"row_heading level0 row17\" >17</th>\n",
       "      <td id=\"T_e3149_row17_col0\" class=\"data row17 col0\" >2022</td>\n",
       "      <td id=\"T_e3149_row17_col1\" class=\"data row17 col1\" >Wednesday</td>\n",
       "      <td id=\"T_e3149_row17_col2\" class=\"data row17 col2\" >0.279551</td>\n",
       "      <td id=\"T_e3149_row17_col3\" class=\"data row17 col3\" >2.789343</td>\n",
       "      <td id=\"T_e3149_row17_col4\" class=\"data row17 col4\" >22</td>\n",
       "      <td id=\"T_e3149_row17_col5\" class=\"data row17 col5\" >-2.210883</td>\n",
       "      <td id=\"T_e3149_row17_col6\" class=\"data row17 col6\" >1.573810</td>\n",
       "      <td id=\"T_e3149_row17_col7\" class=\"data row17 col7\" >30</td>\n",
       "      <td id=\"T_e3149_row17_col8\" class=\"data row17 col8\" >2.105869</td>\n",
       "      <td id=\"T_e3149_row17_col9\" class=\"data row17 col9\" >1.932257</td>\n",
       "    </tr>\n",
       "    <tr>\n",
       "      <th id=\"T_e3149_level0_row18\" class=\"row_heading level0 row18\" >18</th>\n",
       "      <td id=\"T_e3149_row18_col0\" class=\"data row18 col0\" >2022</td>\n",
       "      <td id=\"T_e3149_row18_col1\" class=\"data row18 col1\" >Thursday</td>\n",
       "      <td id=\"T_e3149_row18_col2\" class=\"data row18 col2\" >0.190200</td>\n",
       "      <td id=\"T_e3149_row18_col3\" class=\"data row18 col3\" >2.849014</td>\n",
       "      <td id=\"T_e3149_row18_col4\" class=\"data row18 col4\" >26</td>\n",
       "      <td id=\"T_e3149_row18_col5\" class=\"data row18 col5\" >-1.918497</td>\n",
       "      <td id=\"T_e3149_row18_col6\" class=\"data row18 col6\" >1.676865</td>\n",
       "      <td id=\"T_e3149_row18_col7\" class=\"data row18 col7\" >25</td>\n",
       "      <td id=\"T_e3149_row18_col8\" class=\"data row18 col8\" >2.383244</td>\n",
       "      <td id=\"T_e3149_row18_col9\" class=\"data row18 col9\" >2.038171</td>\n",
       "    </tr>\n",
       "    <tr>\n",
       "      <th id=\"T_e3149_level0_row19\" class=\"row_heading level0 row19\" >19</th>\n",
       "      <td id=\"T_e3149_row19_col0\" class=\"data row19 col0\" >2022</td>\n",
       "      <td id=\"T_e3149_row19_col1\" class=\"data row19 col1\" >Friday</td>\n",
       "      <td id=\"T_e3149_row19_col2\" class=\"data row19 col2\" >-0.013492</td>\n",
       "      <td id=\"T_e3149_row19_col3\" class=\"data row19 col3\" >2.458225</td>\n",
       "      <td id=\"T_e3149_row19_col4\" class=\"data row19 col4\" >27</td>\n",
       "      <td id=\"T_e3149_row19_col5\" class=\"data row19 col5\" >-1.857011</td>\n",
       "      <td id=\"T_e3149_row19_col6\" class=\"data row19 col6\" >1.386965</td>\n",
       "      <td id=\"T_e3149_row19_col7\" class=\"data row19 col7\" >24</td>\n",
       "      <td id=\"T_e3149_row19_col8\" class=\"data row19 col8\" >2.060468</td>\n",
       "      <td id=\"T_e3149_row19_col9\" class=\"data row19 col9\" >1.576116</td>\n",
       "    </tr>\n",
       "    <tr>\n",
       "      <th id=\"T_e3149_level0_row20\" class=\"row_heading level0 row20\" >20</th>\n",
       "      <td id=\"T_e3149_row20_col0\" class=\"data row20 col0\" >2023</td>\n",
       "      <td id=\"T_e3149_row20_col1\" class=\"data row20 col1\" >Monday</td>\n",
       "      <td id=\"T_e3149_row20_col2\" class=\"data row20 col2\" >0.460525</td>\n",
       "      <td id=\"T_e3149_row20_col3\" class=\"data row20 col3\" >1.364776</td>\n",
       "      <td id=\"T_e3149_row20_col4\" class=\"data row20 col4\" >17</td>\n",
       "      <td id=\"T_e3149_row20_col5\" class=\"data row20 col5\" >-1.015549</td>\n",
       "      <td id=\"T_e3149_row20_col6\" class=\"data row20 col6\" >0.855276</td>\n",
       "      <td id=\"T_e3149_row20_col7\" class=\"data row20 col7\" >28</td>\n",
       "      <td id=\"T_e3149_row20_col8\" class=\"data row20 col8\" >1.356712</td>\n",
       "      <td id=\"T_e3149_row20_col9\" class=\"data row20 col9\" >0.630206</td>\n",
       "    </tr>\n",
       "    <tr>\n",
       "      <th id=\"T_e3149_level0_row21\" class=\"row_heading level0 row21\" >21</th>\n",
       "      <td id=\"T_e3149_row21_col0\" class=\"data row21 col0\" >2023</td>\n",
       "      <td id=\"T_e3149_row21_col1\" class=\"data row21 col1\" >Tuesday</td>\n",
       "      <td id=\"T_e3149_row21_col2\" class=\"data row21 col2\" >0.440635</td>\n",
       "      <td id=\"T_e3149_row21_col3\" class=\"data row21 col3\" >1.520882</td>\n",
       "      <td id=\"T_e3149_row21_col4\" class=\"data row21 col4\" >22</td>\n",
       "      <td id=\"T_e3149_row21_col5\" class=\"data row21 col5\" >-0.959830</td>\n",
       "      <td id=\"T_e3149_row21_col6\" class=\"data row21 col6\" >0.612895</td>\n",
       "      <td id=\"T_e3149_row21_col7\" class=\"data row21 col7\" >29</td>\n",
       "      <td id=\"T_e3149_row21_col8\" class=\"data row21 col8\" >1.503056</td>\n",
       "      <td id=\"T_e3149_row21_col9\" class=\"data row21 col9\" >1.067098</td>\n",
       "    </tr>\n",
       "    <tr>\n",
       "      <th id=\"T_e3149_level0_row22\" class=\"row_heading level0 row22\" >22</th>\n",
       "      <td id=\"T_e3149_row22_col0\" class=\"data row22 col0\" >2023</td>\n",
       "      <td id=\"T_e3149_row22_col1\" class=\"data row22 col1\" >Wednesday</td>\n",
       "      <td id=\"T_e3149_row22_col2\" class=\"data row22 col2\" >-0.044396</td>\n",
       "      <td id=\"T_e3149_row22_col3\" class=\"data row22 col3\" >1.676333</td>\n",
       "      <td id=\"T_e3149_row22_col4\" class=\"data row22 col4\" >25</td>\n",
       "      <td id=\"T_e3149_row22_col5\" class=\"data row22 col5\" >-1.485120</td>\n",
       "      <td id=\"T_e3149_row22_col6\" class=\"data row22 col6\" >0.882577</td>\n",
       "      <td id=\"T_e3149_row22_col7\" class=\"data row22 col7\" >27</td>\n",
       "      <td id=\"T_e3149_row22_col8\" class=\"data row22 col8\" >1.289608</td>\n",
       "      <td id=\"T_e3149_row22_col9\" class=\"data row22 col9\" >0.974275</td>\n",
       "    </tr>\n",
       "    <tr>\n",
       "      <th id=\"T_e3149_level0_row23\" class=\"row_heading level0 row23\" >23</th>\n",
       "      <td id=\"T_e3149_row23_col0\" class=\"data row23 col0\" >2023</td>\n",
       "      <td id=\"T_e3149_row23_col1\" class=\"data row23 col1\" >Thursday</td>\n",
       "      <td id=\"T_e3149_row23_col2\" class=\"data row23 col2\" >0.198790</td>\n",
       "      <td id=\"T_e3149_row23_col3\" class=\"data row23 col3\" >2.036113</td>\n",
       "      <td id=\"T_e3149_row23_col4\" class=\"data row23 col4\" >22</td>\n",
       "      <td id=\"T_e3149_row23_col5\" class=\"data row23 col5\" >-1.649721</td>\n",
       "      <td id=\"T_e3149_row23_col6\" class=\"data row23 col6\" >1.390680</td>\n",
       "      <td id=\"T_e3149_row23_col7\" class=\"data row23 col7\" >29</td>\n",
       "      <td id=\"T_e3149_row23_col8\" class=\"data row23 col8\" >1.601108</td>\n",
       "      <td id=\"T_e3149_row23_col9\" class=\"data row23 col9\" >1.109565</td>\n",
       "    </tr>\n",
       "    <tr>\n",
       "      <th id=\"T_e3149_level0_row24\" class=\"row_heading level0 row24\" >24</th>\n",
       "      <td id=\"T_e3149_row24_col0\" class=\"data row24 col0\" >2023</td>\n",
       "      <td id=\"T_e3149_row24_col1\" class=\"data row24 col1\" >Friday</td>\n",
       "      <td id=\"T_e3149_row24_col2\" class=\"data row24 col2\" >0.359269</td>\n",
       "      <td id=\"T_e3149_row24_col3\" class=\"data row24 col3\" >1.842375</td>\n",
       "      <td id=\"T_e3149_row24_col4\" class=\"data row24 col4\" >24</td>\n",
       "      <td id=\"T_e3149_row24_col5\" class=\"data row24 col5\" >-1.222823</td>\n",
       "      <td id=\"T_e3149_row24_col6\" class=\"data row24 col6\" >1.018733</td>\n",
       "      <td id=\"T_e3149_row24_col7\" class=\"data row24 col7\" >27</td>\n",
       "      <td id=\"T_e3149_row24_col8\" class=\"data row24 col8\" >1.765572</td>\n",
       "      <td id=\"T_e3149_row24_col9\" class=\"data row24 col9\" >1.115924</td>\n",
       "    </tr>\n",
       "  </tbody>\n",
       "</table>\n"
      ],
      "text/plain": [
       "<pandas.io.formats.style.Styler at 0x1f74ac9a590>"
      ]
     },
     "execution_count": 12,
     "metadata": {},
     "output_type": "execute_result"
    }
   ],
   "source": [
    "import pandas as pd\n",
    "\n",
    "def highlight_max_min(df):\n",
    "    # Define the columns to highlight\n",
    "    cols = ['μ(R)', 'σ(R)', 'μ(R-)', 'σ(R-)', 'μ(R+)', 'σ(R+)']\n",
    "\n",
    "    # Create a style dataframe to store highlighting\n",
    "    styles = pd.DataFrame('', index=df.index, columns=df.columns)\n",
    "\n",
    "    for year in df['Year'].unique():\n",
    "        # Filter the dataframe for the current year\n",
    "        df_year = df[df['Year'] == year]\n",
    "\n",
    "        for col in cols:\n",
    "            # Find index of max and min values\n",
    "            max_idx = df_year[col].idxmax()\n",
    "            min_idx = df_year[col].idxmin()\n",
    "\n",
    "            # Set styles based on the column\n",
    "            if col in ['σ(R)', 'σ(R-)', 'σ(R+)']:\n",
    "                # For standard deviation columns, high is lightcoral and low is lightgreen\n",
    "                styles.loc[max_idx, col] = 'background-color: lightcoral'  # High value\n",
    "                styles.loc[min_idx, col] = 'background-color: lightgreen'  # Low value\n",
    "            else:\n",
    "                # For mean columns, high is lightgreen and low is lightcoral\n",
    "                styles.loc[max_idx, col] = 'background-color: lightgreen'  # High value\n",
    "                styles.loc[min_idx, col] = 'background-color: lightcoral'  # Low value\n",
    "\n",
    "    return styles\n",
    "\n",
    "# Apply the highlighting function\n",
    "result_df2 = result_df.style.apply(highlight_max_min, axis=None)\n",
    "result_df2\n"
   ]
  },
  {
   "cell_type": "markdown",
   "id": "5BDZI_BecQod",
   "metadata": {
    "id": "5BDZI_BecQod"
   },
   "source": [
    "**💡Results💡-**\n",
    "\n",
    "**Return Patterns:**\n",
    "\n",
    "*   **Mondays** appear to be more favourable often showing highest returns with maximum green highlights (2020, 2021 & 2023). Maybe that's the \"Monday Effect\" for META. Negative days trends decrease from 2019 to 2023, implying fewer negative days over time.\n",
    "*   **Tuesday** negative returns are increasing from 2019 to 2022 but in 2023 both negative and positive return averages and show improvement, signaling a potential recovery.\n",
    "*   **Friday & Thursday** Positive returns recover strongly in 2023. They have the strongest shift from 2020's negative returns to positive returns in 2023."
   ]
  },
  {
   "cell_type": "code",
   "execution_count": 14,
   "id": "8Tgh5xWBAy4F",
   "metadata": {
    "colab": {
     "base_uri": "https://localhost:8080/",
     "height": 206
    },
    "id": "8Tgh5xWBAy4F",
    "outputId": "51e7481f-8c86-4e6d-fb6d-c85bd99c8c05"
   },
   "outputs": [
    {
     "data": {
      "text/html": [
       "<div>\n",
       "<style scoped>\n",
       "    .dataframe tbody tr th:only-of-type {\n",
       "        vertical-align: middle;\n",
       "    }\n",
       "\n",
       "    .dataframe tbody tr th {\n",
       "        vertical-align: top;\n",
       "    }\n",
       "\n",
       "    .dataframe thead th {\n",
       "        text-align: right;\n",
       "    }\n",
       "</style>\n",
       "<table border=\"1\" class=\"dataframe\">\n",
       "  <thead>\n",
       "    <tr style=\"text-align: right;\">\n",
       "      <th></th>\n",
       "      <th>Day</th>\n",
       "      <th>μ(R)</th>\n",
       "      <th>μ(R-)</th>\n",
       "      <th>μ(R+)</th>\n",
       "    </tr>\n",
       "  </thead>\n",
       "  <tbody>\n",
       "    <tr>\n",
       "      <th>0</th>\n",
       "      <td>Monday</td>\n",
       "      <td>0.282325</td>\n",
       "      <td>-1.453430</td>\n",
       "      <td>1.425286</td>\n",
       "    </tr>\n",
       "    <tr>\n",
       "      <th>1</th>\n",
       "      <td>Tuesday</td>\n",
       "      <td>0.026553</td>\n",
       "      <td>-1.301253</td>\n",
       "      <td>1.407496</td>\n",
       "    </tr>\n",
       "    <tr>\n",
       "      <th>2</th>\n",
       "      <td>Wednesday</td>\n",
       "      <td>0.068466</td>\n",
       "      <td>-1.440918</td>\n",
       "      <td>1.510480</td>\n",
       "    </tr>\n",
       "    <tr>\n",
       "      <th>3</th>\n",
       "      <td>Thursday</td>\n",
       "      <td>0.071013</td>\n",
       "      <td>-1.385395</td>\n",
       "      <td>1.423004</td>\n",
       "    </tr>\n",
       "    <tr>\n",
       "      <th>4</th>\n",
       "      <td>Friday</td>\n",
       "      <td>0.089876</td>\n",
       "      <td>-1.265565</td>\n",
       "      <td>1.451395</td>\n",
       "    </tr>\n",
       "  </tbody>\n",
       "</table>\n",
       "</div>"
      ],
      "text/plain": [
       "         Day      μ(R)     μ(R-)     μ(R+)\n",
       "0     Monday  0.282325 -1.453430  1.425286\n",
       "1    Tuesday  0.026553 -1.301253  1.407496\n",
       "2  Wednesday  0.068466 -1.440918  1.510480\n",
       "3   Thursday  0.071013 -1.385395  1.423004\n",
       "4     Friday  0.089876 -1.265565  1.451395"
      ]
     },
     "execution_count": 14,
     "metadata": {},
     "output_type": "execute_result"
    }
   ],
   "source": [
    "# Calculate average returns across days of the week\n",
    "weekly_analysis = result_df.groupby('Day', observed=False).agg({\n",
    "    'μ(R)': 'mean',\n",
    "    'μ(R-)': 'mean',\n",
    "    'μ(R+)': 'mean'\n",
    "}).reset_index()\n",
    "\n",
    "# Display the results\n",
    "weekly_analysis"
   ]
  },
  {
   "cell_type": "code",
   "execution_count": 15,
   "id": "kcIjFJMMNG9J",
   "metadata": {
    "colab": {
     "base_uri": "https://localhost:8080/",
     "height": 206
    },
    "id": "kcIjFJMMNG9J",
    "outputId": "4cf41d70-43a5-41bc-c934-360ad9e54674"
   },
   "outputs": [
    {
     "data": {
      "text/html": [
       "<div>\n",
       "<style scoped>\n",
       "    .dataframe tbody tr th:only-of-type {\n",
       "        vertical-align: middle;\n",
       "    }\n",
       "\n",
       "    .dataframe tbody tr th {\n",
       "        vertical-align: top;\n",
       "    }\n",
       "\n",
       "    .dataframe thead th {\n",
       "        text-align: right;\n",
       "    }\n",
       "</style>\n",
       "<table border=\"1\" class=\"dataframe\">\n",
       "  <thead>\n",
       "    <tr style=\"text-align: right;\">\n",
       "      <th></th>\n",
       "      <th>Year</th>\n",
       "      <th>Day_Best</th>\n",
       "      <th>μ(R)_Best</th>\n",
       "      <th>Day_Worst</th>\n",
       "      <th>μ(R)_Worst</th>\n",
       "    </tr>\n",
       "  </thead>\n",
       "  <tbody>\n",
       "    <tr>\n",
       "      <th>0</th>\n",
       "      <td>2019</td>\n",
       "      <td>Wednesday</td>\n",
       "      <td>0.206974</td>\n",
       "      <td>Thursday</td>\n",
       "      <td>-0.087394</td>\n",
       "    </tr>\n",
       "    <tr>\n",
       "      <th>1</th>\n",
       "      <td>2020</td>\n",
       "      <td>Monday</td>\n",
       "      <td>0.469652</td>\n",
       "      <td>Friday</td>\n",
       "      <td>-0.098538</td>\n",
       "    </tr>\n",
       "    <tr>\n",
       "      <th>2</th>\n",
       "      <td>2021</td>\n",
       "      <td>Monday</td>\n",
       "      <td>0.317610</td>\n",
       "      <td>Wednesday</td>\n",
       "      <td>-0.252978</td>\n",
       "    </tr>\n",
       "    <tr>\n",
       "      <th>3</th>\n",
       "      <td>2022</td>\n",
       "      <td>Wednesday</td>\n",
       "      <td>0.279551</td>\n",
       "      <td>Tuesday</td>\n",
       "      <td>-0.317643</td>\n",
       "    </tr>\n",
       "    <tr>\n",
       "      <th>4</th>\n",
       "      <td>2023</td>\n",
       "      <td>Monday</td>\n",
       "      <td>0.460525</td>\n",
       "      <td>Wednesday</td>\n",
       "      <td>-0.044396</td>\n",
       "    </tr>\n",
       "  </tbody>\n",
       "</table>\n",
       "</div>"
      ],
      "text/plain": [
       "   Year   Day_Best  μ(R)_Best  Day_Worst  μ(R)_Worst\n",
       "0  2019  Wednesday   0.206974   Thursday   -0.087394\n",
       "1  2020     Monday   0.469652     Friday   -0.098538\n",
       "2  2021     Monday   0.317610  Wednesday   -0.252978\n",
       "3  2022  Wednesday   0.279551    Tuesday   -0.317643\n",
       "4  2023     Monday   0.460525  Wednesday   -0.044396"
      ]
     },
     "execution_count": 15,
     "metadata": {},
     "output_type": "execute_result"
    }
   ],
   "source": [
    "# Find the best and worst days of the week for each year\n",
    "best_days = result_df.loc[result_df.groupby('Year')['μ(R)'].idxmax()][['Year', 'Day', 'μ(R)']]\n",
    "worst_days = result_df.loc[result_df.groupby('Year')['μ(R)'].idxmin()][['Year', 'Day', 'μ(R)']]\n",
    "\n",
    "# Combine results\n",
    "best_worst_days = best_days.merge(worst_days, on='Year', suffixes=('_Best', '_Worst'))\n",
    "best_worst_days"
   ]
  },
  {
   "cell_type": "markdown",
   "id": "ZRRr1XaZiR41",
   "metadata": {
    "id": "ZRRr1XaZiR41"
   },
   "source": [
    "**💡Interpretation of Table💡-**\n",
    "On an average Mondays are the best time to invest in META. Wednesday is half and half best for 2019 and 2022 and worst for 2021 and 2023."
   ]
  },
  {
   "cell_type": "markdown",
   "id": "607cf97b",
   "metadata": {
    "id": "607cf97b"
   },
   "source": [
    "##### **Solution - 3.1**"
   ]
  },
  {
   "cell_type": "code",
   "execution_count": 16,
   "id": "5vJEJZZICd5G",
   "metadata": {
    "id": "5vJEJZZICd5G"
   },
   "outputs": [],
   "source": [
    "# Calculate average returns across all years\n",
    "aggregate_analysis = results_df.groupby('Day', observed=False).agg({\n",
    "    'μ(R)': 'mean'\n",
    "}).reset_index()\n",
    "\n",
    "# Determine the best and worst days\n",
    "best_day = aggregate_analysis.loc[aggregate_analysis['μ(R)'].idxmax()]\n",
    "worst_day = aggregate_analysis.loc[aggregate_analysis['μ(R)'].idxmin()]"
   ]
  },
  {
   "cell_type": "code",
   "execution_count": 17,
   "id": "AsrVEX60c1Mk",
   "metadata": {
    "colab": {
     "base_uri": "https://localhost:8080/",
     "height": 147
    },
    "id": "AsrVEX60c1Mk",
    "outputId": "6e2793c6-3b56-4efa-eeb5-b4827b5ae5ce"
   },
   "outputs": [
    {
     "data": {
      "text/plain": [
       "Day       Monday\n",
       "μ(R)    0.282325\n",
       "Name: 0, dtype: object"
      ]
     },
     "execution_count": 17,
     "metadata": {},
     "output_type": "execute_result"
    }
   ],
   "source": [
    "best_day"
   ]
  },
  {
   "cell_type": "code",
   "execution_count": 18,
   "id": "JEnVZx1Sc6zs",
   "metadata": {
    "colab": {
     "base_uri": "https://localhost:8080/",
     "height": 147
    },
    "id": "JEnVZx1Sc6zs",
    "outputId": "f157aa9f-3ff6-4953-d5b6-0076391befa5"
   },
   "outputs": [
    {
     "data": {
      "text/plain": [
       "Day      Tuesday\n",
       "μ(R)    0.026553\n",
       "Name: 1, dtype: object"
      ]
     },
     "execution_count": 18,
     "metadata": {},
     "output_type": "execute_result"
    }
   ],
   "source": [
    "worst_day"
   ]
  },
  {
   "cell_type": "markdown",
   "id": "4j4ORUuLjsyd",
   "metadata": {
    "id": "4j4ORUuLjsyd"
   },
   "source": [
    "##### **Solution - 3.2**"
   ]
  },
  {
   "cell_type": "code",
   "execution_count": 19,
   "id": "BuC1gfFdfhaB",
   "metadata": {
    "colab": {
     "base_uri": "https://localhost:8080/",
     "height": 0
    },
    "id": "BuC1gfFdfhaB",
    "outputId": "2fbcf981-4c62-4d9b-f24c-7ce343aabacd"
   },
   "outputs": [
    {
     "data": {
      "text/plain": [
       "(74, 12.5)"
      ]
     },
     "execution_count": 19,
     "metadata": {},
     "output_type": "execute_result"
    }
   ],
   "source": [
    "# Calculate overall mean and standard deviation\n",
    "overall_mean = results_df['μ(R)'].mean()\n",
    "overall_std = results_df['σ(R)'].mean() \n",
    "\n",
    "# Calculate the range\n",
    "lower_bound = overall_mean - 2 * overall_std\n",
    "upper_bound = overall_mean + 2 * overall_std\n",
    "\n",
    "# Count trading days outside the range\n",
    "outside_range_count = ((df['daytime_return'] < lower_bound) | (df['daytime_return'] > upper_bound)).sum()\n",
    "\n",
    "# Expected number of days outside the range for 250 trading days\n",
    "expected_days_outside = 0.05 * 250\n",
    "\n",
    "# Output results\n",
    "outside_range_count, expected_days_outside\n"
   ]
  },
  {
   "cell_type": "markdown",
   "id": "e764dd94",
   "metadata": {
    "id": "e764dd94"
   },
   "source": [
    "> **💡Interpretation of Results💡-**\n",
    ">\n",
    "> **Observed Count (74 days):** This is significantly higher than the expected count of **12.5 days.**\n",
    "> **Conclusion:** The observed number of trading days with returns outside the μ ± 2σ range suggests that the  daytime returns are not consistent with the assumption of normality."
   ]
  },
  {
   "cell_type": "markdown",
   "id": "2b278251",
   "metadata": {
    "id": "2b278251"
   },
   "source": [
    "##### **Solution - 4.1**"
   ]
  },
  {
   "cell_type": "code",
   "execution_count": 20,
   "id": "AYonVafashuh",
   "metadata": {
    "id": "AYonVafashuh"
   },
   "outputs": [],
   "source": [
    "df['Daily Return'] = (df['Close'] - df['Open']) / df['Open']"
   ]
  },
  {
   "cell_type": "code",
   "execution_count": 21,
   "id": "HMGjizxqhDP_",
   "metadata": {
    "colab": {
     "base_uri": "https://localhost:8080/",
     "height": 0
    },
    "id": "HMGjizxqhDP_",
    "outputId": "5fac3579-ca68-4e2e-c9bf-226f6bd54d82"
   },
   "outputs": [
    {
     "name": "stdout",
     "output_type": "stream",
     "text": [
      "Final balance after 5 years with Oracle (p=1): $1194731.67\n"
     ]
    }
   ],
   "source": [
    "# Oracle simulation with p = 1\n",
    "def oracle_simulation(data):\n",
    "    balance = 100  # Starting with $100\n",
    "    for index, row in data.iterrows():\n",
    "        daily_return = (row['Close'] - row['Open']) / row['Open']\n",
    "        # Oracle predicts correctly every day\n",
    "        if daily_return > 0:  # Stock price goes up, you invest\n",
    "            balance *= (1 + row['Daily Return'])\n",
    "        # If the stock price goes down, the oracle tells you to avoid trading, so no change to balance\n",
    "    return balance\n",
    "\n",
    "final_balance_oracle = oracle_simulation(df)\n",
    "print(f\"Final balance after 5 years with Oracle (p=1): ${final_balance_oracle:.2f}\")"
   ]
  },
  {
   "cell_type": "markdown",
   "id": "xU-NgqhPp8Dv",
   "metadata": {
    "id": "xU-NgqhPp8Dv"
   },
   "source": [
    "##### **Solution - 4.2**"
   ]
  },
  {
   "cell_type": "code",
   "execution_count": 22,
   "id": "64AbHy3KgKmT",
   "metadata": {
    "colab": {
     "base_uri": "https://localhost:8080/",
     "height": 0
    },
    "id": "64AbHy3KgKmT",
    "outputId": "64cc0fb0-7bb6-4b4b-c4c3-caf533c263f5"
   },
   "outputs": [
    {
     "name": "stdout",
     "output_type": "stream",
     "text": [
      "It took 1029 days to reach or exceed the desired amount of $195. Final balance: $198.13\n"
     ]
    }
   ],
   "source": [
    "# Set starting balance and desired amount based on BU ID\n",
    "bu_id = 95\n",
    "starting_balance = 100\n",
    "desired_amount = 100 + bu_id\n",
    "\n",
    "def days_to_reach_desired_amount(data, starting_balance, desired_amount):\n",
    "    balance = starting_balance\n",
    "    day_count = 0\n",
    "    for index, row in data.iterrows():\n",
    "        # Update balance\n",
    "        balance = balance * (1 + row['Daily Return'])\n",
    "        day_count += 1\n",
    "        # Check if balance has reached or exceeded desired amount\n",
    "        if balance >= desired_amount:\n",
    "            break\n",
    "    return day_count, balance\n",
    "\n",
    "# Calculate how many days it takes to reach the desired amount\n",
    "days, final_balance = days_to_reach_desired_amount(df, starting_balance, desired_amount)\n",
    "\n",
    "print(f\"It took {days} days to reach or exceed the desired amount of ${desired_amount}. Final balance: ${final_balance:.2f}\")\n"
   ]
  },
  {
   "cell_type": "markdown",
   "id": "9xnaElAPp_dR",
   "metadata": {
    "id": "9xnaElAPp_dR"
   },
   "source": [
    "##### **Solution - 5.1**"
   ]
  },
  {
   "cell_type": "code",
   "execution_count": 23,
   "id": "_y3Z7iiar_B6",
   "metadata": {
    "colab": {
     "base_uri": "https://localhost:8080/",
     "height": 0
    },
    "id": "_y3Z7iiar_B6",
    "outputId": "dd6d752a-1197-41b5-d6da-929193e48acb"
   },
   "outputs": [
    {
     "name": "stdout",
     "output_type": "stream",
     "text": [
      "Final balance after 5 years with Buy-and-Hold: $297.84\n"
     ]
    }
   ],
   "source": [
    "# Function to simulate Buy-and-Hold strategy\n",
    "def buy_and_hold(data):\n",
    "    balance = 100  # Starting with $100\n",
    "    for index, row in data.iterrows():\n",
    "        # Update balance\n",
    "        balance *= (1 + row['Daily Return'])\n",
    "    return balance\n",
    "\n",
    "final_balance_bh = buy_and_hold(df)\n",
    "print(f\"Final balance after 5 years with Buy-and-Hold: ${final_balance_bh:.2f}\")"
   ]
  },
  {
   "cell_type": "markdown",
   "id": "VKpYFXLTY2qN",
   "metadata": {
    "id": "VKpYFXLTY2qN"
   },
   "source": [
    "##### **Solution - 5.2**"
   ]
  },
  {
   "cell_type": "markdown",
   "id": "TXxvueEOY-jY",
   "metadata": {
    "id": "TXxvueEOY-jY"
   },
   "source": [
    " **💡Comparison to Oracle's Performance💡-**\n",
    "\n",
    "The oracle's performance dramatically outperforms the buy-and-hold strategy. The oracle's ability to provide accute predictions allows you to grow your initial investment of $100 to over 1 Million dollars, whereas the buy-and-hold strategy leads to a very modest increase."
   ]
  },
  {
   "cell_type": "markdown",
   "id": "n6tGWgeaY25E",
   "metadata": {
    "id": "n6tGWgeaY25E"
   },
   "source": [
    "##### **Solution - 5.3**"
   ]
  },
  {
   "cell_type": "code",
   "execution_count": 24,
   "id": "q-Y1hp32RJCw",
   "metadata": {
    "colab": {
     "base_uri": "https://localhost:8080/",
     "height": 0
    },
    "id": "q-Y1hp32RJCw",
    "outputId": "ba1ccf10-5811-4478-b828-1804ee1b5ebf"
   },
   "outputs": [
    {
     "name": "stdout",
     "output_type": "stream",
     "text": [
      "Final balance after 5 years (excluding winter months): $173.62\n"
     ]
    }
   ],
   "source": [
    "import pandas as pd\n",
    "\n",
    "df['Month'] = pd.to_datetime(df['Date']).dt.month\n",
    "\n",
    "initial_balance = 100\n",
    "\n",
    "# Filter out winter months\n",
    "df_winter_vaca = df[~df['Month'].isin([12, 1, 2])]\n",
    "\n",
    "# Reset the balance\n",
    "balance = initial_balance\n",
    "\n",
    "# Simulate the strategy without winter months\n",
    "for index, row in df_winter_vaca.iterrows():\n",
    "    balance *= (1 + row['Daily Return'])\n",
    "\n",
    "final_balance_winter_vaca = balance\n",
    "print(f\"Final balance after 5 years (excluding winter months): ${final_balance_winter_vaca:.2f}\")"
   ]
  },
  {
   "cell_type": "code",
   "execution_count": 25,
   "id": "9Qy8Xj822bp7",
   "metadata": {
    "colab": {
     "base_uri": "https://localhost:8080/",
     "height": 125
    },
    "id": "9Qy8Xj822bp7",
    "outputId": "cfde4aea-767c-4f6c-8ee0-dc6f14f3c7bd"
   },
   "outputs": [
    {
     "data": {
      "text/html": [
       "<div>\n",
       "<style scoped>\n",
       "    .dataframe tbody tr th:only-of-type {\n",
       "        vertical-align: middle;\n",
       "    }\n",
       "\n",
       "    .dataframe tbody tr th {\n",
       "        vertical-align: top;\n",
       "    }\n",
       "\n",
       "    .dataframe thead th {\n",
       "        text-align: right;\n",
       "    }\n",
       "</style>\n",
       "<table border=\"1\" class=\"dataframe\">\n",
       "  <thead>\n",
       "    <tr style=\"text-align: right;\">\n",
       "      <th></th>\n",
       "      <th>Strategy</th>\n",
       "      <th>Final Balance ($)</th>\n",
       "    </tr>\n",
       "  </thead>\n",
       "  <tbody>\n",
       "    <tr>\n",
       "      <th>0</th>\n",
       "      <td>Daytime Buy-and-Hold</td>\n",
       "      <td>297.836570</td>\n",
       "    </tr>\n",
       "    <tr>\n",
       "      <th>1</th>\n",
       "      <td>Daytime Buy-and-Hold with Winter Vacation</td>\n",
       "      <td>173.615726</td>\n",
       "    </tr>\n",
       "  </tbody>\n",
       "</table>\n",
       "</div>"
      ],
      "text/plain": [
       "                                    Strategy  Final Balance ($)\n",
       "0                       Daytime Buy-and-Hold         297.836570\n",
       "1  Daytime Buy-and-Hold with Winter Vacation         173.615726"
      ]
     },
     "execution_count": 25,
     "metadata": {},
     "output_type": "execute_result"
    }
   ],
   "source": [
    "# Summarize findings\n",
    "results = {\n",
    "    'Strategy': ['Daytime Buy-and-Hold', 'Daytime Buy-and-Hold with Winter Vacation'],\n",
    "    'Final Balance ($)': [final_balance_bh, final_balance_winter_vaca]\n",
    "}\n",
    "\n",
    "# Convert results to a DataFrame for better visualization\n",
    "results_df = pd.DataFrame(results)\n",
    "results_df"
   ]
  },
  {
   "cell_type": "markdown",
   "id": "kXlnmgNB0oDV",
   "metadata": {
    "id": "kXlnmgNB0oDV"
   },
   "source": [
    " **💡Winter - excluding strategy💡-**\n",
    "\n",
    "The winter - excluding strategy is significantly lower that the full buy-and-hold strategy. In the case, you would have been better off trading year - round."
   ]
  },
  {
   "cell_type": "markdown",
   "id": "HBjh-GEQ5n1C",
   "metadata": {
    "id": "HBjh-GEQ5n1C"
   },
   "source": [
    "##### **Solution - 5.4**"
   ]
  },
  {
   "cell_type": "code",
   "execution_count": 26,
   "id": "p0hDhkVMnltS",
   "metadata": {
    "colab": {
     "base_uri": "https://localhost:8080/",
     "height": 457
    },
    "id": "p0hDhkVMnltS",
    "outputId": "9d39be6e-54f9-41b7-c700-8293739b32d1"
   },
   "outputs": [
    {
     "data": {
      "text/html": [
       "<div>\n",
       "<style scoped>\n",
       "    .dataframe tbody tr th:only-of-type {\n",
       "        vertical-align: middle;\n",
       "    }\n",
       "\n",
       "    .dataframe tbody tr th {\n",
       "        vertical-align: top;\n",
       "    }\n",
       "\n",
       "    .dataframe thead th {\n",
       "        text-align: right;\n",
       "    }\n",
       "</style>\n",
       "<table border=\"1\" class=\"dataframe\">\n",
       "  <thead>\n",
       "    <tr style=\"text-align: right;\">\n",
       "      <th></th>\n",
       "      <th>Strategy</th>\n",
       "      <th>Final Balance</th>\n",
       "    </tr>\n",
       "  </thead>\n",
       "  <tbody>\n",
       "    <tr>\n",
       "      <th>0</th>\n",
       "      <td>Daytime Buy-and-Hold (Full)</td>\n",
       "      <td>297.836570</td>\n",
       "    </tr>\n",
       "    <tr>\n",
       "      <th>1</th>\n",
       "      <td>Daytime B&amp;H without January</td>\n",
       "      <td>229.384953</td>\n",
       "    </tr>\n",
       "    <tr>\n",
       "      <th>2</th>\n",
       "      <td>Daytime B&amp;H without February</td>\n",
       "      <td>265.639528</td>\n",
       "    </tr>\n",
       "    <tr>\n",
       "      <th>3</th>\n",
       "      <td>Daytime B&amp;H without March</td>\n",
       "      <td>214.049571</td>\n",
       "    </tr>\n",
       "    <tr>\n",
       "      <th>4</th>\n",
       "      <td>Daytime B&amp;H without April</td>\n",
       "      <td>339.940002</td>\n",
       "    </tr>\n",
       "    <tr>\n",
       "      <th>5</th>\n",
       "      <td>Daytime B&amp;H without May</td>\n",
       "      <td>212.678942</td>\n",
       "    </tr>\n",
       "    <tr>\n",
       "      <th>6</th>\n",
       "      <td>Daytime B&amp;H without June</td>\n",
       "      <td>313.493147</td>\n",
       "    </tr>\n",
       "    <tr>\n",
       "      <th>7</th>\n",
       "      <td>Daytime B&amp;H without July</td>\n",
       "      <td>254.006153</td>\n",
       "    </tr>\n",
       "    <tr>\n",
       "      <th>8</th>\n",
       "      <td>Daytime B&amp;H without August</td>\n",
       "      <td>268.080129</td>\n",
       "    </tr>\n",
       "    <tr>\n",
       "      <th>9</th>\n",
       "      <td>Daytime B&amp;H without September</td>\n",
       "      <td>405.465061</td>\n",
       "    </tr>\n",
       "    <tr>\n",
       "      <th>10</th>\n",
       "      <td>Daytime B&amp;H without October</td>\n",
       "      <td>325.522655</td>\n",
       "    </tr>\n",
       "    <tr>\n",
       "      <th>11</th>\n",
       "      <td>Daytime B&amp;H without November</td>\n",
       "      <td>243.612992</td>\n",
       "    </tr>\n",
       "    <tr>\n",
       "      <th>12</th>\n",
       "      <td>Daytime B&amp;H without December</td>\n",
       "      <td>252.747855</td>\n",
       "    </tr>\n",
       "  </tbody>\n",
       "</table>\n",
       "</div>"
      ],
      "text/plain": [
       "                         Strategy  Final Balance\n",
       "0     Daytime Buy-and-Hold (Full)     297.836570\n",
       "1     Daytime B&H without January     229.384953\n",
       "2    Daytime B&H without February     265.639528\n",
       "3       Daytime B&H without March     214.049571\n",
       "4       Daytime B&H without April     339.940002\n",
       "5         Daytime B&H without May     212.678942\n",
       "6        Daytime B&H without June     313.493147\n",
       "7        Daytime B&H without July     254.006153\n",
       "8      Daytime B&H without August     268.080129\n",
       "9   Daytime B&H without September     405.465061\n",
       "10    Daytime B&H without October     325.522655\n",
       "11   Daytime B&H without November     243.612992\n",
       "12   Daytime B&H without December     252.747855"
      ]
     },
     "execution_count": 26,
     "metadata": {},
     "output_type": "execute_result"
    }
   ],
   "source": [
    "import calendar  # Import the calendar module\n",
    "\n",
    "# Function to simulate Buy-and-Hold with a month excluded\n",
    "def buy_and_hold_without_month(df, excluded_month):\n",
    "    balance = 100  # Starting balance\n",
    "    for index, row in df.iterrows():\n",
    "        # Skip the rows where the month is the excluded month\n",
    "        if row['Month'] == excluded_month:\n",
    "            continue\n",
    "        # Update balance for all other months\n",
    "        balance *= (1 + row['Daily Return'])\n",
    "    return balance\n",
    "\n",
    "# List of months (1 = January, 12 = December)\n",
    "months = list(range(1, 13))\n",
    "\n",
    "# Initialize results dictionary\n",
    "results = {}\n",
    "\n",
    "# Full Buy-and-Hold\n",
    "results['Daytime Buy-and-Hold (Full)'] = buy_and_hold(df) \n",
    "\n",
    "# Loop through each month and calculate the balance without that month\n",
    "for month in months:\n",
    "    # Use calendar.month_name to get the month name\n",
    "    strategy_name = f\"Daytime B&H without {calendar.month_name[month]}\"\n",
    "    results[strategy_name] = buy_and_hold_without_month(df, month)\n",
    "\n",
    "results_df = pd.DataFrame(list(results.items()), columns=['Strategy', 'Final Balance'])\n",
    "results_df"
   ]
  },
  {
   "cell_type": "code",
   "execution_count": 27,
   "id": "dronTSnw2-zn",
   "metadata": {
    "colab": {
     "base_uri": "https://localhost:8080/",
     "height": 0
    },
    "id": "dronTSnw2-zn",
    "outputId": "35ba6be8-9485-4291-bc58-e2f4e923abf2"
   },
   "outputs": [
    {
     "name": "stdout",
     "output_type": "stream",
     "text": [
      "\n",
      "Best month to take a vacation: Daytime B&H without September with a final balance of $405.47\n",
      "Worst month to take a vacation: Daytime B&H without May with a final balance of $212.68\n"
     ]
    }
   ],
   "source": [
    "# Identify the best and worst month to take a vacation\n",
    "best_month = results_df.loc[results_df['Final Balance'].idxmax()]\n",
    "worst_month = results_df.loc[results_df['Final Balance'].idxmin()]\n",
    "\n",
    "# Display the results\n",
    "print(f\"\\nBest month to take a vacation: {best_month['Strategy']} with a final balance of ${best_month['Final Balance']:.2f}\")\n",
    "print(f\"Worst month to take a vacation: {worst_month['Strategy']} with a final balance of ${worst_month['Final Balance']:.2f}\")"
   ]
  },
  {
   "cell_type": "markdown",
   "id": "JsfTSWHC52NA",
   "metadata": {
    "id": "JsfTSWHC52NA"
   },
   "source": [
    "##### **Solution - 6.1**"
   ]
  },
  {
   "cell_type": "code",
   "execution_count": 28,
   "id": "xszEEQO_nyqk",
   "metadata": {
    "colab": {
     "base_uri": "https://localhost:8080/",
     "height": 426
    },
    "id": "xszEEQO_nyqk",
    "outputId": "16aa96da-f6ac-470b-dbf1-db9dbaa5dd84"
   },
   "outputs": [
    {
     "data": {
      "text/html": [
       "<div>\n",
       "<style scoped>\n",
       "    .dataframe tbody tr th:only-of-type {\n",
       "        vertical-align: middle;\n",
       "    }\n",
       "\n",
       "    .dataframe tbody tr th {\n",
       "        vertical-align: top;\n",
       "    }\n",
       "\n",
       "    .dataframe thead th {\n",
       "        text-align: right;\n",
       "    }\n",
       "</style>\n",
       "<table border=\"1\" class=\"dataframe\">\n",
       "  <thead>\n",
       "    <tr style=\"text-align: right;\">\n",
       "      <th></th>\n",
       "      <th>p</th>\n",
       "      <th>Final Balance</th>\n",
       "    </tr>\n",
       "  </thead>\n",
       "  <tbody>\n",
       "    <tr>\n",
       "      <th>0</th>\n",
       "      <td>0.0</td>\n",
       "      <td>$100.00</td>\n",
       "    </tr>\n",
       "    <tr>\n",
       "      <th>1</th>\n",
       "      <td>0.1</td>\n",
       "      <td>$199.80</td>\n",
       "    </tr>\n",
       "    <tr>\n",
       "      <th>2</th>\n",
       "      <td>0.2</td>\n",
       "      <td>$441.31</td>\n",
       "    </tr>\n",
       "    <tr>\n",
       "      <th>3</th>\n",
       "      <td>0.3</td>\n",
       "      <td>$1,624.42</td>\n",
       "    </tr>\n",
       "    <tr>\n",
       "      <th>4</th>\n",
       "      <td>0.4</td>\n",
       "      <td>$3,371.71</td>\n",
       "    </tr>\n",
       "    <tr>\n",
       "      <th>5</th>\n",
       "      <td>0.5</td>\n",
       "      <td>$9,264.99</td>\n",
       "    </tr>\n",
       "    <tr>\n",
       "      <th>6</th>\n",
       "      <td>0.6</td>\n",
       "      <td>$47,707.53</td>\n",
       "    </tr>\n",
       "    <tr>\n",
       "      <th>7</th>\n",
       "      <td>0.7</td>\n",
       "      <td>$58,139.59</td>\n",
       "    </tr>\n",
       "    <tr>\n",
       "      <th>8</th>\n",
       "      <td>0.8</td>\n",
       "      <td>$192,009.63</td>\n",
       "    </tr>\n",
       "    <tr>\n",
       "      <th>9</th>\n",
       "      <td>0.9</td>\n",
       "      <td>$374,146.56</td>\n",
       "    </tr>\n",
       "    <tr>\n",
       "      <th>10</th>\n",
       "      <td>1.0</td>\n",
       "      <td>$1,194,731.67</td>\n",
       "    </tr>\n",
       "    <tr>\n",
       "      <th>11</th>\n",
       "      <td>Buy-and-Hold</td>\n",
       "      <td>$297.84</td>\n",
       "    </tr>\n",
       "  </tbody>\n",
       "</table>\n",
       "</div>"
      ],
      "text/plain": [
       "               p  Final Balance\n",
       "0            0.0        $100.00\n",
       "1            0.1        $199.80\n",
       "2            0.2        $441.31\n",
       "3            0.3      $1,624.42\n",
       "4            0.4      $3,371.71\n",
       "5            0.5      $9,264.99\n",
       "6            0.6     $47,707.53\n",
       "7            0.7     $58,139.59\n",
       "8            0.8    $192,009.63\n",
       "9            0.9    $374,146.56\n",
       "10           1.0  $1,194,731.67\n",
       "11  Buy-and-Hold        $297.84"
      ]
     },
     "execution_count": 28,
     "metadata": {},
     "output_type": "execute_result"
    }
   ],
   "source": [
    "import numpy as np\n",
    "import pandas as pd\n",
    "\n",
    "# Function to simulate Oracle with varying p values\n",
    "def oracle_simulation_with_p(data, p):\n",
    "    balance = 100  # Start with $100\n",
    "    for index, row in data.iterrows():\n",
    "        # Determine if Oracle is correct based on probability p\n",
    "        oracle_correct = np.random.rand() < p\n",
    "\n",
    "        # If Oracle predicts correctly AND stock goes up, invest\n",
    "        if oracle_correct and row['Daily Return'] > 0:\n",
    "            balance *= (1 + row['Daily Return'])\n",
    "    return balance\n",
    "\n",
    "# Define the probability values (0, 0.1, ..., 1)\n",
    "p_values = np.arange(0, 1.1, 0.1)\n",
    "\n",
    "# Dictionary to store results for each p value\n",
    "results = {'p': [], 'Final Balance': []}\n",
    "\n",
    "# Simulate for each p and store the final balance\n",
    "for p in p_values:\n",
    "    final_balance = oracle_simulation_with_p(df, p)\n",
    "    results['p'].append(p)\n",
    "    results['Final Balance'].append(final_balance)\n",
    "\n",
    "# Convert results to a DataFrame for better visualization\n",
    "results_df = pd.DataFrame(results)\n",
    "\n",
    "# Format the 'Final Balance' column to display in 2 decimal points\n",
    "results_df['Final Balance'] = results_df['Final Balance'].map('${:,.2f}'.format)\n",
    "results_df.loc[len(results_df.index)] = ['Buy-and-Hold', '${:,.2f}'.format(final_balance_bh)]\n",
    "\n",
    "# Show results DataFrame\n",
    "results_df"
   ]
  },
  {
   "cell_type": "markdown",
   "id": "BF9sKidAC9oz",
   "metadata": {
    "id": "BF9sKidAC9oz"
   },
   "source": [
    " **💡Analysis of Table💡-**\n",
    "\n",
    "The Buy-and-Hold strategy results in a final balance of $297.84, which is relatively small compared to even a low probability Oracle. This suggests that the **Oracle outperforms**, even at p = 0.1, Buy-and-Hold significantly.\n",
    "\n",
    "Near p = 0.5: The balance grows significantly, indicating that Oracle performance improves the final balance grows exponentially, indicating strong returns for higher accuracy predictions.\n",
    "\n",
    "**Moderate Gains with Low p**, the returns are minimal for low values of p (below 0.3)."
   ]
  },
  {
   "cell_type": "markdown",
   "id": "XEL3lKIAFQpn",
   "metadata": {
    "id": "XEL3lKIAFQpn"
   },
   "source": [
    "##### **Solution - 7.1**"
   ]
  },
  {
   "cell_type": "code",
   "execution_count": 29,
   "id": "2NV86lng-CaT",
   "metadata": {
    "colab": {
     "base_uri": "https://localhost:8080/",
     "height": 206
    },
    "id": "2NV86lng-CaT",
    "outputId": "f75cb840-d6c6-4846-a902-878c9aa915be"
   },
   "outputs": [
    {
     "data": {
      "text/html": [
       "<div>\n",
       "<style scoped>\n",
       "    .dataframe tbody tr th:only-of-type {\n",
       "        vertical-align: middle;\n",
       "    }\n",
       "\n",
       "    .dataframe tbody tr th {\n",
       "        vertical-align: top;\n",
       "    }\n",
       "\n",
       "    .dataframe thead th {\n",
       "        text-align: right;\n",
       "    }\n",
       "</style>\n",
       "<table border=\"1\" class=\"dataframe\">\n",
       "  <thead>\n",
       "    <tr style=\"text-align: right;\">\n",
       "      <th></th>\n",
       "      <th>Strategy</th>\n",
       "      <th>Final Balance</th>\n",
       "    </tr>\n",
       "  </thead>\n",
       "  <tbody>\n",
       "    <tr>\n",
       "      <th>0</th>\n",
       "      <td>Buy-and-hold (B&amp;H)</td>\n",
       "      <td>$297.84</td>\n",
       "    </tr>\n",
       "    <tr>\n",
       "      <th>1</th>\n",
       "      <td>Daytime B&amp;H (p = 1)</td>\n",
       "      <td>$1,194,731.67</td>\n",
       "    </tr>\n",
       "    <tr>\n",
       "      <th>2</th>\n",
       "      <td>Missed 10 best days</td>\n",
       "      <td>$160.24</td>\n",
       "    </tr>\n",
       "    <tr>\n",
       "      <th>3</th>\n",
       "      <td>Invested during 10 worst days</td>\n",
       "      <td>$641,650.33</td>\n",
       "    </tr>\n",
       "    <tr>\n",
       "      <th>4</th>\n",
       "      <td>Missed 5 best &amp; invested during 5 worst days</td>\n",
       "      <td>$598,780.11</td>\n",
       "    </tr>\n",
       "  </tbody>\n",
       "</table>\n",
       "</div>"
      ],
      "text/plain": [
       "                                       Strategy  Final Balance\n",
       "0                            Buy-and-hold (B&H)        $297.84\n",
       "1                           Daytime B&H (p = 1)  $1,194,731.67\n",
       "2                           Missed 10 best days        $160.24\n",
       "3                 Invested during 10 worst days    $641,650.33\n",
       "4  Missed 5 best & invested during 5 worst days    $598,780.11"
      ]
     },
     "execution_count": 29,
     "metadata": {},
     "output_type": "execute_result"
    }
   ],
   "source": [
    "import pandas as pd\n",
    "\n",
    "# Scenario a: Miss the 10 best days\n",
    "def miss_best_days(df):\n",
    "    balance = 100\n",
    "    # Find the 10 best days by sorting by 'Daily Return'\n",
    "    best_days = df.nlargest(10, 'Daily Return').index\n",
    "    # Exclude those 10 days and calculate the balance\n",
    "    df_no_best = df.drop(best_days)\n",
    "    for index, row in df_no_best.iterrows():\n",
    "        balance *= (1 + row['Daily Return'])\n",
    "    return balance\n",
    "\n",
    "# Scenario b: Invest on the 10 worst days\n",
    "def invest_worst_days(df):\n",
    "    balance = 100\n",
    "    # Find the 10 worst days by sorting by 'Daily Return'\n",
    "    worst_days = df.nsmallest(10, 'Daily Return').index\n",
    "    for index, row in df.iterrows():\n",
    "        if index in worst_days:\n",
    "            balance *= (1 + row['Daily Return'])  # Invest on worst days\n",
    "        elif row['Daily Return'] > 0:\n",
    "            balance *= (1 + row['Daily Return'])  # Invest on other positive days\n",
    "    return balance\n",
    "\n",
    "# Scenario c: Miss the 5 best and invest on the 5 worst days\n",
    "def miss_best_and_invest_worst(df):\n",
    "    balance = 100\n",
    "    # Find the 5 best and 5 worst days\n",
    "    best_days = df.nlargest(5, 'Daily Return').index\n",
    "    worst_days = df.nsmallest(5, 'Daily Return').index\n",
    "\n",
    "    for index, row in df.iterrows():\n",
    "        if index in best_days:\n",
    "            continue  # Skip the best days\n",
    "        elif index in worst_days:\n",
    "            balance *= (1 + row['Daily Return'])  # Invest on worst days (loss)\n",
    "        elif row['Daily Return'] > 0:\n",
    "            balance *= (1 + row['Daily Return'])  # Invest on other positive days\n",
    "    return balance\n",
    "\n",
    "# Results dictionary\n",
    "results = {}\n",
    "\n",
    "# Calculate balances for each strategy\n",
    "results['Buy-and-hold (B&H)'] = buy_and_hold(df)\n",
    "results['Daytime B&H (p = 1)'] = oracle_simulation(df)\n",
    "results['Missed 10 best days'] = miss_best_days(df)\n",
    "results['Invested during 10 worst days'] = invest_worst_days(df)\n",
    "results['Missed 5 best & invested during 5 worst days'] = miss_best_and_invest_worst(df)\n",
    "\n",
    "# Convert results to DataFrame for easy viewing\n",
    "results_df = pd.DataFrame(list(results.items()), columns=['Strategy', 'Final Balance'])\n",
    "results_df['Final Balance'] = results_df['Final Balance'].map('${:,.2f}'.format)\n",
    "\n",
    "# Display the results\n",
    "results_df"
   ]
  },
  {
   "cell_type": "markdown",
   "id": "px6YfVICM7FP",
   "metadata": {
    "id": "px6YfVICM7FP"
   },
   "source": [
    "##### **Solution - 7.2**"
   ]
  },
  {
   "cell_type": "markdown",
   "id": "6b2b335a-a5e9-45d6-ad4e-d9254d34277e",
   "metadata": {
    "id": "6b2b335a-a5e9-45d6-ad4e-d9254d34277e"
   },
   "source": [
    " **💡Interpretation of Results: Angry Oracle💡-**\n",
    "\n",
    "You lose more dramatically by **missing the 10 best daytimes** than by being invested on 10 worst daytimes. Missing out on the most profitable days has a stronger negative impact on your returns.\n",
    "\n",
    "This suggests that META can experience occational explosive growth wich is critical for the overall portfolio performance.\n",
    "\n",
    "Interestingly, investing during the worst days still yeilded a considerable balance. This indicates that while those days were suboptimal, they did not lead to complete losses. META has inherent resillience."
   ]
  },
  {
   "cell_type": "markdown",
   "id": "dMRzdYueM9yB",
   "metadata": {
    "id": "dMRzdYueM9yB"
   },
   "source": [
    "##### **Solution - 7.3**"
   ]
  },
  {
   "cell_type": "markdown",
   "id": "Rq55V2vaM_QY",
   "metadata": {
    "id": "Rq55V2vaM_QY"
   },
   "source": [
    " **💡Angry Oracle vs Statistical Oracle💡-**\n",
    "\n",
    "The idea is to find the closest match between the final balance from the angry oracle senarios and the statistical oracle's performance at different probabilities p.\n",
    "\n",
    "(a) **Missed 10 Best Days : Final Balance = `$160.24`**\n",
    "\n",
    "The closest final balance in the statistical oracle table is between `$100` at p = 0 and `$317.36` at p = 0.1. Based on the closeness to a reasonable estimate for p is approximately p ≈ 0.05.\n",
    "\n",
    "(b) **Invested During 10 Worst Days : Final Balance = `$641,650.33`**\n",
    "\n",
    "The closest final balance in the statistical oracle table is between `$383,774.98` at p = 0.9 and `$1,194,731.67` at p = 1. Based on the closeness to a reasonable estimate for p is approximately p ≈ 0.95.\n",
    "\n",
    "\n",
    "(c) **Missed 5 Best Day & Invested During 5 Worst Days : Final Balance = `$598,780.11`**\n",
    "\n",
    "The closest final balance in the statistical oracle table is between `$383,774.98` at p = 0.9 and `$1,194,731.67` at p = 1. Based on the closeness to a reasonable estimate for p is approximately p ≈ 0.95."
   ]
  }
 ],
 "metadata": {
  "colab": {
   "provenance": []
  },
  "kernelspec": {
   "display_name": "Python 3 (ipykernel)",
   "language": "python",
   "name": "python3"
  },
  "language_info": {
   "codemirror_mode": {
    "name": "ipython",
    "version": 3
   },
   "file_extension": ".py",
   "mimetype": "text/x-python",
   "name": "python",
   "nbconvert_exporter": "python",
   "pygments_lexer": "ipython3",
   "version": "3.11.5"
  }
 },
 "nbformat": 4,
 "nbformat_minor": 5
}
